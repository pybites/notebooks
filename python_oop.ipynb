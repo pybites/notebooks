{
 "cells": [
  {
   "cell_type": "markdown",
   "id": "bb5095fb",
   "metadata": {},
   "source": [
    "## Python OOP lesson"
   ]
  },
  {
   "cell_type": "markdown",
   "id": "110d389d",
   "metadata": {},
   "source": [
    "#### Simple class, constructor and method overriding"
   ]
  },
  {
   "cell_type": "code",
   "execution_count": 1,
   "id": "635b4928",
   "metadata": {},
   "outputs": [],
   "source": [
    "class A:\n",
    "    pass"
   ]
  },
  {
   "cell_type": "code",
   "execution_count": 2,
   "id": "afc9d152",
   "metadata": {},
   "outputs": [],
   "source": [
    "a = A()"
   ]
  },
  {
   "cell_type": "code",
   "execution_count": 3,
   "id": "47a43563",
   "metadata": {},
   "outputs": [
    {
     "data": {
      "text/plain": [
       "['__class__',\n",
       " '__delattr__',\n",
       " '__dict__',\n",
       " '__dir__',\n",
       " '__doc__',\n",
       " '__eq__',\n",
       " '__format__',\n",
       " '__ge__',\n",
       " '__getattribute__',\n",
       " '__gt__',\n",
       " '__hash__',\n",
       " '__init__',\n",
       " '__init_subclass__',\n",
       " '__le__',\n",
       " '__lt__',\n",
       " '__module__',\n",
       " '__ne__',\n",
       " '__new__',\n",
       " '__reduce__',\n",
       " '__reduce_ex__',\n",
       " '__repr__',\n",
       " '__setattr__',\n",
       " '__sizeof__',\n",
       " '__str__',\n",
       " '__subclasshook__',\n",
       " '__weakref__']"
      ]
     },
     "execution_count": 3,
     "metadata": {},
     "output_type": "execute_result"
    }
   ],
   "source": [
    "dir(a)"
   ]
  },
  {
   "cell_type": "code",
   "execution_count": 4,
   "id": "96226936",
   "metadata": {},
   "outputs": [],
   "source": [
    "class A:\n",
    "    def __init__(self, name):\n",
    "        self.name = name"
   ]
  },
  {
   "cell_type": "code",
   "execution_count": 5,
   "id": "1ae92ca0",
   "metadata": {},
   "outputs": [
    {
     "ename": "TypeError",
     "evalue": "A.__init__() missing 1 required positional argument: 'name'",
     "output_type": "error",
     "traceback": [
      "\u001b[0;31m---------------------------------------------------------------------------\u001b[0m",
      "\u001b[0;31mTypeError\u001b[0m                                 Traceback (most recent call last)",
      "Input \u001b[0;32mIn [5]\u001b[0m, in \u001b[0;36m<cell line: 1>\u001b[0;34m()\u001b[0m\n\u001b[0;32m----> 1\u001b[0m a \u001b[38;5;241m=\u001b[39m \u001b[43mA\u001b[49m\u001b[43m(\u001b[49m\u001b[43m)\u001b[49m\n",
      "\u001b[0;31mTypeError\u001b[0m: A.__init__() missing 1 required positional argument: 'name'"
     ]
    }
   ],
   "source": [
    "a = A()"
   ]
  },
  {
   "cell_type": "code",
   "execution_count": 6,
   "id": "8e9c3c4b",
   "metadata": {},
   "outputs": [],
   "source": [
    "a = A(\"Anton\")"
   ]
  },
  {
   "cell_type": "code",
   "execution_count": 7,
   "id": "581735d9",
   "metadata": {},
   "outputs": [
    {
     "data": {
      "text/plain": [
       "'Anton'"
      ]
     },
     "execution_count": 7,
     "metadata": {},
     "output_type": "execute_result"
    }
   ],
   "source": [
    "a.name"
   ]
  },
  {
   "cell_type": "code",
   "execution_count": 8,
   "id": "219e28ab",
   "metadata": {},
   "outputs": [
    {
     "ename": "AttributeError",
     "evalue": "'A' object has no attribute 'age'",
     "output_type": "error",
     "traceback": [
      "\u001b[0;31m---------------------------------------------------------------------------\u001b[0m",
      "\u001b[0;31mAttributeError\u001b[0m                            Traceback (most recent call last)",
      "Input \u001b[0;32mIn [8]\u001b[0m, in \u001b[0;36m<cell line: 1>\u001b[0;34m()\u001b[0m\n\u001b[0;32m----> 1\u001b[0m \u001b[43ma\u001b[49m\u001b[38;5;241;43m.\u001b[39;49m\u001b[43mage\u001b[49m\n",
      "\u001b[0;31mAttributeError\u001b[0m: 'A' object has no attribute 'age'"
     ]
    }
   ],
   "source": [
    "a.age"
   ]
  },
  {
   "cell_type": "code",
   "execution_count": 9,
   "id": "693c6774",
   "metadata": {},
   "outputs": [],
   "source": [
    "# Python is very liberal in setting attributes, even if they don't exist yet\n",
    "a.age = 20"
   ]
  },
  {
   "cell_type": "code",
   "execution_count": 10,
   "id": "b8d6c84c",
   "metadata": {},
   "outputs": [
    {
     "name": "stdout",
     "output_type": "stream",
     "text": [
      "<__main__.A object at 0x107ca7760>\n"
     ]
    }
   ],
   "source": [
    "print(a)"
   ]
  },
  {
   "cell_type": "code",
   "execution_count": 12,
   "id": "dedb7608",
   "metadata": {},
   "outputs": [],
   "source": [
    "class A:\n",
    "    def __init__(self, name):\n",
    "        self.name = name\n",
    "        \n",
    "    def __str__(self):\n",
    "        return self.name"
   ]
  },
  {
   "cell_type": "code",
   "execution_count": 13,
   "id": "23575b73",
   "metadata": {},
   "outputs": [],
   "source": [
    "a = A(\"Anton\")"
   ]
  },
  {
   "cell_type": "code",
   "execution_count": 14,
   "id": "81948ffe",
   "metadata": {},
   "outputs": [
    {
     "name": "stdout",
     "output_type": "stream",
     "text": [
      "Anton\n"
     ]
    }
   ],
   "source": [
    "print(a)"
   ]
  },
  {
   "cell_type": "code",
   "execution_count": 16,
   "id": "a4b54aa0",
   "metadata": {},
   "outputs": [],
   "source": [
    "b = A(\"Bert\")"
   ]
  },
  {
   "cell_type": "code",
   "execution_count": 17,
   "id": "37bcf4b6",
   "metadata": {},
   "outputs": [
    {
     "ename": "TypeError",
     "evalue": "'>' not supported between instances of 'A' and 'A'",
     "output_type": "error",
     "traceback": [
      "\u001b[0;31m---------------------------------------------------------------------------\u001b[0m",
      "\u001b[0;31mTypeError\u001b[0m                                 Traceback (most recent call last)",
      "Input \u001b[0;32mIn [17]\u001b[0m, in \u001b[0;36m<cell line: 1>\u001b[0;34m()\u001b[0m\n\u001b[0;32m----> 1\u001b[0m \u001b[43ma\u001b[49m\u001b[43m \u001b[49m\u001b[38;5;241;43m>\u001b[39;49m\u001b[43m \u001b[49m\u001b[43mb\u001b[49m\n",
      "\u001b[0;31mTypeError\u001b[0m: '>' not supported between instances of 'A' and 'A'"
     ]
    }
   ],
   "source": [
    "a > b"
   ]
  },
  {
   "cell_type": "code",
   "execution_count": 18,
   "id": "5f9e9260",
   "metadata": {},
   "outputs": [],
   "source": [
    "from functools import total_ordering\n",
    "\n",
    "@total_ordering\n",
    "class A:\n",
    "    def __init__(self, name, age):\n",
    "        self.name = name\n",
    "        self.age = age\n",
    "\n",
    "    def __eq__(self, other):\n",
    "        return self.age == other.age\n",
    "    \n",
    "    def __lt__(self, other):\n",
    "        return self.age < other.age \n",
    "    \n",
    "    def __str__(self):\n",
    "        return self.name"
   ]
  },
  {
   "cell_type": "code",
   "execution_count": 19,
   "id": "a34c57da",
   "metadata": {},
   "outputs": [],
   "source": [
    "anton = A(\"Anton\", 10)\n",
    "bert = A(\"Bert\", 20)"
   ]
  },
  {
   "cell_type": "code",
   "execution_count": 20,
   "id": "17c50f6b",
   "metadata": {},
   "outputs": [
    {
     "data": {
      "text/plain": [
       "True"
      ]
     },
     "execution_count": 20,
     "metadata": {},
     "output_type": "execute_result"
    }
   ],
   "source": [
    "anton < bert"
   ]
  },
  {
   "cell_type": "code",
   "execution_count": 21,
   "id": "7597a619",
   "metadata": {},
   "outputs": [
    {
     "data": {
      "text/plain": [
       "False"
      ]
     },
     "execution_count": 21,
     "metadata": {},
     "output_type": "execute_result"
    }
   ],
   "source": [
    "anton == bert"
   ]
  },
  {
   "cell_type": "code",
   "execution_count": 22,
   "id": "020abf42",
   "metadata": {},
   "outputs": [
    {
     "data": {
      "text/plain": [
       "False"
      ]
     },
     "execution_count": 22,
     "metadata": {},
     "output_type": "execute_result"
    }
   ],
   "source": [
    "anton > bert"
   ]
  },
  {
   "cell_type": "code",
   "execution_count": 23,
   "id": "053231b2",
   "metadata": {},
   "outputs": [
    {
     "data": {
      "text/plain": [
       "True"
      ]
     },
     "execution_count": 23,
     "metadata": {},
     "output_type": "execute_result"
    }
   ],
   "source": [
    "bert > anton"
   ]
  },
  {
   "cell_type": "code",
   "execution_count": 24,
   "id": "afc5090a",
   "metadata": {},
   "outputs": [
    {
     "data": {
      "text/plain": [
       "True"
      ]
     },
     "execution_count": 24,
     "metadata": {},
     "output_type": "execute_result"
    }
   ],
   "source": [
    "anton != bert"
   ]
  },
  {
   "cell_type": "code",
   "execution_count": 27,
   "id": "d1cec9a1",
   "metadata": {},
   "outputs": [
    {
     "data": {
      "text/plain": [
       "'ab'"
      ]
     },
     "execution_count": 27,
     "metadata": {},
     "output_type": "execute_result"
    }
   ],
   "source": [
    "\"a\" + \"b\""
   ]
  },
  {
   "cell_type": "code",
   "execution_count": 28,
   "id": "295a0fc4",
   "metadata": {},
   "outputs": [
    {
     "ename": "TypeError",
     "evalue": "'A' object is not callable",
     "output_type": "error",
     "traceback": [
      "\u001b[0;31m---------------------------------------------------------------------------\u001b[0m",
      "\u001b[0;31mTypeError\u001b[0m                                 Traceback (most recent call last)",
      "Input \u001b[0;32mIn [28]\u001b[0m, in \u001b[0;36m<cell line: 1>\u001b[0;34m()\u001b[0m\n\u001b[0;32m----> 1\u001b[0m \u001b[43manton\u001b[49m\u001b[43m(\u001b[49m\u001b[43m)\u001b[49m\n",
      "\u001b[0;31mTypeError\u001b[0m: 'A' object is not callable"
     ]
    }
   ],
   "source": [
    "anton()"
   ]
  },
  {
   "cell_type": "code",
   "execution_count": 29,
   "id": "3b4bf81b",
   "metadata": {},
   "outputs": [
    {
     "ename": "TypeError",
     "evalue": "object of type 'A' has no len()",
     "output_type": "error",
     "traceback": [
      "\u001b[0;31m---------------------------------------------------------------------------\u001b[0m",
      "\u001b[0;31mTypeError\u001b[0m                                 Traceback (most recent call last)",
      "Input \u001b[0;32mIn [29]\u001b[0m, in \u001b[0;36m<cell line: 1>\u001b[0;34m()\u001b[0m\n\u001b[0;32m----> 1\u001b[0m \u001b[38;5;28;43mlen\u001b[39;49m\u001b[43m(\u001b[49m\u001b[43manton\u001b[49m\u001b[43m)\u001b[49m\n",
      "\u001b[0;31mTypeError\u001b[0m: object of type 'A' has no len()"
     ]
    }
   ],
   "source": [
    "len(anton)"
   ]
  },
  {
   "cell_type": "code",
   "execution_count": 30,
   "id": "0d66e1b5",
   "metadata": {},
   "outputs": [
    {
     "data": {
      "text/plain": [
       "'<__main__.A object at 0x107fb3ca0>'"
      ]
     },
     "execution_count": 30,
     "metadata": {},
     "output_type": "execute_result"
    }
   ],
   "source": [
    "repr(anton)"
   ]
  },
  {
   "cell_type": "code",
   "execution_count": 33,
   "id": "85131d3c",
   "metadata": {},
   "outputs": [],
   "source": [
    "from functools import total_ordering\n",
    "\n",
    "@total_ordering\n",
    "class A:\n",
    "    def __init__(self, name, age):\n",
    "        self.name = name\n",
    "        self.age = age\n",
    "\n",
    "    def __eq__(self, other):\n",
    "        return self.age == other.age\n",
    "    \n",
    "    def __lt__(self, other):\n",
    "        return self.age < other.age \n",
    "    \n",
    "    def __str__(self):\n",
    "        return self.name\n",
    "    \n",
    "    # some more \"features\"\n",
    "    def __repr__(self):\n",
    "        return f\"{self.__class__.__name__}('{self.name}', '{self.age}')\"\n",
    "    \n",
    "    def __call__(self):\n",
    "        print(\"I am called\")\n",
    "        \n",
    "    def __add__(self, other):\n",
    "        name = f\"{self.name}_{other.name}\"\n",
    "        age = self.age + other.age\n",
    "        return self.__class__(name, age)\n",
    "    \n",
    "    def __len__(self):\n",
    "        return len(self.name)"
   ]
  },
  {
   "cell_type": "code",
   "execution_count": 34,
   "id": "d41bca2f",
   "metadata": {},
   "outputs": [],
   "source": [
    "anton = A(\"Anton\", 10)\n",
    "bert = A(\"Bert\", 20)"
   ]
  },
  {
   "cell_type": "code",
   "execution_count": 35,
   "id": "dbad09ff",
   "metadata": {},
   "outputs": [],
   "source": [
    "joined = anton + bert"
   ]
  },
  {
   "cell_type": "code",
   "execution_count": 36,
   "id": "1f2e6167",
   "metadata": {},
   "outputs": [
    {
     "name": "stdout",
     "output_type": "stream",
     "text": [
      "Anton_Bert\n"
     ]
    }
   ],
   "source": [
    "print(joined)"
   ]
  },
  {
   "cell_type": "code",
   "execution_count": 37,
   "id": "5bbe9ce3",
   "metadata": {},
   "outputs": [
    {
     "data": {
      "text/plain": [
       "30"
      ]
     },
     "execution_count": 37,
     "metadata": {},
     "output_type": "execute_result"
    }
   ],
   "source": [
    "joined.age"
   ]
  },
  {
   "cell_type": "code",
   "execution_count": 38,
   "id": "63953024",
   "metadata": {},
   "outputs": [
    {
     "name": "stdout",
     "output_type": "stream",
     "text": [
      "I am called\n"
     ]
    }
   ],
   "source": [
    "joined()"
   ]
  },
  {
   "cell_type": "code",
   "execution_count": 39,
   "id": "1bdf01bd",
   "metadata": {},
   "outputs": [
    {
     "data": {
      "text/plain": [
       "10"
      ]
     },
     "execution_count": 39,
     "metadata": {},
     "output_type": "execute_result"
    }
   ],
   "source": [
    "len(joined)"
   ]
  },
  {
   "cell_type": "code",
   "execution_count": 40,
   "id": "7df763e0",
   "metadata": {},
   "outputs": [
    {
     "data": {
      "text/plain": [
       "\"A('Anton_Bert', '30')\""
      ]
     },
     "execution_count": 40,
     "metadata": {},
     "output_type": "execute_result"
    }
   ],
   "source": [
    "repr(joined)"
   ]
  },
  {
   "cell_type": "code",
   "execution_count": 41,
   "id": "dd9bb361",
   "metadata": {},
   "outputs": [
    {
     "data": {
      "text/plain": [
       "A('Anton_Bert', '30')"
      ]
     },
     "execution_count": 41,
     "metadata": {},
     "output_type": "execute_result"
    }
   ],
   "source": [
    "eval(repr(joined))"
   ]
  },
  {
   "cell_type": "code",
   "execution_count": 42,
   "id": "5b521b96",
   "metadata": {},
   "outputs": [],
   "source": [
    "obj = eval(repr(joined))"
   ]
  },
  {
   "cell_type": "code",
   "execution_count": 43,
   "id": "91863519",
   "metadata": {},
   "outputs": [
    {
     "data": {
      "text/plain": [
       "('Anton_Bert', '30')"
      ]
     },
     "execution_count": 43,
     "metadata": {},
     "output_type": "execute_result"
    }
   ],
   "source": [
    "obj.name, obj.age"
   ]
  },
  {
   "cell_type": "code",
   "execution_count": 44,
   "id": "fd39ab9a",
   "metadata": {},
   "outputs": [
    {
     "ename": "TypeError",
     "evalue": "unsupported operand type(s) for /: 'A' and 'A'",
     "output_type": "error",
     "traceback": [
      "\u001b[0;31m---------------------------------------------------------------------------\u001b[0m",
      "\u001b[0;31mTypeError\u001b[0m                                 Traceback (most recent call last)",
      "Input \u001b[0;32mIn [44]\u001b[0m, in \u001b[0;36m<cell line: 2>\u001b[0;34m()\u001b[0m\n\u001b[1;32m      1\u001b[0m \u001b[38;5;66;03m# pathlib.Path explained\u001b[39;00m\n\u001b[0;32m----> 2\u001b[0m \u001b[43manton\u001b[49m\u001b[43m \u001b[49m\u001b[38;5;241;43m/\u001b[39;49m\u001b[43m \u001b[49m\u001b[43mbert\u001b[49m\n",
      "\u001b[0;31mTypeError\u001b[0m: unsupported operand type(s) for /: 'A' and 'A'"
     ]
    }
   ],
   "source": [
    "# pathlib.Path explained\n",
    "\"/tmp\" / \"foo\""
   ]
  },
  {
   "cell_type": "code",
   "execution_count": 45,
   "id": "8f79b07f",
   "metadata": {},
   "outputs": [],
   "source": [
    "class A:\n",
    "    def __init__(self, name, age):\n",
    "        self.name = name\n",
    "        self.age = age\n",
    "\n",
    "    def __str__(self):\n",
    "        return self.name\n",
    "    \n",
    "    # support / operator\n",
    "    def __truediv__(self, other):\n",
    "        name = f\"{self.name}/{other.name}\"\n",
    "        age = self.age / other.age\n",
    "        return self.__class__(name, age)"
   ]
  },
  {
   "cell_type": "code",
   "execution_count": 46,
   "id": "666bf309",
   "metadata": {},
   "outputs": [],
   "source": [
    "anton = A(\"Anton\", 10)\n",
    "bert = A(\"Bert\", 20)"
   ]
  },
  {
   "cell_type": "code",
   "execution_count": 47,
   "id": "b70e74b6",
   "metadata": {},
   "outputs": [
    {
     "name": "stdout",
     "output_type": "stream",
     "text": [
      "Anton/Bert\n"
     ]
    }
   ],
   "source": [
    "print(anton / bert)"
   ]
  },
  {
   "cell_type": "code",
   "execution_count": 48,
   "id": "93400acf",
   "metadata": {},
   "outputs": [
    {
     "data": {
      "text/plain": [
       "0.5"
      ]
     },
     "execution_count": 48,
     "metadata": {},
     "output_type": "execute_result"
    }
   ],
   "source": [
    "(anton / bert).age"
   ]
  },
  {
   "cell_type": "markdown",
   "id": "4e246171",
   "metadata": {},
   "source": [
    "More info on Python's data model and dunder methods:\n",
    "\n",
    "- https://docs.python.org/3/reference/datamodel.html\n",
    "- https://dbader.org/blog/python-dunder-methods"
   ]
  },
  {
   "cell_type": "markdown",
   "id": "dd3c82e3",
   "metadata": {},
   "source": [
    "### dataclasses"
   ]
  },
  {
   "cell_type": "markdown",
   "id": "697d2ea9",
   "metadata": {},
   "source": [
    "Introduced in 3.7, prevent a lot of boilerplate. Let's redo A simplified to see what we save typing ...\n",
    "\n",
    "Docs: https://docs.python.org/3/library/dataclasses.html"
   ]
  },
  {
   "cell_type": "code",
   "execution_count": 49,
   "id": "83982fef",
   "metadata": {},
   "outputs": [],
   "source": [
    "from dataclasses import dataclass"
   ]
  },
  {
   "cell_type": "markdown",
   "id": "26198902",
   "metadata": {},
   "source": [
    "```\n",
    "@dataclasses.dataclass(*, init=True, repr=True, eq=True, order=False, unsafe_hash=False, frozen=False, match_args=True, kw_only=False, slots=False)¶\n",
    "```"
   ]
  },
  {
   "cell_type": "code",
   "execution_count": 51,
   "id": "d34c8758",
   "metadata": {},
   "outputs": [],
   "source": [
    "@dataclass\n",
    "class A:\n",
    "    name: str\n",
    "    age: int"
   ]
  },
  {
   "cell_type": "code",
   "execution_count": 52,
   "id": "9c2c8dc5",
   "metadata": {},
   "outputs": [],
   "source": [
    "anton = A(\"Anton\", 10)\n",
    "bert = A(\"Bert\", 20)"
   ]
  },
  {
   "cell_type": "code",
   "execution_count": 54,
   "id": "af4953be",
   "metadata": {},
   "outputs": [
    {
     "name": "stdout",
     "output_type": "stream",
     "text": [
      "A(name='Anton', age=10)\n"
     ]
    }
   ],
   "source": [
    "print(anton)"
   ]
  },
  {
   "cell_type": "code",
   "execution_count": 55,
   "id": "9b48ea80",
   "metadata": {},
   "outputs": [
    {
     "data": {
      "text/plain": [
       "\"A(name='Anton', age=10)\""
      ]
     },
     "execution_count": 55,
     "metadata": {},
     "output_type": "execute_result"
    }
   ],
   "source": [
    "repr(anton)"
   ]
  },
  {
   "cell_type": "code",
   "execution_count": 56,
   "id": "0e09b4f7",
   "metadata": {},
   "outputs": [
    {
     "data": {
      "text/plain": [
       "A(name='Anton', age=10)"
      ]
     },
     "execution_count": 56,
     "metadata": {},
     "output_type": "execute_result"
    }
   ],
   "source": [
    "eval(repr(anton))"
   ]
  },
  {
   "cell_type": "code",
   "execution_count": 57,
   "id": "37a669a2",
   "metadata": {},
   "outputs": [
    {
     "ename": "TypeError",
     "evalue": "'>' not supported between instances of 'A' and 'A'",
     "output_type": "error",
     "traceback": [
      "\u001b[0;31m---------------------------------------------------------------------------\u001b[0m",
      "\u001b[0;31mTypeError\u001b[0m                                 Traceback (most recent call last)",
      "Input \u001b[0;32mIn [57]\u001b[0m, in \u001b[0;36m<cell line: 1>\u001b[0;34m()\u001b[0m\n\u001b[0;32m----> 1\u001b[0m \u001b[43manton\u001b[49m\u001b[43m \u001b[49m\u001b[38;5;241;43m>\u001b[39;49m\u001b[43m \u001b[49m\u001b[43mbert\u001b[49m\n",
      "\u001b[0;31mTypeError\u001b[0m: '>' not supported between instances of 'A' and 'A'"
     ]
    }
   ],
   "source": [
    "anton > bert"
   ]
  },
  {
   "cell_type": "code",
   "execution_count": 58,
   "id": "343bf903",
   "metadata": {},
   "outputs": [],
   "source": [
    "@dataclass(order=True)\n",
    "class A:\n",
    "    name: str\n",
    "    age: int"
   ]
  },
  {
   "cell_type": "code",
   "execution_count": 59,
   "id": "55bdafdf",
   "metadata": {},
   "outputs": [],
   "source": [
    "anton = A(\"Anton\", 10)\n",
    "bert = A(\"Bert\", 20)"
   ]
  },
  {
   "cell_type": "code",
   "execution_count": 60,
   "id": "4fb6c72e",
   "metadata": {},
   "outputs": [
    {
     "data": {
      "text/plain": [
       "False"
      ]
     },
     "execution_count": 60,
     "metadata": {},
     "output_type": "execute_result"
    }
   ],
   "source": [
    "anton > bert"
   ]
  },
  {
   "cell_type": "code",
   "execution_count": 61,
   "id": "9f93d0d5",
   "metadata": {},
   "outputs": [],
   "source": [
    "anton.age = 17"
   ]
  },
  {
   "cell_type": "code",
   "execution_count": 66,
   "id": "b5bf0599",
   "metadata": {},
   "outputs": [],
   "source": [
    "@dataclass(order=True, frozen=True)\n",
    "class A:\n",
    "    name: str\n",
    "    age: int\n",
    "        \n",
    "    def __iter__(self):\n",
    "        yield self.name\n",
    "        yield self.age"
   ]
  },
  {
   "cell_type": "code",
   "execution_count": 67,
   "id": "820f99e1",
   "metadata": {},
   "outputs": [],
   "source": [
    "anton = A(\"Anton\", 10)"
   ]
  },
  {
   "cell_type": "code",
   "execution_count": 69,
   "id": "37f1b4c4",
   "metadata": {},
   "outputs": [
    {
     "data": {
      "text/plain": [
       "('Anton', 10)"
      ]
     },
     "execution_count": 69,
     "metadata": {},
     "output_type": "execute_result"
    }
   ],
   "source": [
    "name, age = A(\"Anton\", 10)\n",
    "name,age"
   ]
  },
  {
   "cell_type": "code",
   "execution_count": 70,
   "id": "a9348583",
   "metadata": {},
   "outputs": [],
   "source": [
    "from collections import namedtuple"
   ]
  },
  {
   "cell_type": "code",
   "execution_count": 71,
   "id": "fd40eebf",
   "metadata": {},
   "outputs": [],
   "source": [
    "A = namedtuple(\"A\", \"name age\")"
   ]
  },
  {
   "cell_type": "code",
   "execution_count": 72,
   "id": "efa77637",
   "metadata": {},
   "outputs": [],
   "source": [
    "a = A(name=\"tim\", age=23)"
   ]
  },
  {
   "cell_type": "code",
   "execution_count": 73,
   "id": "64761bd4",
   "metadata": {},
   "outputs": [
    {
     "data": {
      "text/plain": [
       "A(name='tim', age=23)"
      ]
     },
     "execution_count": 73,
     "metadata": {},
     "output_type": "execute_result"
    }
   ],
   "source": [
    "a"
   ]
  },
  {
   "cell_type": "code",
   "execution_count": 74,
   "id": "12fa02b1",
   "metadata": {},
   "outputs": [],
   "source": [
    "name, age = a"
   ]
  },
  {
   "cell_type": "code",
   "execution_count": 75,
   "id": "81bb1836",
   "metadata": {},
   "outputs": [
    {
     "data": {
      "text/plain": [
       "('tim', 23)"
      ]
     },
     "execution_count": 75,
     "metadata": {},
     "output_type": "execute_result"
    }
   ],
   "source": [
    "name, age"
   ]
  },
  {
   "cell_type": "code",
   "execution_count": null,
   "id": "c7557d38",
   "metadata": {},
   "outputs": [],
   "source": []
  },
  {
   "cell_type": "markdown",
   "id": "e96f5d02",
   "metadata": {},
   "source": [
    "### OOP concepts in Python and specific techniques "
   ]
  },
  {
   "cell_type": "markdown",
   "id": "055e1284",
   "metadata": {},
   "source": [
    "#### Inheritance (reuse behavior from the parent)"
   ]
  },
  {
   "cell_type": "code",
   "execution_count": 76,
   "id": "1a3d78d8",
   "metadata": {},
   "outputs": [],
   "source": [
    "@dataclass\n",
    "class A:\n",
    "    name: str\n",
    "    age: int"
   ]
  },
  {
   "cell_type": "code",
   "execution_count": 77,
   "id": "34d4de1c",
   "metadata": {},
   "outputs": [],
   "source": [
    "anton = A(\"Anton\", 10)"
   ]
  },
  {
   "cell_type": "code",
   "execution_count": 79,
   "id": "dcca0b0d",
   "metadata": {},
   "outputs": [],
   "source": [
    "@dataclass\n",
    "class B(A):\n",
    "    profession: str"
   ]
  },
  {
   "cell_type": "code",
   "execution_count": 82,
   "id": "9038d0ff",
   "metadata": {},
   "outputs": [
    {
     "ename": "TypeError",
     "evalue": "B.__init__() missing 1 required positional argument: 'profession'",
     "output_type": "error",
     "traceback": [
      "\u001b[0;31m---------------------------------------------------------------------------\u001b[0m",
      "\u001b[0;31mTypeError\u001b[0m                                 Traceback (most recent call last)",
      "Input \u001b[0;32mIn [82]\u001b[0m, in \u001b[0;36m<cell line: 1>\u001b[0;34m()\u001b[0m\n\u001b[0;32m----> 1\u001b[0m bert \u001b[38;5;241m=\u001b[39m \u001b[43mB\u001b[49m\u001b[43m(\u001b[49m\u001b[38;5;124;43m\"\u001b[39;49m\u001b[38;5;124;43mBert\u001b[39;49m\u001b[38;5;124;43m\"\u001b[39;49m\u001b[43m,\u001b[49m\u001b[43m \u001b[49m\u001b[38;5;241;43m10\u001b[39;49m\u001b[43m)\u001b[49m\n",
      "\u001b[0;31mTypeError\u001b[0m: B.__init__() missing 1 required positional argument: 'profession'"
     ]
    }
   ],
   "source": [
    "bert = B(\"Bert\", 10)"
   ]
  },
  {
   "cell_type": "code",
   "execution_count": 83,
   "id": "ebef1d34",
   "metadata": {},
   "outputs": [],
   "source": [
    "bert = B(\"Bert\", 10, \"programmer\")"
   ]
  },
  {
   "cell_type": "code",
   "execution_count": 84,
   "id": "37751119",
   "metadata": {},
   "outputs": [
    {
     "data": {
      "text/plain": [
       "'programmer'"
      ]
     },
     "execution_count": 84,
     "metadata": {},
     "output_type": "execute_result"
    }
   ],
   "source": [
    "bert.profession"
   ]
  },
  {
   "cell_type": "code",
   "execution_count": 86,
   "id": "e31dff9a",
   "metadata": {},
   "outputs": [],
   "source": [
    "MIN_AGE = 18\n",
    "\n",
    "\n",
    "@dataclass\n",
    "class A:\n",
    "    name: str\n",
    "    age: int\n",
    "        \n",
    "    @property\n",
    "    def can_drive(self):\n",
    "        return \"yes\" if self.age >= MIN_AGE else \"no\""
   ]
  },
  {
   "cell_type": "code",
   "execution_count": 87,
   "id": "b3bdf2a0",
   "metadata": {},
   "outputs": [],
   "source": [
    "anton = A(\"Anton\", 10)"
   ]
  },
  {
   "cell_type": "code",
   "execution_count": 89,
   "id": "50ff4366",
   "metadata": {},
   "outputs": [
    {
     "data": {
      "text/plain": [
       "'no'"
      ]
     },
     "execution_count": 89,
     "metadata": {},
     "output_type": "execute_result"
    }
   ],
   "source": [
    "anton.can_drive"
   ]
  },
  {
   "cell_type": "code",
   "execution_count": 90,
   "id": "85ce4933",
   "metadata": {},
   "outputs": [],
   "source": [
    "anton2 = A(\"Anton\", 20)"
   ]
  },
  {
   "cell_type": "code",
   "execution_count": 91,
   "id": "ff57ac33",
   "metadata": {},
   "outputs": [
    {
     "data": {
      "text/plain": [
       "'yes'"
      ]
     },
     "execution_count": 91,
     "metadata": {},
     "output_type": "execute_result"
    }
   ],
   "source": [
    "anton2.can_drive"
   ]
  },
  {
   "cell_type": "code",
   "execution_count": 93,
   "id": "70ed472c",
   "metadata": {},
   "outputs": [],
   "source": [
    "@dataclass\n",
    "class B(A):\n",
    "    min_age: int = MIN_AGE\n",
    "\n",
    "    @property\n",
    "    def can_drive(self):\n",
    "        return \"yes\" if self.age >= self.min_age else \"no\""
   ]
  },
  {
   "cell_type": "code",
   "execution_count": 94,
   "id": "71868cca",
   "metadata": {},
   "outputs": [],
   "source": [
    "bert = B(\"Bert\", 14)"
   ]
  },
  {
   "cell_type": "code",
   "execution_count": 96,
   "id": "d63fd6fb",
   "metadata": {},
   "outputs": [
    {
     "data": {
      "text/plain": [
       "'no'"
      ]
     },
     "execution_count": 96,
     "metadata": {},
     "output_type": "execute_result"
    }
   ],
   "source": [
    "bert.can_drive"
   ]
  },
  {
   "cell_type": "code",
   "execution_count": 99,
   "id": "69b5505d",
   "metadata": {},
   "outputs": [],
   "source": [
    "bert2 = B(\"Bert\", 14, min_age=14)"
   ]
  },
  {
   "cell_type": "code",
   "execution_count": 100,
   "id": "45357c71",
   "metadata": {},
   "outputs": [
    {
     "data": {
      "text/plain": [
       "'yes'"
      ]
     },
     "execution_count": 100,
     "metadata": {},
     "output_type": "execute_result"
    }
   ],
   "source": [
    "bert2.can_drive"
   ]
  },
  {
   "cell_type": "code",
   "execution_count": 101,
   "id": "c96ae30e",
   "metadata": {},
   "outputs": [],
   "source": [
    "# can also override method\n",
    "@dataclass\n",
    "class B(A):\n",
    "    min_age: int = MIN_AGE\n",
    "    delegate: bool = False\n",
    "        \n",
    "    @property\n",
    "    def can_drive(self):\n",
    "        if self.delegate:\n",
    "            # calling the parent class' can_drive property\n",
    "            return super().can_drive\n",
    "        return \"any age can drive ;)\""
   ]
  },
  {
   "cell_type": "code",
   "execution_count": 103,
   "id": "f819b425",
   "metadata": {},
   "outputs": [],
   "source": [
    "bert2 = B(\"Bert\", 14, 14)"
   ]
  },
  {
   "cell_type": "code",
   "execution_count": 104,
   "id": "fb796425",
   "metadata": {},
   "outputs": [
    {
     "data": {
      "text/plain": [
       "'any age can drive ;)'"
      ]
     },
     "execution_count": 104,
     "metadata": {},
     "output_type": "execute_result"
    }
   ],
   "source": [
    "bert2.can_drive"
   ]
  },
  {
   "cell_type": "code",
   "execution_count": 106,
   "id": "8d4da35e",
   "metadata": {},
   "outputs": [],
   "source": [
    "bert2 = B(\"Bert\", 14, min_age=14, delegate=True)"
   ]
  },
  {
   "cell_type": "code",
   "execution_count": 107,
   "id": "69d8e56c",
   "metadata": {},
   "outputs": [
    {
     "data": {
      "text/plain": [
       "'no'"
      ]
     },
     "execution_count": 107,
     "metadata": {},
     "output_type": "execute_result"
    }
   ],
   "source": [
    "bert2.can_drive"
   ]
  },
  {
   "cell_type": "markdown",
   "id": "66148d14",
   "metadata": {},
   "source": [
    "I am keeping it simple for now. Multiple inheritance can be confusing, mixins can be risky, Google \"diamond problem\" and for a critical look at class based views in Django see last Code Clinic: https://pybites.mykajabi.com/products/pybites-coaching-calls-2/categories/3469727/posts/2156867625 "
   ]
  },
  {
   "cell_type": "markdown",
   "id": "98468af9",
   "metadata": {},
   "source": [
    "#### Abstract classes (enforcing an interface)"
   ]
  },
  {
   "cell_type": "code",
   "execution_count": 108,
   "id": "ca671a15",
   "metadata": {},
   "outputs": [],
   "source": [
    "# Django\n",
    "class BaseCommand:\n",
    "\n",
    "    # a lot of code truncated\n",
    "    \n",
    "    def handle(self, *args, **options):\n",
    "        \"\"\"\n",
    "        The actual logic of the command. Subclasses must implement\n",
    "        this method.\n",
    "        \"\"\"\n",
    "        raise NotImplementedError(\n",
    "            \"subclasses of BaseCommand must provide a handle() method\"\n",
    "        )"
   ]
  },
  {
   "cell_type": "code",
   "execution_count": 111,
   "id": "9076c8ed",
   "metadata": {},
   "outputs": [],
   "source": [
    "class Command(BaseCommand):\n",
    "    pass"
   ]
  },
  {
   "cell_type": "code",
   "execution_count": 112,
   "id": "a2f648d7",
   "metadata": {},
   "outputs": [],
   "source": [
    "cmd = Command()"
   ]
  },
  {
   "cell_type": "code",
   "execution_count": 113,
   "id": "a6d19e7f",
   "metadata": {},
   "outputs": [
    {
     "ename": "NotImplementedError",
     "evalue": "subclasses of BaseCommand must provide a handle() method",
     "output_type": "error",
     "traceback": [
      "\u001b[0;31m---------------------------------------------------------------------------\u001b[0m",
      "\u001b[0;31mNotImplementedError\u001b[0m                       Traceback (most recent call last)",
      "Input \u001b[0;32mIn [113]\u001b[0m, in \u001b[0;36m<cell line: 1>\u001b[0;34m()\u001b[0m\n\u001b[0;32m----> 1\u001b[0m \u001b[43mcmd\u001b[49m\u001b[38;5;241;43m.\u001b[39;49m\u001b[43mhandle\u001b[49m\u001b[43m(\u001b[49m\u001b[43m)\u001b[49m\n",
      "Input \u001b[0;32mIn [108]\u001b[0m, in \u001b[0;36mBaseCommand.handle\u001b[0;34m(self, *args, **options)\u001b[0m\n\u001b[1;32m      6\u001b[0m \u001b[38;5;28;01mdef\u001b[39;00m \u001b[38;5;21mhandle\u001b[39m(\u001b[38;5;28mself\u001b[39m, \u001b[38;5;241m*\u001b[39margs, \u001b[38;5;241m*\u001b[39m\u001b[38;5;241m*\u001b[39moptions):\n\u001b[1;32m      7\u001b[0m     \u001b[38;5;124;03m\"\"\"\u001b[39;00m\n\u001b[1;32m      8\u001b[0m \u001b[38;5;124;03m    The actual logic of the command. Subclasses must implement\u001b[39;00m\n\u001b[1;32m      9\u001b[0m \u001b[38;5;124;03m    this method.\u001b[39;00m\n\u001b[1;32m     10\u001b[0m \u001b[38;5;124;03m    \"\"\"\u001b[39;00m\n\u001b[0;32m---> 11\u001b[0m     \u001b[38;5;28;01mraise\u001b[39;00m \u001b[38;5;167;01mNotImplementedError\u001b[39;00m(\n\u001b[1;32m     12\u001b[0m         \u001b[38;5;124m\"\u001b[39m\u001b[38;5;124msubclasses of BaseCommand must provide a handle() method\u001b[39m\u001b[38;5;124m\"\u001b[39m\n\u001b[1;32m     13\u001b[0m     )\n",
      "\u001b[0;31mNotImplementedError\u001b[0m: subclasses of BaseCommand must provide a handle() method"
     ]
    }
   ],
   "source": [
    "cmd.handle()"
   ]
  },
  {
   "cell_type": "markdown",
   "id": "ce9765f2",
   "metadata": {},
   "source": [
    "Cool! What if we can even raise this one step earlier, when we instantiate the class?"
   ]
  },
  {
   "cell_type": "code",
   "execution_count": 115,
   "id": "884e931d",
   "metadata": {},
   "outputs": [],
   "source": [
    "# enter ABCs\n",
    "from abc import ABC, abstractmethod\n",
    "\n",
    "\n",
    "class BaseCommand(ABC):\n",
    "\n",
    "    @abstractmethod\n",
    "    def handle(self, *args, **options):\n",
    "        pass"
   ]
  },
  {
   "cell_type": "code",
   "execution_count": 117,
   "id": "c978aec4",
   "metadata": {},
   "outputs": [],
   "source": [
    "class Command(BaseCommand):\n",
    "    def handle(...)"
   ]
  },
  {
   "cell_type": "code",
   "execution_count": 118,
   "id": "d60ff5b2",
   "metadata": {},
   "outputs": [
    {
     "ename": "TypeError",
     "evalue": "Can't instantiate abstract class Command with abstract method handle",
     "output_type": "error",
     "traceback": [
      "\u001b[0;31m---------------------------------------------------------------------------\u001b[0m",
      "\u001b[0;31mTypeError\u001b[0m                                 Traceback (most recent call last)",
      "Input \u001b[0;32mIn [118]\u001b[0m, in \u001b[0;36m<cell line: 1>\u001b[0;34m()\u001b[0m\n\u001b[0;32m----> 1\u001b[0m cmd \u001b[38;5;241m=\u001b[39m \u001b[43mCommand\u001b[49m\u001b[43m(\u001b[49m\u001b[43m)\u001b[49m\n",
      "\u001b[0;31mTypeError\u001b[0m: Can't instantiate abstract class Command with abstract method handle"
     ]
    }
   ],
   "source": [
    "cmd = Command()"
   ]
  },
  {
   "cell_type": "markdown",
   "id": "d95d3474",
   "metadata": {},
   "source": [
    "#### Private methods / attributes in Python"
   ]
  },
  {
   "cell_type": "markdown",
   "id": "30113ee2",
   "metadata": {},
   "source": [
    "There is none (lol)"
   ]
  },
  {
   "cell_type": "markdown",
   "id": "eac48733",
   "metadata": {},
   "source": [
    "> As seen above, Python allows many tricks, and some of them are potentially dangerous. A good example is that any client code can override an object’s properties and methods: there is no “private” keyword in Python. This philosophy, very different from highly defensive languages like Java, which give a lot of mechanisms to prevent any misuse, is expressed by the saying: “We are consenting adults”.\n",
    "\n",
    "https://python-guide-chinese.readthedocs.io/zh_CN/latest/writing/style.html#we-are-all-consenting-adults"
   ]
  },
  {
   "cell_type": "code",
   "execution_count": 119,
   "id": "e29975a7",
   "metadata": {},
   "outputs": [],
   "source": [
    "@dataclass\n",
    "class A:\n",
    "    _name: str\n",
    "    __age: int"
   ]
  },
  {
   "cell_type": "code",
   "execution_count": 120,
   "id": "d5a43b25",
   "metadata": {},
   "outputs": [],
   "source": [
    "anton = A(\"Anton\", 10)"
   ]
  },
  {
   "cell_type": "code",
   "execution_count": 121,
   "id": "c60959e6",
   "metadata": {},
   "outputs": [
    {
     "data": {
      "text/plain": [
       "'Anton'"
      ]
     },
     "execution_count": 121,
     "metadata": {},
     "output_type": "execute_result"
    }
   ],
   "source": [
    "anton._name"
   ]
  },
  {
   "cell_type": "code",
   "execution_count": 122,
   "id": "1ed63c82",
   "metadata": {},
   "outputs": [
    {
     "ename": "AttributeError",
     "evalue": "'A' object has no attribute '__age'",
     "output_type": "error",
     "traceback": [
      "\u001b[0;31m---------------------------------------------------------------------------\u001b[0m",
      "\u001b[0;31mAttributeError\u001b[0m                            Traceback (most recent call last)",
      "Input \u001b[0;32mIn [122]\u001b[0m, in \u001b[0;36m<cell line: 1>\u001b[0;34m()\u001b[0m\n\u001b[0;32m----> 1\u001b[0m \u001b[43manton\u001b[49m\u001b[38;5;241;43m.\u001b[39;49m\u001b[43m__age\u001b[49m\n",
      "\u001b[0;31mAttributeError\u001b[0m: 'A' object has no attribute '__age'"
     ]
    }
   ],
   "source": [
    "anton.__age"
   ]
  },
  {
   "cell_type": "code",
   "execution_count": 123,
   "id": "d88ac8c9",
   "metadata": {},
   "outputs": [
    {
     "data": {
      "text/plain": [
       "10"
      ]
     },
     "execution_count": 123,
     "metadata": {},
     "output_type": "execute_result"
    }
   ],
   "source": [
    "# feeling like a hacker ;)\n",
    "anton._A__age"
   ]
  },
  {
   "cell_type": "code",
   "execution_count": 124,
   "id": "d6b0fdf1",
   "metadata": {},
   "outputs": [],
   "source": [
    "# it's get even more dangerous ...\n",
    "anton._name = \"new name\""
   ]
  },
  {
   "cell_type": "code",
   "execution_count": 125,
   "id": "a3fb6f93",
   "metadata": {},
   "outputs": [],
   "source": [
    "anton.__age = 50"
   ]
  },
  {
   "cell_type": "code",
   "execution_count": 127,
   "id": "d974e672",
   "metadata": {},
   "outputs": [
    {
     "name": "stdout",
     "output_type": "stream",
     "text": [
      "A(_name='new name', _A__age=10)\n"
     ]
    }
   ],
   "source": [
    "# huh?\n",
    "print(anton)"
   ]
  },
  {
   "cell_type": "code",
   "execution_count": 129,
   "id": "3f476b1c",
   "metadata": {},
   "outputs": [],
   "source": [
    "anton._A__age = 50"
   ]
  },
  {
   "cell_type": "code",
   "execution_count": 130,
   "id": "a3c5e42d",
   "metadata": {},
   "outputs": [
    {
     "name": "stdout",
     "output_type": "stream",
     "text": [
      "A(_name='new name', _A__age=50)\n"
     ]
    }
   ],
   "source": [
    "print(anton)"
   ]
  },
  {
   "cell_type": "markdown",
   "id": "1a519449",
   "metadata": {},
   "source": [
    "So yeah we can get and set anything, no getters and setters needed like Java. But you can use a @property with settter:"
   ]
  },
  {
   "cell_type": "code",
   "execution_count": 131,
   "id": "bb17ccb7",
   "metadata": {},
   "outputs": [],
   "source": [
    "@dataclass\n",
    "class A:\n",
    "    _name: str\n",
    "    \n",
    "    @property\n",
    "    def name(self):\n",
    "        return self._name\n",
    "    \n",
    "    @name.setter\n",
    "    def name(self, name):\n",
    "        raise ValueError(\"cannot set name\")"
   ]
  },
  {
   "cell_type": "code",
   "execution_count": 132,
   "id": "bfa4f1ab",
   "metadata": {},
   "outputs": [],
   "source": [
    "anton = A(\"Anton\")"
   ]
  },
  {
   "cell_type": "code",
   "execution_count": 133,
   "id": "b53b65a2",
   "metadata": {},
   "outputs": [
    {
     "data": {
      "text/plain": [
       "'Anton'"
      ]
     },
     "execution_count": 133,
     "metadata": {},
     "output_type": "execute_result"
    }
   ],
   "source": [
    "anton.name"
   ]
  },
  {
   "cell_type": "code",
   "execution_count": 134,
   "id": "67fbe5d8",
   "metadata": {},
   "outputs": [
    {
     "ename": "ValueError",
     "evalue": "cannot set name",
     "output_type": "error",
     "traceback": [
      "\u001b[0;31m---------------------------------------------------------------------------\u001b[0m",
      "\u001b[0;31mValueError\u001b[0m                                Traceback (most recent call last)",
      "Input \u001b[0;32mIn [134]\u001b[0m, in \u001b[0;36m<cell line: 1>\u001b[0;34m()\u001b[0m\n\u001b[0;32m----> 1\u001b[0m anton\u001b[38;5;241m.\u001b[39mname \u001b[38;5;241m=\u001b[39m \u001b[38;5;124m\"\u001b[39m\u001b[38;5;124mbob\u001b[39m\u001b[38;5;124m\"\u001b[39m\n",
      "Input \u001b[0;32mIn [131]\u001b[0m, in \u001b[0;36mA.name\u001b[0;34m(self, name)\u001b[0m\n\u001b[1;32m      9\u001b[0m \u001b[38;5;129m@name\u001b[39m\u001b[38;5;241m.\u001b[39msetter\n\u001b[1;32m     10\u001b[0m \u001b[38;5;28;01mdef\u001b[39;00m \u001b[38;5;21mname\u001b[39m(\u001b[38;5;28mself\u001b[39m, name):\n\u001b[0;32m---> 11\u001b[0m     \u001b[38;5;28;01mraise\u001b[39;00m \u001b[38;5;167;01mValueError\u001b[39;00m(\u001b[38;5;124m\"\u001b[39m\u001b[38;5;124mcannot set name\u001b[39m\u001b[38;5;124m\"\u001b[39m)\n",
      "\u001b[0;31mValueError\u001b[0m: cannot set name"
     ]
    }
   ],
   "source": [
    "anton.name = \"bob\""
   ]
  },
  {
   "cell_type": "code",
   "execution_count": 135,
   "id": "1393602d",
   "metadata": {},
   "outputs": [],
   "source": [
    "@dataclass\n",
    "class A:\n",
    "    _name: str\n",
    "    \n",
    "    @property\n",
    "    def name(self):\n",
    "        return self._name\n",
    "    \n",
    "    @name.setter\n",
    "    def name(self, name):\n",
    "        if len(name) < 3:\n",
    "            raise ValueError(\"name needs to be at least 3 chars\")\n",
    "        self._name = name"
   ]
  },
  {
   "cell_type": "code",
   "execution_count": 137,
   "id": "feed9d54",
   "metadata": {},
   "outputs": [],
   "source": [
    "anton = A(\"Anton\")"
   ]
  },
  {
   "cell_type": "code",
   "execution_count": 138,
   "id": "9ee662b1",
   "metadata": {},
   "outputs": [],
   "source": [
    "anton.name = \"bob\""
   ]
  },
  {
   "cell_type": "code",
   "execution_count": 139,
   "id": "3d09d3b0",
   "metadata": {},
   "outputs": [
    {
     "ename": "ValueError",
     "evalue": "name needs to be at least 3 chars",
     "output_type": "error",
     "traceback": [
      "\u001b[0;31m---------------------------------------------------------------------------\u001b[0m",
      "\u001b[0;31mValueError\u001b[0m                                Traceback (most recent call last)",
      "Input \u001b[0;32mIn [139]\u001b[0m, in \u001b[0;36m<cell line: 1>\u001b[0;34m()\u001b[0m\n\u001b[0;32m----> 1\u001b[0m anton\u001b[38;5;241m.\u001b[39mname \u001b[38;5;241m=\u001b[39m \u001b[38;5;124m\"\u001b[39m\u001b[38;5;124mbo\u001b[39m\u001b[38;5;124m\"\u001b[39m\n",
      "Input \u001b[0;32mIn [135]\u001b[0m, in \u001b[0;36mA.name\u001b[0;34m(self, name)\u001b[0m\n\u001b[1;32m      9\u001b[0m \u001b[38;5;129m@name\u001b[39m\u001b[38;5;241m.\u001b[39msetter\n\u001b[1;32m     10\u001b[0m \u001b[38;5;28;01mdef\u001b[39;00m \u001b[38;5;21mname\u001b[39m(\u001b[38;5;28mself\u001b[39m, name):\n\u001b[1;32m     11\u001b[0m     \u001b[38;5;28;01mif\u001b[39;00m \u001b[38;5;28mlen\u001b[39m(name) \u001b[38;5;241m<\u001b[39m \u001b[38;5;241m3\u001b[39m:\n\u001b[0;32m---> 12\u001b[0m         \u001b[38;5;28;01mraise\u001b[39;00m \u001b[38;5;167;01mValueError\u001b[39;00m(\u001b[38;5;124m\"\u001b[39m\u001b[38;5;124mname needs to be at least 3 chars\u001b[39m\u001b[38;5;124m\"\u001b[39m)\n\u001b[1;32m     13\u001b[0m     \u001b[38;5;28mself\u001b[39m\u001b[38;5;241m.\u001b[39m_name \u001b[38;5;241m=\u001b[39m name\n",
      "\u001b[0;31mValueError\u001b[0m: name needs to be at least 3 chars"
     ]
    }
   ],
   "source": [
    "anton.name = \"bo\""
   ]
  },
  {
   "cell_type": "markdown",
   "id": "356eb31c",
   "metadata": {},
   "source": [
    "#### Different kinds of methods"
   ]
  },
  {
   "cell_type": "markdown",
   "id": "02619588",
   "metadata": {},
   "source": [
    "Normal, class- and staticmethods."
   ]
  },
  {
   "cell_type": "code",
   "execution_count": 141,
   "id": "c0f18b95",
   "metadata": {},
   "outputs": [],
   "source": [
    "class A:\n",
    "    \n",
    "    def __init__(self, name):\n",
    "        self.name = name\n",
    "        \n",
    "    def normal_method(self, n: int):\n",
    "        print(self.name * n)\n",
    "    \n",
    "    @classmethod\n",
    "    def cls_method(cls):\n",
    "        print(\"called classmethod\")\n",
    "\n",
    "    @staticmethod\n",
    "    def st_method():\n",
    "        print(\"called staticmethod\")"
   ]
  },
  {
   "cell_type": "code",
   "execution_count": 142,
   "id": "5e9439d4",
   "metadata": {},
   "outputs": [],
   "source": [
    "a = A(\"Sarah\")"
   ]
  },
  {
   "cell_type": "code",
   "execution_count": 143,
   "id": "2cd76bc5",
   "metadata": {},
   "outputs": [
    {
     "name": "stdout",
     "output_type": "stream",
     "text": [
      "SarahSarahSarah\n"
     ]
    }
   ],
   "source": [
    "a.normal_method(3)"
   ]
  },
  {
   "cell_type": "code",
   "execution_count": 150,
   "id": "4cd9313b",
   "metadata": {},
   "outputs": [
    {
     "name": "stdout",
     "output_type": "stream",
     "text": [
      "called staticmethod\n"
     ]
    }
   ],
   "source": [
    "A.st_method()"
   ]
  },
  {
   "cell_type": "code",
   "execution_count": 145,
   "id": "e299e30c",
   "metadata": {},
   "outputs": [
    {
     "name": "stdout",
     "output_type": "stream",
     "text": [
      "called classmethod\n"
     ]
    }
   ],
   "source": [
    "A.cls_method()"
   ]
  },
  {
   "cell_type": "code",
   "execution_count": 146,
   "id": "b94d461c",
   "metadata": {},
   "outputs": [
    {
     "name": "stdout",
     "output_type": "stream",
     "text": [
      "called classmethod\n"
     ]
    }
   ],
   "source": [
    "a.cls_method()"
   ]
  },
  {
   "cell_type": "code",
   "execution_count": 147,
   "id": "a64faabe",
   "metadata": {},
   "outputs": [
    {
     "name": "stdout",
     "output_type": "stream",
     "text": [
      "called staticmethod\n"
     ]
    }
   ],
   "source": [
    "A.st_method()"
   ]
  },
  {
   "cell_type": "code",
   "execution_count": 148,
   "id": "c0a8f1a6",
   "metadata": {},
   "outputs": [
    {
     "name": "stdout",
     "output_type": "stream",
     "text": [
      "called staticmethod\n"
     ]
    }
   ],
   "source": [
    "a.st_method()"
   ]
  },
  {
   "cell_type": "markdown",
   "id": "e5182aac",
   "metadata": {},
   "source": [
    "#### Duck typing"
   ]
  },
  {
   "cell_type": "markdown",
   "id": "77ec70da",
   "metadata": {},
   "source": [
    "> If it walks like a duck, and it quacks like a duck, then it must be a duck"
   ]
  },
  {
   "cell_type": "markdown",
   "id": "cb0deb71",
   "metadata": {},
   "source": [
    "> The idea is that you don't need a type in order to invoke an existing method on an object - if a method is defined on it, you can invoke it.\n",
    "\n",
    "https://stackoverflow.com/a/4205163"
   ]
  },
  {
   "cell_type": "code",
   "execution_count": 151,
   "id": "ffd765be",
   "metadata": {},
   "outputs": [],
   "source": [
    "a = \"a string\"\n",
    "b = (1, 2, 3)\n",
    "c = [4, 5, 6]\n",
    "d = {\"name\": \"tim\", \"age\": 18}\n",
    "\n",
    "class Random:\n",
    "    def __len__(self):\n",
    "        return 5\n",
    "    \n",
    "e = Random()"
   ]
  },
  {
   "cell_type": "code",
   "execution_count": 152,
   "id": "b8b25806",
   "metadata": {},
   "outputs": [
    {
     "name": "stdout",
     "output_type": "stream",
     "text": [
      "a string  |  8\n",
      "(1, 2, 3)  |  3\n",
      "[4, 5, 6]  |  3\n",
      "{'name': 'tim', 'age': 18}  |  2\n",
      "<__main__.Random object at 0x107ddd0f0>  |  5\n"
     ]
    }
   ],
   "source": [
    "for i in (a, b, c, d, e):\n",
    "    print(i, \" | \", len(i))"
   ]
  },
  {
   "cell_type": "markdown",
   "id": "8cab4910",
   "metadata": {},
   "source": [
    "#### THE END\n",
    "\n",
    "What did I miss / what should we do a follow up on?\n",
    "\n",
    "Thanks!"
   ]
  },
  {
   "cell_type": "code",
   "execution_count": null,
   "id": "1270c428",
   "metadata": {},
   "outputs": [],
   "source": []
  }
 ],
 "metadata": {
  "kernelspec": {
   "display_name": "Python 3 (ipykernel)",
   "language": "python",
   "name": "python3"
  },
  "language_info": {
   "codemirror_mode": {
    "name": "ipython",
    "version": 3
   },
   "file_extension": ".py",
   "mimetype": "text/x-python",
   "name": "python",
   "nbconvert_exporter": "python",
   "pygments_lexer": "ipython3",
   "version": "3.10.0"
  }
 },
 "nbformat": 4,
 "nbformat_minor": 5
}
