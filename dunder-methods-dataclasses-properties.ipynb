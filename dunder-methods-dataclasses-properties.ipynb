{
 "cells": [
  {
   "cell_type": "markdown",
   "id": "9ce2c1f0",
   "metadata": {},
   "source": [
    "Structure:\n",
    "    \n",
    "- get some food data\n",
    "- make food object, bare classes showing dunder (magic) methods (init, str/repr, compare, add)\n",
    "- food log class to show more dunders: (len, iter, create a context manager)\n",
    "- create some functions using the food objects\n",
    "- add exception handling (raise, catch, own exception, best practices)"
   ]
  },
  {
   "cell_type": "code",
   "execution_count": 1,
   "id": "6b57d41f",
   "metadata": {},
   "outputs": [],
   "source": [
    "file = \"calories.csv\"  # https://github.com/PythonCharmers/PythonCharmersData/blob/master/calories.csv"
   ]
  },
  {
   "cell_type": "code",
   "execution_count": 2,
   "id": "e2df8895",
   "metadata": {},
   "outputs": [],
   "source": [
    "import csv"
   ]
  },
  {
   "cell_type": "code",
   "execution_count": 4,
   "id": "733a058b",
   "metadata": {},
   "outputs": [
    {
     "ename": "FileNotFoundError",
     "evalue": "[Errno 2] No such file or directory: 'calories.csv'",
     "output_type": "error",
     "traceback": [
      "\u001b[0;31m---------------------------------------------------------------------------\u001b[0m",
      "\u001b[0;31mFileNotFoundError\u001b[0m                         Traceback (most recent call last)",
      "Input \u001b[0;32mIn [4]\u001b[0m, in \u001b[0;36m<cell line: 1>\u001b[0;34m()\u001b[0m\n\u001b[0;32m----> 1\u001b[0m \u001b[38;5;28;01mwith\u001b[39;00m \u001b[38;5;28;43mopen\u001b[39;49m\u001b[43m(\u001b[49m\u001b[43mfile\u001b[49m\u001b[43m)\u001b[49m \u001b[38;5;28;01mas\u001b[39;00m f:\n\u001b[1;32m      2\u001b[0m     \u001b[38;5;28;01mfor\u001b[39;00m row \u001b[38;5;129;01min\u001b[39;00m csv\u001b[38;5;241m.\u001b[39mDictReader(f):\n\u001b[1;32m      3\u001b[0m         \u001b[38;5;28mprint\u001b[39m(row)\n",
      "\u001b[0;31mFileNotFoundError\u001b[0m: [Errno 2] No such file or directory: 'calories.csv'"
     ]
    }
   ],
   "source": [
    "with open(file) as f:\n",
    "    for row in csv.DictReader(f):\n",
    "        print(row)"
   ]
  },
  {
   "cell_type": "code",
   "execution_count": 5,
   "id": "b585b73b",
   "metadata": {},
   "outputs": [],
   "source": [
    "from functools import total_ordering\n",
    "\n",
    "\n",
    "@total_ordering\n",
    "class Food:\n",
    "    def __init__(self, name, measure, weight, kcal):\n",
    "        self.name = name\n",
    "        self.measure = measure\n",
    "        self.weight = weight\n",
    "        self.kcal = kcal\n",
    "    \n",
    "    def __repr__(self):\n",
    "        cls_name = type(self).__name__\n",
    "        return f\"{cls_name}('{self.name}', '{self.measure}', {self.weight}, {self.kcal})\"\n",
    "    \n",
    "    def __str__(self):\n",
    "        return self.name\n",
    "    \n",
    "    def __eq__(self, other):\n",
    "        return self.kcal == other.kcal\n",
    "    \n",
    "    def __lt__(self, other):\n",
    "        return self.kcal < other.kcal\n",
    "    \n",
    "    def __add__(self, other):          \n",
    "        name = f\"{self.name} & {other.name}\"\n",
    "        \n",
    "        if self.measure != other.measure:\n",
    "            raise ValueError(\"Measures should be the same\")\n",
    "            \n",
    "        weight = self.weight + other.weight\n",
    "        kcal = self.kcal + other.kcal\n",
    "        \n",
    "        cls = type(self)\n",
    "        return cls(name, self.measure, weight, kcal)\n",
    "    "
   ]
  },
  {
   "cell_type": "code",
   "execution_count": 6,
   "id": "91a68670",
   "metadata": {},
   "outputs": [],
   "source": [
    "pie = Food('Apple Pie', '100 grams', 158, 405)"
   ]
  },
  {
   "cell_type": "code",
   "execution_count": 7,
   "id": "414afcf3",
   "metadata": {},
   "outputs": [],
   "source": [
    "bananas = Food(\"Bananas\", \"1 Piece\", 114, 105)"
   ]
  },
  {
   "cell_type": "code",
   "execution_count": 8,
   "id": "2008f663",
   "metadata": {},
   "outputs": [
    {
     "data": {
      "text/plain": [
       "False"
      ]
     },
     "execution_count": 8,
     "metadata": {},
     "output_type": "execute_result"
    }
   ],
   "source": [
    "bananas > pie"
   ]
  },
  {
   "cell_type": "code",
   "execution_count": 9,
   "id": "1a9867c8",
   "metadata": {},
   "outputs": [
    {
     "ename": "ValueError",
     "evalue": "Measures should be the same",
     "output_type": "error",
     "traceback": [
      "\u001b[0;31m---------------------------------------------------------------------------\u001b[0m",
      "\u001b[0;31mValueError\u001b[0m                                Traceback (most recent call last)",
      "Input \u001b[0;32mIn [9]\u001b[0m, in \u001b[0;36m<cell line: 1>\u001b[0;34m()\u001b[0m\n\u001b[0;32m----> 1\u001b[0m banana_apple_pie \u001b[38;5;241m=\u001b[39m \u001b[43mbananas\u001b[49m\u001b[43m \u001b[49m\u001b[38;5;241;43m+\u001b[39;49m\u001b[43m \u001b[49m\u001b[43mpie\u001b[49m\n",
      "Input \u001b[0;32mIn [5]\u001b[0m, in \u001b[0;36mFood.__add__\u001b[0;34m(self, other)\u001b[0m\n\u001b[1;32m     26\u001b[0m name \u001b[38;5;241m=\u001b[39m \u001b[38;5;124mf\u001b[39m\u001b[38;5;124m\"\u001b[39m\u001b[38;5;132;01m{\u001b[39;00m\u001b[38;5;28mself\u001b[39m\u001b[38;5;241m.\u001b[39mname\u001b[38;5;132;01m}\u001b[39;00m\u001b[38;5;124m & \u001b[39m\u001b[38;5;132;01m{\u001b[39;00mother\u001b[38;5;241m.\u001b[39mname\u001b[38;5;132;01m}\u001b[39;00m\u001b[38;5;124m\"\u001b[39m\n\u001b[1;32m     28\u001b[0m \u001b[38;5;28;01mif\u001b[39;00m \u001b[38;5;28mself\u001b[39m\u001b[38;5;241m.\u001b[39mmeasure \u001b[38;5;241m!=\u001b[39m other\u001b[38;5;241m.\u001b[39mmeasure:\n\u001b[0;32m---> 29\u001b[0m     \u001b[38;5;28;01mraise\u001b[39;00m \u001b[38;5;167;01mValueError\u001b[39;00m(\u001b[38;5;124m\"\u001b[39m\u001b[38;5;124mMeasures should be the same\u001b[39m\u001b[38;5;124m\"\u001b[39m)\n\u001b[1;32m     31\u001b[0m weight \u001b[38;5;241m=\u001b[39m \u001b[38;5;28mself\u001b[39m\u001b[38;5;241m.\u001b[39mweight \u001b[38;5;241m+\u001b[39m other\u001b[38;5;241m.\u001b[39mweight\n\u001b[1;32m     32\u001b[0m kcal \u001b[38;5;241m=\u001b[39m \u001b[38;5;28mself\u001b[39m\u001b[38;5;241m.\u001b[39mkcal \u001b[38;5;241m+\u001b[39m other\u001b[38;5;241m.\u001b[39mkcal\n",
      "\u001b[0;31mValueError\u001b[0m: Measures should be the same"
     ]
    }
   ],
   "source": [
    "banana_apple_pie = bananas + pie"
   ]
  },
  {
   "cell_type": "code",
   "execution_count": 10,
   "id": "abb4917a",
   "metadata": {},
   "outputs": [],
   "source": [
    "class Car:\n",
    "    pass\n",
    "\n",
    "car = Car()"
   ]
  },
  {
   "cell_type": "code",
   "execution_count": 12,
   "id": "1e1cd2e6",
   "metadata": {},
   "outputs": [
    {
     "ename": "AttributeError",
     "evalue": "'Car' object has no attribute 'name'",
     "output_type": "error",
     "traceback": [
      "\u001b[0;31m---------------------------------------------------------------------------\u001b[0m",
      "\u001b[0;31mAttributeError\u001b[0m                            Traceback (most recent call last)",
      "Input \u001b[0;32mIn [12]\u001b[0m, in \u001b[0;36m<cell line: 1>\u001b[0;34m()\u001b[0m\n\u001b[0;32m----> 1\u001b[0m \u001b[43mbananas\u001b[49m\u001b[43m \u001b[49m\u001b[38;5;241;43m+\u001b[39;49m\u001b[43m \u001b[49m\u001b[43mcar\u001b[49m\n",
      "Input \u001b[0;32mIn [5]\u001b[0m, in \u001b[0;36mFood.__add__\u001b[0;34m(self, other)\u001b[0m\n\u001b[1;32m     25\u001b[0m \u001b[38;5;28;01mdef\u001b[39;00m \u001b[38;5;21m__add__\u001b[39m(\u001b[38;5;28mself\u001b[39m, other):          \n\u001b[0;32m---> 26\u001b[0m     name \u001b[38;5;241m=\u001b[39m \u001b[38;5;124mf\u001b[39m\u001b[38;5;124m\"\u001b[39m\u001b[38;5;132;01m{\u001b[39;00m\u001b[38;5;28mself\u001b[39m\u001b[38;5;241m.\u001b[39mname\u001b[38;5;132;01m}\u001b[39;00m\u001b[38;5;124m & \u001b[39m\u001b[38;5;132;01m{\u001b[39;00mother\u001b[38;5;241m.\u001b[39mname\u001b[38;5;132;01m}\u001b[39;00m\u001b[38;5;124m\"\u001b[39m\n\u001b[1;32m     28\u001b[0m     \u001b[38;5;28;01mif\u001b[39;00m \u001b[38;5;28mself\u001b[39m\u001b[38;5;241m.\u001b[39mmeasure \u001b[38;5;241m!=\u001b[39m other\u001b[38;5;241m.\u001b[39mmeasure:\n\u001b[1;32m     29\u001b[0m         \u001b[38;5;28;01mraise\u001b[39;00m \u001b[38;5;167;01mValueError\u001b[39;00m(\u001b[38;5;124m\"\u001b[39m\u001b[38;5;124mMeasures should be the same\u001b[39m\u001b[38;5;124m\"\u001b[39m)\n",
      "\u001b[0;31mAttributeError\u001b[0m: 'Car' object has no attribute 'name'"
     ]
    }
   ],
   "source": [
    "bananas + car  # question regarding adding different objects"
   ]
  },
  {
   "cell_type": "code",
   "execution_count": 13,
   "id": "37c6c2cd",
   "metadata": {},
   "outputs": [],
   "source": [
    "# dataclasses save a lot of boilerplate code\n",
    "\n",
    "from dataclasses import dataclass\n",
    "\n",
    "\n",
    "@dataclass\n",
    "class Food:\n",
    "    name: str\n",
    "    measure: str\n",
    "    weight: int\n",
    "    kcal: int\n",
    "        \n",
    "    def __str__(self):\n",
    "        return self.name\n",
    "\n",
    "    def __eq__(self, other):\n",
    "        return self.kcal == other.kcal\n",
    "    \n",
    "    def __lt__(self, other):\n",
    "        return self.kcal < other.kcal\n",
    "    \n",
    "    def __add__(self, other):          \n",
    "        name = f\"{self.name} & {other.name}\"\n",
    "        \n",
    "        if self.measure != other.measure:\n",
    "            raise ValueError(\"Measures should be the same\")\n",
    "            \n",
    "        weight = self.weight + other.weight\n",
    "        kcal = self.kcal + other.kcal\n",
    "        \n",
    "        cls = type(self)\n",
    "        return cls(name, self.measure, weight, kcal)"
   ]
  },
  {
   "cell_type": "code",
   "execution_count": 14,
   "id": "77bd0340",
   "metadata": {},
   "outputs": [],
   "source": [
    "pie = Food('Apple Pie', '100 grams', 158, 405)"
   ]
  },
  {
   "cell_type": "code",
   "execution_count": 15,
   "id": "c95cfffa",
   "metadata": {},
   "outputs": [],
   "source": [
    "bananas = Food(\"Bananas\", \"1 Piece\", 114, 105)"
   ]
  },
  {
   "cell_type": "code",
   "execution_count": 16,
   "id": "8753aa51",
   "metadata": {},
   "outputs": [
    {
     "data": {
      "text/plain": [
       "True"
      ]
     },
     "execution_count": 16,
     "metadata": {},
     "output_type": "execute_result"
    }
   ],
   "source": [
    "pie > bananas"
   ]
  },
  {
   "cell_type": "code",
   "execution_count": 18,
   "id": "60dae5ff",
   "metadata": {},
   "outputs": [],
   "source": [
    "# showing some more dunder methods (and properties)\n",
    "\n",
    "from dataclasses import field\n",
    "\n",
    "@dataclass\n",
    "class FoodLog:\n",
    "    owner: str\n",
    "    kcal_limit: int\n",
    "    _foods: list[Food] = field(default_factory=list)\n",
    "    index: int = 0\n",
    "        \n",
    "    def add_food(self, food: Food):\n",
    "        self._foods.append(food)\n",
    "    \n",
    "    @property\n",
    "    def total_calories_consumed(self):\n",
    "        return sum(food.kcal for food in self._foods)\n",
    "    \n",
    "    @property\n",
    "    def calories_to_consume_today(self):\n",
    "        return self.kcal_limit - self.total_calories_consumed\n",
    "    \n",
    "    def __len__(self):\n",
    "        return len(self._foods)\n",
    "    \n",
    "    def __iter__(self):\n",
    "        return self\n",
    "    \n",
    "    def __next__(self):\n",
    "        if self.index < len(self._foods):\n",
    "            self.index += 1\n",
    "            return self._foods[self.index - 1]\n",
    "        else:\n",
    "            raise StopIteration"
   ]
  },
  {
   "cell_type": "code",
   "execution_count": 19,
   "id": "7f7b23cc",
   "metadata": {},
   "outputs": [],
   "source": [
    "tracker = FoodLog(\"bob\", 2500)"
   ]
  },
  {
   "cell_type": "code",
   "execution_count": 20,
   "id": "04f96328",
   "metadata": {},
   "outputs": [],
   "source": [
    "tracker.add_food(pie)\n",
    "tracker.add_food(pie)\n",
    "tracker.add_food(bananas)"
   ]
  },
  {
   "cell_type": "code",
   "execution_count": 21,
   "id": "cdf4d2bc",
   "metadata": {},
   "outputs": [
    {
     "data": {
      "text/plain": [
       "[Food(name='Apple Pie', measure='100 grams', weight=158, kcal=405),\n",
       " Food(name='Apple Pie', measure='100 grams', weight=158, kcal=405),\n",
       " Food(name='Bananas', measure='1 Piece', weight=114, kcal=105)]"
      ]
     },
     "execution_count": 21,
     "metadata": {},
     "output_type": "execute_result"
    }
   ],
   "source": [
    "tracker._foods"
   ]
  },
  {
   "cell_type": "code",
   "execution_count": 22,
   "id": "4c1e7292",
   "metadata": {},
   "outputs": [
    {
     "data": {
      "text/plain": [
       "3"
      ]
     },
     "execution_count": 22,
     "metadata": {},
     "output_type": "execute_result"
    }
   ],
   "source": [
    "len(tracker)"
   ]
  },
  {
   "cell_type": "code",
   "execution_count": 23,
   "id": "35e44cfc",
   "metadata": {},
   "outputs": [
    {
     "name": "stdout",
     "output_type": "stream",
     "text": [
      "Apple Pie\n",
      "Apple Pie\n",
      "Bananas\n"
     ]
    }
   ],
   "source": [
    "for food in tracker: print(food)"
   ]
  },
  {
   "cell_type": "code",
   "execution_count": 24,
   "id": "4a96d5a0",
   "metadata": {},
   "outputs": [
    {
     "ename": "StopIteration",
     "evalue": "",
     "output_type": "error",
     "traceback": [
      "\u001b[0;31m---------------------------------------------------------------------------\u001b[0m",
      "\u001b[0;31mStopIteration\u001b[0m                             Traceback (most recent call last)",
      "Input \u001b[0;32mIn [24]\u001b[0m, in \u001b[0;36m<cell line: 1>\u001b[0;34m()\u001b[0m\n\u001b[0;32m----> 1\u001b[0m \u001b[38;5;28;43mnext\u001b[39;49m\u001b[43m(\u001b[49m\u001b[43mtracker\u001b[49m\u001b[43m)\u001b[49m\n",
      "Input \u001b[0;32mIn [18]\u001b[0m, in \u001b[0;36mFoodLog.__next__\u001b[0;34m(self)\u001b[0m\n\u001b[1;32m     32\u001b[0m     \u001b[38;5;28;01mreturn\u001b[39;00m \u001b[38;5;28mself\u001b[39m\u001b[38;5;241m.\u001b[39m_foods[\u001b[38;5;28mself\u001b[39m\u001b[38;5;241m.\u001b[39mindex \u001b[38;5;241m-\u001b[39m \u001b[38;5;241m1\u001b[39m]\n\u001b[1;32m     33\u001b[0m \u001b[38;5;28;01melse\u001b[39;00m:\n\u001b[0;32m---> 34\u001b[0m     \u001b[38;5;28;01mraise\u001b[39;00m \u001b[38;5;167;01mStopIteration\u001b[39;00m\n",
      "\u001b[0;31mStopIteration\u001b[0m: "
     ]
    }
   ],
   "source": [
    "next(tracker)"
   ]
  },
  {
   "cell_type": "markdown",
   "id": "6487fefe",
   "metadata": {},
   "source": [
    "TODO / homework, could write a context manager that lets you add a food only when you have calories left. Or could just add regular exception handling to `FoodLog`'s `add_food` method ..."
   ]
  },
  {
   "cell_type": "code",
   "execution_count": null,
   "id": "54138e77",
   "metadata": {},
   "outputs": [],
   "source": []
  }
 ],
 "metadata": {
  "kernelspec": {
   "display_name": "Python 3 (ipykernel)",
   "language": "python",
   "name": "python3"
  },
  "language_info": {
   "codemirror_mode": {
    "name": "ipython",
    "version": 3
   },
   "file_extension": ".py",
   "mimetype": "text/x-python",
   "name": "python",
   "nbconvert_exporter": "python",
   "pygments_lexer": "ipython3",
   "version": "3.10.0"
  }
 },
 "nbformat": 4,
 "nbformat_minor": 5
}
