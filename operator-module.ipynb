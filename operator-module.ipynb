{
 "cells": [
  {
   "cell_type": "markdown",
   "metadata": {},
   "source": [
    "# operator — Standard operators as functions\n",
    "\n",
    "https://docs.python.org/3/library/operator.html"
   ]
  },
  {
   "cell_type": "code",
   "execution_count": 1,
   "metadata": {},
   "outputs": [
    {
     "data": {
      "text/plain": [
       "'3.9.0 (v3.9.0:9cf6752276, Oct  5 2020, 11:29:23) \\n[Clang 6.0 (clang-600.0.57)]'"
      ]
     },
     "execution_count": 1,
     "metadata": {},
     "output_type": "execute_result"
    }
   ],
   "source": [
    "import sys\n",
    "sys.version"
   ]
  },
  {
   "cell_type": "code",
   "execution_count": 2,
   "metadata": {},
   "outputs": [],
   "source": [
    "import operator as op"
   ]
  },
  {
   "cell_type": "markdown",
   "metadata": {},
   "source": [
    "## itemgetter"
   ]
  },
  {
   "cell_type": "markdown",
   "metadata": {},
   "source": [
    "### sorting"
   ]
  },
  {
   "cell_type": "code",
   "execution_count": 3,
   "metadata": {},
   "outputs": [],
   "source": [
    "user_scores = {'bob': 3, 'julian': 7, 'tim': 10, 'sara': 2}"
   ]
  },
  {
   "cell_type": "code",
   "execution_count": 4,
   "metadata": {},
   "outputs": [
    {
     "data": {
      "text/plain": [
       "[('sara', 2), ('bob', 3), ('julian', 7), ('tim', 10)]"
      ]
     },
     "execution_count": 4,
     "metadata": {},
     "output_type": "execute_result"
    }
   ],
   "source": [
    "sorted(user_scores.items(), key=lambda x: x[1])"
   ]
  },
  {
   "cell_type": "code",
   "execution_count": 5,
   "metadata": {},
   "outputs": [
    {
     "data": {
      "text/plain": [
       "[('sara', 2), ('bob', 3), ('julian', 7), ('tim', 10)]"
      ]
     },
     "execution_count": 5,
     "metadata": {},
     "output_type": "execute_result"
    }
   ],
   "source": [
    "sorted(user_scores.items(), key=op.itemgetter(1))"
   ]
  },
  {
   "cell_type": "code",
   "execution_count": 6,
   "metadata": {},
   "outputs": [],
   "source": [
    "python_versions = [('bob', 3, 6), ('julian', 3, 9), ('tim', 3, 4), ('sara', 2, 7)]"
   ]
  },
  {
   "cell_type": "code",
   "execution_count": 7,
   "metadata": {},
   "outputs": [
    {
     "data": {
      "text/plain": [
       "[('tim', 3, 4), ('bob', 3, 6), ('sara', 2, 7), ('julian', 3, 9)]"
      ]
     },
     "execution_count": 7,
     "metadata": {},
     "output_type": "execute_result"
    }
   ],
   "source": [
    "sorted(python_versions, key=op.itemgetter(2))"
   ]
  },
  {
   "cell_type": "markdown",
   "metadata": {},
   "source": [
    "### getting multiple items"
   ]
  },
  {
   "cell_type": "code",
   "execution_count": 8,
   "metadata": {},
   "outputs": [],
   "source": [
    "days = ['mon', 'tue', 'wed', 'thurs', 'fri', 'sat', 'sun']"
   ]
  },
  {
   "cell_type": "code",
   "execution_count": 9,
   "metadata": {},
   "outputs": [
    {
     "data": {
      "text/plain": [
       "('mon', 'thurs')"
      ]
     },
     "execution_count": 9,
     "metadata": {},
     "output_type": "execute_result"
    }
   ],
   "source": [
    "days[0], days[3]"
   ]
  },
  {
   "cell_type": "code",
   "execution_count": 11,
   "metadata": {},
   "outputs": [
    {
     "data": {
      "text/plain": [
       "('mon', 'thurs')"
      ]
     },
     "execution_count": 11,
     "metadata": {},
     "output_type": "execute_result"
    }
   ],
   "source": [
    "op.itemgetter(0, 3)(days)"
   ]
  },
  {
   "cell_type": "code",
   "execution_count": 12,
   "metadata": {},
   "outputs": [],
   "source": [
    "import feedparser\n",
    "blog_feed = feedparser.parse('https://pybit.es/feeds/all.rss.xml')"
   ]
  },
  {
   "cell_type": "code",
   "execution_count": 15,
   "metadata": {},
   "outputs": [
    {
     "name": "stdout",
     "output_type": "stream",
     "text": [
      "{'author': 'Bob',\n",
      " 'author_detail': {'name': 'Bob'},\n",
      " 'authors': [{'name': 'Bob'}],\n",
      " 'guidislink': False,\n",
      " 'id': 'tag:pybit.es,2020-12-14:/get-python-source.html',\n",
      " 'link': 'https://pybit.es/get-python-source.html',\n",
      " 'links': [{'href': 'https://pybit.es/get-python-source.html',\n",
      "            'rel': 'alternate',\n",
      "            'type': 'text/html'}],\n",
      " 'published': 'Mon, 14 Dec 2020 19:05:00 +0100',\n",
      " 'published_parsed': time.struct_time(tm_year=2020, tm_mon=12, tm_mday=14, tm_hour=18, tm_min=5, tm_sec=0, tm_wday=0, tm_yday=349, tm_isdst=0),\n",
      " 'summary': '<p>Have you ever wondered how to get Python source code quickly? '\n",
      "            'It turns out the Standard Library can do this pretty '\n",
      "            'effortlessly. Here is some code to read more Python source.</p>',\n",
      " 'summary_detail': {'base': 'https://pybit.es/feeds/all.rss.xml',\n",
      "                    'language': None,\n",
      "                    'type': 'text/html',\n",
      "                    'value': '<p>Have you ever wondered how to get Python '\n",
      "                             'source code quickly? It turns out the Standard '\n",
      "                             'Library can do this pretty effortlessly. Here is '\n",
      "                             'some code to read more Python source.</p>'},\n",
      " 'tags': [{'label': None, 'scheme': None, 'term': 'importlib'},\n",
      "          {'label': None, 'scheme': None, 'term': 'inspect'},\n",
      "          {'label': None, 'scheme': None, 'term': 'vim'},\n",
      "          {'label': None, 'scheme': None, 'term': 'bash'},\n",
      "          {'label': None, 'scheme': None, 'term': 'source code'},\n",
      "          {'label': None, 'scheme': None, 'term': 'pathlib'},\n",
      "          {'label': None, 'scheme': None, 'term': 'Standard Library'},\n",
      "          {'label': None, 'scheme': None, 'term': 'argparse'},\n",
      "          {'label': None, 'scheme': None, 'term': 'pydoc'}],\n",
      " 'title': 'Get to Python source code instantly using importlib and inspect',\n",
      " 'title_detail': {'base': 'https://pybit.es/feeds/all.rss.xml',\n",
      "                  'language': None,\n",
      "                  'type': 'text/plain',\n",
      "                  'value': 'Get to Python source code instantly using '\n",
      "                           'importlib and inspect'}}\n"
     ]
    }
   ],
   "source": [
    "from pprint import pprint as pp\n",
    "pp(blog_feed.entries[0])"
   ]
  },
  {
   "cell_type": "code",
   "execution_count": 16,
   "metadata": {},
   "outputs": [
    {
     "name": "stdout",
     "output_type": "stream",
     "text": [
      "('https://pybit.es/get-python-source.html', 'Bob', 'Mon, 14 Dec 2020 19:05:00 +0100')\n",
      "('https://pybit.es/guest-create-aws-lambda-layers.html', 'Michael Aydinbas', 'Mon, 05 Oct 2020 14:22:00 +0200')\n",
      "('https://pybit.es/guest-clean-text-data.html', 'David Colton', 'Wed, 30 Sep 2020 20:34:00 +0200')\n",
      "('https://pybit.es/code-reviewing.html', 'Bob', 'Thu, 24 Sep 2020 18:43:00 +0200')\n",
      "('https://pybit.es/opensource-package-pypi.html', 'Bob', 'Mon, 31 Aug 2020 12:05:00 +0200')\n"
     ]
    }
   ],
   "source": [
    "for entry in blog_feed.entries[:5]:\n",
    "    print(\n",
    "        op.itemgetter('link', 'author', 'published')(entry)\n",
    "    )"
   ]
  },
  {
   "cell_type": "markdown",
   "metadata": {},
   "source": [
    "## mapping Operators to Functions"
   ]
  },
  {
   "cell_type": "code",
   "execution_count": 17,
   "metadata": {},
   "outputs": [],
   "source": [
    "a = 10\n",
    "b = 20"
   ]
  },
  {
   "cell_type": "code",
   "execution_count": 18,
   "metadata": {},
   "outputs": [
    {
     "data": {
      "text/plain": [
       "30"
      ]
     },
     "execution_count": 18,
     "metadata": {},
     "output_type": "execute_result"
    }
   ],
   "source": [
    "a + b"
   ]
  },
  {
   "cell_type": "code",
   "execution_count": 21,
   "metadata": {},
   "outputs": [
    {
     "data": {
      "text/plain": [
       "30"
      ]
     },
     "execution_count": 21,
     "metadata": {},
     "output_type": "execute_result"
    }
   ],
   "source": [
    "op.add(a, b)"
   ]
  },
  {
   "cell_type": "code",
   "execution_count": 22,
   "metadata": {},
   "outputs": [
    {
     "data": {
      "text/plain": [
       "1"
      ]
     },
     "execution_count": 22,
     "metadata": {},
     "output_type": "execute_result"
    }
   ],
   "source": [
    "from datetime import date\n",
    "\n",
    "wd = date.today().weekday()\n",
    "wd"
   ]
  },
  {
   "cell_type": "code",
   "execution_count": 23,
   "metadata": {},
   "outputs": [
    {
     "data": {
      "text/plain": [
       "30"
      ]
     },
     "execution_count": 23,
     "metadata": {},
     "output_type": "execute_result"
    }
   ],
   "source": [
    "res = op.add(a, b) if wd == 1 else op.sub(b, a)\n",
    "res"
   ]
  },
  {
   "cell_type": "markdown",
   "metadata": {},
   "source": [
    "## enum and dataclasses"
   ]
  },
  {
   "cell_type": "code",
   "execution_count": 24,
   "metadata": {},
   "outputs": [],
   "source": [
    "from dataclasses import dataclass\n",
    "from enum import Enum\n",
    "\n",
    "\n",
    "class BiteLevel(Enum):\n",
    "    INTRO = 1\n",
    "    BEGINNER = 2\n",
    "    INTERMEDIATE = 3\n",
    "    ADVANCED = 4\n",
    "\n",
    "    \n",
    "@dataclass\n",
    "class Bite:\n",
    "    number: int\n",
    "    title: str\n",
    "    level: int = BiteLevel.BEGINNER"
   ]
  },
  {
   "cell_type": "code",
   "execution_count": 25,
   "metadata": {},
   "outputs": [
    {
     "data": {
      "text/plain": [
       "Bite(number=1, title='sum of numbers', level=<BiteLevel.BEGINNER: 2>)"
      ]
     },
     "execution_count": 25,
     "metadata": {},
     "output_type": "execute_result"
    }
   ],
   "source": [
    "Bite(1, \"sum of numbers\")"
   ]
  },
  {
   "cell_type": "code",
   "execution_count": 26,
   "metadata": {},
   "outputs": [],
   "source": [
    "def populate_bites():    \n",
    "    return [\n",
    "        Bite(25, \"No promo twice, keep state in a class\", BiteLevel.INTERMEDIATE),\n",
    "        Bite(21, \"Query a nested data structure\", BiteLevel.BEGINNER),\n",
    "        Bite(2, \"Regex Fun\", BiteLevel.ADVANCED),\n",
    "        Bite(1, \"Sum of numbers\", BiteLevel.BEGINNER),\n",
    "        Bite(11, \"Enrich a class with dunder methods\", BiteLevel.ADVANCED),   \n",
    "        Bite(106, \"Strip out vowels and count the number of replacements\", BiteLevel.INTRO),    \n",
    "    ]"
   ]
  },
  {
   "cell_type": "code",
   "execution_count": 27,
   "metadata": {},
   "outputs": [],
   "source": [
    "bites = populate_bites()"
   ]
  },
  {
   "cell_type": "code",
   "execution_count": 28,
   "metadata": {},
   "outputs": [
    {
     "ename": "TypeError",
     "evalue": "'<' not supported between instances of 'Bite' and 'Bite'",
     "output_type": "error",
     "traceback": [
      "\u001b[0;31m---------------------------------------------------------------------------\u001b[0m",
      "\u001b[0;31mTypeError\u001b[0m                                 Traceback (most recent call last)",
      "\u001b[0;32m<ipython-input-28-33c46694cb05>\u001b[0m in \u001b[0;36m<module>\u001b[0;34m\u001b[0m\n\u001b[0;32m----> 1\u001b[0;31m \u001b[0msorted\u001b[0m\u001b[0;34m(\u001b[0m\u001b[0mbites\u001b[0m\u001b[0;34m)\u001b[0m\u001b[0;34m\u001b[0m\u001b[0;34m\u001b[0m\u001b[0m\n\u001b[0m",
      "\u001b[0;31mTypeError\u001b[0m: '<' not supported between instances of 'Bite' and 'Bite'"
     ]
    }
   ],
   "source": [
    "sorted(bites)"
   ]
  },
  {
   "cell_type": "code",
   "execution_count": 29,
   "metadata": {},
   "outputs": [],
   "source": [
    "@dataclass(order=True)\n",
    "class Bite:\n",
    "    number: int\n",
    "    title: str\n",
    "    level: int = BiteLevel.BEGINNER"
   ]
  },
  {
   "cell_type": "code",
   "execution_count": 30,
   "metadata": {},
   "outputs": [],
   "source": [
    "bites = populate_bites()"
   ]
  },
  {
   "cell_type": "markdown",
   "metadata": {},
   "source": [
    "## sorting and attrgetter"
   ]
  },
  {
   "cell_type": "code",
   "execution_count": 31,
   "metadata": {},
   "outputs": [
    {
     "data": {
      "text/plain": [
       "[Bite(number=1, title='Sum of numbers', level=<BiteLevel.BEGINNER: 2>),\n",
       " Bite(number=2, title='Regex Fun', level=<BiteLevel.ADVANCED: 4>),\n",
       " Bite(number=11, title='Enrich a class with dunder methods', level=<BiteLevel.ADVANCED: 4>),\n",
       " Bite(number=21, title='Query a nested data structure', level=<BiteLevel.BEGINNER: 2>),\n",
       " Bite(number=25, title='No promo twice, keep state in a class', level=<BiteLevel.INTERMEDIATE: 3>),\n",
       " Bite(number=106, title='Strip out vowels and count the number of replacements', level=<BiteLevel.INTRO: 1>)]"
      ]
     },
     "execution_count": 31,
     "metadata": {},
     "output_type": "execute_result"
    }
   ],
   "source": [
    "sorted(bites)"
   ]
  },
  {
   "cell_type": "code",
   "execution_count": 33,
   "metadata": {},
   "outputs": [
    {
     "ename": "TypeError",
     "evalue": "'Bite' object is not subscriptable",
     "output_type": "error",
     "traceback": [
      "\u001b[0;31m---------------------------------------------------------------------------\u001b[0m",
      "\u001b[0;31mTypeError\u001b[0m                                 Traceback (most recent call last)",
      "\u001b[0;32m<ipython-input-33-49f088d86582>\u001b[0m in \u001b[0;36m<module>\u001b[0;34m\u001b[0m\n\u001b[0;32m----> 1\u001b[0;31m \u001b[0msorted\u001b[0m\u001b[0;34m(\u001b[0m\u001b[0mbites\u001b[0m\u001b[0;34m,\u001b[0m \u001b[0mkey\u001b[0m\u001b[0;34m=\u001b[0m\u001b[0mop\u001b[0m\u001b[0;34m.\u001b[0m\u001b[0mitemgetter\u001b[0m\u001b[0;34m(\u001b[0m\u001b[0;36m1\u001b[0m\u001b[0;34m)\u001b[0m\u001b[0;34m)\u001b[0m\u001b[0;34m\u001b[0m\u001b[0;34m\u001b[0m\u001b[0m\n\u001b[0m",
      "\u001b[0;31mTypeError\u001b[0m: 'Bite' object is not subscriptable"
     ]
    }
   ],
   "source": [
    "sorted(bites, key=op.attrgetter('title'))"
   ]
  },
  {
   "cell_type": "code",
   "execution_count": 34,
   "metadata": {},
   "outputs": [
    {
     "ename": "TypeError",
     "evalue": "'<' not supported between instances of 'BiteLevel' and 'BiteLevel'",
     "output_type": "error",
     "traceback": [
      "\u001b[0;31m---------------------------------------------------------------------------\u001b[0m",
      "\u001b[0;31mTypeError\u001b[0m                                 Traceback (most recent call last)",
      "\u001b[0;32m<ipython-input-34-7718ac66f85b>\u001b[0m in \u001b[0;36m<module>\u001b[0;34m\u001b[0m\n\u001b[0;32m----> 1\u001b[0;31m \u001b[0msorted\u001b[0m\u001b[0;34m(\u001b[0m\u001b[0mbites\u001b[0m\u001b[0;34m,\u001b[0m \u001b[0mkey\u001b[0m\u001b[0;34m=\u001b[0m\u001b[0mop\u001b[0m\u001b[0;34m.\u001b[0m\u001b[0mattrgetter\u001b[0m\u001b[0;34m(\u001b[0m\u001b[0;34m'level'\u001b[0m\u001b[0;34m)\u001b[0m\u001b[0;34m)\u001b[0m\u001b[0;34m\u001b[0m\u001b[0;34m\u001b[0m\u001b[0m\n\u001b[0m",
      "\u001b[0;31mTypeError\u001b[0m: '<' not supported between instances of 'BiteLevel' and 'BiteLevel'"
     ]
    }
   ],
   "source": [
    "sorted(bites, key=op.attrgetter('level'))"
   ]
  },
  {
   "cell_type": "code",
   "execution_count": 35,
   "metadata": {},
   "outputs": [],
   "source": [
    "from enum import IntEnum\n",
    "\n",
    "class BiteLevel(IntEnum):\n",
    "    INTRO = 1\n",
    "    BEGINNER = 2\n",
    "    INTERMEDIATE = 3\n",
    "    ADVANCED = 4"
   ]
  },
  {
   "cell_type": "code",
   "execution_count": 36,
   "metadata": {},
   "outputs": [],
   "source": [
    "bites = populate_bites()"
   ]
  },
  {
   "cell_type": "code",
   "execution_count": 37,
   "metadata": {},
   "outputs": [
    {
     "data": {
      "text/plain": [
       "[Bite(number=106, title='Strip out vowels and count the number of replacements', level=<BiteLevel.INTRO: 1>),\n",
       " Bite(number=21, title='Query a nested data structure', level=<BiteLevel.BEGINNER: 2>),\n",
       " Bite(number=1, title='Sum of numbers', level=<BiteLevel.BEGINNER: 2>),\n",
       " Bite(number=25, title='No promo twice, keep state in a class', level=<BiteLevel.INTERMEDIATE: 3>),\n",
       " Bite(number=2, title='Regex Fun', level=<BiteLevel.ADVANCED: 4>),\n",
       " Bite(number=11, title='Enrich a class with dunder methods', level=<BiteLevel.ADVANCED: 4>)]"
      ]
     },
     "execution_count": 37,
     "metadata": {},
     "output_type": "execute_result"
    }
   ],
   "source": [
    "sorted(bites, key=op.attrgetter('level'))"
   ]
  },
  {
   "cell_type": "code",
   "execution_count": null,
   "metadata": {},
   "outputs": [],
   "source": []
  }
 ],
 "metadata": {
  "kernelspec": {
   "display_name": "Downloads-venv-3.9",
   "language": "python",
   "name": "venv"
  },
  "language_info": {
   "codemirror_mode": {
    "name": "ipython",
    "version": 3
   },
   "file_extension": ".py",
   "mimetype": "text/x-python",
   "name": "python",
   "nbconvert_exporter": "python",
   "pygments_lexer": "ipython3",
   "version": "3.9.0"
  }
 },
 "nbformat": 4,
 "nbformat_minor": 2
}
