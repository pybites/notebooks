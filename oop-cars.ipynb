{
 "cells": [
  {
   "cell_type": "code",
   "execution_count": 1,
   "metadata": {},
   "outputs": [],
   "source": [
    "# https://mockaroo.com\n",
    "data = \"\"\"make\tmodel\tyear\tvin\n",
    "Lincoln\tMark VII\t1984\tJTEBU4BF1CK851704\n",
    "Chevrolet\tG-Series G20\t1995\t2HNYD2H81CH512633\n",
    "Pontiac\tGrand Am\t2003\t2B3CA5CT8AH962283\n",
    "Chevrolet\tMetro\t2000\t3VW507AT4FM099500\n",
    "Audi\tA4\t2007\t2C3CCAEG5EH186769\n",
    "Chrysler\tPT Cruiser\t2002\tWBANF73546C868074\n",
    "Toyota\tPrevia\t1991\tSAJWA8JH3EM613788\n",
    "Toyota\tRAV4\t2012\tWAUSFAFL5BA091873\n",
    "Volkswagen\tPassat\t2010\t2HNYD18846H074639\n",
    "Suzuki\tEsteem\t1999\t3GYFNFE37CS914822\n",
    "\"\"\""
   ]
  },
  {
   "cell_type": "code",
   "execution_count": 2,
   "metadata": {},
   "outputs": [
    {
     "data": {
      "text/plain": [
       "['Lincoln\\tMark VII\\t1984\\tJTEBU4BF1CK851704',\n",
       " 'Chevrolet\\tG-Series G20\\t1995\\t2HNYD2H81CH512633',\n",
       " 'Pontiac\\tGrand Am\\t2003\\t2B3CA5CT8AH962283',\n",
       " 'Chevrolet\\tMetro\\t2000\\t3VW507AT4FM099500',\n",
       " 'Audi\\tA4\\t2007\\t2C3CCAEG5EH186769',\n",
       " 'Chrysler\\tPT Cruiser\\t2002\\tWBANF73546C868074',\n",
       " 'Toyota\\tPrevia\\t1991\\tSAJWA8JH3EM613788',\n",
       " 'Toyota\\tRAV4\\t2012\\tWAUSFAFL5BA091873',\n",
       " 'Volkswagen\\tPassat\\t2010\\t2HNYD18846H074639',\n",
       " 'Suzuki\\tEsteem\\t1999\\t3GYFNFE37CS914822']"
      ]
     },
     "execution_count": 2,
     "metadata": {},
     "output_type": "execute_result"
    }
   ],
   "source": [
    "data.splitlines()[1:]"
   ]
  },
  {
   "cell_type": "markdown",
   "metadata": {},
   "source": [
    "## Classes, no behavior"
   ]
  },
  {
   "cell_type": "code",
   "execution_count": 3,
   "metadata": {},
   "outputs": [],
   "source": [
    "from collections import namedtuple"
   ]
  },
  {
   "cell_type": "code",
   "execution_count": 4,
   "metadata": {},
   "outputs": [],
   "source": [
    "Car = namedtuple('Car', 'make model year vin')"
   ]
  },
  {
   "cell_type": "code",
   "execution_count": 5,
   "metadata": {},
   "outputs": [],
   "source": [
    "cars = []\n",
    "for row in data.splitlines()[1:]:\n",
    "    cars.append(\n",
    "        Car(*row.split(\"\\t\"))\n",
    "    )"
   ]
  },
  {
   "cell_type": "code",
   "execution_count": 6,
   "metadata": {},
   "outputs": [
    {
     "data": {
      "text/plain": [
       "[Car(make='Lincoln', model='Mark VII', year='1984', vin='JTEBU4BF1CK851704'),\n",
       " Car(make='Chevrolet', model='G-Series G20', year='1995', vin='2HNYD2H81CH512633'),\n",
       " Car(make='Pontiac', model='Grand Am', year='2003', vin='2B3CA5CT8AH962283'),\n",
       " Car(make='Chevrolet', model='Metro', year='2000', vin='3VW507AT4FM099500'),\n",
       " Car(make='Audi', model='A4', year='2007', vin='2C3CCAEG5EH186769'),\n",
       " Car(make='Chrysler', model='PT Cruiser', year='2002', vin='WBANF73546C868074'),\n",
       " Car(make='Toyota', model='Previa', year='1991', vin='SAJWA8JH3EM613788'),\n",
       " Car(make='Toyota', model='RAV4', year='2012', vin='WAUSFAFL5BA091873'),\n",
       " Car(make='Volkswagen', model='Passat', year='2010', vin='2HNYD18846H074639'),\n",
       " Car(make='Suzuki', model='Esteem', year='1999', vin='3GYFNFE37CS914822')]"
      ]
     },
     "execution_count": 6,
     "metadata": {},
     "output_type": "execute_result"
    }
   ],
   "source": [
    "cars"
   ]
  },
  {
   "cell_type": "code",
   "execution_count": 7,
   "metadata": {},
   "outputs": [],
   "source": [
    "first_car = cars[0]"
   ]
  },
  {
   "cell_type": "code",
   "execution_count": 10,
   "metadata": {},
   "outputs": [
    {
     "data": {
      "text/plain": [
       "\"Car(make='Lincoln', model='Mark VII', year='1984', vin='JTEBU4BF1CK851704')\""
      ]
     },
     "execution_count": 10,
     "metadata": {},
     "output_type": "execute_result"
    }
   ],
   "source": [
    "str(first_car)"
   ]
  },
  {
   "cell_type": "code",
   "execution_count": 11,
   "metadata": {},
   "outputs": [
    {
     "data": {
      "text/plain": [
       "'Lincoln'"
      ]
     },
     "execution_count": 11,
     "metadata": {},
     "output_type": "execute_result"
    }
   ],
   "source": [
    "first_car.make"
   ]
  },
  {
   "cell_type": "code",
   "execution_count": 12,
   "metadata": {},
   "outputs": [
    {
     "data": {
      "text/plain": [
       "'Mark VII'"
      ]
     },
     "execution_count": 12,
     "metadata": {},
     "output_type": "execute_result"
    }
   ],
   "source": [
    "first_car.model"
   ]
  },
  {
   "cell_type": "code",
   "execution_count": 13,
   "metadata": {},
   "outputs": [
    {
     "data": {
      "text/plain": [
       "'1984'"
      ]
     },
     "execution_count": 13,
     "metadata": {},
     "output_type": "execute_result"
    }
   ],
   "source": [
    "first_car.year"
   ]
  },
  {
   "cell_type": "code",
   "execution_count": 14,
   "metadata": {},
   "outputs": [
    {
     "data": {
      "text/plain": [
       "'JTEBU4BF1CK851704'"
      ]
     },
     "execution_count": 14,
     "metadata": {},
     "output_type": "execute_result"
    }
   ],
   "source": [
    "first_car.vin"
   ]
  },
  {
   "cell_type": "code",
   "execution_count": 15,
   "metadata": {},
   "outputs": [
    {
     "data": {
      "text/plain": [
       "Car(make='Toyota', model='RAV4', year='2012', vin='WAUSFAFL5BA091873')"
      ]
     },
     "execution_count": 15,
     "metadata": {},
     "output_type": "execute_result"
    }
   ],
   "source": [
    "max(cars, key=lambda car: car.year)"
   ]
  },
  {
   "cell_type": "code",
   "execution_count": 16,
   "metadata": {},
   "outputs": [
    {
     "data": {
      "text/plain": [
       "[Car(make='Audi', model='A4', year='2007', vin='2C3CCAEG5EH186769'),\n",
       " Car(make='Suzuki', model='Esteem', year='1999', vin='3GYFNFE37CS914822'),\n",
       " Car(make='Chevrolet', model='G-Series G20', year='1995', vin='2HNYD2H81CH512633'),\n",
       " Car(make='Pontiac', model='Grand Am', year='2003', vin='2B3CA5CT8AH962283'),\n",
       " Car(make='Lincoln', model='Mark VII', year='1984', vin='JTEBU4BF1CK851704'),\n",
       " Car(make='Chevrolet', model='Metro', year='2000', vin='3VW507AT4FM099500'),\n",
       " Car(make='Chrysler', model='PT Cruiser', year='2002', vin='WBANF73546C868074'),\n",
       " Car(make='Volkswagen', model='Passat', year='2010', vin='2HNYD18846H074639'),\n",
       " Car(make='Toyota', model='Previa', year='1991', vin='SAJWA8JH3EM613788'),\n",
       " Car(make='Toyota', model='RAV4', year='2012', vin='WAUSFAFL5BA091873')]"
      ]
     },
     "execution_count": 16,
     "metadata": {},
     "output_type": "execute_result"
    }
   ],
   "source": [
    "sorted(cars, key=lambda car: (car.model, car.make))"
   ]
  },
  {
   "cell_type": "code",
   "execution_count": 17,
   "metadata": {},
   "outputs": [
    {
     "data": {
      "text/plain": [
       "\"Car(make='Lincoln', model='Mark VII', year='1984', vin='JTEBU4BF1CK851704')\""
      ]
     },
     "execution_count": 17,
     "metadata": {},
     "output_type": "execute_result"
    }
   ],
   "source": [
    "repr(first_car)"
   ]
  },
  {
   "cell_type": "code",
   "execution_count": 18,
   "metadata": {},
   "outputs": [
    {
     "data": {
      "text/plain": [
       "(__main__.Car, tuple, object)"
      ]
     },
     "execution_count": 18,
     "metadata": {},
     "output_type": "execute_result"
    }
   ],
   "source": [
    "Car.__mro__"
   ]
  },
  {
   "cell_type": "code",
   "execution_count": 24,
   "metadata": {},
   "outputs": [
    {
     "ename": "AttributeError",
     "evalue": "can't set attribute",
     "output_type": "error",
     "traceback": [
      "\u001b[0;31m---------------------------------------------------------------------------\u001b[0m",
      "\u001b[0;31mAttributeError\u001b[0m                            Traceback (most recent call last)",
      "\u001b[0;32m<ipython-input-24-eb256694a8a7>\u001b[0m in \u001b[0;36m<module>\u001b[0;34m\u001b[0m\n\u001b[0;32m----> 1\u001b[0;31m \u001b[0mfirst_car\u001b[0m\u001b[0;34m.\u001b[0m\u001b[0myear\u001b[0m \u001b[0;34m=\u001b[0m \u001b[0;36m2020\u001b[0m\u001b[0;34m\u001b[0m\u001b[0;34m\u001b[0m\u001b[0m\n\u001b[0m",
      "\u001b[0;31mAttributeError\u001b[0m: can't set attribute"
     ]
    }
   ],
   "source": [
    "first_car.year = 2020"
   ]
  },
  {
   "cell_type": "markdown",
   "metadata": {},
   "source": [
    "## Dataclasses - namedtuples on steriods?"
   ]
  },
  {
   "cell_type": "code",
   "execution_count": 195,
   "metadata": {},
   "outputs": [],
   "source": [
    "from dataclasses import dataclass, field\n",
    "\n",
    "@dataclass\n",
    "class Car:\n",
    "    make: str\n",
    "    model: str\n",
    "    year: int\n",
    "    vin: str = \"PB20161219\"\n",
    "        \n",
    "    def __post_init__(self):\n",
    "        self.year = int(self.year)\n",
    "        \n",
    "    def __str__(self):  # does not come with dataclasses\n",
    "        return f\"{self.make} - {self.model} ({self.year})\"\n",
    "    \n",
    "    # no need to write your __repr__"
   ]
  },
  {
   "cell_type": "code",
   "execution_count": 196,
   "metadata": {},
   "outputs": [],
   "source": [
    "cars = []\n",
    "for row in data.splitlines()[1:]:\n",
    "    cars.append(\n",
    "        Car(*row.split(\"\\t\"))\n",
    "    )"
   ]
  },
  {
   "cell_type": "code",
   "execution_count": 197,
   "metadata": {},
   "outputs": [
    {
     "data": {
      "text/plain": [
       "[Car(make='Lincoln', model='Mark VII', year=1984, vin='JTEBU4BF1CK851704'),\n",
       " Car(make='Chevrolet', model='G-Series G20', year=1995, vin='2HNYD2H81CH512633'),\n",
       " Car(make='Pontiac', model='Grand Am', year=2003, vin='2B3CA5CT8AH962283'),\n",
       " Car(make='Chevrolet', model='Metro', year=2000, vin='3VW507AT4FM099500'),\n",
       " Car(make='Audi', model='A4', year=2007, vin='2C3CCAEG5EH186769'),\n",
       " Car(make='Chrysler', model='PT Cruiser', year=2002, vin='WBANF73546C868074'),\n",
       " Car(make='Toyota', model='Previa', year=1991, vin='SAJWA8JH3EM613788'),\n",
       " Car(make='Toyota', model='RAV4', year=2012, vin='WAUSFAFL5BA091873'),\n",
       " Car(make='Volkswagen', model='Passat', year=2010, vin='2HNYD18846H074639'),\n",
       " Car(make='Suzuki', model='Esteem', year=1999, vin='3GYFNFE37CS914822')]"
      ]
     },
     "execution_count": 197,
     "metadata": {},
     "output_type": "execute_result"
    }
   ],
   "source": [
    "cars"
   ]
  },
  {
   "cell_type": "code",
   "execution_count": 198,
   "metadata": {},
   "outputs": [],
   "source": [
    "first_car = cars[0]"
   ]
  },
  {
   "cell_type": "code",
   "execution_count": 199,
   "metadata": {},
   "outputs": [
    {
     "data": {
      "text/plain": [
       "'Lincoln - Mark VII (1984)'"
      ]
     },
     "execution_count": 199,
     "metadata": {},
     "output_type": "execute_result"
    }
   ],
   "source": [
    "str(first_car)"
   ]
  },
  {
   "cell_type": "code",
   "execution_count": 200,
   "metadata": {},
   "outputs": [
    {
     "data": {
      "text/plain": [
       "\"Car(make='Lincoln', model='Mark VII', year=1984, vin='JTEBU4BF1CK851704')\""
      ]
     },
     "execution_count": 200,
     "metadata": {},
     "output_type": "execute_result"
    }
   ],
   "source": [
    "repr(first_car)"
   ]
  },
  {
   "cell_type": "code",
   "execution_count": 201,
   "metadata": {},
   "outputs": [
    {
     "data": {
      "text/plain": [
       "Car(make='Lincoln', model='Mark VII', year=1984, vin='JTEBU4BF1CK851704')"
      ]
     },
     "execution_count": 201,
     "metadata": {},
     "output_type": "execute_result"
    }
   ],
   "source": [
    "eval(repr(first_car))"
   ]
  },
  {
   "cell_type": "code",
   "execution_count": 202,
   "metadata": {},
   "outputs": [],
   "source": [
    "first_car.year = 2020   # dataclasses are mutable, but adding frozen=True to @dataclass will make them immutable"
   ]
  },
  {
   "cell_type": "code",
   "execution_count": 203,
   "metadata": {},
   "outputs": [
    {
     "data": {
      "text/plain": [
       "Car(make='Lincoln', model='Mark VII', year=2020, vin='JTEBU4BF1CK851704')"
      ]
     },
     "execution_count": 203,
     "metadata": {},
     "output_type": "execute_result"
    }
   ],
   "source": [
    "max(cars, key=lambda car: car.year)"
   ]
  },
  {
   "cell_type": "code",
   "execution_count": 204,
   "metadata": {},
   "outputs": [
    {
     "data": {
      "text/plain": [
       "Car(make='Ford', model='F150', year=1992, vin='PB20161219')"
      ]
     },
     "execution_count": 204,
     "metadata": {},
     "output_type": "execute_result"
    }
   ],
   "source": [
    "Car(make='Ford', model='F150', year=1992)  # default VIN"
   ]
  },
  {
   "cell_type": "markdown",
   "metadata": {},
   "source": [
    "## Basic class + property"
   ]
  },
  {
   "cell_type": "code",
   "execution_count": 212,
   "metadata": {},
   "outputs": [],
   "source": [
    "OIL_CHECK_LIMIT = 10000\n",
    "\n",
    "\n",
    "class Car:\n",
    "        \n",
    "    def __init__(self, make, model, year):\n",
    "        self.make = make\n",
    "        self.model = model\n",
    "        self.year = int(year)\n",
    "        self.mileage = 0\n",
    "        self.oil_changed = 0\n",
    "        \n",
    "    def __str__(self):\n",
    "        return f\"{self.make} - {self.model} ({self.year})\"\n",
    "    \n",
    "    def drive(self, km):\n",
    "        self.mileage += km\n",
    "    \n",
    "    @property\n",
    "    def needs_oil_change(self):\n",
    "        return (self.mileage - self.oil_changed) > OIL_CHECK_LIMIT\n",
    "    \n",
    "    def change_oil(self):\n",
    "        self.oil_changed = self.mileage"
   ]
  },
  {
   "cell_type": "code",
   "execution_count": 213,
   "metadata": {},
   "outputs": [],
   "source": [
    "car = Car('Lincoln', 'Mark VII', 1984)"
   ]
  },
  {
   "cell_type": "code",
   "execution_count": 214,
   "metadata": {},
   "outputs": [
    {
     "data": {
      "text/plain": [
       "0"
      ]
     },
     "execution_count": 214,
     "metadata": {},
     "output_type": "execute_result"
    }
   ],
   "source": [
    "car.mileage"
   ]
  },
  {
   "cell_type": "code",
   "execution_count": 215,
   "metadata": {},
   "outputs": [],
   "source": [
    "car.drive(10)"
   ]
  },
  {
   "cell_type": "code",
   "execution_count": 216,
   "metadata": {},
   "outputs": [
    {
     "data": {
      "text/plain": [
       "10"
      ]
     },
     "execution_count": 216,
     "metadata": {},
     "output_type": "execute_result"
    }
   ],
   "source": [
    "car.mileage"
   ]
  },
  {
   "cell_type": "code",
   "execution_count": 217,
   "metadata": {},
   "outputs": [
    {
     "data": {
      "text/plain": [
       "False"
      ]
     },
     "execution_count": 217,
     "metadata": {},
     "output_type": "execute_result"
    }
   ],
   "source": [
    "car.needs_oil_change"
   ]
  },
  {
   "cell_type": "code",
   "execution_count": 218,
   "metadata": {},
   "outputs": [],
   "source": [
    "car.drive(10000)"
   ]
  },
  {
   "cell_type": "code",
   "execution_count": 219,
   "metadata": {},
   "outputs": [
    {
     "data": {
      "text/plain": [
       "True"
      ]
     },
     "execution_count": 219,
     "metadata": {},
     "output_type": "execute_result"
    }
   ],
   "source": [
    "car.needs_oil_change"
   ]
  },
  {
   "cell_type": "code",
   "execution_count": 220,
   "metadata": {},
   "outputs": [],
   "source": [
    "car.change_oil()"
   ]
  },
  {
   "cell_type": "code",
   "execution_count": 221,
   "metadata": {},
   "outputs": [
    {
     "data": {
      "text/plain": [
       "10010"
      ]
     },
     "execution_count": 221,
     "metadata": {},
     "output_type": "execute_result"
    }
   ],
   "source": [
    "car.mileage"
   ]
  },
  {
   "cell_type": "code",
   "execution_count": 222,
   "metadata": {},
   "outputs": [
    {
     "data": {
      "text/plain": [
       "10010"
      ]
     },
     "execution_count": 222,
     "metadata": {},
     "output_type": "execute_result"
    }
   ],
   "source": [
    "car.oil_changed"
   ]
  },
  {
   "cell_type": "code",
   "execution_count": 223,
   "metadata": {},
   "outputs": [
    {
     "data": {
      "text/plain": [
       "False"
      ]
     },
     "execution_count": 223,
     "metadata": {},
     "output_type": "execute_result"
    }
   ],
   "source": [
    "car.needs_oil_change"
   ]
  },
  {
   "cell_type": "markdown",
   "metadata": {},
   "source": [
    "Simple class article -> https://pybit.es/python-classes.html"
   ]
  },
  {
   "cell_type": "markdown",
   "metadata": {},
   "source": [
    "## Add some dunders"
   ]
  },
  {
   "cell_type": "code",
   "execution_count": 224,
   "metadata": {},
   "outputs": [],
   "source": [
    "car2 = Car(make='Chevrolet', model='Metro', year=2000)"
   ]
  },
  {
   "cell_type": "code",
   "execution_count": 225,
   "metadata": {},
   "outputs": [
    {
     "ename": "TypeError",
     "evalue": "'>' not supported between instances of 'Car' and 'Car'",
     "output_type": "error",
     "traceback": [
      "\u001b[0;31m---------------------------------------------------------------------------\u001b[0m",
      "\u001b[0;31mTypeError\u001b[0m                                 Traceback (most recent call last)",
      "\u001b[0;32m<ipython-input-225-b9556ae56d61>\u001b[0m in \u001b[0;36m<module>\u001b[0;34m\u001b[0m\n\u001b[0;32m----> 1\u001b[0;31m \u001b[0mcar\u001b[0m \u001b[0;34m>\u001b[0m \u001b[0mcar2\u001b[0m\u001b[0;34m\u001b[0m\u001b[0;34m\u001b[0m\u001b[0m\n\u001b[0m",
      "\u001b[0;31mTypeError\u001b[0m: '>' not supported between instances of 'Car' and 'Car'"
     ]
    }
   ],
   "source": [
    "car > car2"
   ]
  },
  {
   "cell_type": "code",
   "execution_count": 254,
   "metadata": {},
   "outputs": [],
   "source": [
    "OIL_CHECK_LIMIT = 10000\n",
    "\n",
    "\n",
    "class Car:\n",
    "        \n",
    "    def __init__(self, make, model, year):\n",
    "        self.make = make\n",
    "        self.model = model\n",
    "        self.year = int(year)\n",
    "        self.mileage = 0\n",
    "        self.oil_changed = 0\n",
    "        \n",
    "    def __str__(self):\n",
    "        return f\"{self.make} - {self.model} ({self.year})\"\n",
    "    \n",
    "    def drive(self, km):\n",
    "        self.mileage += km\n",
    "    \n",
    "    def __eq__(self, other):\n",
    "        return self.mileage == other.mileage\n",
    "    \n",
    "    def __lt__(self, other):\n",
    "        return self.mileage < other.mileage\n",
    "\n",
    "    @property\n",
    "    def needs_oil_change(self):\n",
    "        return (self.mileage - self.oil_changed) > OIL_CHECK_LIMIT\n",
    "    \n",
    "    def change_oil(self):\n",
    "        self.oil_changed = self.mileage"
   ]
  },
  {
   "cell_type": "code",
   "execution_count": 255,
   "metadata": {},
   "outputs": [],
   "source": [
    "car = Car('Lincoln', 'Mark VII', 1984)\n",
    "car2 = Car(make='Chevrolet', model='Metro', year=2000)"
   ]
  },
  {
   "cell_type": "code",
   "execution_count": 256,
   "metadata": {},
   "outputs": [
    {
     "data": {
      "text/plain": [
       "('Lincoln - Mark VII (1984)', 'Chevrolet - Metro (2000)')"
      ]
     },
     "execution_count": 256,
     "metadata": {},
     "output_type": "execute_result"
    }
   ],
   "source": [
    "str(car), str(car2)"
   ]
  },
  {
   "cell_type": "code",
   "execution_count": 257,
   "metadata": {},
   "outputs": [
    {
     "data": {
      "text/plain": [
       "True"
      ]
     },
     "execution_count": 257,
     "metadata": {},
     "output_type": "execute_result"
    }
   ],
   "source": [
    "car == car2"
   ]
  },
  {
   "cell_type": "code",
   "execution_count": 258,
   "metadata": {},
   "outputs": [],
   "source": [
    "car.drive(10)"
   ]
  },
  {
   "cell_type": "code",
   "execution_count": 259,
   "metadata": {},
   "outputs": [],
   "source": [
    "car.drive(20)"
   ]
  },
  {
   "cell_type": "code",
   "execution_count": 260,
   "metadata": {},
   "outputs": [],
   "source": [
    "car2.drive(40)"
   ]
  },
  {
   "cell_type": "code",
   "execution_count": 261,
   "metadata": {},
   "outputs": [
    {
     "data": {
      "text/plain": [
       "True"
      ]
     },
     "execution_count": 261,
     "metadata": {},
     "output_type": "execute_result"
    }
   ],
   "source": [
    "car2 > car"
   ]
  },
  {
   "cell_type": "markdown",
   "metadata": {},
   "source": [
    "More dunders -> https://dbader.org/blog/python-dunder-methods"
   ]
  },
  {
   "cell_type": "markdown",
   "metadata": {},
   "source": [
    "## Inheritance"
   ]
  },
  {
   "cell_type": "code",
   "execution_count": 263,
   "metadata": {},
   "outputs": [],
   "source": [
    "class CoolCar(Car):\n",
    "    \n",
    "    def __init__(self, *args, **kwargs):\n",
    "        super().__init__(*args, **kwargs)\n",
    "        \n",
    "    def drive_back_and_forth(self, km):\n",
    "        self.drive(km * 2)"
   ]
  },
  {
   "cell_type": "code",
   "execution_count": 264,
   "metadata": {},
   "outputs": [],
   "source": [
    "car3 = CoolCar(make='Audi', model='A4', year=2007)"
   ]
  },
  {
   "cell_type": "code",
   "execution_count": 265,
   "metadata": {},
   "outputs": [],
   "source": [
    "car3.drive(10)"
   ]
  },
  {
   "cell_type": "code",
   "execution_count": 266,
   "metadata": {},
   "outputs": [
    {
     "data": {
      "text/plain": [
       "10"
      ]
     },
     "execution_count": 266,
     "metadata": {},
     "output_type": "execute_result"
    }
   ],
   "source": [
    "car3.mileage"
   ]
  },
  {
   "cell_type": "code",
   "execution_count": 267,
   "metadata": {},
   "outputs": [],
   "source": [
    "car3.drive_back_and_forth(20)"
   ]
  },
  {
   "cell_type": "code",
   "execution_count": 268,
   "metadata": {},
   "outputs": [
    {
     "data": {
      "text/plain": [
       "50"
      ]
     },
     "execution_count": 268,
     "metadata": {},
     "output_type": "execute_result"
    }
   ],
   "source": [
    "car3.mileage"
   ]
  },
  {
   "cell_type": "markdown",
   "metadata": {},
   "source": [
    "Another simple example is defining your own exceptions:"
   ]
  },
  {
   "cell_type": "code",
   "execution_count": 12,
   "metadata": {},
   "outputs": [],
   "source": [
    "class MyException(ValueError):\n",
    "    pass"
   ]
  },
  {
   "cell_type": "markdown",
   "metadata": {},
   "source": [
    "## Abstract base classes (ABC's)"
   ]
  },
  {
   "cell_type": "code",
   "execution_count": 269,
   "metadata": {},
   "outputs": [],
   "source": [
    "from abc import ABCMeta, abstractmethod\n",
    "\n",
    "class Developer(metaclass=ABCMeta):\n",
    "    \n",
    "    @abstractmethod\n",
    "    def get_post_days(self):\n",
    "        \"\"\"Classes that inherit from Developer need to implement this method\"\"\"\n",
    "        pass\n",
    "    \n",
    "    def __str__(self):\n",
    "        return self.__class__.__name__"
   ]
  },
  {
   "cell_type": "code",
   "execution_count": 270,
   "metadata": {},
   "outputs": [
    {
     "ename": "TypeError",
     "evalue": "Can't instantiate abstract class Julian with abstract methods get_post_days",
     "output_type": "error",
     "traceback": [
      "\u001b[0;31m---------------------------------------------------------------------------\u001b[0m",
      "\u001b[0;31mTypeError\u001b[0m                                 Traceback (most recent call last)",
      "\u001b[0;32m<ipython-input-270-398cb51d95c2>\u001b[0m in \u001b[0;36m<module>\u001b[0;34m\u001b[0m\n\u001b[1;32m      3\u001b[0m \u001b[0;34m\u001b[0m\u001b[0m\n\u001b[1;32m      4\u001b[0m \u001b[0;31m# oops, did not implement get_post_days()\u001b[0m\u001b[0;34m\u001b[0m\u001b[0;34m\u001b[0m\u001b[0;34m\u001b[0m\u001b[0m\n\u001b[0;32m----> 5\u001b[0;31m \u001b[0mjul\u001b[0m \u001b[0;34m=\u001b[0m \u001b[0mJulian\u001b[0m\u001b[0;34m(\u001b[0m\u001b[0;34m)\u001b[0m\u001b[0;34m\u001b[0m\u001b[0;34m\u001b[0m\u001b[0m\n\u001b[0m",
      "\u001b[0;31mTypeError\u001b[0m: Can't instantiate abstract class Julian with abstract methods get_post_days"
     ]
    }
   ],
   "source": [
    "class Julian(Developer):\n",
    "    pass\n",
    "\n",
    "# oops, did not implement get_post_days()\n",
    "jul = Julian()"
   ]
  },
  {
   "cell_type": "code",
   "execution_count": 271,
   "metadata": {},
   "outputs": [],
   "source": [
    "class Julian(Developer):\n",
    "    \n",
    "    def get_post_days(self):\n",
    "        return 'Tue Wed'.split()\n",
    "\n",
    "# ok\n",
    "julian = Julian()"
   ]
  },
  {
   "cell_type": "code",
   "execution_count": null,
   "metadata": {},
   "outputs": [],
   "source": []
  },
  {
   "cell_type": "markdown",
   "metadata": {},
   "source": [
    "Practice OOP -> https://codechalleng.es/bites/paths/oop"
   ]
  },
  {
   "cell_type": "markdown",
   "metadata": {},
   "source": [
    "## class- and static methods"
   ]
  },
  {
   "cell_type": "markdown",
   "metadata": {},
   "source": [
    "classmethods can be used as factory methods = for creating other objects (alternate constructors)"
   ]
  },
  {
   "cell_type": "code",
   "execution_count": null,
   "metadata": {},
   "outputs": [],
   "source": []
  },
  {
   "cell_type": "code",
   "execution_count": 3,
   "metadata": {},
   "outputs": [],
   "source": [
    "class Car:\n",
    "        \n",
    "    def __init__(self, make, model, year):\n",
    "        self.make = make\n",
    "        self.model = model\n",
    "        self.year = int(year)\n",
    "        \n",
    "    def __str__(self):\n",
    "        return f\"{self.make} - {self.model} ({self.year})\"\n",
    "    \n",
    "    @classmethod\n",
    "    def high_end(cls):\n",
    "        return cls(\"BMW\", \"X7\", 2020)"
   ]
  },
  {
   "cell_type": "code",
   "execution_count": 6,
   "metadata": {},
   "outputs": [],
   "source": [
    "car = Car.high_end()"
   ]
  },
  {
   "cell_type": "code",
   "execution_count": 7,
   "metadata": {},
   "outputs": [
    {
     "data": {
      "text/plain": [
       "'BMW - X7 (2020)'"
      ]
     },
     "execution_count": 7,
     "metadata": {},
     "output_type": "execute_result"
    }
   ],
   "source": [
    "str(car)"
   ]
  },
  {
   "cell_type": "code",
   "execution_count": 1,
   "metadata": {},
   "outputs": [],
   "source": [
    "class Car:\n",
    "    ...\n",
    "    @staticmethod\n",
    "    def my_function(arg1, arg2):  # no self\n",
    "        pass"
   ]
  },
  {
   "cell_type": "markdown",
   "metadata": {},
   "source": [
    "I have not found a use case over plain functions - https://stackoverflow.com/a/735978 / I guess the only argument to make is that they would be grouped with the code in the class."
   ]
  },
  {
   "cell_type": "code",
   "execution_count": 8,
   "metadata": {},
   "outputs": [],
   "source": [
    "# outside the class\n",
    "def my_function(arg1, arg2):\n",
    "    pass"
   ]
  },
  {
   "cell_type": "markdown",
   "metadata": {},
   "source": [
    "## Polymorphism\n",
    "\n",
    "= use of a single type entity (method, operator or object) to represent different types in different scenarios.  \n"
   ]
  },
  {
   "cell_type": "code",
   "execution_count": 9,
   "metadata": {},
   "outputs": [
    {
     "data": {
      "text/plain": [
       "3"
      ]
     },
     "execution_count": 9,
     "metadata": {},
     "output_type": "execute_result"
    }
   ],
   "source": [
    "1+2"
   ]
  },
  {
   "cell_type": "code",
   "execution_count": 11,
   "metadata": {},
   "outputs": [
    {
     "data": {
      "text/plain": [
       "'ab'"
      ]
     },
     "execution_count": 11,
     "metadata": {},
     "output_type": "execute_result"
    }
   ],
   "source": [
    "'a'+'b'"
   ]
  },
  {
   "cell_type": "markdown",
   "metadata": {},
   "source": [
    "= same operation, different result (ints = sum / strings = concatenate)"
   ]
  },
  {
   "cell_type": "code",
   "execution_count": null,
   "metadata": {},
   "outputs": [],
   "source": []
  },
  {
   "cell_type": "code",
   "execution_count": null,
   "metadata": {},
   "outputs": [],
   "source": []
  },
  {
   "cell_type": "code",
   "execution_count": null,
   "metadata": {},
   "outputs": [],
   "source": []
  }
 ],
 "metadata": {
  "kernelspec": {
   "display_name": "Python 3",
   "language": "python",
   "name": "python3"
  },
  "language_info": {
   "codemirror_mode": {
    "name": "ipython",
    "version": 3
   },
   "file_extension": ".py",
   "mimetype": "text/x-python",
   "name": "python",
   "nbconvert_exporter": "python",
   "pygments_lexer": "ipython3",
   "version": "3.7.4"
  }
 },
 "nbformat": 4,
 "nbformat_minor": 2
}
