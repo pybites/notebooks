{
 "cells": [
  {
   "cell_type": "markdown",
   "metadata": {},
   "source": [
    "I created [this notebook](https://github.com/pybites/pybites.github.io-src/blob/master/content/oop_fun.ipynb) on OOP (object oriented programming) in Python. "
   ]
  },
  {
   "cell_type": "markdown",
   "metadata": {},
   "source": [
    "## Basics: classes, instances, class vs instance variables"
   ]
  },
  {
   "cell_type": "code",
   "execution_count": 1,
   "metadata": {
    "collapsed": false
   },
   "outputs": [],
   "source": [
    "class Blog(object):\n",
    "    \"\"\"Good practice (py3) is to explicitly inherit from object\"\"\"\n",
    "\n",
    "    # class variable = shared among instances\n",
    "    num_blogs = 0\n",
    "\n",
    "    def __init__(self, name, bio):\n",
    "        \"\"\"The constructor, gets called implicitly when instantiating a new object (next cell)\"\"\"\n",
    "        self.name = name\n",
    "        self.bio = bio\n",
    "        Blog.num_blogs += 1  # we access a class variable like this (or use a class method)\n",
    "    \n",
    "    def get_articles(self, rss):\n",
    "        \"\"\"Get all articles from RSS\"\"\"\n",
    "        print('Articles {}: ...'.format(rss))\n",
    "\n",
    "    def post_article(self, title):\n",
    "        \"\"\"Add a new article\"\"\"\n",
    "        print('Posted new article: {}'.format(title))\n",
    "    \n",
    "    def __str__(self):\n",
    "        \"\"\"Informal or nicely printable string representation of an object\"\"\"\n",
    "        return '{}: {}'.format(self.name, self.bio)"
   ]
  },
  {
   "cell_type": "code",
   "execution_count": 2,
   "metadata": {
    "collapsed": false
   },
   "outputs": [],
   "source": [
    "name = 'PyBites'\n",
    "bio = 'Python code challenges, tutorials and news, one bite a day'\n",
    "blog = Blog(name, bio)"
   ]
  },
  {
   "cell_type": "code",
   "execution_count": 3,
   "metadata": {
    "collapsed": false
   },
   "outputs": [
    {
     "data": {
      "text/plain": [
       "<__main__.Blog at 0x104400cf8>"
      ]
     },
     "execution_count": 3,
     "metadata": {},
     "output_type": "execute_result"
    }
   ],
   "source": [
    "blog"
   ]
  },
  {
   "cell_type": "code",
   "execution_count": 4,
   "metadata": {
    "collapsed": false
   },
   "outputs": [
    {
     "name": "stdout",
     "output_type": "stream",
     "text": [
      "PyBites: Python code challenges, tutorials and news, one bite a day\n"
     ]
    }
   ],
   "source": [
    "print(blog)  # invokes __str__"
   ]
  },
  {
   "cell_type": "code",
   "execution_count": 5,
   "metadata": {
    "collapsed": false
   },
   "outputs": [
    {
     "name": "stdout",
     "output_type": "stream",
     "text": [
      "Articles http://pybit.es/feeds/all.rss.xml: ...\n"
     ]
    }
   ],
   "source": [
    "blog.get_articles('http://pybit.es/feeds/all.rss.xml')"
   ]
  },
  {
   "cell_type": "code",
   "execution_count": 6,
   "metadata": {
    "collapsed": false
   },
   "outputs": [
    {
     "name": "stdout",
     "output_type": "stream",
     "text": [
      "Posted new article: OOP fun with PyBites\n"
     ]
    }
   ],
   "source": [
    "blog.post_article('OOP fun with PyBites')"
   ]
  },
  {
   "cell_type": "code",
   "execution_count": 7,
   "metadata": {
    "collapsed": false
   },
   "outputs": [
    {
     "name": "stdout",
     "output_type": "stream",
     "text": [
      "1\n"
     ]
    }
   ],
   "source": [
    "print(blog.num_blogs)"
   ]
  },
  {
   "cell_type": "code",
   "execution_count": 8,
   "metadata": {
    "collapsed": true
   },
   "outputs": [],
   "source": [
    "blog2 = Blog('bobcodesit', 'my personal blog')"
   ]
  },
  {
   "cell_type": "code",
   "execution_count": 9,
   "metadata": {
    "collapsed": false
   },
   "outputs": [
    {
     "data": {
      "text/plain": [
       "<__main__.Blog at 0x10441b400>"
      ]
     },
     "execution_count": 9,
     "metadata": {},
     "output_type": "execute_result"
    }
   ],
   "source": [
    "blog2"
   ]
  },
  {
   "cell_type": "code",
   "execution_count": 10,
   "metadata": {
    "collapsed": false
   },
   "outputs": [
    {
     "data": {
      "text/plain": [
       "False"
      ]
     },
     "execution_count": 10,
     "metadata": {},
     "output_type": "execute_result"
    }
   ],
   "source": [
    "blog == blog2"
   ]
  },
  {
   "cell_type": "code",
   "execution_count": 11,
   "metadata": {
    "collapsed": false
   },
   "outputs": [
    {
     "name": "stdout",
     "output_type": "stream",
     "text": [
      "2\n"
     ]
    }
   ],
   "source": [
    "print(blog.num_blogs)"
   ]
  },
  {
   "cell_type": "markdown",
   "metadata": {},
   "source": [
    "## Abstract base classes (ABC's)\n",
    "\n",
    "Let's create some developers to add to a blog.\n",
    "\n",
    "ABC's lets you force derived classes to implement certain behaviors / methods (tip from Dan Bader)"
   ]
  },
  {
   "cell_type": "code",
   "execution_count": 12,
   "metadata": {
    "collapsed": true
   },
   "outputs": [],
   "source": [
    "from abc import ABCMeta, abstractmethod\n",
    "\n",
    "class Developer(metaclass=ABCMeta):\n",
    "    \n",
    "    @abstractmethod\n",
    "    def get_post_days(self):\n",
    "        \"\"\"Classes that inherit from Developer need to implement this method\"\"\"\n",
    "        pass\n",
    "    \n",
    "    def __str__(self):\n",
    "        return self.__class__.__name__"
   ]
  },
  {
   "cell_type": "code",
   "execution_count": 14,
   "metadata": {
    "collapsed": false
   },
   "outputs": [
    {
     "ename": "TypeError",
     "evalue": "Can't instantiate abstract class Julian with abstract methods get_post_days",
     "output_type": "error",
     "traceback": [
      "\u001b[0;31m---------------------------------------------------------------------------\u001b[0m",
      "\u001b[0;31mTypeError\u001b[0m                                 Traceback (most recent call last)",
      "\u001b[0;32m<ipython-input-14-c75777ac51e6>\u001b[0m in \u001b[0;36m<module>\u001b[0;34m()\u001b[0m\n\u001b[1;32m      3\u001b[0m \u001b[0;34m\u001b[0m\u001b[0m\n\u001b[1;32m      4\u001b[0m \u001b[0;31m# oops, did not implement get_post_days()\u001b[0m\u001b[0;34m\u001b[0m\u001b[0;34m\u001b[0m\u001b[0m\n\u001b[0;32m----> 5\u001b[0;31m \u001b[0mjul\u001b[0m \u001b[0;34m=\u001b[0m \u001b[0mJulian\u001b[0m\u001b[0;34m(\u001b[0m\u001b[0;34m)\u001b[0m\u001b[0;34m\u001b[0m\u001b[0m\n\u001b[0m",
      "\u001b[0;31mTypeError\u001b[0m: Can't instantiate abstract class Julian with abstract methods get_post_days"
     ]
    }
   ],
   "source": [
    "class Julian(Developer):\n",
    "    pass\n",
    "\n",
    "# oops, did not implement get_post_days()\n",
    "jul = Julian()"
   ]
  },
  {
   "cell_type": "code",
   "execution_count": 15,
   "metadata": {
    "collapsed": true
   },
   "outputs": [],
   "source": [
    "class Julian(Developer):\n",
    "    \n",
    "    def get_post_days(self):\n",
    "        return 'Tue Wed'.split()\n",
    "\n",
    "# ok\n",
    "julian = Julian()"
   ]
  },
  {
   "cell_type": "code",
   "execution_count": 16,
   "metadata": {
    "collapsed": true
   },
   "outputs": [],
   "source": [
    "class Bob(Developer):\n",
    "    \n",
    "    def get_post_days(self):\n",
    "        return 'Wed Thurs'.split()\n",
    "    \n",
    "bob = Bob()"
   ]
  },
  {
   "cell_type": "code",
   "execution_count": 17,
   "metadata": {
    "collapsed": true
   },
   "outputs": [],
   "source": [
    "class PyBites(Developer):\n",
    "    \n",
    "    def get_post_days(self):\n",
    "        return 'Mon Fri Sat'.split()\n",
    "\n",
    "pybites = PyBites()"
   ]
  },
  {
   "cell_type": "markdown",
   "metadata": {},
   "source": [
    "## Inheritance and using objects inside objects"
   ]
  },
  {
   "cell_type": "code",
   "execution_count": 18,
   "metadata": {
    "collapsed": false
   },
   "outputs": [],
   "source": [
    "class PyBitesBlog(Blog):\n",
    "    \"\"\"PyBitesBlog inherits from parent class Blog\"\"\"\n",
    "    \n",
    "    def __init__(self, *args):\n",
    "        \"\"\"We get a variable-length argument list of developers\"\"\"\n",
    "        self.name = self.__class__.__name__  # how to get name of class 'PyBitesBlog' as string\n",
    "        self.bio = 'Python code challenges, tutorials and news, one bite a day'\n",
    "        self.developers = args\n",
    "        # pass name and bio to the parent class\n",
    "        # py2 requires longer syntax: super(PyBitesBlog, self).__init__\n",
    "        super().__init__(self.name, self.bio)\n",
    "        \n",
    "    def schedule(self):\n",
    "        \"\"\"Loop over all developer objects calling their get_post_days method\"\"\"\n",
    "        for dev in self.developers:\n",
    "            print('{}: {}'.format(dev, ', '.join(dev.get_post_days())))\n",
    "            \n",
    "    def __str__(self):\n",
    "        \"\"\"Use the parent __str__ adding something extra\"\"\"\n",
    "        return super().__str__() + '\\nAuthors: ' + ', '.join([str(dev) for dev in self.developers])"
   ]
  },
  {
   "cell_type": "code",
   "execution_count": 19,
   "metadata": {
    "collapsed": false
   },
   "outputs": [],
   "source": [
    "pyblog = PyBitesBlog(julian, bob, pybites)"
   ]
  },
  {
   "cell_type": "code",
   "execution_count": 20,
   "metadata": {
    "collapsed": false
   },
   "outputs": [
    {
     "name": "stdout",
     "output_type": "stream",
     "text": [
      "PyBitesBlog: Python code challenges, tutorials and news, one bite a day\n",
      "Authors: Julian, Bob, PyBites\n"
     ]
    }
   ],
   "source": [
    "print(pyblog)  # again call object's __str__"
   ]
  },
  {
   "cell_type": "code",
   "execution_count": 21,
   "metadata": {
    "collapsed": false
   },
   "outputs": [
    {
     "name": "stdout",
     "output_type": "stream",
     "text": [
      "Articles http://pybit.es/feeds/all.rss.xml: ...\n"
     ]
    }
   ],
   "source": [
    "pyblog.get_articles('http://pybit.es/feeds/all.rss.xml')  # inherited method from parent"
   ]
  },
  {
   "cell_type": "code",
   "execution_count": 22,
   "metadata": {
    "collapsed": false
   },
   "outputs": [
    {
     "name": "stdout",
     "output_type": "stream",
     "text": [
      "Julian: Tue, Wed\n",
      "Bob: Wed, Thurs\n",
      "PyBites: Mon, Fri, Sat\n"
     ]
    }
   ],
   "source": [
    "pyblog.schedule()"
   ]
  },
  {
   "cell_type": "markdown",
   "metadata": {},
   "source": [
    "and  this is ..."
   ]
  },
  {
   "cell_type": "markdown",
   "metadata": {},
   "source": [
    "## Polymorphism\n",
    "\n",
    "We call get_post_days() on every developer (instance), each one giving a different result. \n",
    "\n",
    "Good examples from stdlib are len (= \\_\\_len\\_\\_()) and + (= \\_\\_add\\_\\_()): they just do what you expect them to do for each type (as long as compatible):"
   ]
  },
  {
   "cell_type": "code",
   "execution_count": 23,
   "metadata": {
    "collapsed": true
   },
   "outputs": [],
   "source": [
    "s = 'a string'\n",
    "t = (0, 1)\n",
    "d = dict(zip([1,2,3], ['a','b','c']))"
   ]
  },
  {
   "cell_type": "code",
   "execution_count": 24,
   "metadata": {
    "collapsed": false
   },
   "outputs": [
    {
     "name": "stdout",
     "output_type": "stream",
     "text": [
      "len of a string (type <class 'str'>) = 8\n",
      "len of (0, 1) (type <class 'tuple'>) = 2\n",
      "len of {1: 'a', 2: 'b', 3: 'c'} (type <class 'dict'>) = 3\n"
     ]
    }
   ],
   "source": [
    "for var in (s, t, d): \n",
    "    print('len of {} (type {}) = {}'.format(var, type(var), len(var)))"
   ]
  },
  {
   "cell_type": "code",
   "execution_count": 25,
   "metadata": {
    "collapsed": false
   },
   "outputs": [
    {
     "name": "stdout",
     "output_type": "stream",
     "text": [
      "calling + on ('python', '123') yields python123 (type <class 'str'>)\n",
      "calling + on (3, 6) yields 9 (type <class 'int'>)\n",
      "calling + on ([1, 2, 3], [4, 5]) yields [1, 2, 3, 4, 5] (type <class 'list'>)\n"
     ]
    }
   ],
   "source": [
    "s = ('python', '123')\n",
    "i = (3, 6)\n",
    "lst = [1, 2, 3], [4, 5]\n",
    "\n",
    "for var in (s, i, lst):\n",
    "    res = var[0] + var[1]\n",
    "    print('calling + on {} yields {} (type {})'.format(var, res, type(res)))"
   ]
  },
  {
   "cell_type": "code",
   "execution_count": 26,
   "metadata": {
    "collapsed": false
   },
   "outputs": [
    {
     "ename": "TypeError",
     "evalue": "Can't convert 'int' object to str implicitly",
     "output_type": "error",
     "traceback": [
      "\u001b[0;31m---------------------------------------------------------------------------\u001b[0m",
      "\u001b[0;31mTypeError\u001b[0m                                 Traceback (most recent call last)",
      "\u001b[0;32m<ipython-input-26-008487ad9885>\u001b[0m in \u001b[0;36m<module>\u001b[0;34m()\u001b[0m\n\u001b[1;32m      1\u001b[0m \u001b[0;31m# ok cannot add str + int\u001b[0m\u001b[0;34m\u001b[0m\u001b[0;34m\u001b[0m\u001b[0m\n\u001b[0;32m----> 2\u001b[0;31m \u001b[0;34m'a'\u001b[0m \u001b[0;34m+\u001b[0m \u001b[0;36m1\u001b[0m\u001b[0;34m\u001b[0m\u001b[0m\n\u001b[0m",
      "\u001b[0;31mTypeError\u001b[0m: Can't convert 'int' object to str implicitly"
     ]
    }
   ],
   "source": [
    "# ok cannot add str + int\n",
    "'a' + 1"
   ]
  },
  {
   "cell_type": "code",
   "execution_count": 27,
   "metadata": {
    "collapsed": false
   },
   "outputs": [
    {
     "data": {
      "text/plain": [
       "'a1'"
      ]
     },
     "execution_count": 27,
     "metadata": {},
     "output_type": "execute_result"
    }
   ],
   "source": [
    "# but this works\n",
    "'a' + str(1)"
   ]
  },
  {
   "cell_type": "markdown",
   "metadata": {},
   "source": [
    "## Encapsulation\n",
    "\n",
    "http://stackoverflow.com/questions/26216563/how-to-do-encapsulation-in-python\n",
    "\n",
    "> Python has encapsulation - you are using it in your class.\n",
    "> \n",
    "> What it doesn't have is access control such as private and protected attributes. However, in Python, there is an attribute naming convention to denote private attributes by prefixing the attribute with one or two underscores, e.g:\n",
    "> \n",
    "> self._a\n",
    "> self.__a \n",
    "> A single underscore indicates to the user of a class that an attribute should be considered private to the class, and should not be accessed directly.\n",
    "> \n",
    "> A double underscore indicates the same, however, Python will mangle the attribute name somewhat to attempt to hide it.\n",
    "\n",
    "If you want getter / setter behavior look at the @property decorator:\n",
    "\n",
    "http://stackabuse.com/python-properties/\n",
    "\n",
    "> It is often considered best practice to create getters and setters for a class's public properties. Many languages allow you to implement this in different ways, either by using a function (like person.getName()), or by using a language-specific get or set construct. In Python, it is done using @property.\n"
   ]
  }
 ],
 "metadata": {
  "kernelspec": {
   "display_name": "jupyter3 Python 3",
   "language": "python",
   "name": "jupyter3 python 3"
  },
  "language_info": {
   "codemirror_mode": {
    "name": "ipython",
    "version": 3
   },
   "file_extension": ".py",
   "mimetype": "text/x-python",
   "name": "python",
   "nbconvert_exporter": "python",
   "pygments_lexer": "ipython3",
   "version": "3.5.1"
  }
 },
 "nbformat": 4,
 "nbformat_minor": 0
}
