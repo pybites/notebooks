{
 "cells": [
  {
   "cell_type": "markdown",
   "metadata": {},
   "source": [
    "# Collections module\n",
    "\n",
    "https://docs.python.org/3/library/collections.html"
   ]
  },
  {
   "cell_type": "code",
   "execution_count": 1,
   "metadata": {},
   "outputs": [],
   "source": [
    "from collections import namedtuple, deque, ChainMap, Counter, defaultdict \n",
    "import csv\n",
    "import random"
   ]
  },
  {
   "cell_type": "markdown",
   "metadata": {},
   "source": [
    "## namedtuple"
   ]
  },
  {
   "cell_type": "code",
   "execution_count": 2,
   "metadata": {},
   "outputs": [],
   "source": [
    "Comment = namedtuple(\"Comment\", \"text polarity\")"
   ]
  },
  {
   "cell_type": "code",
   "execution_count": 3,
   "metadata": {},
   "outputs": [],
   "source": [
    "comment = Comment(\"Nice Bite! Learned (once again) to always, always, always proof-read my code.\", 0.75)"
   ]
  },
  {
   "cell_type": "code",
   "execution_count": 4,
   "metadata": {},
   "outputs": [
    {
     "data": {
      "text/plain": [
       "('Nice Bite! Learned (once again) to always, always, always proof-read my code.',\n",
       " 0.75)"
      ]
     },
     "execution_count": 4,
     "metadata": {},
     "output_type": "execute_result"
    }
   ],
   "source": [
    "comment[0], comment[1]"
   ]
  },
  {
   "cell_type": "code",
   "execution_count": 5,
   "metadata": {},
   "outputs": [
    {
     "data": {
      "text/plain": [
       "('Nice Bite! Learned (once again) to always, always, always proof-read my code.',\n",
       " 0.75)"
      ]
     },
     "execution_count": 5,
     "metadata": {},
     "output_type": "execute_result"
    }
   ],
   "source": [
    "comment.text, comment.polarity"
   ]
  },
  {
   "cell_type": "markdown",
   "metadata": {},
   "source": [
    "## deque"
   ]
  },
  {
   "cell_type": "code",
   "execution_count": 6,
   "metadata": {},
   "outputs": [],
   "source": [
    "lst = list(range(10_000_000))\n",
    "deq = deque(range(10_000_000))\n",
    "\n",
    "def insert_and_delete(ds):\n",
    "    for _ in range(10):\n",
    "        index = random.choice(range(100))\n",
    "        ds.remove(index)\n",
    "        ds.insert(index, index)"
   ]
  },
  {
   "cell_type": "code",
   "execution_count": 7,
   "metadata": {},
   "outputs": [
    {
     "name": "stdout",
     "output_type": "stream",
     "text": [
      "157 ms ± 4.59 ms per loop (mean ± std. dev. of 7 runs, 10 loops each)\n"
     ]
    }
   ],
   "source": [
    "%timeit insert_and_delete(lst)"
   ]
  },
  {
   "cell_type": "code",
   "execution_count": 8,
   "metadata": {},
   "outputs": [
    {
     "name": "stdout",
     "output_type": "stream",
     "text": [
      "18.5 µs ± 404 ns per loop (mean ± std. dev. of 7 runs, 100000 loops each)\n"
     ]
    }
   ],
   "source": [
    "%timeit insert_and_delete(deq)"
   ]
  },
  {
   "cell_type": "code",
   "execution_count": 9,
   "metadata": {},
   "outputs": [],
   "source": [
    "deq = deque([4, 5, 6], maxlen=3)"
   ]
  },
  {
   "cell_type": "code",
   "execution_count": 10,
   "metadata": {},
   "outputs": [
    {
     "name": "stdout",
     "output_type": "stream",
     "text": [
      "0 deque([5, 6, 0], maxlen=3)\n",
      "1 deque([6, 0, 1], maxlen=3)\n",
      "2 deque([0, 1, 2], maxlen=3)\n",
      "3 deque([1, 2, 3], maxlen=3)\n",
      "4 deque([2, 3, 4], maxlen=3)\n"
     ]
    }
   ],
   "source": [
    "for i in range(5):\n",
    "    deq.append(i)\n",
    "    print(i, deq)"
   ]
  },
  {
   "cell_type": "markdown",
   "metadata": {},
   "source": [
    "## ChainMap"
   ]
  },
  {
   "cell_type": "code",
   "execution_count": 13,
   "metadata": {},
   "outputs": [],
   "source": [
    "cli_args = {}"
   ]
  },
  {
   "cell_type": "code",
   "execution_count": 14,
   "metadata": {},
   "outputs": [],
   "source": [
    "import os \n",
    "try:\n",
    "    del os.environ[\"color\"]\n",
    "except KeyError:\n",
    "    pass"
   ]
  },
  {
   "cell_type": "code",
   "execution_count": 15,
   "metadata": {},
   "outputs": [],
   "source": [
    "defaults = {'color': 'red'}"
   ]
  },
  {
   "cell_type": "code",
   "execution_count": 16,
   "metadata": {},
   "outputs": [],
   "source": [
    "combined = ChainMap(cli_args, os.environ, defaults)"
   ]
  },
  {
   "cell_type": "code",
   "execution_count": 17,
   "metadata": {},
   "outputs": [
    {
     "data": {
      "text/plain": [
       "'red'"
      ]
     },
     "execution_count": 17,
     "metadata": {},
     "output_type": "execute_result"
    }
   ],
   "source": [
    "combined['color']"
   ]
  },
  {
   "cell_type": "code",
   "execution_count": 18,
   "metadata": {},
   "outputs": [],
   "source": [
    "os.environ[\"color\"] = \"blue\""
   ]
  },
  {
   "cell_type": "code",
   "execution_count": 19,
   "metadata": {},
   "outputs": [],
   "source": [
    "combined = ChainMap(cli_args, os.environ, defaults)"
   ]
  },
  {
   "cell_type": "code",
   "execution_count": 20,
   "metadata": {},
   "outputs": [
    {
     "data": {
      "text/plain": [
       "'blue'"
      ]
     },
     "execution_count": 20,
     "metadata": {},
     "output_type": "execute_result"
    }
   ],
   "source": [
    "combined['color']"
   ]
  },
  {
   "cell_type": "code",
   "execution_count": 21,
   "metadata": {},
   "outputs": [],
   "source": [
    "cli_args = {\"color\": \"green\"}"
   ]
  },
  {
   "cell_type": "code",
   "execution_count": 22,
   "metadata": {},
   "outputs": [],
   "source": [
    "combined = ChainMap(cli_args, os.environ, defaults)"
   ]
  },
  {
   "cell_type": "code",
   "execution_count": 23,
   "metadata": {},
   "outputs": [
    {
     "data": {
      "text/plain": [
       "'green'"
      ]
     },
     "execution_count": 23,
     "metadata": {},
     "output_type": "execute_result"
    }
   ],
   "source": [
    "combined['color']"
   ]
  },
  {
   "cell_type": "markdown",
   "metadata": {},
   "source": [
    "## Counter"
   ]
  },
  {
   "cell_type": "code",
   "execution_count": 24,
   "metadata": {},
   "outputs": [],
   "source": [
    "text = \"\"\"\n",
    "Once a bounded length deque is full, when new items are added, a corresponding number of items are discarded from the opposite end. Bounded length deques provide functionality similar to the tail filter in Unix. They are also useful for tracking transactions and other pools of data where only the most recent activity is of interest.\n",
    "\"\"\""
   ]
  },
  {
   "cell_type": "code",
   "execution_count": 25,
   "metadata": {},
   "outputs": [],
   "source": [
    "cnt = Counter(text.strip().split())"
   ]
  },
  {
   "cell_type": "code",
   "execution_count": 26,
   "metadata": {},
   "outputs": [
    {
     "data": {
      "text/plain": [
       "[('are', 3),\n",
       " ('of', 3),\n",
       " ('the', 3),\n",
       " ('a', 2),\n",
       " ('length', 2),\n",
       " ('is', 2),\n",
       " ('items', 2),\n",
       " ('Once', 1),\n",
       " ('bounded', 1),\n",
       " ('deque', 1)]"
      ]
     },
     "execution_count": 26,
     "metadata": {},
     "output_type": "execute_result"
    }
   ],
   "source": [
    "cnt.most_common(10)"
   ]
  },
  {
   "cell_type": "code",
   "execution_count": 27,
   "metadata": {},
   "outputs": [],
   "source": [
    "more_text = \"Several mathematical operations are provided for combination of numbers\""
   ]
  },
  {
   "cell_type": "code",
   "execution_count": 28,
   "metadata": {},
   "outputs": [],
   "source": [
    "cnt2 = Counter(more_text.split())"
   ]
  },
  {
   "cell_type": "code",
   "execution_count": 29,
   "metadata": {},
   "outputs": [
    {
     "data": {
      "text/plain": [
       "[('Several', 1),\n",
       " ('mathematical', 1),\n",
       " ('operations', 1),\n",
       " ('are', 1),\n",
       " ('provided', 1),\n",
       " ('for', 1),\n",
       " ('combination', 1),\n",
       " ('of', 1),\n",
       " ('numbers', 1)]"
      ]
     },
     "execution_count": 29,
     "metadata": {},
     "output_type": "execute_result"
    }
   ],
   "source": [
    "cnt2.most_common()"
   ]
  },
  {
   "cell_type": "code",
   "execution_count": 30,
   "metadata": {},
   "outputs": [
    {
     "data": {
      "text/plain": [
       "[('are', 4),\n",
       " ('of', 4),\n",
       " ('the', 3),\n",
       " ('a', 2),\n",
       " ('length', 2),\n",
       " ('is', 2),\n",
       " ('items', 2),\n",
       " ('for', 2),\n",
       " ('Once', 1),\n",
       " ('bounded', 1)]"
      ]
     },
     "execution_count": 30,
     "metadata": {},
     "output_type": "execute_result"
    }
   ],
   "source": [
    "(cnt + cnt2).most_common(10)"
   ]
  },
  {
   "cell_type": "markdown",
   "metadata": {},
   "source": [
    "## defaultdict"
   ]
  },
  {
   "cell_type": "code",
   "execution_count": 31,
   "metadata": {},
   "outputs": [],
   "source": [
    "# docs example\n",
    "s = [('yellow', 1), ('blue', 2), ('yellow', 3), ('blue', 4), ('red', 1)]"
   ]
  },
  {
   "cell_type": "code",
   "execution_count": 37,
   "metadata": {},
   "outputs": [],
   "source": [
    "d = defaultdict(list)"
   ]
  },
  {
   "cell_type": "code",
   "execution_count": 38,
   "metadata": {},
   "outputs": [],
   "source": [
    "for k, v in s:\n",
    "    d[k].append(v)"
   ]
  },
  {
   "cell_type": "code",
   "execution_count": 39,
   "metadata": {},
   "outputs": [
    {
     "data": {
      "text/plain": [
       "defaultdict(list, {'yellow': [1, 3], 'blue': [2, 4], 'red': [1]})"
      ]
     },
     "execution_count": 39,
     "metadata": {},
     "output_type": "execute_result"
    }
   ],
   "source": [
    "d"
   ]
  },
  {
   "cell_type": "code",
   "execution_count": 40,
   "metadata": {},
   "outputs": [],
   "source": [
    "# nested example\n",
    "def get_num_words_spoken_by_character_per_episode(content):\n",
    "    \"\"\"Receives loaded csv content (str) and returns a dict of\n",
    "       keys=characters and values=Counter object,\n",
    "       which is a mapping of episode=>words spoken\"\"\"\n",
    "    reader = csv.DictReader(content.splitlines(), delimiter=',')\n",
    "\n",
    "    # nested collections: https://stackoverflow.com/a/5029958\n",
    "    words_spoken = defaultdict(lambda: Counter())\n",
    "\n",
    "    for row in reader:\n",
    "        episode = row['Episode']\n",
    "        character = row['Character']\n",
    "        words = row['Line'].rstrip().split()\n",
    "        words_spoken[character][episode] += len(words)\n",
    "\n",
    "    return words_spoken"
   ]
  },
  {
   "cell_type": "code",
   "execution_count": 41,
   "metadata": {},
   "outputs": [],
   "source": [
    "with open(\"southpark\") as f:\n",
    "    content = f.read()"
   ]
  },
  {
   "cell_type": "code",
   "execution_count": 42,
   "metadata": {},
   "outputs": [
    {
     "data": {
      "text/plain": [
       "333506"
      ]
     },
     "execution_count": 42,
     "metadata": {},
     "output_type": "execute_result"
    }
   ],
   "source": [
    "len(content)"
   ]
  },
  {
   "cell_type": "code",
   "execution_count": 43,
   "metadata": {},
   "outputs": [],
   "source": [
    "words = get_num_words_spoken_by_character_per_episode(content)"
   ]
  },
  {
   "cell_type": "code",
   "execution_count": 44,
   "metadata": {},
   "outputs": [
    {
     "data": {
      "text/plain": [
       "379"
      ]
     },
     "execution_count": 44,
     "metadata": {},
     "output_type": "execute_result"
    }
   ],
   "source": [
    "len(words)"
   ]
  },
  {
   "cell_type": "code",
   "execution_count": 45,
   "metadata": {},
   "outputs": [
    {
     "name": "stdout",
     "output_type": "stream",
     "text": [
      "defaultdict(<function get_num_words_spoken_by_character_per_episode.<locals>.<lambda> at 0x7f836e59bca0>,\n",
      "            {'A Boy': Counter({'12': 1}),\n",
      "             'A Politician': Counter({'14': 2}),\n",
      "             'A few Congressmen': Counter({'13': 5}),\n",
      "             'A man': Counter({'4': 7}),\n",
      "             'A voice': Counter({'14': 5}),\n",
      "             'Adults': Counter({'7': 7}),\n",
      "             'Afghan Boys': Counter({'9': 39}),\n",
      "             'Agent': Counter({'6': 30}),\n",
      "             'Agent 1': Counter({'11': 6}),\n",
      "             'Agent 2': Counter({'11': 5}),\n",
      "             'Agent 3': Counter({'11': 14}),\n",
      "             'Agent 4': Counter({'11': 18}),\n",
      "             'Agent 5': Counter({'11': 14}),\n",
      "             'Agent 6': Counter({'11': 23}),\n",
      "             'Aide': Counter({'3': 51}),\n",
      "             'Akmarh': Counter({'9': 157}),\n",
      "             'All': Counter({'5': 2, '1': 1}),\n",
      "             'All Three': Counter({'11': 3}),\n",
      "             'Anchor': Counter({'11': 57}),\n",
      "             'Anchor Tom': Counter({'1': 83}),\n",
      "             'Announcer': Counter({'11': 100,\n",
      "                                   '5': 56,\n",
      "                                   '1': 49,\n",
      "                                   '3': 25,\n",
      "                                   '6': 8}),\n",
      "             'Announcer 2': Counter({'5': 8}),\n",
      "             'Announcer 3': Counter({'5': 40}),\n",
      "             'Another Man': Counter({'2': 2}),\n",
      "             'Another boy': Counter({'4': 2}),\n",
      "             'Aslan': Counter({'12': 171}),\n",
      "             'Assistant': Counter({'7': 77, '6': 1}),\n",
      "             'Associate': Counter({'6': 11}),\n",
      "             'Attendant': Counter({'14': 3}),\n",
      "             'Audience': Counter({'5': 4, '10': 1}),\n",
      "             'Bailiff': Counter({'2': 2}),\n",
      "             'Bald Knight': Counter({'1': 9}),\n",
      "             'Banker': Counter({'6': 23}),\n",
      "             'Bar Patrons': Counter({'1': 1, '12': 1}),\n",
      "             'Barbardy': Counter({'1': 6}),\n",
      "             'Barber': Counter({'3': 11}),\n",
      "             'Barbrady': Counter({'14': 33}),\n",
      "             'Barkeep': Counter({'12': 18}),\n",
      "             'Barker': Counter({'1': 157}),\n",
      "             'Bebe': Counter({'7': 41}),\n",
      "             'Ben Affleck': Counter({'10': 2}),\n",
      "             'Big Gay Al': Counter({'2': 525}),\n",
      "             'Bill Cosby': Counter({'12': 8}),\n",
      "             'Bill Gates': Counter({'11': 19}),\n",
      "             'Blaine': Counter({'3': 304}),\n",
      "             'Blaintologist': Counter({'3': 21}),\n",
      "             'Blond Knight': Counter({'1': 19}),\n",
      "             'Blond Man': Counter({'9': 4}),\n",
      "             'Bob': Counter({'12': 113, '13': 27}),\n",
      "             'Both': Counter({'5': 1}),\n",
      "             'Both Kyles': Counter({'11': 1}),\n",
      "             'Bouncer': Counter({'5': 40}),\n",
      "             'Boy': Counter({'6': 11, '7': 2}),\n",
      "             'Boy 2': Counter({'7': 2}),\n",
      "             'Boy in Blue Vest': Counter({'9': 117}),\n",
      "             'Boy in glasses': Counter({'5': 6}),\n",
      "             'Boys': Counter({'2': 13, '7': 9, '8': 5, '9': 1}),\n",
      "             'Broker': Counter({'6': 37}),\n",
      "             'Brunet Man': Counter({'9': 3}),\n",
      "             'Buddha': Counter({'3': 39}),\n",
      "             'Buddy 1': Counter({'4': 7}),\n",
      "             'Buddy 2': Counter({'4': 21}),\n",
      "             'Butters': Counter({'14': 1259,\n",
      "                                 '7': 189,\n",
      "                                 '10': 188,\n",
      "                                 '13': 125,\n",
      "                                 '2': 77,\n",
      "                                 '3': 77,\n",
      "                                 '12': 61,\n",
      "                                 '1': 52,\n",
      "                                 '9': 45,\n",
      "                                 '6': 37,\n",
      "                                 '5': 10,\n",
      "                                 '4': 6}),\n",
      "             'Cameraman': Counter({'9': 2}),\n",
      "             'Captain': Counter({'1': 62}),\n",
      "             'Carl': Counter({'5': 12, '12': 9}),\n",
      "             'Carol': Counter({'3': 10}),\n",
      "             'Cartman': Counter({'4': 2012,\n",
      "                                 '6': 1352,\n",
      "                                 '13': 1247,\n",
      "                                 '10': 747,\n",
      "                                 '9': 458,\n",
      "                                 '1': 441,\n",
      "                                 '3': 411,\n",
      "                                 '8': 329,\n",
      "                                 '7': 288,\n",
      "                                 '11': 265,\n",
      "                                 '12': 241,\n",
      "                                 '5': 134,\n",
      "                                 '2': 113,\n",
      "                                 '14': 4}),\n",
      "             'Cartman, Kyle': Counter({'5': 1}),\n",
      "             'Cartman, Kyle, Kenny': Counter({'5': 1}),\n",
      "             'Chef': Counter({'1': 314,\n",
      "                              '7': 218,\n",
      "                              '13': 186,\n",
      "                              '12': 40,\n",
      "                              '4': 22}),\n",
      "             'Chef and Principle Victoria': Counter({'1': 1}),\n",
      "             'Cher': Counter({'5': 15}),\n",
      "             'Chief Justice': Counter({'2': 63}),\n",
      "             'Choir': Counter({'14': 129}),\n",
      "             'Chris': Counter({'14': 946, '6': 11}),\n",
      "             'Class': Counter({'5': 2}),\n",
      "             'Clerk': Counter({'11': 72, '6': 21, '4': 15}),\n",
      "             'Clyde': Counter({'5': 22,\n",
      "                               '10': 18,\n",
      "                               '7': 15,\n",
      "                               '6': 12,\n",
      "                               '4': 3,\n",
      "                               '12': 1}),\n",
      "             'Colin': Counter({'4': 7}),\n",
      "             'Colleague 1': Counter({'1': 15}),\n",
      "             'Colleague 2': Counter({'1': 9}),\n",
      "             'Commander': Counter({'8': 560}),\n",
      "             'Computer': Counter({'10': 50}),\n",
      "             'Congressman 1': Counter({'13': 10}),\n",
      "             'Congressman 1, Cartman': Counter({'13': 8}),\n",
      "             'Congressman 2': Counter({'13': 10}),\n",
      "             'Cop': Counter({'1': 16}),\n",
      "             'Craig': Counter({'12': 12, '10': 8}),\n",
      "             \"Craig's Father\": Counter({'11': 15}),\n",
      "             \"Craig's father\": Counter({'11': 2}),\n",
      "             'Crowd': Counter({'2': 7, '5': 6, '3': 5}),\n",
      "             'Crowd members': Counter({'2': 3}),\n",
      "             'Daniel': Counter({'12': 6}),\n",
      "             'Director 1': Counter({'1': 55}),\n",
      "             'Director 2': Counter({'1': 145}),\n",
      "             'Director 3': Counter({'1': 13}),\n",
      "             'Director 4': Counter({'1': 6}),\n",
      "             'Director 5': Counter({'1': 24}),\n",
      "             'Director 6': Counter({'1': 4}),\n",
      "             'Doctor': Counter({'13': 140, '6': 119}),\n",
      "             'Dominique and Zizi': Counter({'12': 1}),\n",
      "             'Donald Trump': Counter({'11': 1}),\n",
      "             'Drew': Counter({'1': 32}),\n",
      "             'Driver': Counter({'3': 7}),\n",
      "             'Ed': Counter({'4': 25}),\n",
      "             'Ed Sullivan': Counter({'5': 26}),\n",
      "             'Elderly Man': Counter({'1': 11}),\n",
      "             'Elderly Woman': Counter({'3': 49, '1': 7}),\n",
      "             'Engineer': Counter({'12': 12}),\n",
      "             'Enrique Iglesias': Counter({'11': 11}),\n",
      "             'Everyone': Counter({'13': 33}),\n",
      "             'Executives': Counter({'1': 1}),\n",
      "             'Executor': Counter({'6': 112}),\n",
      "             'Farmer': Counter({'2': 17}),\n",
      "             'Fat Boy': Counter({'9': 22}),\n",
      "             'Female voice': Counter({'9': 1}),\n",
      "             'Filmore': Counter({'1': 8, '7': 6}),\n",
      "             'Fleetwood Mac': Counter({'9': 14}),\n",
      "             'Frank': Counter({'1': 80}),\n",
      "             'Frederick': Counter({'12': 212}),\n",
      "             'GS-401': Counter({'8': 103}),\n",
      "             'Gary Condit': Counter({'14': 47}),\n",
      "             'Geldon': Counter({'1': 6}),\n",
      "             'General': Counter({'9': 87}),\n",
      "             'George Bush': Counter({'3': 9}),\n",
      "             'Gerald': Counter({'6': 191, '12': 21, '7': 8, '13': 3, '1': 2}),\n",
      "             'Girl': Counter({'12': 11, '7': 2}),\n",
      "             'Girls': Counter({'7': 11}),\n",
      "             'Gloria Allred': Counter({'2': 82}),\n",
      "             'Goat': Counter({'9': 23}),\n",
      "             'Goat leader': Counter({'5': 18}),\n",
      "             'Groupie': Counter({'5': 13}),\n",
      "             'Guard': Counter({'8': 36}),\n",
      "             'Guest 1': Counter({'11': 1}),\n",
      "             'Guest 2': Counter({'11': 1}),\n",
      "             'Guest 3': Counter({'11': 3}),\n",
      "             'Guest 4': Counter({'11': 1}),\n",
      "             'Guests': Counter({'11': 5}),\n",
      "             'HBC President': Counter({'1': 272}),\n",
      "             'Hamlet': Counter({'5': 137}),\n",
      "             'Hazmat man': Counter({'9': 4}),\n",
      "             'Head Scoutmaster': Counter({'2': 127}),\n",
      "             'Head nurse': Counter({'13': 10}),\n",
      "             'Hemorrhoid': Counter({'6': 2}),\n",
      "             'Hispanic Reporter': Counter({'11': 121}),\n",
      "             'Horatio': Counter({'5': 46}),\n",
      "             'Host 1': Counter({'6': 73}),\n",
      "             'Host 2': Counter({'6': 58}),\n",
      "             'Ike': Counter({'11': 4, '1': 1, '3': 1}),\n",
      "             'Jack': Counter({'5': 137}),\n",
      "             'Jada Pinkett Smith': Counter({'12': 26}),\n",
      "             'Jeff Arrando': Counter({'11': 21}),\n",
      "             'Jenny': Counter({'7': 6}),\n",
      "             'Jesus': Counter({'3': 531}),\n",
      "             'Jill': Counter({'13': 4}),\n",
      "             'Jimbo': Counter({'4': 169,\n",
      "                               '12': 127,\n",
      "                               '1': 23,\n",
      "                               '3': 19,\n",
      "                               '11': 16,\n",
      "                               '2': 12,\n",
      "                               '6': 10}),\n",
      "             'Jimmy': Counter({'2': 650, '10': 145}),\n",
      "             'Joe': Counter({'2': 16}),\n",
      "             'John Ramsey': Counter({'14': 116}),\n",
      "             'John Travolta': Counter({'11': 51}),\n",
      "             'Johnny': Counter({'4': 16}),\n",
      "             'Johnson': Counter({'9': 9}),\n",
      "             'Jonesy': Counter({'10': 5}),\n",
      "             'Joseph Smith': Counter({'3': 94}),\n",
      "             'Karl Rove': Counter({'3': 9}),\n",
      "             'Kenny': Counter({'13': 59,\n",
      "                               '6': 28,\n",
      "                               '7': 15,\n",
      "                               '9': 15,\n",
      "                               '8': 14,\n",
      "                               '5': 11,\n",
      "                               '1': 9,\n",
      "                               '10': 6,\n",
      "                               '2': 5,\n",
      "                               '4': 5,\n",
      "                               '12': 1}),\n",
      "             'Kids': Counter({'6': 2, '7': 2, '4': 1, '12': 1}),\n",
      "             'Kindergartners': Counter({'1': 1}),\n",
      "             'King Claudius': Counter({'5': 24}),\n",
      "             'Kobe Bryant': Counter({'12': 45}),\n",
      "             'Krishna': Counter({'3': 15}),\n",
      "             'Kurt Loder': Counter({'4': 35}),\n",
      "             'Kyle': Counter({'11': 824,\n",
      "                              '6': 561,\n",
      "                              '1': 542,\n",
      "                              '3': 501,\n",
      "                              '8': 482,\n",
      "                              '13': 425,\n",
      "                              '5': 394,\n",
      "                              '9': 309,\n",
      "                              '10': 248,\n",
      "                              '4': 213,\n",
      "                              '7': 157,\n",
      "                              '12': 121}),\n",
      "             'Kyle Schwartz': Counter({'11': 41}),\n",
      "             'Kyle Two': Counter({'11': 755}),\n",
      "             'Kyle, Towelie': Counter({'8': 1}),\n",
      "             'Kyle.': Counter({'5': 3}),\n",
      "             'Laertes': Counter({'5': 108}),\n",
      "             'Lao Tse': Counter({'3': 11}),\n",
      "             'Larry': Counter({'13': 241, '3': 5}),\n",
      "             'Laura': Counter({'13': 46}),\n",
      "             'Lead Knight': Counter({'1': 91}),\n",
      "             'Liane': Counter({'6': 37, '13': 15, '12': 10}),\n",
      "             'Librarian': Counter({'1': 62}),\n",
      "             'Lincoln': Counter({'3': 1}),\n",
      "             'Linda': Counter({'14': 643, '10': 65, '12': 38}),\n",
      "             'Lion 1': Counter({'12': 11}),\n",
      "             'Lion 2': Counter({'12': 17}),\n",
      "             'Lisa': Counter({'12': 68}),\n",
      "             'Little Girl': Counter({'2': 4}),\n",
      "             'Loa Tse': Counter({'3': 3}),\n",
      "             'Madonna': Counter({'13': 5}),\n",
      "             'Magician': Counter({'3': 16}),\n",
      "             'Male 1': Counter({'10': 43}),\n",
      "             'Male 2': Counter({'10': 22}),\n",
      "             'Man': Counter({'2': 21,\n",
      "                             '4': 11,\n",
      "                             '11': 11,\n",
      "                             '13': 11,\n",
      "                             '7': 9,\n",
      "                             '8': 7,\n",
      "                             '1': 6,\n",
      "                             '5': 6,\n",
      "                             '14': 6,\n",
      "                             '3': 4}),\n",
      "             'Man 1': Counter({'12': 6, '1': 5, '9': 1, '11': 1}),\n",
      "             'Man 2': Counter({'1': 7, '2': 2, '8': 2, '11': 1}),\n",
      "             'Man 2 in Crowd': Counter({'14': 1}),\n",
      "             'Man 3': Counter({'11': 8, '1': 4, '2': 2}),\n",
      "             'Man 4': Counter({'1': 10, '11': 1}),\n",
      "             'Man 5': Counter({'2': 16, '1': 2}),\n",
      "             'Man 6': Counter({'2': 11, '1': 9}),\n",
      "             'Man 7': Counter({'1': 24}),\n",
      "             'Man In Wheelchair': Counter({'13': 2}),\n",
      "             'Man On Crutches': Counter({'13': 3}),\n",
      "             'Man in Crowd': Counter({'14': 2}),\n",
      "             'Marc': Counter({'2': 40}),\n",
      "             'Mark': Counter({'7': 29}),\n",
      "             'Martha': Counter({'10': 220}),\n",
      "             'Mayor McDaniels': Counter({'12': 43}),\n",
      "             'Mechanic': Counter({'14': 159}),\n",
      "             'Member': Counter({'3': 9}),\n",
      "             'Men': Counter({'12': 10}),\n",
      "             'Millionaire': Counter({'12': 12}),\n",
      "             'Millionaire 1': Counter({'12': 7}),\n",
      "             'Millionaire Protesters': Counter({'12': 13}),\n",
      "             'Millionaires': Counter({'12': 2}),\n",
      "             'Mimi': Counter({'1': 18}),\n",
      "             'Mitchell': Counter({'1': 65}),\n",
      "             'Mohammad': Counter({'3': 90}),\n",
      "             'Mom': Counter({'12': 4}),\n",
      "             'Moses': Counter({'3': 42}),\n",
      "             'Motorcycle Driver': Counter({'10': 1}),\n",
      "             'Mr. Adler': Counter({'7': 22}),\n",
      "             'Mr. Denkins': Counter({'4': 14}),\n",
      "             'Mr. Fun': Counter({'6': 123}),\n",
      "             'Mr. Garrett': Counter({'6': 52}),\n",
      "             'Mr. Garrison': Counter({'11': 669,\n",
      "                                      '12': 306,\n",
      "                                      '1': 271,\n",
      "                                      '7': 232,\n",
      "                                      '13': 32,\n",
      "                                      '8': 23,\n",
      "                                      '6': 22,\n",
      "                                      '10': 14,\n",
      "                                      '14': 9,\n",
      "                                      '5': 7}),\n",
      "             'Mr. Grazier': Counter({'2': 235}),\n",
      "             'Mr. Hat': Counter({'11': 38}),\n",
      "             'Mr. Mackey': Counter({'7': 572,\n",
      "                                    '10': 106,\n",
      "                                    '13': 58,\n",
      "                                    '1': 15,\n",
      "                                    '5': 7}),\n",
      "             'Mr. Slave': Counter({'14': 3}),\n",
      "             'Mr. Tenorman': Counter({'4': 51}),\n",
      "             'Mr. Tweek': Counter({'7': 4}),\n",
      "             'Mrs. Garthunk': Counter({'10': 258}),\n",
      "             'Mrs. McCormick': Counter({'10': 53}),\n",
      "             'Mrs. Tenorman': Counter({'4': 21}),\n",
      "             'Ms. Choksondik': Counter({'7': 749,\n",
      "                                        '10': 131,\n",
      "                                        '1': 129,\n",
      "                                        '11': 106,\n",
      "                                        '5': 64,\n",
      "                                        '9': 64,\n",
      "                                        '12': 61,\n",
      "                                        '13': 31}),\n",
      "             'Ms. McCormick': Counter({'13': 5}),\n",
      "             'Ms. Sanders': Counter({'13': 48}),\n",
      "             'Narrator': Counter({'5': 649, '3': 129, '7': 85}),\n",
      "             'Ned': Counter({'4': 19, '12': 5, '6': 2}),\n",
      "             'News 4 Reporter': Counter({'14': 96}),\n",
      "             'Nurse': Counter({'13': 24, '6': 7}),\n",
      "             'O.J. Simpson': Counter({'14': 20}),\n",
      "             'Obese Woman': Counter({'5': 32, '12': 6}),\n",
      "             'Obese woman': Counter({'5': 3}),\n",
      "             'Officer 1': Counter({'14': 28}),\n",
      "             'Officer 2': Counter({'14': 8}),\n",
      "             'Officer Barbrady': Counter({'9': 36, '11': 6}),\n",
      "             'Official': Counter({'8': 44, '9': 40}),\n",
      "             'Official 1': Counter({'8': 20}),\n",
      "             'Official 2': Counter({'8': 20}),\n",
      "             'Old Folks': Counter({'1': 1}),\n",
      "             'Older Boy': Counter({'12': 32}),\n",
      "             'Older man': Counter({'5': 300}),\n",
      "             'Oprah Winfrey': Counter({'12': 44}),\n",
      "             'Osama and the Taliban Soldiers': Counter({'9': 1}),\n",
      "             'Osama bin Laden': Counter({'9': 97}),\n",
      "             'Osric': Counter({'5': 9}),\n",
      "             'Other Soldiers': Counter({'9': 9}),\n",
      "             'Parents': Counter({'7': 1}),\n",
      "             'Passenger 1': Counter({'12': 40}),\n",
      "             'Passenger 2': Counter({'12': 7}),\n",
      "             'Passengers': Counter({'12': 1}),\n",
      "             'Patsy Ramsey': Counter({'14': 65}),\n",
      "             'People': Counter({'11': 6, '9': 1}),\n",
      "             'Performer': Counter({'9': 1}),\n",
      "             'Peter': Counter({'1': 9}),\n",
      "             'Pharmacist': Counter({'7': 27}),\n",
      "             'Phil': Counter({'4': 7}),\n",
      "             'Phillip': Counter({'5': 412}),\n",
      "             'Phillip Stand-in': Counter({'5': 69}),\n",
      "             'Photographer': Counter({'10': 120}),\n",
      "             'Pilot': Counter({'9': 19}),\n",
      "             'Player': Counter({'12': 3}),\n",
      "             'Player 1': Counter({'12': 1}),\n",
      "             'Player 2': Counter({'12': 1}),\n",
      "             'Player 3': Counter({'12': 3}),\n",
      "             'Player 4': Counter({'12': 5}),\n",
      "             'Players': Counter({'12': 2}),\n",
      "             'Police Chief': Counter({'14': 6}),\n",
      "             'Postman': Counter({'9': 28}),\n",
      "             'President': Counter({'10': 205}),\n",
      "             'Priest': Counter({'6': 75}),\n",
      "             'Priest Maxi': Counter({'2': 46, '6': 11}),\n",
      "             'Principal Victoria': Counter({'7': 108, '1': 8, '13': 2}),\n",
      "             'Protester': Counter({'9': 3}),\n",
      "             'Queen Gertrude': Counter({'5': 17}),\n",
      "             'Randy': Counter({'2': 173,\n",
      "                               '11': 80,\n",
      "                               '7': 73,\n",
      "                               '9': 68,\n",
      "                               '1': 63,\n",
      "                               '13': 27,\n",
      "                               '12': 13,\n",
      "                               '8': 1}),\n",
      "             'Randy, Sharon': Counter({'9': 5}),\n",
      "             'Receptionist': Counter({'10': 220, '13': 39}),\n",
      "             'Recruits': Counter({'3': 1}),\n",
      "             'Reporter': Counter({'2': 94,\n",
      "                                  '5': 58,\n",
      "                                  '12': 53,\n",
      "                                  '9': 41,\n",
      "                                  '10': 24}),\n",
      "             'Reporter 1': Counter({'14': 14}),\n",
      "             'Reporter 2': Counter({'14': 4}),\n",
      "             'Research Leader': Counter({'8': 403}),\n",
      "             'Researcher': Counter({'13': 5}),\n",
      "             'Richard': Counter({'9': 6}),\n",
      "             'Rick Watts': Counter({'1': 12}),\n",
      "             'SNN Reporter': Counter({'9': 43}),\n",
      "             'SNN reporter': Counter({'9': 58}),\n",
      "             'Sally': Counter({'7': 3}),\n",
      "             'Sam': Counter({'1': 13}),\n",
      "             'Scott': Counter({'4': 711}),\n",
      "             'Scoutmaster 1': Counter({'2': 16}),\n",
      "             'Scoutmaster 2': Counter({'2': 34}),\n",
      "             'Scouts': Counter({'2': 8}),\n",
      "             'Seaman': Counter({'3': 54}),\n",
      "             'Security Guard': Counter({'6': 122, '11': 55}),\n",
      "             'Sgt. Boll': Counter({'8': 18}),\n",
      "             'Sgt. Masters': Counter({'8': 17}),\n",
      "             'Sharon': Counter({'7': 216,\n",
      "                                '8': 113,\n",
      "                                '12': 18,\n",
      "                                '9': 14,\n",
      "                                '2': 5,\n",
      "                                '13': 3}),\n",
      "             'Sheila': Counter({'11': 295,\n",
      "                                '6': 212,\n",
      "                                '7': 52,\n",
      "                                '3': 46,\n",
      "                                '13': 21,\n",
      "                                '1': 17,\n",
      "                                '12': 15,\n",
      "                                '2': 12}),\n",
      "             'Skeeter': Counter({'12': 79, '2': 27}),\n",
      "             'Snoop Dogg': Counter({'12': 114}),\n",
      "             'Soldier': Counter({'8': 55, '9': 8}),\n",
      "             'Soldier 1': Counter({'9': 18, '8': 3}),\n",
      "             'Soldier 2': Counter({'8': 20, '9': 6}),\n",
      "             'Soldier 3': Counter({'9': 21, '8': 2}),\n",
      "             'Soldier 4': Counter({'9': 6}),\n",
      "             'Soldier 5': Counter({'9': 1}),\n",
      "             'Soldier 6': Counter({'9': 5}),\n",
      "             'Soldiers': Counter({'9': 16, '8': 1}),\n",
      "             'Sonny': Counter({'5': 28}),\n",
      "             'Sorcerer': Counter({'1': 130}),\n",
      "             'Speaker': Counter({'3': 31}),\n",
      "             'Stan': Counter({'8': 608,\n",
      "                              '9': 581,\n",
      "                              '3': 488,\n",
      "                              '2': 355,\n",
      "                              '6': 336,\n",
      "                              '5': 310,\n",
      "                              '13': 298,\n",
      "                              '7': 294,\n",
      "                              '1': 239,\n",
      "                              '10': 150,\n",
      "                              '12': 145,\n",
      "                              '4': 109,\n",
      "                              '11': 64,\n",
      "                              '14': 19}),\n",
      "             'Stan and Kenny': Counter({'1': 1}),\n",
      "             'Stan and Kyle': Counter({'1': 1}),\n",
      "             'Stan, Cartman': Counter({'2': 2, '11': 1}),\n",
      "             'Stan, Jesus': Counter({'3': 2}),\n",
      "             'Stan, Kyle': Counter({'7': 2, '9': 2, '8': 1, '13': 1}),\n",
      "             'Stephen': Counter({'10': 49, '2': 5}),\n",
      "             'Steve Forbes': Counter({'11': 16}),\n",
      "             'Steve Jobs': Counter({'11': 10}),\n",
      "             'Steven': Counter({'3': 353, '10': 285}),\n",
      "             'Steven Spielberg': Counter({'2': 17}),\n",
      "             'Stuart': Counter({'2': 97, '7': 13, '11': 11}),\n",
      "             'Stuart and Mrs. McCormick': Counter({'10': 1}),\n",
      "             'Stuart and wife, and Receptionist': Counter({'10': 1}),\n",
      "             'Susan': Counter({'2': 3}),\n",
      "             'TV': Counter({'8': 5}),\n",
      "             'Teen boy': Counter({'4': 17}),\n",
      "             'Terrance': Counter({'5': 577}),\n",
      "             'Terrance & Phillip': Counter({'5': 62}),\n",
      "             'The Boys': Counter({'1': 4, '5': 4, '9': 3}),\n",
      "             'The Kids': Counter({'12': 1}),\n",
      "             'The Ramseys': Counter({'14': 1}),\n",
      "             'The Ramseys and Condit': Counter({'14': 6}),\n",
      "             'The Ramseys, O.J., Condit': Counter({'14': 10}),\n",
      "             'The men': Counter({'1': 1}),\n",
      "             'The other boys': Counter({'5': 1}),\n",
      "             'Thom': Counter({'4': 136}),\n",
      "             'Timmy': Counter({'2': 70, '4': 6, '1': 2, '6': 1, '7': 1}),\n",
      "             'Token': Counter({'12': 713, '10': 4}),\n",
      "             \"Token's father\": Counter({'2': 9}),\n",
      "             'Tom': Counter({'2': 53, '1': 2}),\n",
      "             'Tony': Counter({'9': 92}),\n",
      "             'Towelie': Counter({'8': 357, '9': 42}),\n",
      "             'Towelie Clone': Counter({'8': 6}),\n",
      "             'Truck Driver': Counter({'13': 16, '14': 13}),\n",
      "             'Tweek': Counter({'9': 22, '7': 5}),\n",
      "             'Two SWAT men': Counter({'9': 2}),\n",
      "             'Uncle Stinky': Counter({'6': 3}),\n",
      "             'Voice': Counter({'8': 31, '11': 10, '9': 2}),\n",
      "             'Voices': Counter({'12': 1}),\n",
      "             'Waitress': Counter({'6': 16, '1': 10}),\n",
      "             'Wendy': Counter({'7': 66, '9': 34}),\n",
      "             'Will Smith': Counter({'12': 222}),\n",
      "             'Woman': Counter({'8': 21, '13': 14, '5': 9, '11': 4, '3': 1}),\n",
      "             'Woman 1': Counter({'1': 2}),\n",
      "             'Woman 2': Counter({'13': 18, '1': 5}),\n",
      "             'Woman 3': Counter({'1': 4}),\n",
      "             'Woman 4': Counter({'1': 3}),\n",
      "             'Younger man': Counter({'5': 48}),\n",
      "             'Zytar': Counter({'8': 45})})\n"
     ]
    }
   ],
   "source": [
    "from pprint import pprint as pp\n",
    "\n",
    "pp(words)"
   ]
  },
  {
   "cell_type": "code",
   "execution_count": null,
   "metadata": {},
   "outputs": [],
   "source": []
  },
  {
   "cell_type": "code",
   "execution_count": null,
   "metadata": {},
   "outputs": [],
   "source": []
  }
 ],
 "metadata": {
  "kernelspec": {
   "display_name": "Python 3",
   "language": "python",
   "name": "python3"
  },
  "language_info": {
   "codemirror_mode": {
    "name": "ipython",
    "version": 3
   },
   "file_extension": ".py",
   "mimetype": "text/x-python",
   "name": "python",
   "nbconvert_exporter": "python",
   "pygments_lexer": "ipython3",
   "version": "3.9.5"
  }
 },
 "nbformat": 4,
 "nbformat_minor": 4
}
