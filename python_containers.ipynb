{
 "cells": [
  {
   "cell_type": "markdown",
   "id": "c133e633",
   "metadata": {},
   "source": [
    "## Python Containers"
   ]
  },
  {
   "cell_type": "code",
   "execution_count": 1,
   "id": "4c7cd3d9",
   "metadata": {},
   "outputs": [],
   "source": [
    "n = 1_000_000  # _ lets you separate thousands"
   ]
  },
  {
   "cell_type": "markdown",
   "id": "4817e8a3",
   "metadata": {},
   "source": [
    "### List vs string concatenation"
   ]
  },
  {
   "cell_type": "code",
   "execution_count": 2,
   "id": "fe106436",
   "metadata": {},
   "outputs": [],
   "source": [
    "def s_concat():\n",
    "    s = \"\"\n",
    "    for i in range(n):\n",
    "        s += str(i)\n",
    "    return s"
   ]
  },
  {
   "cell_type": "code",
   "execution_count": 3,
   "id": "8806e83b",
   "metadata": {},
   "outputs": [],
   "source": [
    "def s_concat2():\n",
    "    s = []\n",
    "    for i in range(n):\n",
    "        s.append(str(i))\n",
    "    return \"\".join(s)"
   ]
  },
  {
   "cell_type": "code",
   "execution_count": 4,
   "id": "994bd74a",
   "metadata": {},
   "outputs": [
    {
     "data": {
      "text/plain": [
       "True"
      ]
     },
     "execution_count": 4,
     "metadata": {},
     "output_type": "execute_result"
    }
   ],
   "source": [
    "s_concat() == s_concat2()"
   ]
  },
  {
   "cell_type": "code",
   "execution_count": 5,
   "id": "b727dc1c",
   "metadata": {},
   "outputs": [
    {
     "name": "stdout",
     "output_type": "stream",
     "text": [
      "357 ms ± 52 ms per loop (mean ± std. dev. of 10 runs, 1 loop each)\n"
     ]
    }
   ],
   "source": [
    "%timeit -r 10 s_concat()"
   ]
  },
  {
   "cell_type": "code",
   "execution_count": 6,
   "id": "c910a37a",
   "metadata": {},
   "outputs": [
    {
     "name": "stdout",
     "output_type": "stream",
     "text": [
      "288 ms ± 26.7 ms per loop (mean ± std. dev. of 10 runs, 1 loop each)\n"
     ]
    }
   ],
   "source": [
    "%timeit -r 10 s_concat2()"
   ]
  },
  {
   "cell_type": "markdown",
   "id": "d7230322",
   "metadata": {},
   "source": [
    "### Tuple unpacking"
   ]
  },
  {
   "cell_type": "code",
   "execution_count": 7,
   "id": "6e7a4e4f",
   "metadata": {},
   "outputs": [
    {
     "data": {
      "text/plain": [
       "(2, 1)"
      ]
     },
     "execution_count": 7,
     "metadata": {},
     "output_type": "execute_result"
    }
   ],
   "source": [
    "a = 1\n",
    "b = 2\n",
    "a, b = b, a\n",
    "a, b"
   ]
  },
  {
   "cell_type": "markdown",
   "id": "4857a17c",
   "metadata": {},
   "source": [
    "### Sets vs lists for looking up values"
   ]
  },
  {
   "cell_type": "code",
   "execution_count": 9,
   "id": "ed7bccfb",
   "metadata": {},
   "outputs": [],
   "source": [
    "numbers = list(range(1, n+1))\n",
    "numbers_set = set(numbers)"
   ]
  },
  {
   "cell_type": "code",
   "execution_count": 10,
   "id": "ed2227b6",
   "metadata": {},
   "outputs": [
    {
     "data": {
      "text/plain": [
       "True"
      ]
     },
     "execution_count": 10,
     "metadata": {},
     "output_type": "execute_result"
    }
   ],
   "source": [
    "len(numbers) == len(numbers_set)"
   ]
  },
  {
   "cell_type": "code",
   "execution_count": 11,
   "id": "a9beea69",
   "metadata": {},
   "outputs": [],
   "source": [
    "def list_lookup(val):\n",
    "    return val in numbers"
   ]
  },
  {
   "cell_type": "code",
   "execution_count": 12,
   "id": "82f055f6",
   "metadata": {},
   "outputs": [],
   "source": [
    "def set_lookup(val):\n",
    "    return val in numbers_set"
   ]
  },
  {
   "cell_type": "code",
   "execution_count": 13,
   "id": "ff595af8",
   "metadata": {},
   "outputs": [
    {
     "data": {
      "text/plain": [
       "True"
      ]
     },
     "execution_count": 13,
     "metadata": {},
     "output_type": "execute_result"
    }
   ],
   "source": [
    "list_lookup(99)"
   ]
  },
  {
   "cell_type": "code",
   "execution_count": 14,
   "id": "03f2d238",
   "metadata": {},
   "outputs": [
    {
     "data": {
      "text/plain": [
       "True"
      ]
     },
     "execution_count": 14,
     "metadata": {},
     "output_type": "execute_result"
    }
   ],
   "source": [
    "set_lookup(99)"
   ]
  },
  {
   "cell_type": "code",
   "execution_count": 15,
   "id": "7fe9cf75",
   "metadata": {},
   "outputs": [
    {
     "name": "stdout",
     "output_type": "stream",
     "text": [
      "3.07 µs ± 211 ns per loop (mean ± std. dev. of 10 runs, 100,000 loops each)\n"
     ]
    }
   ],
   "source": [
    "%timeit -r 10 list_lookup(256)"
   ]
  },
  {
   "cell_type": "code",
   "execution_count": 16,
   "id": "284d71b8",
   "metadata": {},
   "outputs": [
    {
     "name": "stdout",
     "output_type": "stream",
     "text": [
      "92.4 ns ± 0.937 ns per loop (mean ± std. dev. of 10 runs, 10,000,000 loops each)\n"
     ]
    }
   ],
   "source": [
    "%timeit -r 10 set_lookup(256)"
   ]
  },
  {
   "cell_type": "code",
   "execution_count": 17,
   "id": "9a50dccd",
   "metadata": {},
   "outputs": [],
   "source": [
    "numbers = [1, 9, 2, 3, 4, 3, 4, 4, 5, 9]"
   ]
  },
  {
   "cell_type": "markdown",
   "id": "4c6feb8b",
   "metadata": {},
   "source": [
    "### Sets are unordered + unique / set operations"
   ]
  },
  {
   "cell_type": "code",
   "execution_count": 18,
   "id": "333ab66a",
   "metadata": {},
   "outputs": [
    {
     "data": {
      "text/plain": [
       "{1, 2, 3, 4, 5, 9}"
      ]
     },
     "execution_count": 18,
     "metadata": {},
     "output_type": "execute_result"
    }
   ],
   "source": [
    "set(numbers)"
   ]
  },
  {
   "cell_type": "code",
   "execution_count": 19,
   "id": "0421f586",
   "metadata": {},
   "outputs": [],
   "source": [
    "a = {1, 2, 3}\n",
    "b = {3, 4, 5}"
   ]
  },
  {
   "cell_type": "code",
   "execution_count": 20,
   "id": "fcc89f24",
   "metadata": {},
   "outputs": [
    {
     "data": {
      "text/plain": [
       "{3}"
      ]
     },
     "execution_count": 20,
     "metadata": {},
     "output_type": "execute_result"
    }
   ],
   "source": [
    "a & b"
   ]
  },
  {
   "cell_type": "code",
   "execution_count": 21,
   "id": "f4b4c0f7",
   "metadata": {},
   "outputs": [
    {
     "data": {
      "text/plain": [
       "{1, 2, 4, 5}"
      ]
     },
     "execution_count": 21,
     "metadata": {},
     "output_type": "execute_result"
    }
   ],
   "source": [
    "a ^ b"
   ]
  },
  {
   "cell_type": "code",
   "execution_count": 22,
   "id": "d16b0bef",
   "metadata": {},
   "outputs": [
    {
     "data": {
      "text/plain": [
       "{1, 2}"
      ]
     },
     "execution_count": 22,
     "metadata": {},
     "output_type": "execute_result"
    }
   ],
   "source": [
    "a - b"
   ]
  },
  {
   "cell_type": "code",
   "execution_count": 24,
   "id": "348bef21",
   "metadata": {},
   "outputs": [
    {
     "data": {
      "text/plain": [
       "['__and__',\n",
       " '__class__',\n",
       " '__class_getitem__',\n",
       " '__contains__',\n",
       " '__delattr__',\n",
       " '__dir__',\n",
       " '__doc__',\n",
       " '__eq__',\n",
       " '__format__',\n",
       " '__ge__',\n",
       " '__getattribute__',\n",
       " '__gt__',\n",
       " '__hash__',\n",
       " '__iand__',\n",
       " '__init__',\n",
       " '__init_subclass__',\n",
       " '__ior__',\n",
       " '__isub__',\n",
       " '__iter__',\n",
       " '__ixor__',\n",
       " '__le__',\n",
       " '__len__',\n",
       " '__lt__',\n",
       " '__ne__',\n",
       " '__new__',\n",
       " '__or__',\n",
       " '__rand__',\n",
       " '__reduce__',\n",
       " '__reduce_ex__',\n",
       " '__repr__',\n",
       " '__ror__',\n",
       " '__rsub__',\n",
       " '__rxor__',\n",
       " '__setattr__',\n",
       " '__sizeof__',\n",
       " '__str__',\n",
       " '__sub__',\n",
       " '__subclasshook__',\n",
       " '__xor__',\n",
       " 'add',\n",
       " 'clear',\n",
       " 'copy',\n",
       " 'difference',\n",
       " 'difference_update',\n",
       " 'discard',\n",
       " 'intersection',\n",
       " 'intersection_update',\n",
       " 'isdisjoint',\n",
       " 'issubset',\n",
       " 'issuperset',\n",
       " 'pop',\n",
       " 'remove',\n",
       " 'symmetric_difference',\n",
       " 'symmetric_difference_update',\n",
       " 'union',\n",
       " 'update']"
      ]
     },
     "execution_count": 24,
     "metadata": {},
     "output_type": "execute_result"
    }
   ],
   "source": [
    "dir(b)"
   ]
  },
  {
   "cell_type": "code",
   "execution_count": 25,
   "id": "6b566e1e",
   "metadata": {},
   "outputs": [],
   "source": [
    "c = set()  # empty set != {} - that would be dict"
   ]
  },
  {
   "cell_type": "code",
   "execution_count": 26,
   "id": "680bfe9e",
   "metadata": {},
   "outputs": [],
   "source": [
    "c.add(1)"
   ]
  },
  {
   "cell_type": "code",
   "execution_count": 27,
   "id": "22acdf41",
   "metadata": {},
   "outputs": [
    {
     "data": {
      "text/plain": [
       "{1}"
      ]
     },
     "execution_count": 27,
     "metadata": {},
     "output_type": "execute_result"
    }
   ],
   "source": [
    "c"
   ]
  },
  {
   "cell_type": "code",
   "execution_count": 28,
   "id": "155021d3",
   "metadata": {},
   "outputs": [
    {
     "data": {
      "text/plain": [
       "1"
      ]
     },
     "execution_count": 28,
     "metadata": {},
     "output_type": "execute_result"
    }
   ],
   "source": [
    "c.pop()"
   ]
  },
  {
   "cell_type": "code",
   "execution_count": 29,
   "id": "9b53ef4b",
   "metadata": {},
   "outputs": [
    {
     "data": {
      "text/plain": [
       "set()"
      ]
     },
     "execution_count": 29,
     "metadata": {},
     "output_type": "execute_result"
    }
   ],
   "source": [
    "c"
   ]
  },
  {
   "cell_type": "code",
   "execution_count": 30,
   "id": "88eecdac",
   "metadata": {},
   "outputs": [],
   "source": [
    "# immutable set\n",
    "c = frozenset([1, 2, 2])"
   ]
  },
  {
   "cell_type": "code",
   "execution_count": 31,
   "id": "d1bd4a77",
   "metadata": {},
   "outputs": [
    {
     "data": {
      "text/plain": [
       "frozenset({1, 2})"
      ]
     },
     "execution_count": 31,
     "metadata": {},
     "output_type": "execute_result"
    }
   ],
   "source": [
    "c"
   ]
  },
  {
   "cell_type": "code",
   "execution_count": 32,
   "id": "edf30c2f",
   "metadata": {},
   "outputs": [
    {
     "data": {
      "text/plain": [
       "True"
      ]
     },
     "execution_count": 32,
     "metadata": {},
     "output_type": "execute_result"
    }
   ],
   "source": [
    "1 in c"
   ]
  },
  {
   "cell_type": "code",
   "execution_count": 33,
   "id": "d2ca5269",
   "metadata": {},
   "outputs": [
    {
     "ename": "AttributeError",
     "evalue": "'frozenset' object has no attribute 'add'",
     "output_type": "error",
     "traceback": [
      "\u001b[0;31m---------------------------------------------------------------------------\u001b[0m",
      "\u001b[0;31mAttributeError\u001b[0m                            Traceback (most recent call last)",
      "Input \u001b[0;32mIn [33]\u001b[0m, in \u001b[0;36m<cell line: 1>\u001b[0;34m()\u001b[0m\n\u001b[0;32m----> 1\u001b[0m \u001b[43mc\u001b[49m\u001b[38;5;241;43m.\u001b[39;49m\u001b[43madd\u001b[49m(\u001b[38;5;241m3\u001b[39m)\n",
      "\u001b[0;31mAttributeError\u001b[0m: 'frozenset' object has no attribute 'add'"
     ]
    }
   ],
   "source": [
    "c.add(3)"
   ]
  },
  {
   "cell_type": "code",
   "execution_count": 34,
   "id": "95c0dae6",
   "metadata": {},
   "outputs": [
    {
     "ename": "AttributeError",
     "evalue": "'frozenset' object has no attribute 'pop'",
     "output_type": "error",
     "traceback": [
      "\u001b[0;31m---------------------------------------------------------------------------\u001b[0m",
      "\u001b[0;31mAttributeError\u001b[0m                            Traceback (most recent call last)",
      "Input \u001b[0;32mIn [34]\u001b[0m, in \u001b[0;36m<cell line: 1>\u001b[0;34m()\u001b[0m\n\u001b[0;32m----> 1\u001b[0m \u001b[43mc\u001b[49m\u001b[38;5;241;43m.\u001b[39;49m\u001b[43mpop\u001b[49m()\n",
      "\u001b[0;31mAttributeError\u001b[0m: 'frozenset' object has no attribute 'pop'"
     ]
    }
   ],
   "source": [
    "c.pop()"
   ]
  },
  {
   "cell_type": "code",
   "execution_count": 35,
   "id": "12fd1bad",
   "metadata": {},
   "outputs": [
    {
     "data": {
      "text/plain": [
       "['__and__',\n",
       " '__class__',\n",
       " '__class_getitem__',\n",
       " '__contains__',\n",
       " '__delattr__',\n",
       " '__dir__',\n",
       " '__doc__',\n",
       " '__eq__',\n",
       " '__format__',\n",
       " '__ge__',\n",
       " '__getattribute__',\n",
       " '__gt__',\n",
       " '__hash__',\n",
       " '__init__',\n",
       " '__init_subclass__',\n",
       " '__iter__',\n",
       " '__le__',\n",
       " '__len__',\n",
       " '__lt__',\n",
       " '__ne__',\n",
       " '__new__',\n",
       " '__or__',\n",
       " '__rand__',\n",
       " '__reduce__',\n",
       " '__reduce_ex__',\n",
       " '__repr__',\n",
       " '__ror__',\n",
       " '__rsub__',\n",
       " '__rxor__',\n",
       " '__setattr__',\n",
       " '__sizeof__',\n",
       " '__str__',\n",
       " '__sub__',\n",
       " '__subclasshook__',\n",
       " '__xor__',\n",
       " 'copy',\n",
       " 'difference',\n",
       " 'intersection',\n",
       " 'isdisjoint',\n",
       " 'issubset',\n",
       " 'issuperset',\n",
       " 'symmetric_difference',\n",
       " 'union']"
      ]
     },
     "execution_count": 35,
     "metadata": {},
     "output_type": "execute_result"
    }
   ],
   "source": [
    "dir(c)"
   ]
  },
  {
   "cell_type": "code",
   "execution_count": 36,
   "id": "da426afb",
   "metadata": {},
   "outputs": [
    {
     "data": {
      "text/plain": [
       "frozenset({1})"
      ]
     },
     "execution_count": 36,
     "metadata": {},
     "output_type": "execute_result"
    }
   ],
   "source": [
    "c.difference({3, 2})"
   ]
  },
  {
   "cell_type": "markdown",
   "id": "436c6c9b",
   "metadata": {},
   "source": [
    "### Dictionaries"
   ]
  },
  {
   "cell_type": "code",
   "execution_count": 37,
   "id": "60f67744",
   "metadata": {},
   "outputs": [],
   "source": [
    "names = 'bob julian tim sara'.split()\n",
    "ages = '11 22 33 44'.split()\n",
    "d = dict(zip(names, ages))"
   ]
  },
  {
   "cell_type": "code",
   "execution_count": 38,
   "id": "e954026a",
   "metadata": {},
   "outputs": [
    {
     "data": {
      "text/plain": [
       "{'bob': '11', 'julian': '22', 'tim': '33', 'sara': '44'}"
      ]
     },
     "execution_count": 38,
     "metadata": {},
     "output_type": "execute_result"
    }
   ],
   "source": [
    "d"
   ]
  },
  {
   "cell_type": "code",
   "execution_count": 39,
   "id": "e412a561",
   "metadata": {},
   "outputs": [
    {
     "data": {
      "text/plain": [
       "'11'"
      ]
     },
     "execution_count": 39,
     "metadata": {},
     "output_type": "execute_result"
    }
   ],
   "source": [
    "d[\"bob\"]"
   ]
  },
  {
   "cell_type": "code",
   "execution_count": 40,
   "id": "a0c6c6a4",
   "metadata": {},
   "outputs": [
    {
     "data": {
      "text/plain": [
       "dict_keys(['bob', 'julian', 'tim', 'sara'])"
      ]
     },
     "execution_count": 40,
     "metadata": {},
     "output_type": "execute_result"
    }
   ],
   "source": [
    "d.keys()"
   ]
  },
  {
   "cell_type": "code",
   "execution_count": 41,
   "id": "55e5b8c6",
   "metadata": {},
   "outputs": [
    {
     "data": {
      "text/plain": [
       "dict_values(['11', '22', '33', '44'])"
      ]
     },
     "execution_count": 41,
     "metadata": {},
     "output_type": "execute_result"
    }
   ],
   "source": [
    "d.values()"
   ]
  },
  {
   "cell_type": "code",
   "execution_count": 42,
   "id": "b28549d1",
   "metadata": {},
   "outputs": [
    {
     "data": {
      "text/plain": [
       "dict_items([('bob', '11'), ('julian', '22'), ('tim', '33'), ('sara', '44')])"
      ]
     },
     "execution_count": 42,
     "metadata": {},
     "output_type": "execute_result"
    }
   ],
   "source": [
    "d.items()"
   ]
  },
  {
   "cell_type": "code",
   "execution_count": 43,
   "id": "7a62f752",
   "metadata": {},
   "outputs": [
    {
     "ename": "KeyError",
     "evalue": "'erik'",
     "output_type": "error",
     "traceback": [
      "\u001b[0;31m---------------------------------------------------------------------------\u001b[0m",
      "\u001b[0;31mKeyError\u001b[0m                                  Traceback (most recent call last)",
      "Input \u001b[0;32mIn [43]\u001b[0m, in \u001b[0;36m<cell line: 1>\u001b[0;34m()\u001b[0m\n\u001b[0;32m----> 1\u001b[0m \u001b[43md\u001b[49m\u001b[43m[\u001b[49m\u001b[38;5;124;43m\"\u001b[39;49m\u001b[38;5;124;43merik\u001b[39;49m\u001b[38;5;124;43m\"\u001b[39;49m\u001b[43m]\u001b[49m\n",
      "\u001b[0;31mKeyError\u001b[0m: 'erik'"
     ]
    }
   ],
   "source": [
    "d[\"erik\"]"
   ]
  },
  {
   "cell_type": "code",
   "execution_count": 44,
   "id": "3463488c",
   "metadata": {},
   "outputs": [
    {
     "data": {
      "text/plain": [
       "'not found'"
      ]
     },
     "execution_count": 44,
     "metadata": {},
     "output_type": "execute_result"
    }
   ],
   "source": [
    "d.get(\"erik\", \"not found\")"
   ]
  },
  {
   "cell_type": "code",
   "execution_count": 45,
   "id": "5ca02b1a",
   "metadata": {},
   "outputs": [],
   "source": [
    "d[\"jones\"] = 55"
   ]
  },
  {
   "cell_type": "code",
   "execution_count": 46,
   "id": "8b8c977c",
   "metadata": {},
   "outputs": [
    {
     "data": {
      "text/plain": [
       "{'bob': '11', 'julian': '22', 'tim': '33', 'sara': '44', 'jones': 55}"
      ]
     },
     "execution_count": 46,
     "metadata": {},
     "output_type": "execute_result"
    }
   ],
   "source": [
    "d  # ordered! To be more explicit use collections.OrderedDict"
   ]
  },
  {
   "cell_type": "markdown",
   "id": "414eb242",
   "metadata": {},
   "source": [
    "## collections"
   ]
  },
  {
   "cell_type": "markdown",
   "id": "d7d6c96b",
   "metadata": {},
   "source": [
    "### namedtuple"
   ]
  },
  {
   "cell_type": "code",
   "execution_count": 47,
   "id": "4f49eb36",
   "metadata": {},
   "outputs": [
    {
     "name": "stdout",
     "output_type": "stream",
     "text": [
      "Requirement already satisfied: feedparser in ./venv/lib/python3.10/site-packages (6.0.8)\n",
      "Requirement already satisfied: sgmllib3k in ./venv/lib/python3.10/site-packages (from feedparser) (1.0.0)\n",
      "\u001b[33mWARNING: You are using pip version 21.2.3; however, version 22.0.4 is available.\n",
      "You should consider upgrading via the '/Users/bbelderbos/code/notebooks/venv/bin/python3.10 -m pip install --upgrade pip' command.\u001b[0m\n"
     ]
    }
   ],
   "source": [
    "!pip install feedparser"
   ]
  },
  {
   "cell_type": "code",
   "execution_count": 56,
   "id": "d3462913",
   "metadata": {},
   "outputs": [],
   "source": [
    "from collections import namedtuple\n",
    "\n",
    "import feedparser\n",
    "\n",
    "# cached version to have predictable results for testing\n",
    "FEED_URL = \"https://bites-data.s3.us-east-2.amazonaws.com/steam_gaming.xml\"\n",
    "\n",
    "Game = namedtuple('Game', 'title link')\n",
    "\n",
    "\n",
    "def get_games():\n",
    "    \"\"\"Parses Steam's RSS feed and returns a list of Game namedtuples\"\"\"\n",
    "    feed = feedparser.parse(FEED_URL)\n",
    "    return [Game(entry.title, entry.link)\n",
    "            for entry in feed.entries]"
   ]
  },
  {
   "cell_type": "code",
   "execution_count": 57,
   "id": "5688e0e7",
   "metadata": {},
   "outputs": [],
   "source": [
    "games = get_games()"
   ]
  },
  {
   "cell_type": "code",
   "execution_count": 58,
   "id": "8d05888d",
   "metadata": {},
   "outputs": [],
   "source": [
    "first = games[0]"
   ]
  },
  {
   "cell_type": "code",
   "execution_count": 61,
   "id": "9746bb06",
   "metadata": {},
   "outputs": [
    {
     "data": {
      "text/plain": [
       "'http://store.steampowered.com/news/31695/'"
      ]
     },
     "execution_count": 61,
     "metadata": {},
     "output_type": "execute_result"
    }
   ],
   "source": [
    "first.link"
   ]
  },
  {
   "cell_type": "code",
   "execution_count": 62,
   "id": "cd66db6a",
   "metadata": {},
   "outputs": [],
   "source": [
    "from typing import NamedTuple\n",
    "\n",
    "class Karma(NamedTuple):\n",
    "    giver: str\n",
    "    receiver: str\n",
    "    score: int"
   ]
  },
  {
   "cell_type": "code",
   "execution_count": 63,
   "id": "d3744758",
   "metadata": {},
   "outputs": [],
   "source": [
    "karma = Karma('bob', 'julian', 5)"
   ]
  },
  {
   "cell_type": "code",
   "execution_count": 64,
   "id": "d75fdab8",
   "metadata": {},
   "outputs": [
    {
     "data": {
      "text/plain": [
       "('bob', 'julian', 5)"
      ]
     },
     "execution_count": 64,
     "metadata": {},
     "output_type": "execute_result"
    }
   ],
   "source": [
    "karma.giver, karma.receiver, karma.score"
   ]
  },
  {
   "cell_type": "code",
   "execution_count": 65,
   "id": "46327a88",
   "metadata": {},
   "outputs": [
    {
     "data": {
      "text/plain": [
       "{'giver': str, 'receiver': str, 'score': int}"
      ]
     },
     "execution_count": 65,
     "metadata": {},
     "output_type": "execute_result"
    }
   ],
   "source": [
    "karma.__annotations__"
   ]
  },
  {
   "cell_type": "markdown",
   "id": "31fc9504",
   "metadata": {},
   "source": [
    "### defaultdict"
   ]
  },
  {
   "cell_type": "code",
   "execution_count": 66,
   "id": "501e7311",
   "metadata": {},
   "outputs": [],
   "source": [
    "from collections import defaultdict"
   ]
  },
  {
   "cell_type": "code",
   "execution_count": 67,
   "id": "63143cdc",
   "metadata": {},
   "outputs": [],
   "source": [
    "data = \"\"\"Tim,ID\n",
    "Sara,BR\n",
    "Thelma,CN\n",
    "Chris,RU\n",
    "Fina,ID\n",
    "Juliana,SE\n",
    "Roberto,CN\n",
    "Mario,PL\n",
    "Paul,CN\"\"\".splitlines()"
   ]
  },
  {
   "cell_type": "code",
   "execution_count": 68,
   "id": "3c84096f",
   "metadata": {},
   "outputs": [
    {
     "data": {
      "text/plain": [
       "['Tim,ID',\n",
       " 'Sara,BR',\n",
       " 'Thelma,CN',\n",
       " 'Chris,RU',\n",
       " 'Fina,ID',\n",
       " 'Juliana,SE',\n",
       " 'Roberto,CN',\n",
       " 'Mario,PL',\n",
       " 'Paul,CN']"
      ]
     },
     "execution_count": 68,
     "metadata": {},
     "output_type": "execute_result"
    }
   ],
   "source": [
    "data"
   ]
  },
  {
   "cell_type": "code",
   "execution_count": 69,
   "id": "9c142da0",
   "metadata": {},
   "outputs": [],
   "source": [
    "people_by_country = {}"
   ]
  },
  {
   "cell_type": "code",
   "execution_count": 73,
   "id": "2c833e85",
   "metadata": {},
   "outputs": [
    {
     "data": {
      "text/plain": [
       "['__class__',\n",
       " '__class_getitem__',\n",
       " '__contains__',\n",
       " '__delattr__',\n",
       " '__delitem__',\n",
       " '__dir__',\n",
       " '__doc__',\n",
       " '__eq__',\n",
       " '__format__',\n",
       " '__ge__',\n",
       " '__getattribute__',\n",
       " '__getitem__',\n",
       " '__gt__',\n",
       " '__hash__',\n",
       " '__init__',\n",
       " '__init_subclass__',\n",
       " '__ior__',\n",
       " '__iter__',\n",
       " '__le__',\n",
       " '__len__',\n",
       " '__lt__',\n",
       " '__ne__',\n",
       " '__new__',\n",
       " '__or__',\n",
       " '__reduce__',\n",
       " '__reduce_ex__',\n",
       " '__repr__',\n",
       " '__reversed__',\n",
       " '__ror__',\n",
       " '__setattr__',\n",
       " '__setitem__',\n",
       " '__sizeof__',\n",
       " '__str__',\n",
       " '__subclasshook__',\n",
       " 'clear',\n",
       " 'copy',\n",
       " 'fromkeys',\n",
       " 'get',\n",
       " 'items',\n",
       " 'keys',\n",
       " 'pop',\n",
       " 'popitem',\n",
       " 'setdefault',\n",
       " 'update',\n",
       " 'values']"
      ]
     },
     "execution_count": 73,
     "metadata": {},
     "output_type": "execute_result"
    }
   ],
   "source": [
    "dir(people_by_country)"
   ]
  },
  {
   "cell_type": "code",
   "execution_count": 77,
   "id": "1291daea",
   "metadata": {},
   "outputs": [],
   "source": [
    "people_by_country = {}\n",
    "for row in data:\n",
    "    name, country = row.split(\",\")\n",
    "    bucket = people_by_country.setdefault(country, [])\n",
    "    bucket.append(name)"
   ]
  },
  {
   "cell_type": "code",
   "execution_count": 81,
   "id": "d6d8932d",
   "metadata": {},
   "outputs": [],
   "source": [
    "people_by_country = {}"
   ]
  },
  {
   "cell_type": "code",
   "execution_count": 83,
   "id": "ce1838e3",
   "metadata": {},
   "outputs": [],
   "source": [
    "people_by_country = defaultdict(list)"
   ]
  },
  {
   "cell_type": "code",
   "execution_count": 84,
   "id": "c374c949",
   "metadata": {},
   "outputs": [],
   "source": [
    "for row in data:\n",
    "    name, country = row.split(\",\")\n",
    "    people_by_country[country].append(name)"
   ]
  },
  {
   "cell_type": "code",
   "execution_count": 85,
   "id": "59c4fbd2",
   "metadata": {},
   "outputs": [
    {
     "data": {
      "text/plain": [
       "defaultdict(list,\n",
       "            {'ID': ['Tim', 'Fina'],\n",
       "             'BR': ['Sara'],\n",
       "             'CN': ['Thelma', 'Roberto', 'Paul'],\n",
       "             'RU': ['Chris'],\n",
       "             'SE': ['Juliana'],\n",
       "             'PL': ['Mario']})"
      ]
     },
     "execution_count": 85,
     "metadata": {},
     "output_type": "execute_result"
    }
   ],
   "source": [
    "people_by_country"
   ]
  },
  {
   "cell_type": "code",
   "execution_count": 89,
   "id": "5e4fb9a7",
   "metadata": {},
   "outputs": [],
   "source": [
    "import random\n",
    "numbers = [random.randint(1, 10) for _ in range(1000)]"
   ]
  },
  {
   "cell_type": "code",
   "execution_count": 90,
   "id": "672f88ba",
   "metadata": {},
   "outputs": [],
   "source": [
    "from collections import Counter"
   ]
  },
  {
   "cell_type": "code",
   "execution_count": 91,
   "id": "bdbdc42f",
   "metadata": {},
   "outputs": [],
   "source": [
    "cnt = Counter(numbers)"
   ]
  },
  {
   "cell_type": "code",
   "execution_count": 92,
   "id": "dfc0f85d",
   "metadata": {},
   "outputs": [
    {
     "data": {
      "text/plain": [
       "Counter({10: 90,\n",
       "         7: 113,\n",
       "         6: 107,\n",
       "         8: 88,\n",
       "         3: 94,\n",
       "         4: 109,\n",
       "         5: 94,\n",
       "         2: 95,\n",
       "         9: 97,\n",
       "         1: 113})"
      ]
     },
     "execution_count": 92,
     "metadata": {},
     "output_type": "execute_result"
    }
   ],
   "source": [
    "cnt"
   ]
  },
  {
   "cell_type": "code",
   "execution_count": 93,
   "id": "b3f6a25a",
   "metadata": {},
   "outputs": [
    {
     "data": {
      "text/plain": [
       "[(7, 113), (1, 113), (4, 109), (6, 107), (9, 97)]"
      ]
     },
     "execution_count": 93,
     "metadata": {},
     "output_type": "execute_result"
    }
   ],
   "source": [
    "cnt.most_common(5)"
   ]
  },
  {
   "cell_type": "code",
   "execution_count": 94,
   "id": "b5d57ec3",
   "metadata": {},
   "outputs": [],
   "source": [
    "from collections import Counter\n",
    "import os\n",
    "import re\n",
    "import urllib.request\n",
    "\n",
    "tmp = os.getenv(\"TMP\", \"/tmp\")\n",
    "stopwords_file = os.path.join(tmp, 'stopwords')\n",
    "harry_text = os.path.join(tmp, 'harry')\n",
    "urllib.request.urlretrieve(\n",
    "    'https://bites-data.s3.us-east-2.amazonaws.com/stopwords.txt',\n",
    "    stopwords_file\n",
    ")\n",
    "urllib.request.urlretrieve(\n",
    "    'https://bites-data.s3.us-east-2.amazonaws.com/harry.txt',\n",
    "    harry_text\n",
    ")\n",
    "\n",
    "def get_harry_most_common_word(n=10):\n",
    "    with open(stopwords_file) as f:\n",
    "        stopwords = set(f.read().strip().lower().split('\\n'))\n",
    "\n",
    "    with open(harry_text) as f:\n",
    "        words = [re.sub(r'\\W+', r'', word)  # [^a-zA-Z0-9_]\n",
    "                 for word in f.read().lower().split()]\n",
    "\n",
    "        words = [word for word in words if word.strip()\n",
    "                 and word not in stopwords]\n",
    "\n",
    "        cnt = Counter(words)\n",
    "        return cnt.most_common(n)"
   ]
  },
  {
   "cell_type": "code",
   "execution_count": 95,
   "id": "460d671c",
   "metadata": {},
   "outputs": [
    {
     "data": {
      "text/plain": [
       "[('dursley', 45),\n",
       " ('dumbledore', 36),\n",
       " ('said', 32),\n",
       " ('mr', 30),\n",
       " ('professor', 30),\n",
       " ('mcgonagall', 25),\n",
       " ('didnt', 22),\n",
       " ('mrs', 21),\n",
       " ('people', 21),\n",
       " ('cat', 20)]"
      ]
     },
     "execution_count": 95,
     "metadata": {},
     "output_type": "execute_result"
    }
   ],
   "source": [
    "get_harry_most_common_word()"
   ]
  },
  {
   "cell_type": "markdown",
   "id": "e34e0925",
   "metadata": {},
   "source": [
    "### ChainMap"
   ]
  },
  {
   "cell_type": "code",
   "execution_count": 97,
   "id": "519ca294",
   "metadata": {},
   "outputs": [],
   "source": [
    "# https://docs.python.org/3/library/collections.html#collections.ChainMap\n",
    "baseline = {'music': 'bach', 'art': 'rembrandt'}\n",
    "adjustments = {'art': 'van gogh', 'opera': 'carmen'}"
   ]
  },
  {
   "cell_type": "code",
   "execution_count": 98,
   "id": "18fa8f15",
   "metadata": {},
   "outputs": [
    {
     "data": {
      "text/plain": [
       "{'music': 'bach', 'art': 'van gogh', 'opera': 'carmen'}"
      ]
     },
     "execution_count": 98,
     "metadata": {},
     "output_type": "execute_result"
    }
   ],
   "source": [
    "baseline | adjustments  # new dict merge syntax >= 3.9"
   ]
  },
  {
   "cell_type": "code",
   "execution_count": 99,
   "id": "add9faa0",
   "metadata": {},
   "outputs": [],
   "source": [
    "from collections import ChainMap"
   ]
  },
  {
   "cell_type": "code",
   "execution_count": 100,
   "id": "1b8ed7a1",
   "metadata": {},
   "outputs": [
    {
     "data": {
      "text/plain": [
       "ChainMap({'music': 'bach', 'art': 'rembrandt'}, {'art': 'van gogh', 'opera': 'carmen'})"
      ]
     },
     "execution_count": 100,
     "metadata": {},
     "output_type": "execute_result"
    }
   ],
   "source": [
    "ChainMap(baseline, adjustments)"
   ]
  },
  {
   "cell_type": "code",
   "execution_count": 101,
   "id": "40e36671",
   "metadata": {},
   "outputs": [
    {
     "data": {
      "text/plain": [
       "'rembrandt'"
      ]
     },
     "execution_count": 101,
     "metadata": {},
     "output_type": "execute_result"
    }
   ],
   "source": [
    "ChainMap(argparse, os.environ)"
   ]
  },
  {
   "cell_type": "code",
   "execution_count": 102,
   "id": "9eb28dae",
   "metadata": {},
   "outputs": [],
   "source": [
    "### deque\n",
    "from collections import deque"
   ]
  },
  {
   "cell_type": "code",
   "execution_count": 103,
   "id": "dd712d30",
   "metadata": {},
   "outputs": [],
   "source": [
    "s = \"this is a string\""
   ]
  },
  {
   "cell_type": "code",
   "execution_count": 104,
   "id": "af4cf3fb",
   "metadata": {},
   "outputs": [],
   "source": [
    "d = deque(s)"
   ]
  },
  {
   "cell_type": "code",
   "execution_count": 105,
   "id": "a33b9753",
   "metadata": {},
   "outputs": [],
   "source": [
    "d.rotate(3)"
   ]
  },
  {
   "cell_type": "code",
   "execution_count": 107,
   "id": "ed99136b",
   "metadata": {},
   "outputs": [
    {
     "data": {
      "text/plain": [
       "deque(['i',\n",
       "       'n',\n",
       "       'g',\n",
       "       't',\n",
       "       'h',\n",
       "       'i',\n",
       "       's',\n",
       "       ' ',\n",
       "       'i',\n",
       "       's',\n",
       "       ' ',\n",
       "       'a',\n",
       "       ' ',\n",
       "       's',\n",
       "       't',\n",
       "       'r'])"
      ]
     },
     "execution_count": 107,
     "metadata": {},
     "output_type": "execute_result"
    }
   ],
   "source": [
    "d"
   ]
  },
  {
   "cell_type": "code",
   "execution_count": 108,
   "id": "98565a35",
   "metadata": {},
   "outputs": [],
   "source": [
    "d.rotate(-3)"
   ]
  },
  {
   "cell_type": "code",
   "execution_count": 109,
   "id": "62e13184",
   "metadata": {},
   "outputs": [
    {
     "data": {
      "text/plain": [
       "deque(['t',\n",
       "       'h',\n",
       "       'i',\n",
       "       's',\n",
       "       ' ',\n",
       "       'i',\n",
       "       's',\n",
       "       ' ',\n",
       "       'a',\n",
       "       ' ',\n",
       "       's',\n",
       "       't',\n",
       "       'r',\n",
       "       'i',\n",
       "       'n',\n",
       "       'g'])"
      ]
     },
     "execution_count": 109,
     "metadata": {},
     "output_type": "execute_result"
    }
   ],
   "source": [
    "d"
   ]
  },
  {
   "cell_type": "code",
   "execution_count": 110,
   "id": "4cf325ef",
   "metadata": {},
   "outputs": [
    {
     "data": {
      "text/plain": [
       "'s is a stringthi'"
      ]
     },
     "execution_count": 110,
     "metadata": {},
     "output_type": "execute_result"
    }
   ],
   "source": [
    "s[3:] + s[:3]"
   ]
  },
  {
   "cell_type": "markdown",
   "id": "799be103",
   "metadata": {},
   "source": [
    "### deque"
   ]
  },
  {
   "cell_type": "code",
   "execution_count": 111,
   "id": "39fc90a2",
   "metadata": {},
   "outputs": [],
   "source": [
    "lst = list(range(1_000_000))\n",
    "deq = deque(range(1_000_000))"
   ]
  },
  {
   "cell_type": "code",
   "execution_count": 112,
   "id": "40e60565",
   "metadata": {},
   "outputs": [
    {
     "data": {
      "text/plain": [
       "1000000"
      ]
     },
     "execution_count": 112,
     "metadata": {},
     "output_type": "execute_result"
    }
   ],
   "source": [
    "len(deq)"
   ]
  },
  {
   "cell_type": "code",
   "execution_count": 113,
   "id": "add546df",
   "metadata": {},
   "outputs": [],
   "source": [
    "def insert_and_delete(ds):\n",
    "    for i in range(10):\n",
    "        index = random.choice(range(100))\n",
    "        ds.remove(index)\n",
    "        ds.insert(index, index)"
   ]
  },
  {
   "cell_type": "code",
   "execution_count": 114,
   "id": "0c0a934c",
   "metadata": {},
   "outputs": [
    {
     "name": "stdout",
     "output_type": "stream",
     "text": [
      "26.2 ms ± 4.16 ms per loop (mean ± std. dev. of 10 runs, 10 loops each)\n"
     ]
    }
   ],
   "source": [
    "%timeit -r 10 insert_and_delete(lst)"
   ]
  },
  {
   "cell_type": "code",
   "execution_count": 115,
   "id": "b853f379",
   "metadata": {},
   "outputs": [
    {
     "name": "stdout",
     "output_type": "stream",
     "text": [
      "18.2 µs ± 1.08 µs per loop (mean ± std. dev. of 10 runs, 100,000 loops each)\n"
     ]
    }
   ],
   "source": [
    "%timeit -r 10 insert_and_delete(deq)"
   ]
  },
  {
   "cell_type": "markdown",
   "id": "4618f052",
   "metadata": {},
   "source": [
    "### array"
   ]
  },
  {
   "cell_type": "code",
   "execution_count": 121,
   "id": "2fee2e39",
   "metadata": {},
   "outputs": [],
   "source": [
    "import sys\n",
    "from array import array"
   ]
  },
  {
   "cell_type": "code",
   "execution_count": 122,
   "id": "301cbb63",
   "metadata": {},
   "outputs": [],
   "source": [
    "numbers = list(range(1, 21))"
   ]
  },
  {
   "cell_type": "code",
   "execution_count": 123,
   "id": "81e76694",
   "metadata": {},
   "outputs": [],
   "source": [
    "a_numbers = array(\"b\", numbers)"
   ]
  },
  {
   "cell_type": "code",
   "execution_count": 124,
   "id": "0bd12446",
   "metadata": {},
   "outputs": [
    {
     "data": {
      "text/plain": [
       "216"
      ]
     },
     "execution_count": 124,
     "metadata": {},
     "output_type": "execute_result"
    }
   ],
   "source": [
    "sys.getsizeof(numbers)"
   ]
  },
  {
   "cell_type": "code",
   "execution_count": 125,
   "id": "b823be7e",
   "metadata": {},
   "outputs": [
    {
     "data": {
      "text/plain": [
       "100"
      ]
     },
     "execution_count": 125,
     "metadata": {},
     "output_type": "execute_result"
    }
   ],
   "source": [
    "sys.getsizeof(a_numbers)"
   ]
  },
  {
   "cell_type": "markdown",
   "id": "2601f8e0",
   "metadata": {},
   "source": [
    "### enum"
   ]
  },
  {
   "cell_type": "code",
   "execution_count": 126,
   "id": "44a31699",
   "metadata": {},
   "outputs": [],
   "source": [
    "from enum import Enum, IntEnum"
   ]
  },
  {
   "cell_type": "code",
   "execution_count": 127,
   "id": "464d2e97",
   "metadata": {},
   "outputs": [],
   "source": [
    "class BiteLevel(Enum):\n",
    "    INTRO = 1\n",
    "    BEGINNER = 2\n",
    "    INTERMEDIATE = 3\n",
    "    ADVANCED = 4"
   ]
  },
  {
   "cell_type": "code",
   "execution_count": 128,
   "id": "b613b4a9",
   "metadata": {},
   "outputs": [
    {
     "data": {
      "text/plain": [
       "<BiteLevel.INTRO: 1>"
      ]
     },
     "execution_count": 128,
     "metadata": {},
     "output_type": "execute_result"
    }
   ],
   "source": [
    "BiteLevel.INTRO"
   ]
  },
  {
   "cell_type": "code",
   "execution_count": 129,
   "id": "c756afb0",
   "metadata": {},
   "outputs": [
    {
     "data": {
      "text/plain": [
       "False"
      ]
     },
     "execution_count": 129,
     "metadata": {},
     "output_type": "execute_result"
    }
   ],
   "source": [
    "BiteLevel.INTRO == 1"
   ]
  },
  {
   "cell_type": "code",
   "execution_count": 131,
   "id": "fe00f44a",
   "metadata": {},
   "outputs": [],
   "source": [
    "class BiteLevel(IntEnum):\n",
    "    INTRO = 1\n",
    "    BEGINNER = 2\n",
    "    INTERMEDIATE = 3\n",
    "    ADVANCED = 4"
   ]
  },
  {
   "cell_type": "code",
   "execution_count": 132,
   "id": "cc65b658",
   "metadata": {},
   "outputs": [
    {
     "data": {
      "text/plain": [
       "True"
      ]
     },
     "execution_count": 132,
     "metadata": {},
     "output_type": "execute_result"
    }
   ],
   "source": [
    "BiteLevel.INTRO == 1"
   ]
  },
  {
   "cell_type": "markdown",
   "id": "88db6d51",
   "metadata": {},
   "source": [
    "### bisect"
   ]
  },
  {
   "cell_type": "code",
   "execution_count": 133,
   "id": "d2bae9f1",
   "metadata": {},
   "outputs": [],
   "source": [
    "from bisect import insort"
   ]
  },
  {
   "cell_type": "code",
   "execution_count": 134,
   "id": "b3cd8df5",
   "metadata": {},
   "outputs": [],
   "source": [
    "items = [3, 5, 7]"
   ]
  },
  {
   "cell_type": "code",
   "execution_count": 135,
   "id": "b6e1a1c7",
   "metadata": {},
   "outputs": [],
   "source": [
    "insort(items, 6)"
   ]
  },
  {
   "cell_type": "code",
   "execution_count": 137,
   "id": "57f2b7f5",
   "metadata": {},
   "outputs": [
    {
     "data": {
      "text/plain": [
       "[3, 5, 6, 7]"
      ]
     },
     "execution_count": 137,
     "metadata": {},
     "output_type": "execute_result"
    }
   ],
   "source": [
    "items"
   ]
  },
  {
   "cell_type": "code",
   "execution_count": 138,
   "id": "7822cc88",
   "metadata": {},
   "outputs": [],
   "source": [
    "insort(items, 4)"
   ]
  },
  {
   "cell_type": "code",
   "execution_count": 139,
   "id": "923de511",
   "metadata": {},
   "outputs": [
    {
     "data": {
      "text/plain": [
       "[3, 4, 5, 6, 7]"
      ]
     },
     "execution_count": 139,
     "metadata": {},
     "output_type": "execute_result"
    }
   ],
   "source": [
    "items"
   ]
  },
  {
   "cell_type": "markdown",
   "id": "59039de0",
   "metadata": {},
   "source": [
    "### heapq"
   ]
  },
  {
   "cell_type": "code",
   "execution_count": 141,
   "id": "d98b41a0",
   "metadata": {},
   "outputs": [],
   "source": [
    "import heapq"
   ]
  },
  {
   "cell_type": "code",
   "execution_count": 142,
   "id": "57663837",
   "metadata": {},
   "outputs": [],
   "source": [
    "# https://realpython.com/python-data-structures/#heapq-list-based-binary-heaps\n",
    "q = []"
   ]
  },
  {
   "cell_type": "code",
   "execution_count": 143,
   "id": "4d0c93de",
   "metadata": {},
   "outputs": [],
   "source": [
    "heapq.heappush(q, (2, \"code\"))"
   ]
  },
  {
   "cell_type": "code",
   "execution_count": 144,
   "id": "93bcc9b4",
   "metadata": {},
   "outputs": [],
   "source": [
    "heapq.heappush(q, (1, \"eat\"))"
   ]
  },
  {
   "cell_type": "code",
   "execution_count": 145,
   "id": "d86474e9",
   "metadata": {},
   "outputs": [],
   "source": [
    "heapq.heappush(q, (3, \"sleep\"))"
   ]
  },
  {
   "cell_type": "code",
   "execution_count": 146,
   "id": "3a4495a5",
   "metadata": {},
   "outputs": [
    {
     "name": "stdout",
     "output_type": "stream",
     "text": [
      "(1, 'eat')\n",
      "(2, 'code')\n",
      "(3, 'sleep')\n"
     ]
    }
   ],
   "source": [
    "while q:\n",
    "    next_item = heapq.heappop(q)\n",
    "    print(next_item)"
   ]
  },
  {
   "cell_type": "code",
   "execution_count": 147,
   "id": "61b216f9",
   "metadata": {},
   "outputs": [],
   "source": [
    "numbers = random.sample(range(50), 10)"
   ]
  },
  {
   "cell_type": "code",
   "execution_count": 148,
   "id": "501f0acd",
   "metadata": {},
   "outputs": [
    {
     "data": {
      "text/plain": [
       "[41, 5, 18, 3, 15, 16, 22, 2, 37, 30]"
      ]
     },
     "execution_count": 148,
     "metadata": {},
     "output_type": "execute_result"
    }
   ],
   "source": [
    "numbers"
   ]
  },
  {
   "cell_type": "code",
   "execution_count": 149,
   "id": "46f57bd6",
   "metadata": {},
   "outputs": [
    {
     "data": {
      "text/plain": [
       "[41, 37, 30]"
      ]
     },
     "execution_count": 149,
     "metadata": {},
     "output_type": "execute_result"
    }
   ],
   "source": [
    "heapq.nlargest(3, numbers)"
   ]
  },
  {
   "cell_type": "code",
   "execution_count": 150,
   "id": "02def2b6",
   "metadata": {},
   "outputs": [
    {
     "data": {
      "text/plain": [
       "[2, 3, 5]"
      ]
     },
     "execution_count": 150,
     "metadata": {},
     "output_type": "execute_result"
    }
   ],
   "source": [
    "heapq.nsmallest(3, numbers)"
   ]
  },
  {
   "cell_type": "code",
   "execution_count": 151,
   "id": "99e4f0c7",
   "metadata": {},
   "outputs": [
    {
     "data": {
      "text/plain": [
       "[2, 3, 5]"
      ]
     },
     "execution_count": 151,
     "metadata": {},
     "output_type": "execute_result"
    }
   ],
   "source": [
    "numbers.sort()\n",
    "numbers[:3]"
   ]
  },
  {
   "cell_type": "markdown",
   "id": "fbed347a",
   "metadata": {},
   "source": [
    "### copy"
   ]
  },
  {
   "cell_type": "code",
   "execution_count": 152,
   "id": "6a1a2c98",
   "metadata": {},
   "outputs": [],
   "source": [
    "from copy import copy, deepcopy"
   ]
  },
  {
   "cell_type": "code",
   "execution_count": 153,
   "id": "6dcd8ef8",
   "metadata": {},
   "outputs": [],
   "source": [
    "items = [dict(id=1, name='laptop')]"
   ]
  },
  {
   "cell_type": "code",
   "execution_count": 154,
   "id": "87ef14dc",
   "metadata": {},
   "outputs": [],
   "source": [
    "items2 = copy(items)"
   ]
  },
  {
   "cell_type": "code",
   "execution_count": 155,
   "id": "483351bf",
   "metadata": {},
   "outputs": [],
   "source": [
    "items[0][1] = \"mac\""
   ]
  },
  {
   "cell_type": "code",
   "execution_count": 156,
   "id": "420f664c",
   "metadata": {},
   "outputs": [
    {
     "data": {
      "text/plain": [
       "[{'id': 1, 'name': 'laptop', 1: 'mac'}]"
      ]
     },
     "execution_count": 156,
     "metadata": {},
     "output_type": "execute_result"
    }
   ],
   "source": [
    "items"
   ]
  },
  {
   "cell_type": "code",
   "execution_count": 157,
   "id": "dca66264",
   "metadata": {},
   "outputs": [
    {
     "data": {
      "text/plain": [
       "[{'id': 1, 'name': 'laptop', 1: 'mac'}]"
      ]
     },
     "execution_count": 157,
     "metadata": {},
     "output_type": "execute_result"
    }
   ],
   "source": [
    "items2  # oops"
   ]
  },
  {
   "cell_type": "code",
   "execution_count": 158,
   "id": "97bf1004",
   "metadata": {},
   "outputs": [],
   "source": [
    "items = [dict(id=1, name='laptop')]\n",
    "items2 = deepcopy(items)"
   ]
  },
  {
   "cell_type": "code",
   "execution_count": 159,
   "id": "6fb0f43f",
   "metadata": {},
   "outputs": [],
   "source": [
    "items[0][1] = \"mac\""
   ]
  },
  {
   "cell_type": "code",
   "execution_count": 160,
   "id": "b4f02276",
   "metadata": {},
   "outputs": [
    {
     "data": {
      "text/plain": [
       "[{'id': 1, 'name': 'laptop', 1: 'mac'}]"
      ]
     },
     "execution_count": 160,
     "metadata": {},
     "output_type": "execute_result"
    }
   ],
   "source": [
    "items"
   ]
  },
  {
   "cell_type": "code",
   "execution_count": 161,
   "id": "c94a676a",
   "metadata": {},
   "outputs": [
    {
     "data": {
      "text/plain": [
       "[{'id': 1, 'name': 'laptop'}]"
      ]
     },
     "execution_count": 161,
     "metadata": {},
     "output_type": "execute_result"
    }
   ],
   "source": [
    "items2"
   ]
  },
  {
   "cell_type": "markdown",
   "id": "cf519a5d",
   "metadata": {},
   "source": [
    "### pprint"
   ]
  },
  {
   "cell_type": "code",
   "execution_count": 162,
   "id": "d88e3f5e",
   "metadata": {},
   "outputs": [],
   "source": [
    "from pprint import pprint as pp"
   ]
  },
  {
   "cell_type": "code",
   "execution_count": 163,
   "id": "b501eb87",
   "metadata": {},
   "outputs": [],
   "source": [
    "feed = feedparser.parse(FEED_URL)"
   ]
  },
  {
   "cell_type": "code",
   "execution_count": 164,
   "id": "017cb068",
   "metadata": {},
   "outputs": [
    {
     "data": {
      "text/plain": [
       "{'bozo': True,\n",
       " 'entries': [{'title': 'Midweek Madness - RiME, 33% Off',\n",
       "   'title_detail': {'type': 'text/plain',\n",
       "    'language': None,\n",
       "    'base': 'https://bites-data.s3.us-east-2.amazonaws.com/steam_gaming.xml',\n",
       "    'value': 'Midweek Madness - RiME, 33% Off'},\n",
       "   'links': [{'rel': 'alternate',\n",
       "     'type': 'text/html',\n",
       "     'href': 'http://store.steampowered.com/news/31695/'}],\n",
       "   'link': 'http://store.steampowered.com/news/31695/',\n",
       "   'id': 'http://store.steampowered.com/news/31695/',\n",
       "   'guidislink': False,\n",
       "   'published': 'Tue, 15 Aug 2017 10:51:00 -0700',\n",
       "   'published_parsed': time.struct_time(tm_year=2017, tm_mon=8, tm_mday=15, tm_hour=17, tm_min=51, tm_sec=0, tm_wday=1, tm_yday=227, tm_isdst=0),\n",
       "   'summary': 'Save 33% on <a href=\"http://store.steampowered.com/app/493200/\">RiME</a> during this week\\'s Midweek Madness*!<br /><br />A land of discovery stretches out before you. Explore the beautiful yet rugged world of RiME, a single-player puzzle adventure. <br /><br />*Offer ends Friday at 10AM Pacific Time<br /><br /><a href=\"http://store.steampowered.com/app/493200/\"><img src=\"https://steamcdn-a.akamaihd.net/steam/apps/493200/capsule_467x181.jpg\" style=\"float: left; margin-right: 12px; height: 181px; width: 467px;\" /></a>',\n",
       "   'summary_detail': {'type': 'text/html',\n",
       "    'language': None,\n",
       "    'base': 'https://bites-data.s3.us-east-2.amazonaws.com/steam_gaming.xml',\n",
       "    'value': 'Save 33% on <a href=\"http://store.steampowered.com/app/493200/\">RiME</a> during this week\\'s Midweek Madness*!<br /><br />A land of discovery stretches out before you. Explore the beautiful yet rugged world of RiME, a single-player puzzle adventure. <br /><br />*Offer ends Friday at 10AM Pacific Time<br /><br /><a href=\"http://store.steampowered.com/app/493200/\"><img src=\"https://steamcdn-a.akamaihd.net/steam/apps/493200/capsule_467x181.jpg\" style=\"float: left; margin-right: 12px; height: 181px; width: 467px;\" /></a>'}},\n",
       "  {'title': 'Now Available on Steam - Nidhogg 2, 10% off!',\n",
       "   'title_detail': {'type': 'text/plain',\n",
       "    'language': None,\n",
       "    'base': 'https://bites-data.s3.us-east-2.amazonaws.com/steam_gaming.xml',\n",
       "    'value': 'Now Available on Steam - Nidhogg 2, 10% off!'},\n",
       "   'links': [{'rel': 'alternate',\n",
       "     'type': 'text/html',\n",
       "     'href': 'http://store.steampowered.com/news/31694/'}],\n",
       "   'link': 'http://store.steampowered.com/news/31694/',\n",
       "   'id': 'http://store.steampowered.com/news/31694/',\n",
       "   'guidislink': False,\n",
       "   'published': 'Tue, 15 Aug 2017 10:35:00 -0700',\n",
       "   'published_parsed': time.struct_time(tm_year=2017, tm_mon=8, tm_mday=15, tm_hour=17, tm_min=35, tm_sec=0, tm_wday=1, tm_yday=227, tm_isdst=0),\n",
       "   'summary': '<a href=\"http://store.steampowered.com/app/535520/\">Nidhogg 2</a> is Now Available on Steam and is 10% off!*<br /><br />The rules are simple. Reach the other side and kill anyone that stands in your way. Deftly parry and rend their throats, riddle their bowels with arrows, or squish their brains between your toes. The wurm cares not for chivalry.<br /><br />*Offer ends August 22 at 10AM Pacific Time<br /><a href=\"http://store.steampowered.com/app/535520/\"><img src=\"https://steamcdn-a.akamaihd.net/steam/apps/535520/capsule_467x181.jpg\" style=\"float: left; margin-right: 12px; height: 181px; width: 467px;\" /></a>',\n",
       "   'summary_detail': {'type': 'text/html',\n",
       "    'language': None,\n",
       "    'base': 'https://bites-data.s3.us-east-2.amazonaws.com/steam_gaming.xml',\n",
       "    'value': '<a href=\"http://store.steampowered.com/app/535520/\">Nidhogg 2</a> is Now Available on Steam and is 10% off!*<br /><br />The rules are simple. Reach the other side and kill anyone that stands in your way. Deftly parry and rend their throats, riddle their bowels with arrows, or squish their brains between your toes. The wurm cares not for chivalry.<br /><br />*Offer ends August 22 at 10AM Pacific Time<br /><a href=\"http://store.steampowered.com/app/535520/\"><img src=\"https://steamcdn-a.akamaihd.net/steam/apps/535520/capsule_467x181.jpg\" style=\"float: left; margin-right: 12px; height: 181px; width: 467px;\" /></a>'}},\n",
       "  {'title': 'Now Available on Steam - Paranormal Activity: The Lost Soul, 25% off!',\n",
       "   'title_detail': {'type': 'text/plain',\n",
       "    'language': None,\n",
       "    'base': 'https://bites-data.s3.us-east-2.amazonaws.com/steam_gaming.xml',\n",
       "    'value': 'Now Available on Steam - Paranormal Activity: The Lost Soul, 25% off!'},\n",
       "   'links': [{'rel': 'alternate',\n",
       "     'type': 'text/html',\n",
       "     'href': 'http://store.steampowered.com/news/31693/'}],\n",
       "   'link': 'http://store.steampowered.com/news/31693/',\n",
       "   'id': 'http://store.steampowered.com/news/31693/',\n",
       "   'guidislink': False,\n",
       "   'published': 'Tue, 15 Aug 2017 10:28:20 -0700',\n",
       "   'published_parsed': time.struct_time(tm_year=2017, tm_mon=8, tm_mday=15, tm_hour=17, tm_min=28, tm_sec=20, tm_wday=1, tm_yday=227, tm_isdst=0),\n",
       "   'summary': '<a href=\"http://store.steampowered.com/app/467660/\">Paranormal Activity: The Lost Soul</a> is Now Available on Steam and is 25% off!*<br /><br />Engineered from conception for VR, â€œPARANORMAL ACTIVITY: THE LOST SOULâ€\\x9d immerses you in a terrifying realistic environment with haunting atmosphere, and the need to survive. With very limited guidance, your free-movement enables you to discover the secrets that lie in this house of horror.<br /><br />*Offer ends August 22 at 10AM Pacific Time<br /><a href=\"http://store.steampowered.com/app/467660/\"><img src=\"https://steamcdn-a.akamaihd.net/steam/apps/467660/capsule_467x181.jpg\" style=\"float: left; margin-right: 12px; height: 181px; width: 467px;\" /></a>',\n",
       "   'summary_detail': {'type': 'text/html',\n",
       "    'language': None,\n",
       "    'base': 'https://bites-data.s3.us-east-2.amazonaws.com/steam_gaming.xml',\n",
       "    'value': '<a href=\"http://store.steampowered.com/app/467660/\">Paranormal Activity: The Lost Soul</a> is Now Available on Steam and is 25% off!*<br /><br />Engineered from conception for VR, â€œPARANORMAL ACTIVITY: THE LOST SOULâ€\\x9d immerses you in a terrifying realistic environment with haunting atmosphere, and the need to survive. With very limited guidance, your free-movement enables you to discover the secrets that lie in this house of horror.<br /><br />*Offer ends August 22 at 10AM Pacific Time<br /><a href=\"http://store.steampowered.com/app/467660/\"><img src=\"https://steamcdn-a.akamaihd.net/steam/apps/467660/capsule_467x181.jpg\" style=\"float: left; margin-right: 12px; height: 181px; width: 467px;\" /></a>'}},\n",
       "  {'title': 'Now Available on Steam - Observer',\n",
       "   'title_detail': {'type': 'text/plain',\n",
       "    'language': None,\n",
       "    'base': 'https://bites-data.s3.us-east-2.amazonaws.com/steam_gaming.xml',\n",
       "    'value': 'Now Available on Steam - Observer'},\n",
       "   'links': [{'rel': 'alternate',\n",
       "     'type': 'text/html',\n",
       "     'href': 'http://store.steampowered.com/news/31692/'}],\n",
       "   'link': 'http://store.steampowered.com/news/31692/',\n",
       "   'id': 'http://store.steampowered.com/news/31692/',\n",
       "   'guidislink': False,\n",
       "   'published': 'Tue, 15 Aug 2017 10:28:00 -0700',\n",
       "   'published_parsed': time.struct_time(tm_year=2017, tm_mon=8, tm_mday=15, tm_hour=17, tm_min=28, tm_sec=0, tm_wday=1, tm_yday=227, tm_isdst=0),\n",
       "   'summary': '<a href=\"http://store.steampowered.com/app/514900/\">&gt;observer_</a> is Now Available on Steam!<br /><br />What would you do if your fears were hacked? &gt;observer_ is a cyberpunk horror game from Bloober Team, the creators of Layers of Fear. Play as an Observer, the new front line of neural police, as you hack into the jagged minds of the insane.<br /><br /><a href=\"http://store.steampowered.com/app/514900/\"><img src=\"https://steamcdn-a.akamaihd.net/steam/apps/514900/capsule_467x181.jpg\" style=\"float: left; margin-right: 12px; height: 181px; width: 467px;\" /></a>',\n",
       "   'summary_detail': {'type': 'text/html',\n",
       "    'language': None,\n",
       "    'base': 'https://bites-data.s3.us-east-2.amazonaws.com/steam_gaming.xml',\n",
       "    'value': '<a href=\"http://store.steampowered.com/app/514900/\">&gt;observer_</a> is Now Available on Steam!<br /><br />What would you do if your fears were hacked? &gt;observer_ is a cyberpunk horror game from Bloober Team, the creators of Layers of Fear. Play as an Observer, the new front line of neural police, as you hack into the jagged minds of the insane.<br /><br /><a href=\"http://store.steampowered.com/app/514900/\"><img src=\"https://steamcdn-a.akamaihd.net/steam/apps/514900/capsule_467x181.jpg\" style=\"float: left; margin-right: 12px; height: 181px; width: 467px;\" /></a>'}},\n",
       "  {'title': 'Now Available on Steam - Agents of Mayhem',\n",
       "   'title_detail': {'type': 'text/plain',\n",
       "    'language': None,\n",
       "    'base': 'https://bites-data.s3.us-east-2.amazonaws.com/steam_gaming.xml',\n",
       "    'value': 'Now Available on Steam - Agents of Mayhem'},\n",
       "   'links': [{'rel': 'alternate',\n",
       "     'type': 'text/html',\n",
       "     'href': 'http://store.steampowered.com/news/31680/'}],\n",
       "   'link': 'http://store.steampowered.com/news/31680/',\n",
       "   'id': 'http://store.steampowered.com/news/31680/',\n",
       "   'guidislink': False,\n",
       "   'published': 'Tue, 15 Aug 2017 08:04:00 -0700',\n",
       "   'published_parsed': time.struct_time(tm_year=2017, tm_mon=8, tm_mday=15, tm_hour=15, tm_min=4, tm_sec=0, tm_wday=1, tm_yday=227, tm_isdst=0),\n",
       "   'summary': '<a href=\"http://store.steampowered.com/app/304530/\">Agents of Mayhem</a> is Now Available on Steam!<br /><br />In <strong>Agents of MAYHEM</strong>, you run a no-holds barred operation against a shadowy super-villain organization known only as <strong>LEGION</strong> and their mysterious leader, the Morningstar. Explore the city of Seoul as a variety of Super Agents to thwart LEGION\\'s vile plans to take over the world!<br /><a href=\"http://store.steampowered.com/app/304530/\"><img src=\"https://steamcdn-a.akamaihd.net/steam/apps/304530/capsule_467x181.jpg\" style=\"float: left; margin-right: 12px; height: 181px; width: 467px;\" /></a>',\n",
       "   'summary_detail': {'type': 'text/html',\n",
       "    'language': None,\n",
       "    'base': 'https://bites-data.s3.us-east-2.amazonaws.com/steam_gaming.xml',\n",
       "    'value': '<a href=\"http://store.steampowered.com/app/304530/\">Agents of Mayhem</a> is Now Available on Steam!<br /><br />In <strong>Agents of MAYHEM</strong>, you run a no-holds barred operation against a shadowy super-villain organization known only as <strong>LEGION</strong> and their mysterious leader, the Morningstar. Explore the city of Seoul as a variety of Super Agents to thwart LEGION\\'s vile plans to take over the world!<br /><a href=\"http://store.steampowered.com/app/304530/\"><img src=\"https://steamcdn-a.akamaihd.net/steam/apps/304530/capsule_467x181.jpg\" style=\"float: left; margin-right: 12px; height: 181px; width: 467px;\" /></a>'}},\n",
       "  {'title': 'Now Available on Steam - West of Loathing, 10% off!',\n",
       "   'title_detail': {'type': 'text/plain',\n",
       "    'language': None,\n",
       "    'base': 'https://bites-data.s3.us-east-2.amazonaws.com/steam_gaming.xml',\n",
       "    'value': 'Now Available on Steam - West of Loathing, 10% off!'},\n",
       "   'links': [{'rel': 'alternate',\n",
       "     'type': 'text/html',\n",
       "     'href': 'http://store.steampowered.com/news/31563/'}],\n",
       "   'link': 'http://store.steampowered.com/news/31563/',\n",
       "   'id': 'http://store.steampowered.com/news/31563/',\n",
       "   'guidislink': False,\n",
       "   'published': 'Thu, 10 Aug 2017 08:01:46 -0700',\n",
       "   'published_parsed': time.struct_time(tm_year=2017, tm_mon=8, tm_mday=10, tm_hour=15, tm_min=1, tm_sec=46, tm_wday=3, tm_yday=222, tm_isdst=0),\n",
       "   'summary': '<a href=\"http://store.steampowered.com/app/597220/\">West of Loathing</a> is Now Available on Steam and is 10% off!*<br /><br />West of Loathing &mdash; a slapstick comedy stick-figure wild west adventure role-playing game.<br /><br />*Offer ends August 17 at 10AM Pacific Time<br /><a href=\"http://store.steampowered.com/app/597220/\"><img src=\"https://steamcdn-a.akamaihd.net/steam/apps/597220/capsule_467x181.jpg\" style=\"float: left; margin-right: 12px; height: 181px; width: 467px;\" /></a>',\n",
       "   'summary_detail': {'type': 'text/html',\n",
       "    'language': None,\n",
       "    'base': 'https://bites-data.s3.us-east-2.amazonaws.com/steam_gaming.xml',\n",
       "    'value': '<a href=\"http://store.steampowered.com/app/597220/\">West of Loathing</a> is Now Available on Steam and is 10% off!*<br /><br />West of Loathing &mdash; a slapstick comedy stick-figure wild west adventure role-playing game.<br /><br />*Offer ends August 17 at 10AM Pacific Time<br /><a href=\"http://store.steampowered.com/app/597220/\"><img src=\"https://steamcdn-a.akamaihd.net/steam/apps/597220/capsule_467x181.jpg\" style=\"float: left; margin-right: 12px; height: 181px; width: 467px;\" /></a>'}},\n",
       "  {'title': 'Now Available on Steam - Mega Man Legacy Collection 2',\n",
       "   'title_detail': {'type': 'text/plain',\n",
       "    'language': None,\n",
       "    'base': 'https://bites-data.s3.us-east-2.amazonaws.com/steam_gaming.xml',\n",
       "    'value': 'Now Available on Steam - Mega Man Legacy Collection 2'},\n",
       "   'links': [{'rel': 'alternate',\n",
       "     'type': 'text/html',\n",
       "     'href': 'http://store.steampowered.com/news/31549/'}],\n",
       "   'link': 'http://store.steampowered.com/news/31549/',\n",
       "   'id': 'http://store.steampowered.com/news/31549/',\n",
       "   'guidislink': False,\n",
       "   'published': 'Wed, 9 Aug 2017 06:01:00 -0700',\n",
       "   'published_parsed': time.struct_time(tm_year=2017, tm_mon=8, tm_mday=9, tm_hour=13, tm_min=1, tm_sec=0, tm_wday=2, tm_yday=221, tm_isdst=0),\n",
       "   'summary': '<a href=\"http://store.steampowered.com/app/495050/\">Mega Man Legacy Collection 2</a> is Now Available on Steam!<br /><br />The Blue Bomber is back in this second collection of classic Capcom titles! Featuring faithful reproductions of Mega Man 7, 8, 9, &amp; 10, this collection is bursting with additional content, from time trials and remix challenges to a music player and an extensive gallery of rare illustrations.<br /><a href=\"http://store.steampowered.com/app/495050/\"><img src=\"https://steamcdn-a.akamaihd.net/steam/apps/495050/capsule_467x181.jpg\" style=\"float: left; margin-right: 12px; height: 181px; width: 467px;\" /></a>',\n",
       "   'summary_detail': {'type': 'text/html',\n",
       "    'language': None,\n",
       "    'base': 'https://bites-data.s3.us-east-2.amazonaws.com/steam_gaming.xml',\n",
       "    'value': '<a href=\"http://store.steampowered.com/app/495050/\">Mega Man Legacy Collection 2</a> is Now Available on Steam!<br /><br />The Blue Bomber is back in this second collection of classic Capcom titles! Featuring faithful reproductions of Mega Man 7, 8, 9, &amp; 10, this collection is bursting with additional content, from time trials and remix challenges to a music player and an extensive gallery of rare illustrations.<br /><a href=\"http://store.steampowered.com/app/495050/\"><img src=\"https://steamcdn-a.akamaihd.net/steam/apps/495050/capsule_467x181.jpg\" style=\"float: left; margin-right: 12px; height: 181px; width: 467px;\" /></a>'}},\n",
       "  {'title': 'Now Available on Steam - Sine Mora EX, 20% off!',\n",
       "   'title_detail': {'type': 'text/plain',\n",
       "    'language': None,\n",
       "    'base': 'https://bites-data.s3.us-east-2.amazonaws.com/steam_gaming.xml',\n",
       "    'value': 'Now Available on Steam - Sine Mora EX, 20% off!'},\n",
       "   'links': [{'rel': 'alternate',\n",
       "     'type': 'text/html',\n",
       "     'href': 'http://store.steampowered.com/news/31503/'}],\n",
       "   'link': 'http://store.steampowered.com/news/31503/',\n",
       "   'id': 'http://store.steampowered.com/news/31503/',\n",
       "   'guidislink': False,\n",
       "   'published': 'Tue, 8 Aug 2017 10:20:00 -0700',\n",
       "   'published_parsed': time.struct_time(tm_year=2017, tm_mon=8, tm_mday=8, tm_hour=17, tm_min=20, tm_sec=0, tm_wday=1, tm_yday=220, tm_isdst=0),\n",
       "   'summary': '<a href=\"http://store.steampowered.com/app/606730/\">Sine Mora EX</a> is Now Available on Steam and is 20% off!*<br /><br />Sine Mora EX is a side-scrolling shoot\\'em up that provides a unique challenge, where time is the ultimate factor. Mixing classic shooter sensibilities with contemporary presentation, Sine Mora EX is a gorgeous shoot\\'em up offering both a Story Mode that weaves an over-the-top tale and an Arcade Mode that provides deep, satisfying gameplay to challenge fans of the genre.<br /><br />*Offer ends August 15 at 10AM Pacific Time<br /><a href=\"http://store.steampowered.com/app/606730/\"><img src=\"https://steamcdn-a.akamaihd.net/steam/apps/606730/capsule_467x181.jpg\" style=\"float: left; margin-right: 12px; height: 181px; width: 467px;\" /></a>',\n",
       "   'summary_detail': {'type': 'text/html',\n",
       "    'language': None,\n",
       "    'base': 'https://bites-data.s3.us-east-2.amazonaws.com/steam_gaming.xml',\n",
       "    'value': '<a href=\"http://store.steampowered.com/app/606730/\">Sine Mora EX</a> is Now Available on Steam and is 20% off!*<br /><br />Sine Mora EX is a side-scrolling shoot\\'em up that provides a unique challenge, where time is the ultimate factor. Mixing classic shooter sensibilities with contemporary presentation, Sine Mora EX is a gorgeous shoot\\'em up offering both a Story Mode that weaves an over-the-top tale and an Arcade Mode that provides deep, satisfying gameplay to challenge fans of the genre.<br /><br />*Offer ends August 15 at 10AM Pacific Time<br /><a href=\"http://store.steampowered.com/app/606730/\"><img src=\"https://steamcdn-a.akamaihd.net/steam/apps/606730/capsule_467x181.jpg\" style=\"float: left; margin-right: 12px; height: 181px; width: 467px;\" /></a>'}},\n",
       "  {'title': 'Now Available on Steam - Batman: The Enemy Within - The Telltale Series',\n",
       "   'title_detail': {'type': 'text/plain',\n",
       "    'language': None,\n",
       "    'base': 'https://bites-data.s3.us-east-2.amazonaws.com/steam_gaming.xml',\n",
       "    'value': 'Now Available on Steam - Batman: The Enemy Within - The Telltale Series'},\n",
       "   'links': [{'rel': 'alternate',\n",
       "     'type': 'text/html',\n",
       "     'href': 'http://store.steampowered.com/news/31506/'}],\n",
       "   'link': 'http://store.steampowered.com/news/31506/',\n",
       "   'id': 'http://store.steampowered.com/news/31506/',\n",
       "   'guidislink': False,\n",
       "   'published': 'Tue, 8 Aug 2017 10:08:00 -0700',\n",
       "   'published_parsed': time.struct_time(tm_year=2017, tm_mon=8, tm_mday=8, tm_hour=17, tm_min=8, tm_sec=0, tm_wday=1, tm_yday=220, tm_isdst=0),\n",
       "   'summary': '<a href=\"http://store.steampowered.com/app/675260/\">Batman: The Enemy Within - The Telltale Series</a> is Now Available on Steam!<br /><br />In this latest chapter from the award-winning studio behind Batman - The Telltale Series, both Bruce Wayne and Batman will be forced into precarious new roles. The Riddler has returned to terrorize Gotham City, but his gruesome puzzles merely foreshadow an even greater crisis.<br /><br /><a href=\"http://store.steampowered.com/app/675260/\"><img src=\"https://steamcdn-a.akamaihd.net/steam/apps/675260/capsule_467x181.jpg\" style=\"float: left; margin-right: 12px; height: 181px; width: 467px;\" /></a>',\n",
       "   'summary_detail': {'type': 'text/html',\n",
       "    'language': None,\n",
       "    'base': 'https://bites-data.s3.us-east-2.amazonaws.com/steam_gaming.xml',\n",
       "    'value': '<a href=\"http://store.steampowered.com/app/675260/\">Batman: The Enemy Within - The Telltale Series</a> is Now Available on Steam!<br /><br />In this latest chapter from the award-winning studio behind Batman - The Telltale Series, both Bruce Wayne and Batman will be forced into precarious new roles. The Riddler has returned to terrorize Gotham City, but his gruesome puzzles merely foreshadow an even greater crisis.<br /><br /><a href=\"http://store.steampowered.com/app/675260/\"><img src=\"https://steamcdn-a.akamaihd.net/steam/apps/675260/capsule_467x181.jpg\" style=\"float: left; margin-right: 12px; height: 181px; width: 467px;\" /></a>'}},\n",
       "  {'title': \"Now Available on Steam - Hellblade: Senua's Sacrifice\",\n",
       "   'title_detail': {'type': 'text/plain',\n",
       "    'language': None,\n",
       "    'base': 'https://bites-data.s3.us-east-2.amazonaws.com/steam_gaming.xml',\n",
       "    'value': \"Now Available on Steam - Hellblade: Senua's Sacrifice\"},\n",
       "   'links': [{'rel': 'alternate',\n",
       "     'type': 'text/html',\n",
       "     'href': 'http://store.steampowered.com/news/31473/'}],\n",
       "   'link': 'http://store.steampowered.com/news/31473/',\n",
       "   'id': 'http://store.steampowered.com/news/31473/',\n",
       "   'guidislink': False,\n",
       "   'published': 'Mon, 7 Aug 2017 08:56:14 -0700',\n",
       "   'published_parsed': time.struct_time(tm_year=2017, tm_mon=8, tm_mday=7, tm_hour=15, tm_min=56, tm_sec=14, tm_wday=0, tm_yday=219, tm_isdst=0),\n",
       "   'summary': '<a href=\"http://store.steampowered.com/app/414340/\">Hellblade: Senua\\'s Sacrifice</a> is Now Available on Steam!<br /><br />From the makers of Heavenly Sword, Enslaved: Odyssey to the West, and DmC: Devil May Cry, comes a warrior&rsquo;s brutal journey into myth and madness.<br /><br /><br /><br />Set in the Viking age, a broken Celtic warrior embarks on a haunting vision quest into Viking Hell to fight for the soul of her dead lover.<br /><a href=\"http://store.steampowered.com/app/414340/\"><img src=\"https://steamcdn-a.akamaihd.net/steam/apps/414340/capsule_467x181.jpg\" style=\"float: left; margin-right: 12px; height: 181px; width: 467px;\" /></a>',\n",
       "   'summary_detail': {'type': 'text/html',\n",
       "    'language': None,\n",
       "    'base': 'https://bites-data.s3.us-east-2.amazonaws.com/steam_gaming.xml',\n",
       "    'value': '<a href=\"http://store.steampowered.com/app/414340/\">Hellblade: Senua\\'s Sacrifice</a> is Now Available on Steam!<br /><br />From the makers of Heavenly Sword, Enslaved: Odyssey to the West, and DmC: Devil May Cry, comes a warrior&rsquo;s brutal journey into myth and madness.<br /><br /><br /><br />Set in the Viking age, a broken Celtic warrior embarks on a haunting vision quest into Viking Hell to fight for the soul of her dead lover.<br /><a href=\"http://store.steampowered.com/app/414340/\"><img src=\"https://steamcdn-a.akamaihd.net/steam/apps/414340/capsule_467x181.jpg\" style=\"float: left; margin-right: 12px; height: 181px; width: 467px;\" /></a>'}},\n",
       "  {'title': 'Now Available on Steam - LawBreakers',\n",
       "   'title_detail': {'type': 'text/plain',\n",
       "    'language': None,\n",
       "    'base': 'https://bites-data.s3.us-east-2.amazonaws.com/steam_gaming.xml',\n",
       "    'value': 'Now Available on Steam - LawBreakers'},\n",
       "   'links': [{'rel': 'alternate',\n",
       "     'type': 'text/html',\n",
       "     'href': 'http://store.steampowered.com/news/31467/'}],\n",
       "   'link': 'http://store.steampowered.com/news/31467/',\n",
       "   'id': 'http://store.steampowered.com/news/31467/',\n",
       "   'guidislink': False,\n",
       "   'published': 'Mon, 7 Aug 2017 03:39:00 -0700',\n",
       "   'published_parsed': time.struct_time(tm_year=2017, tm_mon=8, tm_mday=7, tm_hour=10, tm_min=39, tm_sec=0, tm_wday=0, tm_yday=219, tm_isdst=0),\n",
       "   'summary': '<a href=\"http://store.steampowered.com/app/350280/\">LawBreakers</a> is Now Available on Steam!<br /><br />Bring your skills and get ready to deliver death from every angle as you compete in unprecedented gravity-defying combat in LawBreakers, the new first-person shooter from legendary game designer Cliff Bleszinski and the Boss Key Productions team.<br /><br /><a href=\"http://store.steampowered.com/app/350280/\"><img src=\"https://steamcdn-a.akamaihd.net/steam/apps/350280/capsule_467x181.jpg\" style=\"float: left; margin-right: 12px; height: 181px; width: 467px;\" /></a>',\n",
       "   'summary_detail': {'type': 'text/html',\n",
       "    'language': None,\n",
       "    'base': 'https://bites-data.s3.us-east-2.amazonaws.com/steam_gaming.xml',\n",
       "    'value': '<a href=\"http://store.steampowered.com/app/350280/\">LawBreakers</a> is Now Available on Steam!<br /><br />Bring your skills and get ready to deliver death from every angle as you compete in unprecedented gravity-defying combat in LawBreakers, the new first-person shooter from legendary game designer Cliff Bleszinski and the Boss Key Productions team.<br /><br /><a href=\"http://store.steampowered.com/app/350280/\"><img src=\"https://steamcdn-a.akamaihd.net/steam/apps/350280/capsule_467x181.jpg\" style=\"float: left; margin-right: 12px; height: 181px; width: 467px;\" /></a>'}},\n",
       "  {'title': 'Now Available on Steam - The Shrouded Isle, 10% off!',\n",
       "   'title_detail': {'type': 'text/plain',\n",
       "    'language': None,\n",
       "    'base': 'https://bites-data.s3.us-east-2.amazonaws.com/steam_gaming.xml',\n",
       "    'value': 'Now Available on Steam - The Shrouded Isle, 10% off!'},\n",
       "   'links': [{'rel': 'alternate',\n",
       "     'type': 'text/html',\n",
       "     'href': 'http://store.steampowered.com/news/31406/'}],\n",
       "   'link': 'http://store.steampowered.com/news/31406/',\n",
       "   'id': 'http://store.steampowered.com/news/31406/',\n",
       "   'guidislink': False,\n",
       "   'published': 'Fri, 4 Aug 2017 09:02:34 -0700',\n",
       "   'published_parsed': time.struct_time(tm_year=2017, tm_mon=8, tm_mday=4, tm_hour=16, tm_min=2, tm_sec=34, tm_wday=4, tm_yday=216, tm_isdst=0),\n",
       "   'summary': '<a href=\"http://store.steampowered.com/app/501320/\">The Shrouded Isle</a> is Now Available on Steam and is 10% off!*<br /><br />Your Excellency, you must prepare for the awakening of our Lord. He hungers for a human sacrifice every season. Sinners try to hide their dark secrets, but all must be purged...<br /><br />*Offer ends August 11 at 10AM Pacific Time<br /><a href=\"http://store.steampowered.com/app/501320/\"><img src=\"https://steamcdn-a.akamaihd.net/steam/apps/501320/capsule_467x181.jpg\" style=\"float: left; margin-right: 12px; height: 181px; width: 467px;\" /></a>',\n",
       "   'summary_detail': {'type': 'text/html',\n",
       "    'language': None,\n",
       "    'base': 'https://bites-data.s3.us-east-2.amazonaws.com/steam_gaming.xml',\n",
       "    'value': '<a href=\"http://store.steampowered.com/app/501320/\">The Shrouded Isle</a> is Now Available on Steam and is 10% off!*<br /><br />Your Excellency, you must prepare for the awakening of our Lord. He hungers for a human sacrifice every season. Sinners try to hide their dark secrets, but all must be purged...<br /><br />*Offer ends August 11 at 10AM Pacific Time<br /><a href=\"http://store.steampowered.com/app/501320/\"><img src=\"https://steamcdn-a.akamaihd.net/steam/apps/501320/capsule_467x181.jpg\" style=\"float: left; margin-right: 12px; height: 181px; width: 467px;\" /></a>'}},\n",
       "  {'title': 'Weekend Deal - Rebellion Publisher Weekend, Up To 80% Off',\n",
       "   'title_detail': {'type': 'text/plain',\n",
       "    'language': None,\n",
       "    'base': 'https://bites-data.s3.us-east-2.amazonaws.com/steam_gaming.xml',\n",
       "    'value': 'Weekend Deal - Rebellion Publisher Weekend, Up To 80% Off'},\n",
       "   'links': [{'rel': 'alternate',\n",
       "     'type': 'text/html',\n",
       "     'href': 'http://store.steampowered.com/news/31202/'}],\n",
       "   'link': 'http://store.steampowered.com/news/31202/',\n",
       "   'id': 'http://store.steampowered.com/news/31202/',\n",
       "   'guidislink': False,\n",
       "   'published': 'Thu, 3 Aug 2017 10:15:00 -0700',\n",
       "   'published_parsed': time.struct_time(tm_year=2017, tm_mon=8, tm_mday=3, tm_hour=17, tm_min=15, tm_sec=0, tm_wday=3, tm_yday=215, tm_isdst=0),\n",
       "   'summary': 'Save up to 80% in the <a href=\"http://store.steampowered.com/app/689240/\">Rebellion Publisher Weekend</a> as part of this week\\'s Weekend Deal*!<br /><br />*Offer ends Monday at 10AM Pacific Time<br /><a href=\"http://store.steampowered.com/app/689240/\"><img src=\"https://steamcdn-a.akamaihd.net/steam/news/31202/spotlight.jpg?t=1501476027\" style=\"float: left; margin-right: 12px;\" /></a>',\n",
       "   'summary_detail': {'type': 'text/html',\n",
       "    'language': None,\n",
       "    'base': 'https://bites-data.s3.us-east-2.amazonaws.com/steam_gaming.xml',\n",
       "    'value': 'Save up to 80% in the <a href=\"http://store.steampowered.com/app/689240/\">Rebellion Publisher Weekend</a> as part of this week\\'s Weekend Deal*!<br /><br />*Offer ends Monday at 10AM Pacific Time<br /><a href=\"http://store.steampowered.com/app/689240/\"><img src=\"https://steamcdn-a.akamaihd.net/steam/news/31202/spotlight.jpg?t=1501476027\" style=\"float: left; margin-right: 12px;\" /></a>'}},\n",
       "  {'title': 'Now Available on Steam - Fidel Dungeon Rescue, 15% off!',\n",
       "   'title_detail': {'type': 'text/plain',\n",
       "    'language': None,\n",
       "    'base': 'https://bites-data.s3.us-east-2.amazonaws.com/steam_gaming.xml',\n",
       "    'value': 'Now Available on Steam - Fidel Dungeon Rescue, 15% off!'},\n",
       "   'links': [{'rel': 'alternate',\n",
       "     'type': 'text/html',\n",
       "     'href': 'http://store.steampowered.com/news/31268/'}],\n",
       "   'link': 'http://store.steampowered.com/news/31268/',\n",
       "   'id': 'http://store.steampowered.com/news/31268/',\n",
       "   'guidislink': False,\n",
       "   'published': 'Thu, 3 Aug 2017 09:15:00 -0700',\n",
       "   'published_parsed': time.struct_time(tm_year=2017, tm_mon=8, tm_mday=3, tm_hour=16, tm_min=15, tm_sec=0, tm_wday=3, tm_yday=215, tm_isdst=0),\n",
       "   'summary': '<a href=\"http://store.steampowered.com/app/573170/\">Fidel Dungeon Rescue</a> is Now Available on Steam and is 15% off!*<br /><br />Fidel is a puzzle-crawler about finding the best path through monsters, treasure and magic. Each match is just a few minutes long, but there are many surprises and tricks to learn each time. <br /><br /><br /><br />Also, you are a dog.<br /><br />*Offer ends August 8 at 10AM Pacific Time<br /><a href=\"http://store.steampowered.com/app/573170/\"><img src=\"https://steamcdn-a.akamaihd.net/steam/apps/573170/capsule_467x181.jpg\" style=\"float: left; margin-right: 12px; height: 181px; width: 467px;\" /></a>',\n",
       "   'summary_detail': {'type': 'text/html',\n",
       "    'language': None,\n",
       "    'base': 'https://bites-data.s3.us-east-2.amazonaws.com/steam_gaming.xml',\n",
       "    'value': '<a href=\"http://store.steampowered.com/app/573170/\">Fidel Dungeon Rescue</a> is Now Available on Steam and is 15% off!*<br /><br />Fidel is a puzzle-crawler about finding the best path through monsters, treasure and magic. Each match is just a few minutes long, but there are many surprises and tricks to learn each time. <br /><br /><br /><br />Also, you are a dog.<br /><br />*Offer ends August 8 at 10AM Pacific Time<br /><a href=\"http://store.steampowered.com/app/573170/\"><img src=\"https://steamcdn-a.akamaihd.net/steam/apps/573170/capsule_467x181.jpg\" style=\"float: left; margin-right: 12px; height: 181px; width: 467px;\" /></a>'}},\n",
       "  {'title': 'Now Available on Steam - Archangel',\n",
       "   'title_detail': {'type': 'text/plain',\n",
       "    'language': None,\n",
       "    'base': 'https://bites-data.s3.us-east-2.amazonaws.com/steam_gaming.xml',\n",
       "    'value': 'Now Available on Steam - Archangel'},\n",
       "   'links': [{'rel': 'alternate',\n",
       "     'type': 'text/html',\n",
       "     'href': 'http://store.steampowered.com/news/31296/'}],\n",
       "   'link': 'http://store.steampowered.com/news/31296/',\n",
       "   'id': 'http://store.steampowered.com/news/31296/',\n",
       "   'guidislink': False,\n",
       "   'published': 'Wed, 2 Aug 2017 09:12:02 -0700',\n",
       "   'published_parsed': time.struct_time(tm_year=2017, tm_mon=8, tm_mday=2, tm_hour=16, tm_min=12, tm_sec=2, tm_wday=2, tm_yday=214, tm_isdst=0),\n",
       "   'summary': '<a href=\"http://store.steampowered.com/app/553880/\">Archangel</a> is Now Available on Steam!<br /><br />Step into the cockpit of a six-story mech and feel its might at your command! You are the tip of the spear in the United States Free Forces&rsquo; war against the overwhelming mechanized forces of HUMNX, a tyrannical corporation that rules a post-apocalyptic America. Marshall an arsenal of weapons and fight alongside your squadmates in an incredible, hands-on VR battle across the scarred landscapes of our once beautiful nation.<br /><a href=\"http://store.steampowered.com/app/553880/\"><img src=\"https://steamcdn-a.akamaihd.net/steam/apps/553880/capsule_467x181.jpg\" style=\"float: left; margin-right: 12px; height: 181px; width: 467px;\" /></a>',\n",
       "   'summary_detail': {'type': 'text/html',\n",
       "    'language': None,\n",
       "    'base': 'https://bites-data.s3.us-east-2.amazonaws.com/steam_gaming.xml',\n",
       "    'value': '<a href=\"http://store.steampowered.com/app/553880/\">Archangel</a> is Now Available on Steam!<br /><br />Step into the cockpit of a six-story mech and feel its might at your command! You are the tip of the spear in the United States Free Forces&rsquo; war against the overwhelming mechanized forces of HUMNX, a tyrannical corporation that rules a post-apocalyptic America. Marshall an arsenal of weapons and fight alongside your squadmates in an incredible, hands-on VR battle across the scarred landscapes of our once beautiful nation.<br /><a href=\"http://store.steampowered.com/app/553880/\"><img src=\"https://steamcdn-a.akamaihd.net/steam/apps/553880/capsule_467x181.jpg\" style=\"float: left; margin-right: 12px; height: 181px; width: 467px;\" /></a>'}},\n",
       "  {'title': 'Now Available on Steam - Tacoma',\n",
       "   'title_detail': {'type': 'text/plain',\n",
       "    'language': None,\n",
       "    'base': 'https://bites-data.s3.us-east-2.amazonaws.com/steam_gaming.xml',\n",
       "    'value': 'Now Available on Steam - Tacoma'},\n",
       "   'links': [{'rel': 'alternate',\n",
       "     'type': 'text/html',\n",
       "     'href': 'http://store.steampowered.com/news/31280/'}],\n",
       "   'link': 'http://store.steampowered.com/news/31280/',\n",
       "   'id': 'http://store.steampowered.com/news/31280/',\n",
       "   'guidislink': False,\n",
       "   'published': 'Tue, 1 Aug 2017 05:00:53 -0700',\n",
       "   'published_parsed': time.struct_time(tm_year=2017, tm_mon=8, tm_mday=1, tm_hour=12, tm_min=0, tm_sec=53, tm_wday=1, tm_yday=213, tm_isdst=0),\n",
       "   'summary': '<a href=\"http://store.steampowered.com/app/343860/\">Tacoma</a> is Now Available on Steam!<br /><br />Tacoma is a sci-fi narrative adventure set aboard a high-tech space station in the year 2088. Explore every detail of how the station&rsquo;s crew lived and worked, finding the clues that add up to a gripping story of trust, fear, and resolve in the face of disaster. From the creators of Gone Home.<br /><a href=\"http://store.steampowered.com/app/343860/\"><img src=\"https://steamcdn-a.akamaihd.net/steam/apps/343860/capsule_467x181.jpg\" style=\"float: left; margin-right: 12px; height: 181px; width: 467px;\" /></a>',\n",
       "   'summary_detail': {'type': 'text/html',\n",
       "    'language': None,\n",
       "    'base': 'https://bites-data.s3.us-east-2.amazonaws.com/steam_gaming.xml',\n",
       "    'value': '<a href=\"http://store.steampowered.com/app/343860/\">Tacoma</a> is Now Available on Steam!<br /><br />Tacoma is a sci-fi narrative adventure set aboard a high-tech space station in the year 2088. Explore every detail of how the station&rsquo;s crew lived and worked, finding the clues that add up to a gripping story of trust, fear, and resolve in the face of disaster. From the creators of Gone Home.<br /><a href=\"http://store.steampowered.com/app/343860/\"><img src=\"https://steamcdn-a.akamaihd.net/steam/apps/343860/capsule_467x181.jpg\" style=\"float: left; margin-right: 12px; height: 181px; width: 467px;\" /></a>'}},\n",
       "  {'title': 'Pre-Purchase Now - Hob',\n",
       "   'title_detail': {'type': 'text/plain',\n",
       "    'language': None,\n",
       "    'base': 'https://bites-data.s3.us-east-2.amazonaws.com/steam_gaming.xml',\n",
       "    'value': 'Pre-Purchase Now - Hob'},\n",
       "   'links': [{'rel': 'alternate',\n",
       "     'type': 'text/html',\n",
       "     'href': 'http://store.steampowered.com/news/31261/'}],\n",
       "   'link': 'http://store.steampowered.com/news/31261/',\n",
       "   'id': 'http://store.steampowered.com/news/31261/',\n",
       "   'guidislink': False,\n",
       "   'published': 'Tue, 1 Aug 2017 11:12:00 -0700',\n",
       "   'published_parsed': time.struct_time(tm_year=2017, tm_mon=8, tm_mday=1, tm_hour=18, tm_min=12, tm_sec=0, tm_wday=1, tm_yday=213, tm_isdst=0),\n",
       "   'summary': '<a href=\"http://store.steampowered.com/app/404680/\">Hob</a> is Now Available for Pre-Purchase on Steam and is 10% off!*<br /><br />From the team that brought you Torchlight and Torchlight II comes Hob: a vibrant, suspenseful action-adventure game set on a stunning and brutal world in disarray. As players delve into the mysteries around them, they discover a planet in peril. Can it be mended, or will the world fall further into chaos?<br /><br />*Offer ends at 10AM Pacific Time<br /><a href=\"http://store.steampowered.com/app/404680/\"><img src=\"https://steamcdn-a.akamaihd.net/steam/apps/404680/capsule_467x181.jpg\" style=\"float: left; margin-right: 12px; height: 181px; width: 467px;\" /></a>',\n",
       "   'summary_detail': {'type': 'text/html',\n",
       "    'language': None,\n",
       "    'base': 'https://bites-data.s3.us-east-2.amazonaws.com/steam_gaming.xml',\n",
       "    'value': '<a href=\"http://store.steampowered.com/app/404680/\">Hob</a> is Now Available for Pre-Purchase on Steam and is 10% off!*<br /><br />From the team that brought you Torchlight and Torchlight II comes Hob: a vibrant, suspenseful action-adventure game set on a stunning and brutal world in disarray. As players delve into the mysteries around them, they discover a planet in peril. Can it be mended, or will the world fall further into chaos?<br /><br />*Offer ends at 10AM Pacific Time<br /><a href=\"http://store.steampowered.com/app/404680/\"><img src=\"https://steamcdn-a.akamaihd.net/steam/apps/404680/capsule_467x181.jpg\" style=\"float: left; margin-right: 12px; height: 181px; width: 467px;\" /></a>'}},\n",
       "  {'title': 'Now Available on Steam - Slime Rancher, 33% off!',\n",
       "   'title_detail': {'type': 'text/plain',\n",
       "    'language': None,\n",
       "    'base': 'https://bites-data.s3.us-east-2.amazonaws.com/steam_gaming.xml',\n",
       "    'value': 'Now Available on Steam - Slime Rancher, 33% off!'},\n",
       "   'links': [{'rel': 'alternate',\n",
       "     'type': 'text/html',\n",
       "     'href': 'http://store.steampowered.com/news/31255/'}],\n",
       "   'link': 'http://store.steampowered.com/news/31255/',\n",
       "   'id': 'http://store.steampowered.com/news/31255/',\n",
       "   'guidislink': False,\n",
       "   'published': 'Tue, 1 Aug 2017 10:12:00 -0700',\n",
       "   'published_parsed': time.struct_time(tm_year=2017, tm_mon=8, tm_mday=1, tm_hour=17, tm_min=12, tm_sec=0, tm_wday=1, tm_yday=213, tm_isdst=0),\n",
       "   'summary': '<a href=\"http://store.steampowered.com/app/433340/\">Slime Rancher</a> is Now Available on Steam and is 33% off!*<br /><br /><i> Slime Rancher</i>  is the tale of Beatrix LeBeau, a plucky, young rancher who sets out for a life a thousand light years away from Earth on the &lsquo;Far, Far Range&rsquo; where she tries her hand at making a living wrangling slimes. With a can-do attitude, plenty of grit, and her trusty vacpack, Beatrix attempts to stake a claim, amass a fortune, and avoid the continual peril that looms from the rolling, jiggling avalanche of slimes around every corner.<br /><br />*Offer ends August 8 at 10AM Pacific Time<br /><a href=\"http://store.steampowered.com/app/433340/\"><img src=\"https://steamcdn-a.akamaihd.net/steam/apps/433340/capsule_467x181.jpg\" style=\"float: left; margin-right: 12px; height: 181px; width: 467px;\" /></a>',\n",
       "   'summary_detail': {'type': 'text/html',\n",
       "    'language': None,\n",
       "    'base': 'https://bites-data.s3.us-east-2.amazonaws.com/steam_gaming.xml',\n",
       "    'value': '<a href=\"http://store.steampowered.com/app/433340/\">Slime Rancher</a> is Now Available on Steam and is 33% off!*<br /><br /><i> Slime Rancher</i>  is the tale of Beatrix LeBeau, a plucky, young rancher who sets out for a life a thousand light years away from Earth on the &lsquo;Far, Far Range&rsquo; where she tries her hand at making a living wrangling slimes. With a can-do attitude, plenty of grit, and her trusty vacpack, Beatrix attempts to stake a claim, amass a fortune, and avoid the continual peril that looms from the rolling, jiggling avalanche of slimes around every corner.<br /><br />*Offer ends August 8 at 10AM Pacific Time<br /><a href=\"http://store.steampowered.com/app/433340/\"><img src=\"https://steamcdn-a.akamaihd.net/steam/apps/433340/capsule_467x181.jpg\" style=\"float: left; margin-right: 12px; height: 181px; width: 467px;\" /></a>'}},\n",
       "  {'title': 'Now Available on Steam - Redeemer, 15% off!',\n",
       "   'title_detail': {'type': 'text/plain',\n",
       "    'language': None,\n",
       "    'base': 'https://bites-data.s3.us-east-2.amazonaws.com/steam_gaming.xml',\n",
       "    'value': 'Now Available on Steam - Redeemer, 15% off!'},\n",
       "   'links': [{'rel': 'alternate',\n",
       "     'type': 'text/html',\n",
       "     'href': 'http://store.steampowered.com/news/31259/'}],\n",
       "   'link': 'http://store.steampowered.com/news/31259/',\n",
       "   'id': 'http://store.steampowered.com/news/31259/',\n",
       "   'guidislink': False,\n",
       "   'published': 'Tue, 1 Aug 2017 09:58:22 -0700',\n",
       "   'published_parsed': time.struct_time(tm_year=2017, tm_mon=8, tm_mday=1, tm_hour=16, tm_min=58, tm_sec=22, tm_wday=1, tm_yday=213, tm_isdst=0),\n",
       "   'summary': '<a href=\"http://store.steampowered.com/app/447290/\">Redeemer</a> is Now Available on Steam and is 15% off!*<br /><br /><strong>REDEEMER</strong> is a intense Brawler where you will punch, hack and blast your way through enemies using fists, hammers, fire arms and even the environment.<br /><br />*Offer ends August 8 at 10AM Pacific Time<br /><a href=\"http://store.steampowered.com/app/447290/\"><img src=\"https://steamcdn-a.akamaihd.net/steam/apps/447290/capsule_467x181.jpg\" style=\"float: left; margin-right: 12px; height: 181px; width: 467px;\" /></a>',\n",
       "   'summary_detail': {'type': 'text/html',\n",
       "    'language': None,\n",
       "    'base': 'https://bites-data.s3.us-east-2.amazonaws.com/steam_gaming.xml',\n",
       "    'value': '<a href=\"http://store.steampowered.com/app/447290/\">Redeemer</a> is Now Available on Steam and is 15% off!*<br /><br /><strong>REDEEMER</strong> is a intense Brawler where you will punch, hack and blast your way through enemies using fists, hammers, fire arms and even the environment.<br /><br />*Offer ends August 8 at 10AM Pacific Time<br /><a href=\"http://store.steampowered.com/app/447290/\"><img src=\"https://steamcdn-a.akamaihd.net/steam/apps/447290/capsule_467x181.jpg\" style=\"float: left; margin-right: 12px; height: 181px; width: 467px;\" /></a>'}},\n",
       "  {'title': 'Now Available on Steam - The Long Dark, 10% off!',\n",
       "   'title_detail': {'type': 'text/plain',\n",
       "    'language': None,\n",
       "    'base': 'https://bites-data.s3.us-east-2.amazonaws.com/steam_gaming.xml',\n",
       "    'value': 'Now Available on Steam - The Long Dark, 10% off!'},\n",
       "   'links': [{'rel': 'alternate',\n",
       "     'type': 'text/html',\n",
       "     'href': 'http://store.steampowered.com/news/31254/'}],\n",
       "   'link': 'http://store.steampowered.com/news/31254/',\n",
       "   'id': 'http://store.steampowered.com/news/31254/',\n",
       "   'guidislink': False,\n",
       "   'published': 'Tue, 1 Aug 2017 07:57:54 -0700',\n",
       "   'published_parsed': time.struct_time(tm_year=2017, tm_mon=8, tm_mday=1, tm_hour=14, tm_min=57, tm_sec=54, tm_wday=1, tm_yday=213, tm_isdst=0),\n",
       "   'summary': '<a href=\"http://store.steampowered.com/app/305620/\">The Long Dark</a> is Now Available on Steam and is 10% off!*<br /><br />The Long Dark is a thoughtful, exploration-survival experience that challenges solo players to think for themselves as they explore an expansive frozen wilderness in the aftermath of a geomagnetic disaster. There are no zombies -- only you, the cold, and all the threats Mother Nature can muster. Welcome to the Quiet Apocalypse.<br /><br />*Offer ends August 8 at 10AM Pacific Time<br /><a href=\"http://store.steampowered.com/app/305620/\"><img src=\"https://steamcdn-a.akamaihd.net/steam/apps/305620/capsule_467x181.jpg\" style=\"float: left; margin-right: 12px; height: 181px; width: 467px;\" /></a>',\n",
       "   'summary_detail': {'type': 'text/html',\n",
       "    'language': None,\n",
       "    'base': 'https://bites-data.s3.us-east-2.amazonaws.com/steam_gaming.xml',\n",
       "    'value': '<a href=\"http://store.steampowered.com/app/305620/\">The Long Dark</a> is Now Available on Steam and is 10% off!*<br /><br />The Long Dark is a thoughtful, exploration-survival experience that challenges solo players to think for themselves as they explore an expansive frozen wilderness in the aftermath of a geomagnetic disaster. There are no zombies -- only you, the cold, and all the threats Mother Nature can muster. Welcome to the Quiet Apocalypse.<br /><br />*Offer ends August 8 at 10AM Pacific Time<br /><a href=\"http://store.steampowered.com/app/305620/\"><img src=\"https://steamcdn-a.akamaihd.net/steam/apps/305620/capsule_467x181.jpg\" style=\"float: left; margin-right: 12px; height: 181px; width: 467px;\" /></a>'}},\n",
       "  {'title': 'Now Available on Steam - Secret World Legends',\n",
       "   'title_detail': {'type': 'text/plain',\n",
       "    'language': None,\n",
       "    'base': 'https://bites-data.s3.us-east-2.amazonaws.com/steam_gaming.xml',\n",
       "    'value': 'Now Available on Steam - Secret World Legends'},\n",
       "   'links': [{'rel': 'alternate',\n",
       "     'type': 'text/html',\n",
       "     'href': 'http://store.steampowered.com/news/31224/'}],\n",
       "   'link': 'http://store.steampowered.com/news/31224/',\n",
       "   'id': 'http://store.steampowered.com/news/31224/',\n",
       "   'guidislink': False,\n",
       "   'published': 'Mon, 31 Jul 2017 12:30:00 -0700',\n",
       "   'published_parsed': time.struct_time(tm_year=2017, tm_mon=7, tm_mday=31, tm_hour=19, tm_min=30, tm_sec=0, tm_wday=0, tm_yday=212, tm_isdst=0),\n",
       "   'summary': '<a href=\"http://store.steampowered.com/app/215280/\">Secret World Legends</a> is Now Available on Steam and free to play!<br /><br />Secret World Legends is a story-driven, shared-world action RPG that plunges players into a shadowy war against the supernatural, where ancient myths and legends cross over into the modern day.<br /><a href=\"http://store.steampowered.com/app/215280/\"><img src=\"https://steamcdn-a.akamaihd.net/steam/apps/215280/capsule_467x181.jpg\" style=\"float: left; margin-right: 12px; height: 181px; width: 467px;\" /></a>',\n",
       "   'summary_detail': {'type': 'text/html',\n",
       "    'language': None,\n",
       "    'base': 'https://bites-data.s3.us-east-2.amazonaws.com/steam_gaming.xml',\n",
       "    'value': '<a href=\"http://store.steampowered.com/app/215280/\">Secret World Legends</a> is Now Available on Steam and free to play!<br /><br />Secret World Legends is a story-driven, shared-world action RPG that plunges players into a shadowy war against the supernatural, where ancient myths and legends cross over into the modern day.<br /><a href=\"http://store.steampowered.com/app/215280/\"><img src=\"https://steamcdn-a.akamaihd.net/steam/apps/215280/capsule_467x181.jpg\" style=\"float: left; margin-right: 12px; height: 181px; width: 467px;\" /></a>'}},\n",
       "  {'title': 'Now Available on Steam Early Access - Foxhole, 10% off!',\n",
       "   'title_detail': {'type': 'text/plain',\n",
       "    'language': None,\n",
       "    'base': 'https://bites-data.s3.us-east-2.amazonaws.com/steam_gaming.xml',\n",
       "    'value': 'Now Available on Steam Early Access - Foxhole, 10% off!'},\n",
       "   'links': [{'rel': 'alternate',\n",
       "     'type': 'text/html',\n",
       "     'href': 'http://store.steampowered.com/news/31109/'}],\n",
       "   'link': 'http://store.steampowered.com/news/31109/',\n",
       "   'id': 'http://store.steampowered.com/news/31109/',\n",
       "   'guidislink': False,\n",
       "   'published': 'Fri, 28 Jul 2017 01:30:00 -0700',\n",
       "   'published_parsed': time.struct_time(tm_year=2017, tm_mon=7, tm_mday=28, tm_hour=8, tm_min=30, tm_sec=0, tm_wday=4, tm_yday=209, tm_isdst=0),\n",
       "   'summary': '<a href=\"http://store.steampowered.com/app/505460/\">Foxhole</a> is Now Available on Steam Early Access and is 10% off!*<br /><br />Foxhole is a massively multiplayer game where you will work with hundreds of players to shape the outcome of a persistent online war. Players ARE the content in this sandbox war game. Every individual soldier is a player that contributes to the war effort through logistics, base building, reconnaissance, combat, and more.<br /><br />*Offer ends August 3 at 10AM Pacific Time<br /><a href=\"http://store.steampowered.com/app/505460/\"><img src=\"https://steamcdn-a.akamaihd.net/steam/apps/505460/capsule_467x181.jpg\" style=\"float: left; margin-right: 12px; height: 181px; width: 467px;\" /></a>',\n",
       "   'summary_detail': {'type': 'text/html',\n",
       "    'language': None,\n",
       "    'base': 'https://bites-data.s3.us-east-2.amazonaws.com/steam_gaming.xml',\n",
       "    'value': '<a href=\"http://store.steampowered.com/app/505460/\">Foxhole</a> is Now Available on Steam Early Access and is 10% off!*<br /><br />Foxhole is a massively multiplayer game where you will work with hundreds of players to shape the outcome of a persistent online war. Players ARE the content in this sandbox war game. Every individual soldier is a player that contributes to the war effort through logistics, base building, reconnaissance, combat, and more.<br /><br />*Offer ends August 3 at 10AM Pacific Time<br /><a href=\"http://store.steampowered.com/app/505460/\"><img src=\"https://steamcdn-a.akamaihd.net/steam/apps/505460/capsule_467x181.jpg\" style=\"float: left; margin-right: 12px; height: 181px; width: 467px;\" /></a>'}},\n",
       "  {'title': 'Now Available on Steam Early Access - Citadel: Forged with Fire, 20% off!',\n",
       "   'title_detail': {'type': 'text/plain',\n",
       "    'language': None,\n",
       "    'base': 'https://bites-data.s3.us-east-2.amazonaws.com/steam_gaming.xml',\n",
       "    'value': 'Now Available on Steam Early Access - Citadel: Forged with Fire, 20% off!'},\n",
       "   'links': [{'rel': 'alternate',\n",
       "     'type': 'text/html',\n",
       "     'href': 'http://store.steampowered.com/news/31083/'}],\n",
       "   'link': 'http://store.steampowered.com/news/31083/',\n",
       "   'id': 'http://store.steampowered.com/news/31083/',\n",
       "   'guidislink': False,\n",
       "   'published': 'Fri, 28 Jul 2017 01:25:00 -0700',\n",
       "   'published_parsed': time.struct_time(tm_year=2017, tm_mon=7, tm_mday=28, tm_hour=8, tm_min=25, tm_sec=0, tm_wday=4, tm_yday=209, tm_isdst=0),\n",
       "   'summary': '<a href=\"http://store.steampowered.com/app/487120/\">Citadel: Forged with Fire</a> is Now Available on Steam Early Access and is 20% off!*<br /><br />This massive online sandbox RPG features elements of magic, spellcasting, building, exploring and crafting. As a newly minted apprentice of the magic arts, you will set off to the dangerous world of Ignus. Tame mighty beasts, forge alliances, explore uncharted territories or fight for dominance!<br /><br />*Offer ends August 2 at 10AM Pacific Time<br /><a href=\"http://store.steampowered.com/app/487120/\"><img src=\"https://steamcdn-a.akamaihd.net/steam/apps/487120/capsule_467x181.jpg\" style=\"float: left; margin-right: 12px; height: 181px; width: 467px;\" /></a>',\n",
       "   'summary_detail': {'type': 'text/html',\n",
       "    'language': None,\n",
       "    'base': 'https://bites-data.s3.us-east-2.amazonaws.com/steam_gaming.xml',\n",
       "    'value': '<a href=\"http://store.steampowered.com/app/487120/\">Citadel: Forged with Fire</a> is Now Available on Steam Early Access and is 20% off!*<br /><br />This massive online sandbox RPG features elements of magic, spellcasting, building, exploring and crafting. As a newly minted apprentice of the magic arts, you will set off to the dangerous world of Ignus. Tame mighty beasts, forge alliances, explore uncharted territories or fight for dominance!<br /><br />*Offer ends August 2 at 10AM Pacific Time<br /><a href=\"http://store.steampowered.com/app/487120/\"><img src=\"https://steamcdn-a.akamaihd.net/steam/apps/487120/capsule_467x181.jpg\" style=\"float: left; margin-right: 12px; height: 181px; width: 467px;\" /></a>'}},\n",
       "  {'title': 'Now Available on Steam Early Access - The Wizards',\n",
       "   'title_detail': {'type': 'text/plain',\n",
       "    'language': None,\n",
       "    'base': 'https://bites-data.s3.us-east-2.amazonaws.com/steam_gaming.xml',\n",
       "    'value': 'Now Available on Steam Early Access - The Wizards'},\n",
       "   'links': [{'rel': 'alternate',\n",
       "     'type': 'text/html',\n",
       "     'href': 'http://store.steampowered.com/news/31152/'}],\n",
       "   'link': 'http://store.steampowered.com/news/31152/',\n",
       "   'id': 'http://store.steampowered.com/news/31152/',\n",
       "   'guidislink': False,\n",
       "   'published': 'Fri, 28 Jul 2017 08:35:00 -0700',\n",
       "   'published_parsed': time.struct_time(tm_year=2017, tm_mon=7, tm_mday=28, tm_hour=15, tm_min=35, tm_sec=0, tm_wday=4, tm_yday=209, tm_isdst=0),\n",
       "   'summary': '<a href=\"http://store.steampowered.com/app/586950/\">The Wizards</a> is Now Available on Steam Early Access!<br /><br />Become a powerful Wizard in VR and take fate into your own hands! Immerse yourself in a beautiful fantasy world and use motion controllers to destroy your enemies by weaving elemental magic!<br /><a href=\"http://store.steampowered.com/app/586950/\"><img src=\"https://steamcdn-a.akamaihd.net/steam/apps/586950/capsule_467x181.jpg\" style=\"float: left; margin-right: 12px; height: 181px; width: 467px;\" /></a>',\n",
       "   'summary_detail': {'type': 'text/html',\n",
       "    'language': None,\n",
       "    'base': 'https://bites-data.s3.us-east-2.amazonaws.com/steam_gaming.xml',\n",
       "    'value': '<a href=\"http://store.steampowered.com/app/586950/\">The Wizards</a> is Now Available on Steam Early Access!<br /><br />Become a powerful Wizard in VR and take fate into your own hands! Immerse yourself in a beautiful fantasy world and use motion controllers to destroy your enemies by weaving elemental magic!<br /><a href=\"http://store.steampowered.com/app/586950/\"><img src=\"https://steamcdn-a.akamaihd.net/steam/apps/586950/capsule_467x181.jpg\" style=\"float: left; margin-right: 12px; height: 181px; width: 467px;\" /></a>'}},\n",
       "  {'title': 'Now Available on Steam Early Access - X Rebirth VR Edition',\n",
       "   'title_detail': {'type': 'text/plain',\n",
       "    'language': None,\n",
       "    'base': 'https://bites-data.s3.us-east-2.amazonaws.com/steam_gaming.xml',\n",
       "    'value': 'Now Available on Steam Early Access - X Rebirth VR Edition'},\n",
       "   'links': [{'rel': 'alternate',\n",
       "     'type': 'text/html',\n",
       "     'href': 'http://store.steampowered.com/news/31132/'}],\n",
       "   'link': 'http://store.steampowered.com/news/31132/',\n",
       "   'id': 'http://store.steampowered.com/news/31132/',\n",
       "   'guidislink': False,\n",
       "   'published': 'Fri, 28 Jul 2017 08:35:00 -0700',\n",
       "   'published_parsed': time.struct_time(tm_year=2017, tm_mon=7, tm_mday=28, tm_hour=15, tm_min=35, tm_sec=0, tm_wday=4, tm_yday=209, tm_isdst=0),\n",
       "   'summary': '<a href=\"http://store.steampowered.com/app/570420/\">X Rebirth VR Edition</a> is Now Available on Steam Early Access!<br /><br />X Rebirth VR Edition is tailored to be an immersive VR experience, based on X Rebirth: Home of Light. TRADE, FIGHT, BUILD, THINK in the X Universe - the biggest sandbox this side of the galaxy.<br /><a href=\"http://store.steampowered.com/app/570420/\"><img src=\"https://steamcdn-a.akamaihd.net/steam/apps/570420/capsule_467x181.jpg\" style=\"float: left; margin-right: 12px; height: 181px; width: 467px;\" /></a>',\n",
       "   'summary_detail': {'type': 'text/html',\n",
       "    'language': None,\n",
       "    'base': 'https://bites-data.s3.us-east-2.amazonaws.com/steam_gaming.xml',\n",
       "    'value': '<a href=\"http://store.steampowered.com/app/570420/\">X Rebirth VR Edition</a> is Now Available on Steam Early Access!<br /><br />X Rebirth VR Edition is tailored to be an immersive VR experience, based on X Rebirth: Home of Light. TRADE, FIGHT, BUILD, THINK in the X Universe - the biggest sandbox this side of the galaxy.<br /><a href=\"http://store.steampowered.com/app/570420/\"><img src=\"https://steamcdn-a.akamaihd.net/steam/apps/570420/capsule_467x181.jpg\" style=\"float: left; margin-right: 12px; height: 181px; width: 467px;\" /></a>'}},\n",
       "  {'title': 'Now Available on Steam - Sundered',\n",
       "   'title_detail': {'type': 'text/plain',\n",
       "    'language': None,\n",
       "    'base': 'https://bites-data.s3.us-east-2.amazonaws.com/steam_gaming.xml',\n",
       "    'value': 'Now Available on Steam - Sundered'},\n",
       "   'links': [{'rel': 'alternate',\n",
       "     'type': 'text/html',\n",
       "     'href': 'http://store.steampowered.com/news/31160/'}],\n",
       "   'link': 'http://store.steampowered.com/news/31160/',\n",
       "   'id': 'http://store.steampowered.com/news/31160/',\n",
       "   'guidislink': False,\n",
       "   'published': 'Fri, 28 Jul 2017 07:55:00 -0700',\n",
       "   'published_parsed': time.struct_time(tm_year=2017, tm_mon=7, tm_mday=28, tm_hour=14, tm_min=55, tm_sec=0, tm_wday=4, tm_yday=209, tm_isdst=0),\n",
       "   'summary': '<a href=\"http://store.steampowered.com/app/535480/\">Sundered</a> is Now Available on Steam and is 10% off!*<br /><br /><i>Sundered</i> is a horrifying fight for survival and sanity, a hand\\xad-drawn epic from the \\u200bcreators of \\u200b\\u200b<i>Jotun</i>. Resist or embrace.<br /><br />*Offer ends August 4th at 10 am Pacific<br /><a href=\"http://store.steampowered.com/app/535480/\"><img src=\"https://steamcdn-a.akamaihd.net/steam/apps/535480/capsule_467x181.jpg\" style=\"float: left; margin-right: 12px; height: 181px; width: 467px;\" /></a>',\n",
       "   'summary_detail': {'type': 'text/html',\n",
       "    'language': None,\n",
       "    'base': 'https://bites-data.s3.us-east-2.amazonaws.com/steam_gaming.xml',\n",
       "    'value': '<a href=\"http://store.steampowered.com/app/535480/\">Sundered</a> is Now Available on Steam and is 10% off!*<br /><br /><i>Sundered</i> is a horrifying fight for survival and sanity, a hand\\xad-drawn epic from the \\u200bcreators of \\u200b\\u200b<i>Jotun</i>. Resist or embrace.<br /><br />*Offer ends August 4th at 10 am Pacific<br /><a href=\"http://store.steampowered.com/app/535480/\"><img src=\"https://steamcdn-a.akamaihd.net/steam/apps/535480/capsule_467x181.jpg\" style=\"float: left; margin-right: 12px; height: 181px; width: 467px;\" /></a>'}},\n",
       "  {'title': 'Now Available on Steam - Car Mechanic Simulator 2018, 10% off!',\n",
       "   'title_detail': {'type': 'text/plain',\n",
       "    'language': None,\n",
       "    'base': 'https://bites-data.s3.us-east-2.amazonaws.com/steam_gaming.xml',\n",
       "    'value': 'Now Available on Steam - Car Mechanic Simulator 2018, 10% off!'},\n",
       "   'links': [{'rel': 'alternate',\n",
       "     'type': 'text/html',\n",
       "     'href': 'http://store.steampowered.com/news/31164/'}],\n",
       "   'link': 'http://store.steampowered.com/news/31164/',\n",
       "   'id': 'http://store.steampowered.com/news/31164/',\n",
       "   'guidislink': False,\n",
       "   'published': 'Fri, 28 Jul 2017 07:36:00 -0700',\n",
       "   'published_parsed': time.struct_time(tm_year=2017, tm_mon=7, tm_mday=28, tm_hour=14, tm_min=36, tm_sec=0, tm_wday=4, tm_yday=209, tm_isdst=0),\n",
       "   'summary': '<a href=\"http://store.steampowered.com/app/645630/\">Car Mechanic Simulator 2018</a> is Now Available on Steam and is 10% off!*<br /><br />Build and expand your repair service empire in this incredibly detailed and highly realistic simulation game, where attention to car detail is astonishing. Find classic, unique cars in the new Barn Find module and Junkyard module. You can even add your self-made car in the Car Editor.<br /><br />*Offer ends August 4 at 10AM Pacific Time<br /><a href=\"http://store.steampowered.com/app/645630/\"><img src=\"https://steamcdn-a.akamaihd.net/steam/apps/645630/capsule_467x181.jpg\" style=\"float: left; margin-right: 12px; height: 181px; width: 467px;\" /></a>',\n",
       "   'summary_detail': {'type': 'text/html',\n",
       "    'language': None,\n",
       "    'base': 'https://bites-data.s3.us-east-2.amazonaws.com/steam_gaming.xml',\n",
       "    'value': '<a href=\"http://store.steampowered.com/app/645630/\">Car Mechanic Simulator 2018</a> is Now Available on Steam and is 10% off!*<br /><br />Build and expand your repair service empire in this incredibly detailed and highly realistic simulation game, where attention to car detail is astonishing. Find classic, unique cars in the new Barn Find module and Junkyard module. You can even add your self-made car in the Car Editor.<br /><br />*Offer ends August 4 at 10AM Pacific Time<br /><a href=\"http://store.steampowered.com/app/645630/\"><img src=\"https://steamcdn-a.akamaihd.net/steam/apps/645630/capsule_467x181.jpg\" style=\"float: left; margin-right: 12px; height: 181px; width: 467px;\" /></a>'}},\n",
       "  {'title': 'Now Available on Steam Early Access - Black Squad',\n",
       "   'title_detail': {'type': 'text/plain',\n",
       "    'language': None,\n",
       "    'base': 'https://bites-data.s3.us-east-2.amazonaws.com/steam_gaming.xml',\n",
       "    'value': 'Now Available on Steam Early Access - Black Squad'},\n",
       "   'links': [{'rel': 'alternate',\n",
       "     'type': 'text/html',\n",
       "     'href': 'http://store.steampowered.com/news/31161/'}],\n",
       "   'link': 'http://store.steampowered.com/news/31161/',\n",
       "   'id': 'http://store.steampowered.com/news/31161/',\n",
       "   'guidislink': False,\n",
       "   'published': 'Fri, 28 Jul 2017 06:04:17 -0700',\n",
       "   'published_parsed': time.struct_time(tm_year=2017, tm_mon=7, tm_mday=28, tm_hour=13, tm_min=4, tm_sec=17, tm_wday=4, tm_yday=209, tm_isdst=0),\n",
       "   'summary': '<a href=\"http://store.steampowered.com/app/550650/\">Black Squad</a> is Now Available on Steam Early Access!<br /><br />Black Squad is a military first-person-shooter game using the Unreal Engine 3 to show realistic graphics and dynamic visuals. <br /><br />You can experience 10 different modes from classic to massive multi-play modes.<br /><a href=\"http://store.steampowered.com/app/550650/\"><img src=\"https://steamcdn-a.akamaihd.net/steam/apps/550650/capsule_467x181.jpg\" style=\"float: left; margin-right: 12px; height: 181px; width: 467px;\" /></a>',\n",
       "   'summary_detail': {'type': 'text/html',\n",
       "    'language': None,\n",
       "    'base': 'https://bites-data.s3.us-east-2.amazonaws.com/steam_gaming.xml',\n",
       "    'value': '<a href=\"http://store.steampowered.com/app/550650/\">Black Squad</a> is Now Available on Steam Early Access!<br /><br />Black Squad is a military first-person-shooter game using the Unreal Engine 3 to show realistic graphics and dynamic visuals. <br /><br />You can experience 10 different modes from classic to massive multi-play modes.<br /><a href=\"http://store.steampowered.com/app/550650/\"><img src=\"https://steamcdn-a.akamaihd.net/steam/apps/550650/capsule_467x181.jpg\" style=\"float: left; margin-right: 12px; height: 181px; width: 467px;\" /></a>'}},\n",
       "  {'title': 'Now Available on Steam Early Access - GOKEN',\n",
       "   'title_detail': {'type': 'text/plain',\n",
       "    'language': None,\n",
       "    'base': 'https://bites-data.s3.us-east-2.amazonaws.com/steam_gaming.xml',\n",
       "    'value': 'Now Available on Steam Early Access - GOKEN'},\n",
       "   'links': [{'rel': 'alternate',\n",
       "     'type': 'text/html',\n",
       "     'href': 'http://store.steampowered.com/news/31139/'}],\n",
       "   'link': 'http://store.steampowered.com/news/31139/',\n",
       "   'id': 'http://store.steampowered.com/news/31139/',\n",
       "   'guidislink': False,\n",
       "   'published': 'Thu, 27 Jul 2017 07:03:10 -0700',\n",
       "   'published_parsed': time.struct_time(tm_year=2017, tm_mon=7, tm_mday=27, tm_hour=14, tm_min=3, tm_sec=10, tm_wday=3, tm_yday=208, tm_isdst=0),\n",
       "   'summary': '<a href=\"http://store.steampowered.com/app/671260/\">GOKEN</a> is Now Available on Steam Early Access!<br /><br />GOKEN is an action filled RPG where you\\'re in the search for the lost five swords and maybe saving the world too.<br /><a href=\"http://store.steampowered.com/app/671260/\"><img src=\"https://steamcdn-a.akamaihd.net/steam/apps/671260/capsule_467x181.jpg\" style=\"float: left; margin-right: 12px; height: 181px; width: 467px;\" /></a>',\n",
       "   'summary_detail': {'type': 'text/html',\n",
       "    'language': None,\n",
       "    'base': 'https://bites-data.s3.us-east-2.amazonaws.com/steam_gaming.xml',\n",
       "    'value': '<a href=\"http://store.steampowered.com/app/671260/\">GOKEN</a> is Now Available on Steam Early Access!<br /><br />GOKEN is an action filled RPG where you\\'re in the search for the lost five swords and maybe saving the world too.<br /><a href=\"http://store.steampowered.com/app/671260/\"><img src=\"https://steamcdn-a.akamaihd.net/steam/apps/671260/capsule_467x181.jpg\" style=\"float: left; margin-right: 12px; height: 181px; width: 467px;\" /></a>'}},\n",
       "  {'title': 'Now Available on Steam - Loco Dojo, 35% off!',\n",
       "   'title_detail': {'type': 'text/plain',\n",
       "    'language': None,\n",
       "    'base': 'https://bites-data.s3.us-east-2.amazonaws.com/steam_gaming.xml',\n",
       "    'value': 'Now Available on Steam - Loco Dojo, 35% off!'},\n",
       "   'links': [{'rel': 'alternate',\n",
       "     'type': 'text/html',\n",
       "     'href': 'http://store.steampowered.com/news/31113/'}],\n",
       "   'link': 'http://store.steampowered.com/news/31113/',\n",
       "   'id': 'http://store.steampowered.com/news/31113/',\n",
       "   'guidislink': False,\n",
       "   'published': 'Thu, 27 Jul 2017 01:30:00 -0700',\n",
       "   'published_parsed': time.struct_time(tm_year=2017, tm_mon=7, tm_mday=27, tm_hour=8, tm_min=30, tm_sec=0, tm_wday=3, tm_yday=208, tm_isdst=0),\n",
       "   'summary': '<a href=\"http://store.steampowered.com/app/667800/\">Loco Dojo</a> is Now Available on Steam for HTC Vive and Oculus Rift and is 35% off!*<br /><br />Enter the whimsical wooden world of Loco Dojo and step up to Grand Sensei&rsquo;s &lsquo;Table of Trials&rsquo; to pit your silliest skills against (up to) three friends or strangers in this hilariously competitive cross-platform multiplayer social VR party game.<br /><br />*Offer ends August 3 at 10AM Pacific Time<br /><a href=\"http://store.steampowered.com/app/667800/\"><img src=\"https://steamcdn-a.akamaihd.net/steam/apps/667800/capsule_467x181.jpg\" style=\"float: left; margin-right: 12px; height: 181px; width: 467px;\" /></a>',\n",
       "   'summary_detail': {'type': 'text/html',\n",
       "    'language': None,\n",
       "    'base': 'https://bites-data.s3.us-east-2.amazonaws.com/steam_gaming.xml',\n",
       "    'value': '<a href=\"http://store.steampowered.com/app/667800/\">Loco Dojo</a> is Now Available on Steam for HTC Vive and Oculus Rift and is 35% off!*<br /><br />Enter the whimsical wooden world of Loco Dojo and step up to Grand Sensei&rsquo;s &lsquo;Table of Trials&rsquo; to pit your silliest skills against (up to) three friends or strangers in this hilariously competitive cross-platform multiplayer social VR party game.<br /><br />*Offer ends August 3 at 10AM Pacific Time<br /><a href=\"http://store.steampowered.com/app/667800/\"><img src=\"https://steamcdn-a.akamaihd.net/steam/apps/667800/capsule_467x181.jpg\" style=\"float: left; margin-right: 12px; height: 181px; width: 467px;\" /></a>'}}],\n",
       " 'feed': {'title': 'New On Steam',\n",
       "  'title_detail': {'type': 'text/plain',\n",
       "   'language': None,\n",
       "   'base': 'https://bites-data.s3.us-east-2.amazonaws.com/steam_gaming.xml',\n",
       "   'value': 'New On Steam'},\n",
       "  'links': [{'rel': 'alternate',\n",
       "    'type': 'text/html',\n",
       "    'href': 'http://www.steampowered.com/'}],\n",
       "  'link': 'http://www.steampowered.com/',\n",
       "  'subtitle': 'New game, demo, and trailer releases on Steam',\n",
       "  'subtitle_detail': {'type': 'text/html',\n",
       "   'language': None,\n",
       "   'base': 'https://bites-data.s3.us-east-2.amazonaws.com/steam_gaming.xml',\n",
       "   'value': 'New game, demo, and trailer releases on Steam'},\n",
       "  'updated': 'Mon, 12 Mar 2018 02:58:38 -0700',\n",
       "  'updated_parsed': time.struct_time(tm_year=2018, tm_mon=3, tm_mday=12, tm_hour=9, tm_min=58, tm_sec=38, tm_wday=0, tm_yday=71, tm_isdst=0)},\n",
       " 'headers': {'x-amz-id-2': 'b1nz3N8iV8e4aYJaiH+GGmvKSg4mBlUSR1AGFiXYiuFDzdGJiBfHOmotfiFgOg1kxJt7apCKyug=',\n",
       "  'x-amz-request-id': 'KTZCPFWEQPRDSXRF',\n",
       "  'date': 'Tue, 12 Apr 2022 17:56:31 GMT',\n",
       "  'last-modified': 'Sun, 08 Dec 2019 12:46:25 GMT',\n",
       "  'etag': '\"3b4e4c1c39e3308d6e8e82660a955151\"',\n",
       "  'accept-ranges': 'bytes',\n",
       "  'content-type': 'text/xml',\n",
       "  'server': 'AmazonS3',\n",
       "  'content-length': '29360',\n",
       "  'connection': 'close'},\n",
       " 'etag': '\"3b4e4c1c39e3308d6e8e82660a955151\"',\n",
       " 'updated': 'Sun, 08 Dec 2019 12:46:25 GMT',\n",
       " 'updated_parsed': time.struct_time(tm_year=2019, tm_mon=12, tm_mday=8, tm_hour=12, tm_min=46, tm_sec=25, tm_wday=6, tm_yday=342, tm_isdst=0),\n",
       " 'href': 'https://bites-data.s3.us-east-2.amazonaws.com/steam_gaming.xml',\n",
       " 'status': 200,\n",
       " 'encoding': 'utf-8',\n",
       " 'bozo_exception': feedparser.exceptions.CharacterEncodingOverride('document declared as us-ascii, but parsed as utf-8'),\n",
       " 'version': 'rss20',\n",
       " 'namespaces': {}}"
      ]
     },
     "execution_count": 164,
     "metadata": {},
     "output_type": "execute_result"
    }
   ],
   "source": [
    "feed"
   ]
  },
  {
   "cell_type": "code",
   "execution_count": 165,
   "id": "1622af84",
   "metadata": {},
   "outputs": [
    {
     "name": "stdout",
     "output_type": "stream",
     "text": [
      "{'bozo': True,\n",
      " 'bozo_exception': CharacterEncodingOverride('document declared as us-ascii, but parsed as utf-8'),\n",
      " 'encoding': 'utf-8',\n",
      " 'entries': [{'guidislink': False,\n",
      "              'id': 'http://store.steampowered.com/news/31695/',\n",
      "              'link': 'http://store.steampowered.com/news/31695/',\n",
      "              'links': [{'href': 'http://store.steampowered.com/news/31695/',\n",
      "                         'rel': 'alternate',\n",
      "                         'type': 'text/html'}],\n",
      "              'published': 'Tue, 15 Aug 2017 10:51:00 -0700',\n",
      "              'published_parsed': time.struct_time(tm_year=2017, tm_mon=8, tm_mday=15, tm_hour=17, tm_min=51, tm_sec=0, tm_wday=1, tm_yday=227, tm_isdst=0),\n",
      "              'summary': 'Save 33% on <a '\n",
      "                         'href=\"http://store.steampowered.com/app/493200/\">RiME</a> '\n",
      "                         \"during this week's Midweek Madness*!<br /><br />A \"\n",
      "                         'land of discovery stretches out before you. Explore '\n",
      "                         'the beautiful yet rugged world of RiME, a '\n",
      "                         'single-player puzzle adventure. <br /><br />*Offer '\n",
      "                         'ends Friday at 10AM Pacific Time<br /><br /><a '\n",
      "                         'href=\"http://store.steampowered.com/app/493200/\"><img '\n",
      "                         'src=\"https://steamcdn-a.akamaihd.net/steam/apps/493200/capsule_467x181.jpg\" '\n",
      "                         'style=\"float: left; margin-right: 12px; height: '\n",
      "                         '181px; width: 467px;\" /></a>',\n",
      "              'summary_detail': {'base': 'https://bites-data.s3.us-east-2.amazonaws.com/steam_gaming.xml',\n",
      "                                 'language': None,\n",
      "                                 'type': 'text/html',\n",
      "                                 'value': 'Save 33% on <a '\n",
      "                                          'href=\"http://store.steampowered.com/app/493200/\">RiME</a> '\n",
      "                                          \"during this week's Midweek \"\n",
      "                                          'Madness*!<br /><br />A land of '\n",
      "                                          'discovery stretches out before you. '\n",
      "                                          'Explore the beautiful yet rugged '\n",
      "                                          'world of RiME, a single-player '\n",
      "                                          'puzzle adventure. <br /><br '\n",
      "                                          '/>*Offer ends Friday at 10AM '\n",
      "                                          'Pacific Time<br /><br /><a '\n",
      "                                          'href=\"http://store.steampowered.com/app/493200/\"><img '\n",
      "                                          'src=\"https://steamcdn-a.akamaihd.net/steam/apps/493200/capsule_467x181.jpg\" '\n",
      "                                          'style=\"float: left; margin-right: '\n",
      "                                          '12px; height: 181px; width: 467px;\" '\n",
      "                                          '/></a>'},\n",
      "              'title': 'Midweek Madness - RiME, 33% Off',\n",
      "              'title_detail': {'base': 'https://bites-data.s3.us-east-2.amazonaws.com/steam_gaming.xml',\n",
      "                               'language': None,\n",
      "                               'type': 'text/plain',\n",
      "                               'value': 'Midweek Madness - RiME, 33% Off'}},\n",
      "             {'guidislink': False,\n",
      "              'id': 'http://store.steampowered.com/news/31694/',\n",
      "              'link': 'http://store.steampowered.com/news/31694/',\n",
      "              'links': [{'href': 'http://store.steampowered.com/news/31694/',\n",
      "                         'rel': 'alternate',\n",
      "                         'type': 'text/html'}],\n",
      "              'published': 'Tue, 15 Aug 2017 10:35:00 -0700',\n",
      "              'published_parsed': time.struct_time(tm_year=2017, tm_mon=8, tm_mday=15, tm_hour=17, tm_min=35, tm_sec=0, tm_wday=1, tm_yday=227, tm_isdst=0),\n",
      "              'summary': '<a '\n",
      "                         'href=\"http://store.steampowered.com/app/535520/\">Nidhogg '\n",
      "                         '2</a> is Now Available on Steam and is 10% off!*<br '\n",
      "                         '/><br />The rules are simple. Reach the other side '\n",
      "                         'and kill anyone that stands in your way. Deftly '\n",
      "                         'parry and rend their throats, riddle their bowels '\n",
      "                         'with arrows, or squish their brains between your '\n",
      "                         'toes. The wurm cares not for chivalry.<br /><br '\n",
      "                         '/>*Offer ends August 22 at 10AM Pacific Time<br /><a '\n",
      "                         'href=\"http://store.steampowered.com/app/535520/\"><img '\n",
      "                         'src=\"https://steamcdn-a.akamaihd.net/steam/apps/535520/capsule_467x181.jpg\" '\n",
      "                         'style=\"float: left; margin-right: 12px; height: '\n",
      "                         '181px; width: 467px;\" /></a>',\n",
      "              'summary_detail': {'base': 'https://bites-data.s3.us-east-2.amazonaws.com/steam_gaming.xml',\n",
      "                                 'language': None,\n",
      "                                 'type': 'text/html',\n",
      "                                 'value': '<a '\n",
      "                                          'href=\"http://store.steampowered.com/app/535520/\">Nidhogg '\n",
      "                                          '2</a> is Now Available on Steam and '\n",
      "                                          'is 10% off!*<br /><br />The rules '\n",
      "                                          'are simple. Reach the other side '\n",
      "                                          'and kill anyone that stands in your '\n",
      "                                          'way. Deftly parry and rend their '\n",
      "                                          'throats, riddle their bowels with '\n",
      "                                          'arrows, or squish their brains '\n",
      "                                          'between your toes. The wurm cares '\n",
      "                                          'not for chivalry.<br /><br />*Offer '\n",
      "                                          'ends August 22 at 10AM Pacific '\n",
      "                                          'Time<br /><a '\n",
      "                                          'href=\"http://store.steampowered.com/app/535520/\"><img '\n",
      "                                          'src=\"https://steamcdn-a.akamaihd.net/steam/apps/535520/capsule_467x181.jpg\" '\n",
      "                                          'style=\"float: left; margin-right: '\n",
      "                                          '12px; height: 181px; width: 467px;\" '\n",
      "                                          '/></a>'},\n",
      "              'title': 'Now Available on Steam - Nidhogg 2, 10% off!',\n",
      "              'title_detail': {'base': 'https://bites-data.s3.us-east-2.amazonaws.com/steam_gaming.xml',\n",
      "                               'language': None,\n",
      "                               'type': 'text/plain',\n",
      "                               'value': 'Now Available on Steam - Nidhogg 2, '\n",
      "                                        '10% off!'}},\n",
      "             {'guidislink': False,\n",
      "              'id': 'http://store.steampowered.com/news/31693/',\n",
      "              'link': 'http://store.steampowered.com/news/31693/',\n",
      "              'links': [{'href': 'http://store.steampowered.com/news/31693/',\n",
      "                         'rel': 'alternate',\n",
      "                         'type': 'text/html'}],\n",
      "              'published': 'Tue, 15 Aug 2017 10:28:20 -0700',\n",
      "              'published_parsed': time.struct_time(tm_year=2017, tm_mon=8, tm_mday=15, tm_hour=17, tm_min=28, tm_sec=20, tm_wday=1, tm_yday=227, tm_isdst=0),\n",
      "              'summary': '<a '\n",
      "                         'href=\"http://store.steampowered.com/app/467660/\">Paranormal '\n",
      "                         'Activity: The Lost Soul</a> is Now Available on '\n",
      "                         'Steam and is 25% off!*<br /><br />Engineered from '\n",
      "                         'conception for VR, â€œPARANORMAL ACTIVITY: THE LOST '\n",
      "                         'SOULâ€\\x9d immerses you in a terrifying realistic '\n",
      "                         'environment with haunting atmosphere, and the need '\n",
      "                         'to survive. With very limited guidance, your '\n",
      "                         'free-movement enables you to discover the secrets '\n",
      "                         'that lie in this house of horror.<br /><br />*Offer '\n",
      "                         'ends August 22 at 10AM Pacific Time<br /><a '\n",
      "                         'href=\"http://store.steampowered.com/app/467660/\"><img '\n",
      "                         'src=\"https://steamcdn-a.akamaihd.net/steam/apps/467660/capsule_467x181.jpg\" '\n",
      "                         'style=\"float: left; margin-right: 12px; height: '\n",
      "                         '181px; width: 467px;\" /></a>',\n",
      "              'summary_detail': {'base': 'https://bites-data.s3.us-east-2.amazonaws.com/steam_gaming.xml',\n",
      "                                 'language': None,\n",
      "                                 'type': 'text/html',\n",
      "                                 'value': '<a '\n",
      "                                          'href=\"http://store.steampowered.com/app/467660/\">Paranormal '\n",
      "                                          'Activity: The Lost Soul</a> is Now '\n",
      "                                          'Available on Steam and is 25% '\n",
      "                                          'off!*<br /><br />Engineered from '\n",
      "                                          'conception for VR, â€œPARANORMAL '\n",
      "                                          'ACTIVITY: THE LOST SOULâ€\\x9d '\n",
      "                                          'immerses you in a terrifying '\n",
      "                                          'realistic environment with haunting '\n",
      "                                          'atmosphere, and the need to '\n",
      "                                          'survive. With very limited '\n",
      "                                          'guidance, your free-movement '\n",
      "                                          'enables you to discover the secrets '\n",
      "                                          'that lie in this house of '\n",
      "                                          'horror.<br /><br />*Offer ends '\n",
      "                                          'August 22 at 10AM Pacific Time<br '\n",
      "                                          '/><a '\n",
      "                                          'href=\"http://store.steampowered.com/app/467660/\"><img '\n",
      "                                          'src=\"https://steamcdn-a.akamaihd.net/steam/apps/467660/capsule_467x181.jpg\" '\n",
      "                                          'style=\"float: left; margin-right: '\n",
      "                                          '12px; height: 181px; width: 467px;\" '\n",
      "                                          '/></a>'},\n",
      "              'title': 'Now Available on Steam - Paranormal Activity: The Lost '\n",
      "                       'Soul, 25% off!',\n",
      "              'title_detail': {'base': 'https://bites-data.s3.us-east-2.amazonaws.com/steam_gaming.xml',\n",
      "                               'language': None,\n",
      "                               'type': 'text/plain',\n",
      "                               'value': 'Now Available on Steam - Paranormal '\n",
      "                                        'Activity: The Lost Soul, 25% off!'}},\n",
      "             {'guidislink': False,\n",
      "              'id': 'http://store.steampowered.com/news/31692/',\n",
      "              'link': 'http://store.steampowered.com/news/31692/',\n",
      "              'links': [{'href': 'http://store.steampowered.com/news/31692/',\n",
      "                         'rel': 'alternate',\n",
      "                         'type': 'text/html'}],\n",
      "              'published': 'Tue, 15 Aug 2017 10:28:00 -0700',\n",
      "              'published_parsed': time.struct_time(tm_year=2017, tm_mon=8, tm_mday=15, tm_hour=17, tm_min=28, tm_sec=0, tm_wday=1, tm_yday=227, tm_isdst=0),\n",
      "              'summary': '<a '\n",
      "                         'href=\"http://store.steampowered.com/app/514900/\">&gt;observer_</a> '\n",
      "                         'is Now Available on Steam!<br /><br />What would you '\n",
      "                         'do if your fears were hacked? &gt;observer_ is a '\n",
      "                         'cyberpunk horror game from Bloober Team, the '\n",
      "                         'creators of Layers of Fear. Play as an Observer, the '\n",
      "                         'new front line of neural police, as you hack into '\n",
      "                         'the jagged minds of the insane.<br /><br /><a '\n",
      "                         'href=\"http://store.steampowered.com/app/514900/\"><img '\n",
      "                         'src=\"https://steamcdn-a.akamaihd.net/steam/apps/514900/capsule_467x181.jpg\" '\n",
      "                         'style=\"float: left; margin-right: 12px; height: '\n",
      "                         '181px; width: 467px;\" /></a>',\n",
      "              'summary_detail': {'base': 'https://bites-data.s3.us-east-2.amazonaws.com/steam_gaming.xml',\n",
      "                                 'language': None,\n",
      "                                 'type': 'text/html',\n",
      "                                 'value': '<a '\n",
      "                                          'href=\"http://store.steampowered.com/app/514900/\">&gt;observer_</a> '\n",
      "                                          'is Now Available on Steam!<br /><br '\n",
      "                                          '/>What would you do if your fears '\n",
      "                                          'were hacked? &gt;observer_ is a '\n",
      "                                          'cyberpunk horror game from Bloober '\n",
      "                                          'Team, the creators of Layers of '\n",
      "                                          'Fear. Play as an Observer, the new '\n",
      "                                          'front line of neural police, as you '\n",
      "                                          'hack into the jagged minds of the '\n",
      "                                          'insane.<br /><br /><a '\n",
      "                                          'href=\"http://store.steampowered.com/app/514900/\"><img '\n",
      "                                          'src=\"https://steamcdn-a.akamaihd.net/steam/apps/514900/capsule_467x181.jpg\" '\n",
      "                                          'style=\"float: left; margin-right: '\n",
      "                                          '12px; height: 181px; width: 467px;\" '\n",
      "                                          '/></a>'},\n",
      "              'title': 'Now Available on Steam - Observer',\n",
      "              'title_detail': {'base': 'https://bites-data.s3.us-east-2.amazonaws.com/steam_gaming.xml',\n",
      "                               'language': None,\n",
      "                               'type': 'text/plain',\n",
      "                               'value': 'Now Available on Steam - Observer'}},\n",
      "             {'guidislink': False,\n",
      "              'id': 'http://store.steampowered.com/news/31680/',\n",
      "              'link': 'http://store.steampowered.com/news/31680/',\n",
      "              'links': [{'href': 'http://store.steampowered.com/news/31680/',\n",
      "                         'rel': 'alternate',\n",
      "                         'type': 'text/html'}],\n",
      "              'published': 'Tue, 15 Aug 2017 08:04:00 -0700',\n",
      "              'published_parsed': time.struct_time(tm_year=2017, tm_mon=8, tm_mday=15, tm_hour=15, tm_min=4, tm_sec=0, tm_wday=1, tm_yday=227, tm_isdst=0),\n",
      "              'summary': '<a '\n",
      "                         'href=\"http://store.steampowered.com/app/304530/\">Agents '\n",
      "                         'of Mayhem</a> is Now Available on Steam!<br /><br '\n",
      "                         '/>In <strong>Agents of MAYHEM</strong>, you run a '\n",
      "                         'no-holds barred operation against a shadowy '\n",
      "                         'super-villain organization known only as '\n",
      "                         '<strong>LEGION</strong> and their mysterious leader, '\n",
      "                         'the Morningstar. Explore the city of Seoul as a '\n",
      "                         \"variety of Super Agents to thwart LEGION's vile \"\n",
      "                         'plans to take over the world!<br /><a '\n",
      "                         'href=\"http://store.steampowered.com/app/304530/\"><img '\n",
      "                         'src=\"https://steamcdn-a.akamaihd.net/steam/apps/304530/capsule_467x181.jpg\" '\n",
      "                         'style=\"float: left; margin-right: 12px; height: '\n",
      "                         '181px; width: 467px;\" /></a>',\n",
      "              'summary_detail': {'base': 'https://bites-data.s3.us-east-2.amazonaws.com/steam_gaming.xml',\n",
      "                                 'language': None,\n",
      "                                 'type': 'text/html',\n",
      "                                 'value': '<a '\n",
      "                                          'href=\"http://store.steampowered.com/app/304530/\">Agents '\n",
      "                                          'of Mayhem</a> is Now Available on '\n",
      "                                          'Steam!<br /><br />In <strong>Agents '\n",
      "                                          'of MAYHEM</strong>, you run a '\n",
      "                                          'no-holds barred operation against a '\n",
      "                                          'shadowy super-villain organization '\n",
      "                                          'known only as '\n",
      "                                          '<strong>LEGION</strong> and their '\n",
      "                                          'mysterious leader, the Morningstar. '\n",
      "                                          'Explore the city of Seoul as a '\n",
      "                                          'variety of Super Agents to thwart '\n",
      "                                          \"LEGION's vile plans to take over \"\n",
      "                                          'the world!<br /><a '\n",
      "                                          'href=\"http://store.steampowered.com/app/304530/\"><img '\n",
      "                                          'src=\"https://steamcdn-a.akamaihd.net/steam/apps/304530/capsule_467x181.jpg\" '\n",
      "                                          'style=\"float: left; margin-right: '\n",
      "                                          '12px; height: 181px; width: 467px;\" '\n",
      "                                          '/></a>'},\n",
      "              'title': 'Now Available on Steam - Agents of Mayhem',\n",
      "              'title_detail': {'base': 'https://bites-data.s3.us-east-2.amazonaws.com/steam_gaming.xml',\n",
      "                               'language': None,\n",
      "                               'type': 'text/plain',\n",
      "                               'value': 'Now Available on Steam - Agents of '\n",
      "                                        'Mayhem'}},\n",
      "             {'guidislink': False,\n",
      "              'id': 'http://store.steampowered.com/news/31563/',\n",
      "              'link': 'http://store.steampowered.com/news/31563/',\n",
      "              'links': [{'href': 'http://store.steampowered.com/news/31563/',\n",
      "                         'rel': 'alternate',\n",
      "                         'type': 'text/html'}],\n",
      "              'published': 'Thu, 10 Aug 2017 08:01:46 -0700',\n",
      "              'published_parsed': time.struct_time(tm_year=2017, tm_mon=8, tm_mday=10, tm_hour=15, tm_min=1, tm_sec=46, tm_wday=3, tm_yday=222, tm_isdst=0),\n",
      "              'summary': '<a '\n",
      "                         'href=\"http://store.steampowered.com/app/597220/\">West '\n",
      "                         'of Loathing</a> is Now Available on Steam and is 10% '\n",
      "                         'off!*<br /><br />West of Loathing &mdash; a '\n",
      "                         'slapstick comedy stick-figure wild west adventure '\n",
      "                         'role-playing game.<br /><br />*Offer ends August 17 '\n",
      "                         'at 10AM Pacific Time<br /><a '\n",
      "                         'href=\"http://store.steampowered.com/app/597220/\"><img '\n",
      "                         'src=\"https://steamcdn-a.akamaihd.net/steam/apps/597220/capsule_467x181.jpg\" '\n",
      "                         'style=\"float: left; margin-right: 12px; height: '\n",
      "                         '181px; width: 467px;\" /></a>',\n",
      "              'summary_detail': {'base': 'https://bites-data.s3.us-east-2.amazonaws.com/steam_gaming.xml',\n",
      "                                 'language': None,\n",
      "                                 'type': 'text/html',\n",
      "                                 'value': '<a '\n",
      "                                          'href=\"http://store.steampowered.com/app/597220/\">West '\n",
      "                                          'of Loathing</a> is Now Available on '\n",
      "                                          'Steam and is 10% off!*<br /><br '\n",
      "                                          '/>West of Loathing &mdash; a '\n",
      "                                          'slapstick comedy stick-figure wild '\n",
      "                                          'west adventure role-playing '\n",
      "                                          'game.<br /><br />*Offer ends August '\n",
      "                                          '17 at 10AM Pacific Time<br /><a '\n",
      "                                          'href=\"http://store.steampowered.com/app/597220/\"><img '\n",
      "                                          'src=\"https://steamcdn-a.akamaihd.net/steam/apps/597220/capsule_467x181.jpg\" '\n",
      "                                          'style=\"float: left; margin-right: '\n",
      "                                          '12px; height: 181px; width: 467px;\" '\n",
      "                                          '/></a>'},\n",
      "              'title': 'Now Available on Steam - West of Loathing, 10% off!',\n",
      "              'title_detail': {'base': 'https://bites-data.s3.us-east-2.amazonaws.com/steam_gaming.xml',\n",
      "                               'language': None,\n",
      "                               'type': 'text/plain',\n",
      "                               'value': 'Now Available on Steam - West of '\n",
      "                                        'Loathing, 10% off!'}},\n",
      "             {'guidislink': False,\n",
      "              'id': 'http://store.steampowered.com/news/31549/',\n",
      "              'link': 'http://store.steampowered.com/news/31549/',\n",
      "              'links': [{'href': 'http://store.steampowered.com/news/31549/',\n",
      "                         'rel': 'alternate',\n",
      "                         'type': 'text/html'}],\n",
      "              'published': 'Wed, 9 Aug 2017 06:01:00 -0700',\n",
      "              'published_parsed': time.struct_time(tm_year=2017, tm_mon=8, tm_mday=9, tm_hour=13, tm_min=1, tm_sec=0, tm_wday=2, tm_yday=221, tm_isdst=0),\n",
      "              'summary': '<a '\n",
      "                         'href=\"http://store.steampowered.com/app/495050/\">Mega '\n",
      "                         'Man Legacy Collection 2</a> is Now Available on '\n",
      "                         'Steam!<br /><br />The Blue Bomber is back in this '\n",
      "                         'second collection of classic Capcom titles! '\n",
      "                         'Featuring faithful reproductions of Mega Man 7, 8, '\n",
      "                         '9, &amp; 10, this collection is bursting with '\n",
      "                         'additional content, from time trials and remix '\n",
      "                         'challenges to a music player and an extensive '\n",
      "                         'gallery of rare illustrations.<br /><a '\n",
      "                         'href=\"http://store.steampowered.com/app/495050/\"><img '\n",
      "                         'src=\"https://steamcdn-a.akamaihd.net/steam/apps/495050/capsule_467x181.jpg\" '\n",
      "                         'style=\"float: left; margin-right: 12px; height: '\n",
      "                         '181px; width: 467px;\" /></a>',\n",
      "              'summary_detail': {'base': 'https://bites-data.s3.us-east-2.amazonaws.com/steam_gaming.xml',\n",
      "                                 'language': None,\n",
      "                                 'type': 'text/html',\n",
      "                                 'value': '<a '\n",
      "                                          'href=\"http://store.steampowered.com/app/495050/\">Mega '\n",
      "                                          'Man Legacy Collection 2</a> is Now '\n",
      "                                          'Available on Steam!<br /><br />The '\n",
      "                                          'Blue Bomber is back in this second '\n",
      "                                          'collection of classic Capcom '\n",
      "                                          'titles! Featuring faithful '\n",
      "                                          'reproductions of Mega Man 7, 8, 9, '\n",
      "                                          '&amp; 10, this collection is '\n",
      "                                          'bursting with additional content, '\n",
      "                                          'from time trials and remix '\n",
      "                                          'challenges to a music player and an '\n",
      "                                          'extensive gallery of rare '\n",
      "                                          'illustrations.<br /><a '\n",
      "                                          'href=\"http://store.steampowered.com/app/495050/\"><img '\n",
      "                                          'src=\"https://steamcdn-a.akamaihd.net/steam/apps/495050/capsule_467x181.jpg\" '\n",
      "                                          'style=\"float: left; margin-right: '\n",
      "                                          '12px; height: 181px; width: 467px;\" '\n",
      "                                          '/></a>'},\n",
      "              'title': 'Now Available on Steam - Mega Man Legacy Collection 2',\n",
      "              'title_detail': {'base': 'https://bites-data.s3.us-east-2.amazonaws.com/steam_gaming.xml',\n",
      "                               'language': None,\n",
      "                               'type': 'text/plain',\n",
      "                               'value': 'Now Available on Steam - Mega Man '\n",
      "                                        'Legacy Collection 2'}},\n",
      "             {'guidislink': False,\n",
      "              'id': 'http://store.steampowered.com/news/31503/',\n",
      "              'link': 'http://store.steampowered.com/news/31503/',\n",
      "              'links': [{'href': 'http://store.steampowered.com/news/31503/',\n",
      "                         'rel': 'alternate',\n",
      "                         'type': 'text/html'}],\n",
      "              'published': 'Tue, 8 Aug 2017 10:20:00 -0700',\n",
      "              'published_parsed': time.struct_time(tm_year=2017, tm_mon=8, tm_mday=8, tm_hour=17, tm_min=20, tm_sec=0, tm_wday=1, tm_yday=220, tm_isdst=0),\n",
      "              'summary': '<a '\n",
      "                         'href=\"http://store.steampowered.com/app/606730/\">Sine '\n",
      "                         'Mora EX</a> is Now Available on Steam and is 20% '\n",
      "                         'off!*<br /><br />Sine Mora EX is a side-scrolling '\n",
      "                         \"shoot'em up that provides a unique challenge, where \"\n",
      "                         'time is the ultimate factor. Mixing classic shooter '\n",
      "                         'sensibilities with contemporary presentation, Sine '\n",
      "                         \"Mora EX is a gorgeous shoot'em up offering both a \"\n",
      "                         'Story Mode that weaves an over-the-top tale and an '\n",
      "                         'Arcade Mode that provides deep, satisfying gameplay '\n",
      "                         'to challenge fans of the genre.<br /><br />*Offer '\n",
      "                         'ends August 15 at 10AM Pacific Time<br /><a '\n",
      "                         'href=\"http://store.steampowered.com/app/606730/\"><img '\n",
      "                         'src=\"https://steamcdn-a.akamaihd.net/steam/apps/606730/capsule_467x181.jpg\" '\n",
      "                         'style=\"float: left; margin-right: 12px; height: '\n",
      "                         '181px; width: 467px;\" /></a>',\n",
      "              'summary_detail': {'base': 'https://bites-data.s3.us-east-2.amazonaws.com/steam_gaming.xml',\n",
      "                                 'language': None,\n",
      "                                 'type': 'text/html',\n",
      "                                 'value': '<a '\n",
      "                                          'href=\"http://store.steampowered.com/app/606730/\">Sine '\n",
      "                                          'Mora EX</a> is Now Available on '\n",
      "                                          'Steam and is 20% off!*<br /><br '\n",
      "                                          '/>Sine Mora EX is a side-scrolling '\n",
      "                                          \"shoot'em up that provides a unique \"\n",
      "                                          'challenge, where time is the '\n",
      "                                          'ultimate factor. Mixing classic '\n",
      "                                          'shooter sensibilities with '\n",
      "                                          'contemporary presentation, Sine '\n",
      "                                          \"Mora EX is a gorgeous shoot'em up \"\n",
      "                                          'offering both a Story Mode that '\n",
      "                                          'weaves an over-the-top tale and an '\n",
      "                                          'Arcade Mode that provides deep, '\n",
      "                                          'satisfying gameplay to challenge '\n",
      "                                          'fans of the genre.<br /><br '\n",
      "                                          '/>*Offer ends August 15 at 10AM '\n",
      "                                          'Pacific Time<br /><a '\n",
      "                                          'href=\"http://store.steampowered.com/app/606730/\"><img '\n",
      "                                          'src=\"https://steamcdn-a.akamaihd.net/steam/apps/606730/capsule_467x181.jpg\" '\n",
      "                                          'style=\"float: left; margin-right: '\n",
      "                                          '12px; height: 181px; width: 467px;\" '\n",
      "                                          '/></a>'},\n",
      "              'title': 'Now Available on Steam - Sine Mora EX, 20% off!',\n",
      "              'title_detail': {'base': 'https://bites-data.s3.us-east-2.amazonaws.com/steam_gaming.xml',\n",
      "                               'language': None,\n",
      "                               'type': 'text/plain',\n",
      "                               'value': 'Now Available on Steam - Sine Mora '\n",
      "                                        'EX, 20% off!'}},\n",
      "             {'guidislink': False,\n",
      "              'id': 'http://store.steampowered.com/news/31506/',\n",
      "              'link': 'http://store.steampowered.com/news/31506/',\n",
      "              'links': [{'href': 'http://store.steampowered.com/news/31506/',\n",
      "                         'rel': 'alternate',\n",
      "                         'type': 'text/html'}],\n",
      "              'published': 'Tue, 8 Aug 2017 10:08:00 -0700',\n",
      "              'published_parsed': time.struct_time(tm_year=2017, tm_mon=8, tm_mday=8, tm_hour=17, tm_min=8, tm_sec=0, tm_wday=1, tm_yday=220, tm_isdst=0),\n",
      "              'summary': '<a '\n",
      "                         'href=\"http://store.steampowered.com/app/675260/\">Batman: '\n",
      "                         'The Enemy Within - The Telltale Series</a> is Now '\n",
      "                         'Available on Steam!<br /><br />In this latest '\n",
      "                         'chapter from the award-winning studio behind Batman '\n",
      "                         '- The Telltale Series, both Bruce Wayne and Batman '\n",
      "                         'will be forced into precarious new roles. The '\n",
      "                         'Riddler has returned to terrorize Gotham City, but '\n",
      "                         'his gruesome puzzles merely foreshadow an even '\n",
      "                         'greater crisis.<br /><br /><a '\n",
      "                         'href=\"http://store.steampowered.com/app/675260/\"><img '\n",
      "                         'src=\"https://steamcdn-a.akamaihd.net/steam/apps/675260/capsule_467x181.jpg\" '\n",
      "                         'style=\"float: left; margin-right: 12px; height: '\n",
      "                         '181px; width: 467px;\" /></a>',\n",
      "              'summary_detail': {'base': 'https://bites-data.s3.us-east-2.amazonaws.com/steam_gaming.xml',\n",
      "                                 'language': None,\n",
      "                                 'type': 'text/html',\n",
      "                                 'value': '<a '\n",
      "                                          'href=\"http://store.steampowered.com/app/675260/\">Batman: '\n",
      "                                          'The Enemy Within - The Telltale '\n",
      "                                          'Series</a> is Now Available on '\n",
      "                                          'Steam!<br /><br />In this latest '\n",
      "                                          'chapter from the award-winning '\n",
      "                                          'studio behind Batman - The Telltale '\n",
      "                                          'Series, both Bruce Wayne and Batman '\n",
      "                                          'will be forced into precarious new '\n",
      "                                          'roles. The Riddler has returned to '\n",
      "                                          'terrorize Gotham City, but his '\n",
      "                                          'gruesome puzzles merely foreshadow '\n",
      "                                          'an even greater crisis.<br /><br '\n",
      "                                          '/><a '\n",
      "                                          'href=\"http://store.steampowered.com/app/675260/\"><img '\n",
      "                                          'src=\"https://steamcdn-a.akamaihd.net/steam/apps/675260/capsule_467x181.jpg\" '\n",
      "                                          'style=\"float: left; margin-right: '\n",
      "                                          '12px; height: 181px; width: 467px;\" '\n",
      "                                          '/></a>'},\n",
      "              'title': 'Now Available on Steam - Batman: The Enemy Within - '\n",
      "                       'The Telltale Series',\n",
      "              'title_detail': {'base': 'https://bites-data.s3.us-east-2.amazonaws.com/steam_gaming.xml',\n",
      "                               'language': None,\n",
      "                               'type': 'text/plain',\n",
      "                               'value': 'Now Available on Steam - Batman: The '\n",
      "                                        'Enemy Within - The Telltale Series'}},\n",
      "             {'guidislink': False,\n",
      "              'id': 'http://store.steampowered.com/news/31473/',\n",
      "              'link': 'http://store.steampowered.com/news/31473/',\n",
      "              'links': [{'href': 'http://store.steampowered.com/news/31473/',\n",
      "                         'rel': 'alternate',\n",
      "                         'type': 'text/html'}],\n",
      "              'published': 'Mon, 7 Aug 2017 08:56:14 -0700',\n",
      "              'published_parsed': time.struct_time(tm_year=2017, tm_mon=8, tm_mday=7, tm_hour=15, tm_min=56, tm_sec=14, tm_wday=0, tm_yday=219, tm_isdst=0),\n",
      "              'summary': '<a '\n",
      "                         'href=\"http://store.steampowered.com/app/414340/\">Hellblade: '\n",
      "                         \"Senua's Sacrifice</a> is Now Available on Steam!<br \"\n",
      "                         '/><br />From the makers of Heavenly Sword, Enslaved: '\n",
      "                         'Odyssey to the West, and DmC: Devil May Cry, comes a '\n",
      "                         'warrior&rsquo;s brutal journey into myth and '\n",
      "                         'madness.<br /><br /><br /><br />Set in the Viking '\n",
      "                         'age, a broken Celtic warrior embarks on a haunting '\n",
      "                         'vision quest into Viking Hell to fight for the soul '\n",
      "                         'of her dead lover.<br /><a '\n",
      "                         'href=\"http://store.steampowered.com/app/414340/\"><img '\n",
      "                         'src=\"https://steamcdn-a.akamaihd.net/steam/apps/414340/capsule_467x181.jpg\" '\n",
      "                         'style=\"float: left; margin-right: 12px; height: '\n",
      "                         '181px; width: 467px;\" /></a>',\n",
      "              'summary_detail': {'base': 'https://bites-data.s3.us-east-2.amazonaws.com/steam_gaming.xml',\n",
      "                                 'language': None,\n",
      "                                 'type': 'text/html',\n",
      "                                 'value': '<a '\n",
      "                                          'href=\"http://store.steampowered.com/app/414340/\">Hellblade: '\n",
      "                                          \"Senua's Sacrifice</a> is Now \"\n",
      "                                          'Available on Steam!<br /><br />From '\n",
      "                                          'the makers of Heavenly Sword, '\n",
      "                                          'Enslaved: Odyssey to the West, and '\n",
      "                                          'DmC: Devil May Cry, comes a '\n",
      "                                          'warrior&rsquo;s brutal journey into '\n",
      "                                          'myth and madness.<br /><br /><br '\n",
      "                                          '/><br />Set in the Viking age, a '\n",
      "                                          'broken Celtic warrior embarks on a '\n",
      "                                          'haunting vision quest into Viking '\n",
      "                                          'Hell to fight for the soul of her '\n",
      "                                          'dead lover.<br /><a '\n",
      "                                          'href=\"http://store.steampowered.com/app/414340/\"><img '\n",
      "                                          'src=\"https://steamcdn-a.akamaihd.net/steam/apps/414340/capsule_467x181.jpg\" '\n",
      "                                          'style=\"float: left; margin-right: '\n",
      "                                          '12px; height: 181px; width: 467px;\" '\n",
      "                                          '/></a>'},\n",
      "              'title': \"Now Available on Steam - Hellblade: Senua's Sacrifice\",\n",
      "              'title_detail': {'base': 'https://bites-data.s3.us-east-2.amazonaws.com/steam_gaming.xml',\n",
      "                               'language': None,\n",
      "                               'type': 'text/plain',\n",
      "                               'value': 'Now Available on Steam - Hellblade: '\n",
      "                                        \"Senua's Sacrifice\"}},\n",
      "             {'guidislink': False,\n",
      "              'id': 'http://store.steampowered.com/news/31467/',\n",
      "              'link': 'http://store.steampowered.com/news/31467/',\n",
      "              'links': [{'href': 'http://store.steampowered.com/news/31467/',\n",
      "                         'rel': 'alternate',\n",
      "                         'type': 'text/html'}],\n",
      "              'published': 'Mon, 7 Aug 2017 03:39:00 -0700',\n",
      "              'published_parsed': time.struct_time(tm_year=2017, tm_mon=8, tm_mday=7, tm_hour=10, tm_min=39, tm_sec=0, tm_wday=0, tm_yday=219, tm_isdst=0),\n",
      "              'summary': '<a '\n",
      "                         'href=\"http://store.steampowered.com/app/350280/\">LawBreakers</a> '\n",
      "                         'is Now Available on Steam!<br /><br />Bring your '\n",
      "                         'skills and get ready to deliver death from every '\n",
      "                         'angle as you compete in unprecedented '\n",
      "                         'gravity-defying combat in LawBreakers, the new '\n",
      "                         'first-person shooter from legendary game designer '\n",
      "                         'Cliff Bleszinski and the Boss Key Productions '\n",
      "                         'team.<br /><br /><a '\n",
      "                         'href=\"http://store.steampowered.com/app/350280/\"><img '\n",
      "                         'src=\"https://steamcdn-a.akamaihd.net/steam/apps/350280/capsule_467x181.jpg\" '\n",
      "                         'style=\"float: left; margin-right: 12px; height: '\n",
      "                         '181px; width: 467px;\" /></a>',\n",
      "              'summary_detail': {'base': 'https://bites-data.s3.us-east-2.amazonaws.com/steam_gaming.xml',\n",
      "                                 'language': None,\n",
      "                                 'type': 'text/html',\n",
      "                                 'value': '<a '\n",
      "                                          'href=\"http://store.steampowered.com/app/350280/\">LawBreakers</a> '\n",
      "                                          'is Now Available on Steam!<br /><br '\n",
      "                                          '/>Bring your skills and get ready '\n",
      "                                          'to deliver death from every angle '\n",
      "                                          'as you compete in unprecedented '\n",
      "                                          'gravity-defying combat in '\n",
      "                                          'LawBreakers, the new first-person '\n",
      "                                          'shooter from legendary game '\n",
      "                                          'designer Cliff Bleszinski and the '\n",
      "                                          'Boss Key Productions team.<br /><br '\n",
      "                                          '/><a '\n",
      "                                          'href=\"http://store.steampowered.com/app/350280/\"><img '\n",
      "                                          'src=\"https://steamcdn-a.akamaihd.net/steam/apps/350280/capsule_467x181.jpg\" '\n",
      "                                          'style=\"float: left; margin-right: '\n",
      "                                          '12px; height: 181px; width: 467px;\" '\n",
      "                                          '/></a>'},\n",
      "              'title': 'Now Available on Steam - LawBreakers',\n",
      "              'title_detail': {'base': 'https://bites-data.s3.us-east-2.amazonaws.com/steam_gaming.xml',\n",
      "                               'language': None,\n",
      "                               'type': 'text/plain',\n",
      "                               'value': 'Now Available on Steam - '\n",
      "                                        'LawBreakers'}},\n",
      "             {'guidislink': False,\n",
      "              'id': 'http://store.steampowered.com/news/31406/',\n",
      "              'link': 'http://store.steampowered.com/news/31406/',\n",
      "              'links': [{'href': 'http://store.steampowered.com/news/31406/',\n",
      "                         'rel': 'alternate',\n",
      "                         'type': 'text/html'}],\n",
      "              'published': 'Fri, 4 Aug 2017 09:02:34 -0700',\n",
      "              'published_parsed': time.struct_time(tm_year=2017, tm_mon=8, tm_mday=4, tm_hour=16, tm_min=2, tm_sec=34, tm_wday=4, tm_yday=216, tm_isdst=0),\n",
      "              'summary': '<a '\n",
      "                         'href=\"http://store.steampowered.com/app/501320/\">The '\n",
      "                         'Shrouded Isle</a> is Now Available on Steam and is '\n",
      "                         '10% off!*<br /><br />Your Excellency, you must '\n",
      "                         'prepare for the awakening of our Lord. He hungers '\n",
      "                         'for a human sacrifice every season. Sinners try to '\n",
      "                         'hide their dark secrets, but all must be '\n",
      "                         'purged...<br /><br />*Offer ends August 11 at 10AM '\n",
      "                         'Pacific Time<br /><a '\n",
      "                         'href=\"http://store.steampowered.com/app/501320/\"><img '\n",
      "                         'src=\"https://steamcdn-a.akamaihd.net/steam/apps/501320/capsule_467x181.jpg\" '\n",
      "                         'style=\"float: left; margin-right: 12px; height: '\n",
      "                         '181px; width: 467px;\" /></a>',\n",
      "              'summary_detail': {'base': 'https://bites-data.s3.us-east-2.amazonaws.com/steam_gaming.xml',\n",
      "                                 'language': None,\n",
      "                                 'type': 'text/html',\n",
      "                                 'value': '<a '\n",
      "                                          'href=\"http://store.steampowered.com/app/501320/\">The '\n",
      "                                          'Shrouded Isle</a> is Now Available '\n",
      "                                          'on Steam and is 10% off!*<br /><br '\n",
      "                                          '/>Your Excellency, you must prepare '\n",
      "                                          'for the awakening of our Lord. He '\n",
      "                                          'hungers for a human sacrifice every '\n",
      "                                          'season. Sinners try to hide their '\n",
      "                                          'dark secrets, but all must be '\n",
      "                                          'purged...<br /><br />*Offer ends '\n",
      "                                          'August 11 at 10AM Pacific Time<br '\n",
      "                                          '/><a '\n",
      "                                          'href=\"http://store.steampowered.com/app/501320/\"><img '\n",
      "                                          'src=\"https://steamcdn-a.akamaihd.net/steam/apps/501320/capsule_467x181.jpg\" '\n",
      "                                          'style=\"float: left; margin-right: '\n",
      "                                          '12px; height: 181px; width: 467px;\" '\n",
      "                                          '/></a>'},\n",
      "              'title': 'Now Available on Steam - The Shrouded Isle, 10% off!',\n",
      "              'title_detail': {'base': 'https://bites-data.s3.us-east-2.amazonaws.com/steam_gaming.xml',\n",
      "                               'language': None,\n",
      "                               'type': 'text/plain',\n",
      "                               'value': 'Now Available on Steam - The Shrouded '\n",
      "                                        'Isle, 10% off!'}},\n",
      "             {'guidislink': False,\n",
      "              'id': 'http://store.steampowered.com/news/31202/',\n",
      "              'link': 'http://store.steampowered.com/news/31202/',\n",
      "              'links': [{'href': 'http://store.steampowered.com/news/31202/',\n",
      "                         'rel': 'alternate',\n",
      "                         'type': 'text/html'}],\n",
      "              'published': 'Thu, 3 Aug 2017 10:15:00 -0700',\n",
      "              'published_parsed': time.struct_time(tm_year=2017, tm_mon=8, tm_mday=3, tm_hour=17, tm_min=15, tm_sec=0, tm_wday=3, tm_yday=215, tm_isdst=0),\n",
      "              'summary': 'Save up to 80% in the <a '\n",
      "                         'href=\"http://store.steampowered.com/app/689240/\">Rebellion '\n",
      "                         \"Publisher Weekend</a> as part of this week's Weekend \"\n",
      "                         'Deal*!<br /><br />*Offer ends Monday at 10AM Pacific '\n",
      "                         'Time<br /><a '\n",
      "                         'href=\"http://store.steampowered.com/app/689240/\"><img '\n",
      "                         'src=\"https://steamcdn-a.akamaihd.net/steam/news/31202/spotlight.jpg?t=1501476027\" '\n",
      "                         'style=\"float: left; margin-right: 12px;\" /></a>',\n",
      "              'summary_detail': {'base': 'https://bites-data.s3.us-east-2.amazonaws.com/steam_gaming.xml',\n",
      "                                 'language': None,\n",
      "                                 'type': 'text/html',\n",
      "                                 'value': 'Save up to 80% in the <a '\n",
      "                                          'href=\"http://store.steampowered.com/app/689240/\">Rebellion '\n",
      "                                          'Publisher Weekend</a> as part of '\n",
      "                                          \"this week's Weekend Deal*!<br /><br \"\n",
      "                                          '/>*Offer ends Monday at 10AM '\n",
      "                                          'Pacific Time<br /><a '\n",
      "                                          'href=\"http://store.steampowered.com/app/689240/\"><img '\n",
      "                                          'src=\"https://steamcdn-a.akamaihd.net/steam/news/31202/spotlight.jpg?t=1501476027\" '\n",
      "                                          'style=\"float: left; margin-right: '\n",
      "                                          '12px;\" /></a>'},\n",
      "              'title': 'Weekend Deal - Rebellion Publisher Weekend, Up To 80% '\n",
      "                       'Off',\n",
      "              'title_detail': {'base': 'https://bites-data.s3.us-east-2.amazonaws.com/steam_gaming.xml',\n",
      "                               'language': None,\n",
      "                               'type': 'text/plain',\n",
      "                               'value': 'Weekend Deal - Rebellion Publisher '\n",
      "                                        'Weekend, Up To 80% Off'}},\n",
      "             {'guidislink': False,\n",
      "              'id': 'http://store.steampowered.com/news/31268/',\n",
      "              'link': 'http://store.steampowered.com/news/31268/',\n",
      "              'links': [{'href': 'http://store.steampowered.com/news/31268/',\n",
      "                         'rel': 'alternate',\n",
      "                         'type': 'text/html'}],\n",
      "              'published': 'Thu, 3 Aug 2017 09:15:00 -0700',\n",
      "              'published_parsed': time.struct_time(tm_year=2017, tm_mon=8, tm_mday=3, tm_hour=16, tm_min=15, tm_sec=0, tm_wday=3, tm_yday=215, tm_isdst=0),\n",
      "              'summary': '<a '\n",
      "                         'href=\"http://store.steampowered.com/app/573170/\">Fidel '\n",
      "                         'Dungeon Rescue</a> is Now Available on Steam and is '\n",
      "                         '15% off!*<br /><br />Fidel is a puzzle-crawler about '\n",
      "                         'finding the best path through monsters, treasure and '\n",
      "                         'magic. Each match is just a few minutes long, but '\n",
      "                         'there are many surprises and tricks to learn each '\n",
      "                         'time. <br /><br /><br /><br />Also, you are a '\n",
      "                         'dog.<br /><br />*Offer ends August 8 at 10AM Pacific '\n",
      "                         'Time<br /><a '\n",
      "                         'href=\"http://store.steampowered.com/app/573170/\"><img '\n",
      "                         'src=\"https://steamcdn-a.akamaihd.net/steam/apps/573170/capsule_467x181.jpg\" '\n",
      "                         'style=\"float: left; margin-right: 12px; height: '\n",
      "                         '181px; width: 467px;\" /></a>',\n",
      "              'summary_detail': {'base': 'https://bites-data.s3.us-east-2.amazonaws.com/steam_gaming.xml',\n",
      "                                 'language': None,\n",
      "                                 'type': 'text/html',\n",
      "                                 'value': '<a '\n",
      "                                          'href=\"http://store.steampowered.com/app/573170/\">Fidel '\n",
      "                                          'Dungeon Rescue</a> is Now Available '\n",
      "                                          'on Steam and is 15% off!*<br /><br '\n",
      "                                          '/>Fidel is a puzzle-crawler about '\n",
      "                                          'finding the best path through '\n",
      "                                          'monsters, treasure and magic. Each '\n",
      "                                          'match is just a few minutes long, '\n",
      "                                          'but there are many surprises and '\n",
      "                                          'tricks to learn each time. <br '\n",
      "                                          '/><br /><br /><br />Also, you are a '\n",
      "                                          'dog.<br /><br />*Offer ends August '\n",
      "                                          '8 at 10AM Pacific Time<br /><a '\n",
      "                                          'href=\"http://store.steampowered.com/app/573170/\"><img '\n",
      "                                          'src=\"https://steamcdn-a.akamaihd.net/steam/apps/573170/capsule_467x181.jpg\" '\n",
      "                                          'style=\"float: left; margin-right: '\n",
      "                                          '12px; height: 181px; width: 467px;\" '\n",
      "                                          '/></a>'},\n",
      "              'title': 'Now Available on Steam - Fidel Dungeon Rescue, 15% '\n",
      "                       'off!',\n",
      "              'title_detail': {'base': 'https://bites-data.s3.us-east-2.amazonaws.com/steam_gaming.xml',\n",
      "                               'language': None,\n",
      "                               'type': 'text/plain',\n",
      "                               'value': 'Now Available on Steam - Fidel '\n",
      "                                        'Dungeon Rescue, 15% off!'}},\n",
      "             {'guidislink': False,\n",
      "              'id': 'http://store.steampowered.com/news/31296/',\n",
      "              'link': 'http://store.steampowered.com/news/31296/',\n",
      "              'links': [{'href': 'http://store.steampowered.com/news/31296/',\n",
      "                         'rel': 'alternate',\n",
      "                         'type': 'text/html'}],\n",
      "              'published': 'Wed, 2 Aug 2017 09:12:02 -0700',\n",
      "              'published_parsed': time.struct_time(tm_year=2017, tm_mon=8, tm_mday=2, tm_hour=16, tm_min=12, tm_sec=2, tm_wday=2, tm_yday=214, tm_isdst=0),\n",
      "              'summary': '<a '\n",
      "                         'href=\"http://store.steampowered.com/app/553880/\">Archangel</a> '\n",
      "                         'is Now Available on Steam!<br /><br />Step into the '\n",
      "                         'cockpit of a six-story mech and feel its might at '\n",
      "                         'your command! You are the tip of the spear in the '\n",
      "                         'United States Free Forces&rsquo; war against the '\n",
      "                         'overwhelming mechanized forces of HUMNX, a '\n",
      "                         'tyrannical corporation that rules a post-apocalyptic '\n",
      "                         'America. Marshall an arsenal of weapons and fight '\n",
      "                         'alongside your squadmates in an incredible, hands-on '\n",
      "                         'VR battle across the scarred landscapes of our once '\n",
      "                         'beautiful nation.<br /><a '\n",
      "                         'href=\"http://store.steampowered.com/app/553880/\"><img '\n",
      "                         'src=\"https://steamcdn-a.akamaihd.net/steam/apps/553880/capsule_467x181.jpg\" '\n",
      "                         'style=\"float: left; margin-right: 12px; height: '\n",
      "                         '181px; width: 467px;\" /></a>',\n",
      "              'summary_detail': {'base': 'https://bites-data.s3.us-east-2.amazonaws.com/steam_gaming.xml',\n",
      "                                 'language': None,\n",
      "                                 'type': 'text/html',\n",
      "                                 'value': '<a '\n",
      "                                          'href=\"http://store.steampowered.com/app/553880/\">Archangel</a> '\n",
      "                                          'is Now Available on Steam!<br /><br '\n",
      "                                          '/>Step into the cockpit of a '\n",
      "                                          'six-story mech and feel its might '\n",
      "                                          'at your command! You are the tip of '\n",
      "                                          'the spear in the United States Free '\n",
      "                                          'Forces&rsquo; war against the '\n",
      "                                          'overwhelming mechanized forces of '\n",
      "                                          'HUMNX, a tyrannical corporation '\n",
      "                                          'that rules a post-apocalyptic '\n",
      "                                          'America. Marshall an arsenal of '\n",
      "                                          'weapons and fight alongside your '\n",
      "                                          'squadmates in an incredible, '\n",
      "                                          'hands-on VR battle across the '\n",
      "                                          'scarred landscapes of our once '\n",
      "                                          'beautiful nation.<br /><a '\n",
      "                                          'href=\"http://store.steampowered.com/app/553880/\"><img '\n",
      "                                          'src=\"https://steamcdn-a.akamaihd.net/steam/apps/553880/capsule_467x181.jpg\" '\n",
      "                                          'style=\"float: left; margin-right: '\n",
      "                                          '12px; height: 181px; width: 467px;\" '\n",
      "                                          '/></a>'},\n",
      "              'title': 'Now Available on Steam - Archangel',\n",
      "              'title_detail': {'base': 'https://bites-data.s3.us-east-2.amazonaws.com/steam_gaming.xml',\n",
      "                               'language': None,\n",
      "                               'type': 'text/plain',\n",
      "                               'value': 'Now Available on Steam - Archangel'}},\n",
      "             {'guidislink': False,\n",
      "              'id': 'http://store.steampowered.com/news/31280/',\n",
      "              'link': 'http://store.steampowered.com/news/31280/',\n",
      "              'links': [{'href': 'http://store.steampowered.com/news/31280/',\n",
      "                         'rel': 'alternate',\n",
      "                         'type': 'text/html'}],\n",
      "              'published': 'Tue, 1 Aug 2017 05:00:53 -0700',\n",
      "              'published_parsed': time.struct_time(tm_year=2017, tm_mon=8, tm_mday=1, tm_hour=12, tm_min=0, tm_sec=53, tm_wday=1, tm_yday=213, tm_isdst=0),\n",
      "              'summary': '<a '\n",
      "                         'href=\"http://store.steampowered.com/app/343860/\">Tacoma</a> '\n",
      "                         'is Now Available on Steam!<br /><br />Tacoma is a '\n",
      "                         'sci-fi narrative adventure set aboard a high-tech '\n",
      "                         'space station in the year 2088. Explore every detail '\n",
      "                         'of how the station&rsquo;s crew lived and worked, '\n",
      "                         'finding the clues that add up to a gripping story of '\n",
      "                         'trust, fear, and resolve in the face of disaster. '\n",
      "                         'From the creators of Gone Home.<br /><a '\n",
      "                         'href=\"http://store.steampowered.com/app/343860/\"><img '\n",
      "                         'src=\"https://steamcdn-a.akamaihd.net/steam/apps/343860/capsule_467x181.jpg\" '\n",
      "                         'style=\"float: left; margin-right: 12px; height: '\n",
      "                         '181px; width: 467px;\" /></a>',\n",
      "              'summary_detail': {'base': 'https://bites-data.s3.us-east-2.amazonaws.com/steam_gaming.xml',\n",
      "                                 'language': None,\n",
      "                                 'type': 'text/html',\n",
      "                                 'value': '<a '\n",
      "                                          'href=\"http://store.steampowered.com/app/343860/\">Tacoma</a> '\n",
      "                                          'is Now Available on Steam!<br /><br '\n",
      "                                          '/>Tacoma is a sci-fi narrative '\n",
      "                                          'adventure set aboard a high-tech '\n",
      "                                          'space station in the year 2088. '\n",
      "                                          'Explore every detail of how the '\n",
      "                                          'station&rsquo;s crew lived and '\n",
      "                                          'worked, finding the clues that add '\n",
      "                                          'up to a gripping story of trust, '\n",
      "                                          'fear, and resolve in the face of '\n",
      "                                          'disaster. From the creators of Gone '\n",
      "                                          'Home.<br /><a '\n",
      "                                          'href=\"http://store.steampowered.com/app/343860/\"><img '\n",
      "                                          'src=\"https://steamcdn-a.akamaihd.net/steam/apps/343860/capsule_467x181.jpg\" '\n",
      "                                          'style=\"float: left; margin-right: '\n",
      "                                          '12px; height: 181px; width: 467px;\" '\n",
      "                                          '/></a>'},\n",
      "              'title': 'Now Available on Steam - Tacoma',\n",
      "              'title_detail': {'base': 'https://bites-data.s3.us-east-2.amazonaws.com/steam_gaming.xml',\n",
      "                               'language': None,\n",
      "                               'type': 'text/plain',\n",
      "                               'value': 'Now Available on Steam - Tacoma'}},\n",
      "             {'guidislink': False,\n",
      "              'id': 'http://store.steampowered.com/news/31261/',\n",
      "              'link': 'http://store.steampowered.com/news/31261/',\n",
      "              'links': [{'href': 'http://store.steampowered.com/news/31261/',\n",
      "                         'rel': 'alternate',\n",
      "                         'type': 'text/html'}],\n",
      "              'published': 'Tue, 1 Aug 2017 11:12:00 -0700',\n",
      "              'published_parsed': time.struct_time(tm_year=2017, tm_mon=8, tm_mday=1, tm_hour=18, tm_min=12, tm_sec=0, tm_wday=1, tm_yday=213, tm_isdst=0),\n",
      "              'summary': '<a '\n",
      "                         'href=\"http://store.steampowered.com/app/404680/\">Hob</a> '\n",
      "                         'is Now Available for Pre-Purchase on Steam and is '\n",
      "                         '10% off!*<br /><br />From the team that brought you '\n",
      "                         'Torchlight and Torchlight II comes Hob: a vibrant, '\n",
      "                         'suspenseful action-adventure game set on a stunning '\n",
      "                         'and brutal world in disarray. As players delve into '\n",
      "                         'the mysteries around them, they discover a planet in '\n",
      "                         'peril. Can it be mended, or will the world fall '\n",
      "                         'further into chaos?<br /><br />*Offer ends at 10AM '\n",
      "                         'Pacific Time<br /><a '\n",
      "                         'href=\"http://store.steampowered.com/app/404680/\"><img '\n",
      "                         'src=\"https://steamcdn-a.akamaihd.net/steam/apps/404680/capsule_467x181.jpg\" '\n",
      "                         'style=\"float: left; margin-right: 12px; height: '\n",
      "                         '181px; width: 467px;\" /></a>',\n",
      "              'summary_detail': {'base': 'https://bites-data.s3.us-east-2.amazonaws.com/steam_gaming.xml',\n",
      "                                 'language': None,\n",
      "                                 'type': 'text/html',\n",
      "                                 'value': '<a '\n",
      "                                          'href=\"http://store.steampowered.com/app/404680/\">Hob</a> '\n",
      "                                          'is Now Available for Pre-Purchase '\n",
      "                                          'on Steam and is 10% off!*<br /><br '\n",
      "                                          '/>From the team that brought you '\n",
      "                                          'Torchlight and Torchlight II comes '\n",
      "                                          'Hob: a vibrant, suspenseful '\n",
      "                                          'action-adventure game set on a '\n",
      "                                          'stunning and brutal world in '\n",
      "                                          'disarray. As players delve into the '\n",
      "                                          'mysteries around them, they '\n",
      "                                          'discover a planet in peril. Can it '\n",
      "                                          'be mended, or will the world fall '\n",
      "                                          'further into chaos?<br /><br '\n",
      "                                          '/>*Offer ends at 10AM Pacific '\n",
      "                                          'Time<br /><a '\n",
      "                                          'href=\"http://store.steampowered.com/app/404680/\"><img '\n",
      "                                          'src=\"https://steamcdn-a.akamaihd.net/steam/apps/404680/capsule_467x181.jpg\" '\n",
      "                                          'style=\"float: left; margin-right: '\n",
      "                                          '12px; height: 181px; width: 467px;\" '\n",
      "                                          '/></a>'},\n",
      "              'title': 'Pre-Purchase Now - Hob',\n",
      "              'title_detail': {'base': 'https://bites-data.s3.us-east-2.amazonaws.com/steam_gaming.xml',\n",
      "                               'language': None,\n",
      "                               'type': 'text/plain',\n",
      "                               'value': 'Pre-Purchase Now - Hob'}},\n",
      "             {'guidislink': False,\n",
      "              'id': 'http://store.steampowered.com/news/31255/',\n",
      "              'link': 'http://store.steampowered.com/news/31255/',\n",
      "              'links': [{'href': 'http://store.steampowered.com/news/31255/',\n",
      "                         'rel': 'alternate',\n",
      "                         'type': 'text/html'}],\n",
      "              'published': 'Tue, 1 Aug 2017 10:12:00 -0700',\n",
      "              'published_parsed': time.struct_time(tm_year=2017, tm_mon=8, tm_mday=1, tm_hour=17, tm_min=12, tm_sec=0, tm_wday=1, tm_yday=213, tm_isdst=0),\n",
      "              'summary': '<a '\n",
      "                         'href=\"http://store.steampowered.com/app/433340/\">Slime '\n",
      "                         'Rancher</a> is Now Available on Steam and is 33% '\n",
      "                         'off!*<br /><br /><i> Slime Rancher</i>  is the tale '\n",
      "                         'of Beatrix LeBeau, a plucky, young rancher who sets '\n",
      "                         'out for a life a thousand light years away from '\n",
      "                         'Earth on the &lsquo;Far, Far Range&rsquo; where she '\n",
      "                         'tries her hand at making a living wrangling slimes. '\n",
      "                         'With a can-do attitude, plenty of grit, and her '\n",
      "                         'trusty vacpack, Beatrix attempts to stake a claim, '\n",
      "                         'amass a fortune, and avoid the continual peril that '\n",
      "                         'looms from the rolling, jiggling avalanche of slimes '\n",
      "                         'around every corner.<br /><br />*Offer ends August 8 '\n",
      "                         'at 10AM Pacific Time<br /><a '\n",
      "                         'href=\"http://store.steampowered.com/app/433340/\"><img '\n",
      "                         'src=\"https://steamcdn-a.akamaihd.net/steam/apps/433340/capsule_467x181.jpg\" '\n",
      "                         'style=\"float: left; margin-right: 12px; height: '\n",
      "                         '181px; width: 467px;\" /></a>',\n",
      "              'summary_detail': {'base': 'https://bites-data.s3.us-east-2.amazonaws.com/steam_gaming.xml',\n",
      "                                 'language': None,\n",
      "                                 'type': 'text/html',\n",
      "                                 'value': '<a '\n",
      "                                          'href=\"http://store.steampowered.com/app/433340/\">Slime '\n",
      "                                          'Rancher</a> is Now Available on '\n",
      "                                          'Steam and is 33% off!*<br /><br '\n",
      "                                          '/><i> Slime Rancher</i>  is the '\n",
      "                                          'tale of Beatrix LeBeau, a plucky, '\n",
      "                                          'young rancher who sets out for a '\n",
      "                                          'life a thousand light years away '\n",
      "                                          'from Earth on the &lsquo;Far, Far '\n",
      "                                          'Range&rsquo; where she tries her '\n",
      "                                          'hand at making a living wrangling '\n",
      "                                          'slimes. With a can-do attitude, '\n",
      "                                          'plenty of grit, and her trusty '\n",
      "                                          'vacpack, Beatrix attempts to stake '\n",
      "                                          'a claim, amass a fortune, and avoid '\n",
      "                                          'the continual peril that looms from '\n",
      "                                          'the rolling, jiggling avalanche of '\n",
      "                                          'slimes around every corner.<br '\n",
      "                                          '/><br />*Offer ends August 8 at '\n",
      "                                          '10AM Pacific Time<br /><a '\n",
      "                                          'href=\"http://store.steampowered.com/app/433340/\"><img '\n",
      "                                          'src=\"https://steamcdn-a.akamaihd.net/steam/apps/433340/capsule_467x181.jpg\" '\n",
      "                                          'style=\"float: left; margin-right: '\n",
      "                                          '12px; height: 181px; width: 467px;\" '\n",
      "                                          '/></a>'},\n",
      "              'title': 'Now Available on Steam - Slime Rancher, 33% off!',\n",
      "              'title_detail': {'base': 'https://bites-data.s3.us-east-2.amazonaws.com/steam_gaming.xml',\n",
      "                               'language': None,\n",
      "                               'type': 'text/plain',\n",
      "                               'value': 'Now Available on Steam - Slime '\n",
      "                                        'Rancher, 33% off!'}},\n",
      "             {'guidislink': False,\n",
      "              'id': 'http://store.steampowered.com/news/31259/',\n",
      "              'link': 'http://store.steampowered.com/news/31259/',\n",
      "              'links': [{'href': 'http://store.steampowered.com/news/31259/',\n",
      "                         'rel': 'alternate',\n",
      "                         'type': 'text/html'}],\n",
      "              'published': 'Tue, 1 Aug 2017 09:58:22 -0700',\n",
      "              'published_parsed': time.struct_time(tm_year=2017, tm_mon=8, tm_mday=1, tm_hour=16, tm_min=58, tm_sec=22, tm_wday=1, tm_yday=213, tm_isdst=0),\n",
      "              'summary': '<a '\n",
      "                         'href=\"http://store.steampowered.com/app/447290/\">Redeemer</a> '\n",
      "                         'is Now Available on Steam and is 15% off!*<br /><br '\n",
      "                         '/><strong>REDEEMER</strong> is a intense Brawler '\n",
      "                         'where you will punch, hack and blast your way '\n",
      "                         'through enemies using fists, hammers, fire arms and '\n",
      "                         'even the environment.<br /><br />*Offer ends August '\n",
      "                         '8 at 10AM Pacific Time<br /><a '\n",
      "                         'href=\"http://store.steampowered.com/app/447290/\"><img '\n",
      "                         'src=\"https://steamcdn-a.akamaihd.net/steam/apps/447290/capsule_467x181.jpg\" '\n",
      "                         'style=\"float: left; margin-right: 12px; height: '\n",
      "                         '181px; width: 467px;\" /></a>',\n",
      "              'summary_detail': {'base': 'https://bites-data.s3.us-east-2.amazonaws.com/steam_gaming.xml',\n",
      "                                 'language': None,\n",
      "                                 'type': 'text/html',\n",
      "                                 'value': '<a '\n",
      "                                          'href=\"http://store.steampowered.com/app/447290/\">Redeemer</a> '\n",
      "                                          'is Now Available on Steam and is '\n",
      "                                          '15% off!*<br /><br '\n",
      "                                          '/><strong>REDEEMER</strong> is a '\n",
      "                                          'intense Brawler where you will '\n",
      "                                          'punch, hack and blast your way '\n",
      "                                          'through enemies using fists, '\n",
      "                                          'hammers, fire arms and even the '\n",
      "                                          'environment.<br /><br />*Offer ends '\n",
      "                                          'August 8 at 10AM Pacific Time<br '\n",
      "                                          '/><a '\n",
      "                                          'href=\"http://store.steampowered.com/app/447290/\"><img '\n",
      "                                          'src=\"https://steamcdn-a.akamaihd.net/steam/apps/447290/capsule_467x181.jpg\" '\n",
      "                                          'style=\"float: left; margin-right: '\n",
      "                                          '12px; height: 181px; width: 467px;\" '\n",
      "                                          '/></a>'},\n",
      "              'title': 'Now Available on Steam - Redeemer, 15% off!',\n",
      "              'title_detail': {'base': 'https://bites-data.s3.us-east-2.amazonaws.com/steam_gaming.xml',\n",
      "                               'language': None,\n",
      "                               'type': 'text/plain',\n",
      "                               'value': 'Now Available on Steam - Redeemer, '\n",
      "                                        '15% off!'}},\n",
      "             {'guidislink': False,\n",
      "              'id': 'http://store.steampowered.com/news/31254/',\n",
      "              'link': 'http://store.steampowered.com/news/31254/',\n",
      "              'links': [{'href': 'http://store.steampowered.com/news/31254/',\n",
      "                         'rel': 'alternate',\n",
      "                         'type': 'text/html'}],\n",
      "              'published': 'Tue, 1 Aug 2017 07:57:54 -0700',\n",
      "              'published_parsed': time.struct_time(tm_year=2017, tm_mon=8, tm_mday=1, tm_hour=14, tm_min=57, tm_sec=54, tm_wday=1, tm_yday=213, tm_isdst=0),\n",
      "              'summary': '<a '\n",
      "                         'href=\"http://store.steampowered.com/app/305620/\">The '\n",
      "                         'Long Dark</a> is Now Available on Steam and is 10% '\n",
      "                         'off!*<br /><br />The Long Dark is a thoughtful, '\n",
      "                         'exploration-survival experience that challenges solo '\n",
      "                         'players to think for themselves as they explore an '\n",
      "                         'expansive frozen wilderness in the aftermath of a '\n",
      "                         'geomagnetic disaster. There are no zombies -- only '\n",
      "                         'you, the cold, and all the threats Mother Nature can '\n",
      "                         'muster. Welcome to the Quiet Apocalypse.<br /><br '\n",
      "                         '/>*Offer ends August 8 at 10AM Pacific Time<br /><a '\n",
      "                         'href=\"http://store.steampowered.com/app/305620/\"><img '\n",
      "                         'src=\"https://steamcdn-a.akamaihd.net/steam/apps/305620/capsule_467x181.jpg\" '\n",
      "                         'style=\"float: left; margin-right: 12px; height: '\n",
      "                         '181px; width: 467px;\" /></a>',\n",
      "              'summary_detail': {'base': 'https://bites-data.s3.us-east-2.amazonaws.com/steam_gaming.xml',\n",
      "                                 'language': None,\n",
      "                                 'type': 'text/html',\n",
      "                                 'value': '<a '\n",
      "                                          'href=\"http://store.steampowered.com/app/305620/\">The '\n",
      "                                          'Long Dark</a> is Now Available on '\n",
      "                                          'Steam and is 10% off!*<br /><br '\n",
      "                                          '/>The Long Dark is a thoughtful, '\n",
      "                                          'exploration-survival experience '\n",
      "                                          'that challenges solo players to '\n",
      "                                          'think for themselves as they '\n",
      "                                          'explore an expansive frozen '\n",
      "                                          'wilderness in the aftermath of a '\n",
      "                                          'geomagnetic disaster. There are no '\n",
      "                                          'zombies -- only you, the cold, and '\n",
      "                                          'all the threats Mother Nature can '\n",
      "                                          'muster. Welcome to the Quiet '\n",
      "                                          'Apocalypse.<br /><br />*Offer ends '\n",
      "                                          'August 8 at 10AM Pacific Time<br '\n",
      "                                          '/><a '\n",
      "                                          'href=\"http://store.steampowered.com/app/305620/\"><img '\n",
      "                                          'src=\"https://steamcdn-a.akamaihd.net/steam/apps/305620/capsule_467x181.jpg\" '\n",
      "                                          'style=\"float: left; margin-right: '\n",
      "                                          '12px; height: 181px; width: 467px;\" '\n",
      "                                          '/></a>'},\n",
      "              'title': 'Now Available on Steam - The Long Dark, 10% off!',\n",
      "              'title_detail': {'base': 'https://bites-data.s3.us-east-2.amazonaws.com/steam_gaming.xml',\n",
      "                               'language': None,\n",
      "                               'type': 'text/plain',\n",
      "                               'value': 'Now Available on Steam - The Long '\n",
      "                                        'Dark, 10% off!'}},\n",
      "             {'guidislink': False,\n",
      "              'id': 'http://store.steampowered.com/news/31224/',\n",
      "              'link': 'http://store.steampowered.com/news/31224/',\n",
      "              'links': [{'href': 'http://store.steampowered.com/news/31224/',\n",
      "                         'rel': 'alternate',\n",
      "                         'type': 'text/html'}],\n",
      "              'published': 'Mon, 31 Jul 2017 12:30:00 -0700',\n",
      "              'published_parsed': time.struct_time(tm_year=2017, tm_mon=7, tm_mday=31, tm_hour=19, tm_min=30, tm_sec=0, tm_wday=0, tm_yday=212, tm_isdst=0),\n",
      "              'summary': '<a '\n",
      "                         'href=\"http://store.steampowered.com/app/215280/\">Secret '\n",
      "                         'World Legends</a> is Now Available on Steam and free '\n",
      "                         'to play!<br /><br />Secret World Legends is a '\n",
      "                         'story-driven, shared-world action RPG that plunges '\n",
      "                         'players into a shadowy war against the supernatural, '\n",
      "                         'where ancient myths and legends cross over into the '\n",
      "                         'modern day.<br /><a '\n",
      "                         'href=\"http://store.steampowered.com/app/215280/\"><img '\n",
      "                         'src=\"https://steamcdn-a.akamaihd.net/steam/apps/215280/capsule_467x181.jpg\" '\n",
      "                         'style=\"float: left; margin-right: 12px; height: '\n",
      "                         '181px; width: 467px;\" /></a>',\n",
      "              'summary_detail': {'base': 'https://bites-data.s3.us-east-2.amazonaws.com/steam_gaming.xml',\n",
      "                                 'language': None,\n",
      "                                 'type': 'text/html',\n",
      "                                 'value': '<a '\n",
      "                                          'href=\"http://store.steampowered.com/app/215280/\">Secret '\n",
      "                                          'World Legends</a> is Now Available '\n",
      "                                          'on Steam and free to play!<br /><br '\n",
      "                                          '/>Secret World Legends is a '\n",
      "                                          'story-driven, shared-world action '\n",
      "                                          'RPG that plunges players into a '\n",
      "                                          'shadowy war against the '\n",
      "                                          'supernatural, where ancient myths '\n",
      "                                          'and legends cross over into the '\n",
      "                                          'modern day.<br /><a '\n",
      "                                          'href=\"http://store.steampowered.com/app/215280/\"><img '\n",
      "                                          'src=\"https://steamcdn-a.akamaihd.net/steam/apps/215280/capsule_467x181.jpg\" '\n",
      "                                          'style=\"float: left; margin-right: '\n",
      "                                          '12px; height: 181px; width: 467px;\" '\n",
      "                                          '/></a>'},\n",
      "              'title': 'Now Available on Steam - Secret World Legends',\n",
      "              'title_detail': {'base': 'https://bites-data.s3.us-east-2.amazonaws.com/steam_gaming.xml',\n",
      "                               'language': None,\n",
      "                               'type': 'text/plain',\n",
      "                               'value': 'Now Available on Steam - Secret World '\n",
      "                                        'Legends'}},\n",
      "             {'guidislink': False,\n",
      "              'id': 'http://store.steampowered.com/news/31109/',\n",
      "              'link': 'http://store.steampowered.com/news/31109/',\n",
      "              'links': [{'href': 'http://store.steampowered.com/news/31109/',\n",
      "                         'rel': 'alternate',\n",
      "                         'type': 'text/html'}],\n",
      "              'published': 'Fri, 28 Jul 2017 01:30:00 -0700',\n",
      "              'published_parsed': time.struct_time(tm_year=2017, tm_mon=7, tm_mday=28, tm_hour=8, tm_min=30, tm_sec=0, tm_wday=4, tm_yday=209, tm_isdst=0),\n",
      "              'summary': '<a '\n",
      "                         'href=\"http://store.steampowered.com/app/505460/\">Foxhole</a> '\n",
      "                         'is Now Available on Steam Early Access and is 10% '\n",
      "                         'off!*<br /><br />Foxhole is a massively multiplayer '\n",
      "                         'game where you will work with hundreds of players to '\n",
      "                         'shape the outcome of a persistent online war. '\n",
      "                         'Players ARE the content in this sandbox war game. '\n",
      "                         'Every individual soldier is a player that '\n",
      "                         'contributes to the war effort through logistics, '\n",
      "                         'base building, reconnaissance, combat, and more.<br '\n",
      "                         '/><br />*Offer ends August 3 at 10AM Pacific Time<br '\n",
      "                         '/><a '\n",
      "                         'href=\"http://store.steampowered.com/app/505460/\"><img '\n",
      "                         'src=\"https://steamcdn-a.akamaihd.net/steam/apps/505460/capsule_467x181.jpg\" '\n",
      "                         'style=\"float: left; margin-right: 12px; height: '\n",
      "                         '181px; width: 467px;\" /></a>',\n",
      "              'summary_detail': {'base': 'https://bites-data.s3.us-east-2.amazonaws.com/steam_gaming.xml',\n",
      "                                 'language': None,\n",
      "                                 'type': 'text/html',\n",
      "                                 'value': '<a '\n",
      "                                          'href=\"http://store.steampowered.com/app/505460/\">Foxhole</a> '\n",
      "                                          'is Now Available on Steam Early '\n",
      "                                          'Access and is 10% off!*<br /><br '\n",
      "                                          '/>Foxhole is a massively '\n",
      "                                          'multiplayer game where you will '\n",
      "                                          'work with hundreds of players to '\n",
      "                                          'shape the outcome of a persistent '\n",
      "                                          'online war. Players ARE the content '\n",
      "                                          'in this sandbox war game. Every '\n",
      "                                          'individual soldier is a player that '\n",
      "                                          'contributes to the war effort '\n",
      "                                          'through logistics, base building, '\n",
      "                                          'reconnaissance, combat, and '\n",
      "                                          'more.<br /><br />*Offer ends August '\n",
      "                                          '3 at 10AM Pacific Time<br /><a '\n",
      "                                          'href=\"http://store.steampowered.com/app/505460/\"><img '\n",
      "                                          'src=\"https://steamcdn-a.akamaihd.net/steam/apps/505460/capsule_467x181.jpg\" '\n",
      "                                          'style=\"float: left; margin-right: '\n",
      "                                          '12px; height: 181px; width: 467px;\" '\n",
      "                                          '/></a>'},\n",
      "              'title': 'Now Available on Steam Early Access - Foxhole, 10% '\n",
      "                       'off!',\n",
      "              'title_detail': {'base': 'https://bites-data.s3.us-east-2.amazonaws.com/steam_gaming.xml',\n",
      "                               'language': None,\n",
      "                               'type': 'text/plain',\n",
      "                               'value': 'Now Available on Steam Early Access - '\n",
      "                                        'Foxhole, 10% off!'}},\n",
      "             {'guidislink': False,\n",
      "              'id': 'http://store.steampowered.com/news/31083/',\n",
      "              'link': 'http://store.steampowered.com/news/31083/',\n",
      "              'links': [{'href': 'http://store.steampowered.com/news/31083/',\n",
      "                         'rel': 'alternate',\n",
      "                         'type': 'text/html'}],\n",
      "              'published': 'Fri, 28 Jul 2017 01:25:00 -0700',\n",
      "              'published_parsed': time.struct_time(tm_year=2017, tm_mon=7, tm_mday=28, tm_hour=8, tm_min=25, tm_sec=0, tm_wday=4, tm_yday=209, tm_isdst=0),\n",
      "              'summary': '<a '\n",
      "                         'href=\"http://store.steampowered.com/app/487120/\">Citadel: '\n",
      "                         'Forged with Fire</a> is Now Available on Steam Early '\n",
      "                         'Access and is 20% off!*<br /><br />This massive '\n",
      "                         'online sandbox RPG features elements of magic, '\n",
      "                         'spellcasting, building, exploring and crafting. As a '\n",
      "                         'newly minted apprentice of the magic arts, you will '\n",
      "                         'set off to the dangerous world of Ignus. Tame mighty '\n",
      "                         'beasts, forge alliances, explore uncharted '\n",
      "                         'territories or fight for dominance!<br /><br '\n",
      "                         '/>*Offer ends August 2 at 10AM Pacific Time<br /><a '\n",
      "                         'href=\"http://store.steampowered.com/app/487120/\"><img '\n",
      "                         'src=\"https://steamcdn-a.akamaihd.net/steam/apps/487120/capsule_467x181.jpg\" '\n",
      "                         'style=\"float: left; margin-right: 12px; height: '\n",
      "                         '181px; width: 467px;\" /></a>',\n",
      "              'summary_detail': {'base': 'https://bites-data.s3.us-east-2.amazonaws.com/steam_gaming.xml',\n",
      "                                 'language': None,\n",
      "                                 'type': 'text/html',\n",
      "                                 'value': '<a '\n",
      "                                          'href=\"http://store.steampowered.com/app/487120/\">Citadel: '\n",
      "                                          'Forged with Fire</a> is Now '\n",
      "                                          'Available on Steam Early Access and '\n",
      "                                          'is 20% off!*<br /><br />This '\n",
      "                                          'massive online sandbox RPG features '\n",
      "                                          'elements of magic, spellcasting, '\n",
      "                                          'building, exploring and crafting. '\n",
      "                                          'As a newly minted apprentice of the '\n",
      "                                          'magic arts, you will set off to the '\n",
      "                                          'dangerous world of Ignus. Tame '\n",
      "                                          'mighty beasts, forge alliances, '\n",
      "                                          'explore uncharted territories or '\n",
      "                                          'fight for dominance!<br /><br '\n",
      "                                          '/>*Offer ends August 2 at 10AM '\n",
      "                                          'Pacific Time<br /><a '\n",
      "                                          'href=\"http://store.steampowered.com/app/487120/\"><img '\n",
      "                                          'src=\"https://steamcdn-a.akamaihd.net/steam/apps/487120/capsule_467x181.jpg\" '\n",
      "                                          'style=\"float: left; margin-right: '\n",
      "                                          '12px; height: 181px; width: 467px;\" '\n",
      "                                          '/></a>'},\n",
      "              'title': 'Now Available on Steam Early Access - Citadel: Forged '\n",
      "                       'with Fire, 20% off!',\n",
      "              'title_detail': {'base': 'https://bites-data.s3.us-east-2.amazonaws.com/steam_gaming.xml',\n",
      "                               'language': None,\n",
      "                               'type': 'text/plain',\n",
      "                               'value': 'Now Available on Steam Early Access - '\n",
      "                                        'Citadel: Forged with Fire, 20% off!'}},\n",
      "             {'guidislink': False,\n",
      "              'id': 'http://store.steampowered.com/news/31152/',\n",
      "              'link': 'http://store.steampowered.com/news/31152/',\n",
      "              'links': [{'href': 'http://store.steampowered.com/news/31152/',\n",
      "                         'rel': 'alternate',\n",
      "                         'type': 'text/html'}],\n",
      "              'published': 'Fri, 28 Jul 2017 08:35:00 -0700',\n",
      "              'published_parsed': time.struct_time(tm_year=2017, tm_mon=7, tm_mday=28, tm_hour=15, tm_min=35, tm_sec=0, tm_wday=4, tm_yday=209, tm_isdst=0),\n",
      "              'summary': '<a '\n",
      "                         'href=\"http://store.steampowered.com/app/586950/\">The '\n",
      "                         'Wizards</a> is Now Available on Steam Early '\n",
      "                         'Access!<br /><br />Become a powerful Wizard in VR '\n",
      "                         'and take fate into your own hands! Immerse yourself '\n",
      "                         'in a beautiful fantasy world and use motion '\n",
      "                         'controllers to destroy your enemies by weaving '\n",
      "                         'elemental magic!<br /><a '\n",
      "                         'href=\"http://store.steampowered.com/app/586950/\"><img '\n",
      "                         'src=\"https://steamcdn-a.akamaihd.net/steam/apps/586950/capsule_467x181.jpg\" '\n",
      "                         'style=\"float: left; margin-right: 12px; height: '\n",
      "                         '181px; width: 467px;\" /></a>',\n",
      "              'summary_detail': {'base': 'https://bites-data.s3.us-east-2.amazonaws.com/steam_gaming.xml',\n",
      "                                 'language': None,\n",
      "                                 'type': 'text/html',\n",
      "                                 'value': '<a '\n",
      "                                          'href=\"http://store.steampowered.com/app/586950/\">The '\n",
      "                                          'Wizards</a> is Now Available on '\n",
      "                                          'Steam Early Access!<br /><br '\n",
      "                                          '/>Become a powerful Wizard in VR '\n",
      "                                          'and take fate into your own hands! '\n",
      "                                          'Immerse yourself in a beautiful '\n",
      "                                          'fantasy world and use motion '\n",
      "                                          'controllers to destroy your enemies '\n",
      "                                          'by weaving elemental magic!<br /><a '\n",
      "                                          'href=\"http://store.steampowered.com/app/586950/\"><img '\n",
      "                                          'src=\"https://steamcdn-a.akamaihd.net/steam/apps/586950/capsule_467x181.jpg\" '\n",
      "                                          'style=\"float: left; margin-right: '\n",
      "                                          '12px; height: 181px; width: 467px;\" '\n",
      "                                          '/></a>'},\n",
      "              'title': 'Now Available on Steam Early Access - The Wizards',\n",
      "              'title_detail': {'base': 'https://bites-data.s3.us-east-2.amazonaws.com/steam_gaming.xml',\n",
      "                               'language': None,\n",
      "                               'type': 'text/plain',\n",
      "                               'value': 'Now Available on Steam Early Access - '\n",
      "                                        'The Wizards'}},\n",
      "             {'guidislink': False,\n",
      "              'id': 'http://store.steampowered.com/news/31132/',\n",
      "              'link': 'http://store.steampowered.com/news/31132/',\n",
      "              'links': [{'href': 'http://store.steampowered.com/news/31132/',\n",
      "                         'rel': 'alternate',\n",
      "                         'type': 'text/html'}],\n",
      "              'published': 'Fri, 28 Jul 2017 08:35:00 -0700',\n",
      "              'published_parsed': time.struct_time(tm_year=2017, tm_mon=7, tm_mday=28, tm_hour=15, tm_min=35, tm_sec=0, tm_wday=4, tm_yday=209, tm_isdst=0),\n",
      "              'summary': '<a '\n",
      "                         'href=\"http://store.steampowered.com/app/570420/\">X '\n",
      "                         'Rebirth VR Edition</a> is Now Available on Steam '\n",
      "                         'Early Access!<br /><br />X Rebirth VR Edition is '\n",
      "                         'tailored to be an immersive VR experience, based on '\n",
      "                         'X Rebirth: Home of Light. TRADE, FIGHT, BUILD, THINK '\n",
      "                         'in the X Universe - the biggest sandbox this side of '\n",
      "                         'the galaxy.<br /><a '\n",
      "                         'href=\"http://store.steampowered.com/app/570420/\"><img '\n",
      "                         'src=\"https://steamcdn-a.akamaihd.net/steam/apps/570420/capsule_467x181.jpg\" '\n",
      "                         'style=\"float: left; margin-right: 12px; height: '\n",
      "                         '181px; width: 467px;\" /></a>',\n",
      "              'summary_detail': {'base': 'https://bites-data.s3.us-east-2.amazonaws.com/steam_gaming.xml',\n",
      "                                 'language': None,\n",
      "                                 'type': 'text/html',\n",
      "                                 'value': '<a '\n",
      "                                          'href=\"http://store.steampowered.com/app/570420/\">X '\n",
      "                                          'Rebirth VR Edition</a> is Now '\n",
      "                                          'Available on Steam Early Access!<br '\n",
      "                                          '/><br />X Rebirth VR Edition is '\n",
      "                                          'tailored to be an immersive VR '\n",
      "                                          'experience, based on X Rebirth: '\n",
      "                                          'Home of Light. TRADE, FIGHT, BUILD, '\n",
      "                                          'THINK in the X Universe - the '\n",
      "                                          'biggest sandbox this side of the '\n",
      "                                          'galaxy.<br /><a '\n",
      "                                          'href=\"http://store.steampowered.com/app/570420/\"><img '\n",
      "                                          'src=\"https://steamcdn-a.akamaihd.net/steam/apps/570420/capsule_467x181.jpg\" '\n",
      "                                          'style=\"float: left; margin-right: '\n",
      "                                          '12px; height: 181px; width: 467px;\" '\n",
      "                                          '/></a>'},\n",
      "              'title': 'Now Available on Steam Early Access - X Rebirth VR '\n",
      "                       'Edition',\n",
      "              'title_detail': {'base': 'https://bites-data.s3.us-east-2.amazonaws.com/steam_gaming.xml',\n",
      "                               'language': None,\n",
      "                               'type': 'text/plain',\n",
      "                               'value': 'Now Available on Steam Early Access - '\n",
      "                                        'X Rebirth VR Edition'}},\n",
      "             {'guidislink': False,\n",
      "              'id': 'http://store.steampowered.com/news/31160/',\n",
      "              'link': 'http://store.steampowered.com/news/31160/',\n",
      "              'links': [{'href': 'http://store.steampowered.com/news/31160/',\n",
      "                         'rel': 'alternate',\n",
      "                         'type': 'text/html'}],\n",
      "              'published': 'Fri, 28 Jul 2017 07:55:00 -0700',\n",
      "              'published_parsed': time.struct_time(tm_year=2017, tm_mon=7, tm_mday=28, tm_hour=14, tm_min=55, tm_sec=0, tm_wday=4, tm_yday=209, tm_isdst=0),\n",
      "              'summary': '<a '\n",
      "                         'href=\"http://store.steampowered.com/app/535480/\">Sundered</a> '\n",
      "                         'is Now Available on Steam and is 10% off!*<br /><br '\n",
      "                         '/><i>Sundered</i> is a horrifying fight for survival '\n",
      "                         'and sanity, a hand\\xad-drawn epic from the '\n",
      "                         '\\u200bcreators of \\u200b\\u200b<i>Jotun</i>. Resist '\n",
      "                         'or embrace.<br /><br />*Offer ends August 4th at 10 '\n",
      "                         'am Pacific<br /><a '\n",
      "                         'href=\"http://store.steampowered.com/app/535480/\"><img '\n",
      "                         'src=\"https://steamcdn-a.akamaihd.net/steam/apps/535480/capsule_467x181.jpg\" '\n",
      "                         'style=\"float: left; margin-right: 12px; height: '\n",
      "                         '181px; width: 467px;\" /></a>',\n",
      "              'summary_detail': {'base': 'https://bites-data.s3.us-east-2.amazonaws.com/steam_gaming.xml',\n",
      "                                 'language': None,\n",
      "                                 'type': 'text/html',\n",
      "                                 'value': '<a '\n",
      "                                          'href=\"http://store.steampowered.com/app/535480/\">Sundered</a> '\n",
      "                                          'is Now Available on Steam and is '\n",
      "                                          '10% off!*<br /><br '\n",
      "                                          '/><i>Sundered</i> is a horrifying '\n",
      "                                          'fight for survival and sanity, a '\n",
      "                                          'hand\\xad-drawn epic from the '\n",
      "                                          '\\u200bcreators of '\n",
      "                                          '\\u200b\\u200b<i>Jotun</i>. Resist or '\n",
      "                                          'embrace.<br /><br />*Offer ends '\n",
      "                                          'August 4th at 10 am Pacific<br /><a '\n",
      "                                          'href=\"http://store.steampowered.com/app/535480/\"><img '\n",
      "                                          'src=\"https://steamcdn-a.akamaihd.net/steam/apps/535480/capsule_467x181.jpg\" '\n",
      "                                          'style=\"float: left; margin-right: '\n",
      "                                          '12px; height: 181px; width: 467px;\" '\n",
      "                                          '/></a>'},\n",
      "              'title': 'Now Available on Steam - Sundered',\n",
      "              'title_detail': {'base': 'https://bites-data.s3.us-east-2.amazonaws.com/steam_gaming.xml',\n",
      "                               'language': None,\n",
      "                               'type': 'text/plain',\n",
      "                               'value': 'Now Available on Steam - Sundered'}},\n",
      "             {'guidislink': False,\n",
      "              'id': 'http://store.steampowered.com/news/31164/',\n",
      "              'link': 'http://store.steampowered.com/news/31164/',\n",
      "              'links': [{'href': 'http://store.steampowered.com/news/31164/',\n",
      "                         'rel': 'alternate',\n",
      "                         'type': 'text/html'}],\n",
      "              'published': 'Fri, 28 Jul 2017 07:36:00 -0700',\n",
      "              'published_parsed': time.struct_time(tm_year=2017, tm_mon=7, tm_mday=28, tm_hour=14, tm_min=36, tm_sec=0, tm_wday=4, tm_yday=209, tm_isdst=0),\n",
      "              'summary': '<a '\n",
      "                         'href=\"http://store.steampowered.com/app/645630/\">Car '\n",
      "                         'Mechanic Simulator 2018</a> is Now Available on '\n",
      "                         'Steam and is 10% off!*<br /><br />Build and expand '\n",
      "                         'your repair service empire in this incredibly '\n",
      "                         'detailed and highly realistic simulation game, where '\n",
      "                         'attention to car detail is astonishing. Find '\n",
      "                         'classic, unique cars in the new Barn Find module and '\n",
      "                         'Junkyard module. You can even add your self-made car '\n",
      "                         'in the Car Editor.<br /><br />*Offer ends August 4 '\n",
      "                         'at 10AM Pacific Time<br /><a '\n",
      "                         'href=\"http://store.steampowered.com/app/645630/\"><img '\n",
      "                         'src=\"https://steamcdn-a.akamaihd.net/steam/apps/645630/capsule_467x181.jpg\" '\n",
      "                         'style=\"float: left; margin-right: 12px; height: '\n",
      "                         '181px; width: 467px;\" /></a>',\n",
      "              'summary_detail': {'base': 'https://bites-data.s3.us-east-2.amazonaws.com/steam_gaming.xml',\n",
      "                                 'language': None,\n",
      "                                 'type': 'text/html',\n",
      "                                 'value': '<a '\n",
      "                                          'href=\"http://store.steampowered.com/app/645630/\">Car '\n",
      "                                          'Mechanic Simulator 2018</a> is Now '\n",
      "                                          'Available on Steam and is 10% '\n",
      "                                          'off!*<br /><br />Build and expand '\n",
      "                                          'your repair service empire in this '\n",
      "                                          'incredibly detailed and highly '\n",
      "                                          'realistic simulation game, where '\n",
      "                                          'attention to car detail is '\n",
      "                                          'astonishing. Find classic, unique '\n",
      "                                          'cars in the new Barn Find module '\n",
      "                                          'and Junkyard module. You can even '\n",
      "                                          'add your self-made car in the Car '\n",
      "                                          'Editor.<br /><br />*Offer ends '\n",
      "                                          'August 4 at 10AM Pacific Time<br '\n",
      "                                          '/><a '\n",
      "                                          'href=\"http://store.steampowered.com/app/645630/\"><img '\n",
      "                                          'src=\"https://steamcdn-a.akamaihd.net/steam/apps/645630/capsule_467x181.jpg\" '\n",
      "                                          'style=\"float: left; margin-right: '\n",
      "                                          '12px; height: 181px; width: 467px;\" '\n",
      "                                          '/></a>'},\n",
      "              'title': 'Now Available on Steam - Car Mechanic Simulator 2018, '\n",
      "                       '10% off!',\n",
      "              'title_detail': {'base': 'https://bites-data.s3.us-east-2.amazonaws.com/steam_gaming.xml',\n",
      "                               'language': None,\n",
      "                               'type': 'text/plain',\n",
      "                               'value': 'Now Available on Steam - Car Mechanic '\n",
      "                                        'Simulator 2018, 10% off!'}},\n",
      "             {'guidislink': False,\n",
      "              'id': 'http://store.steampowered.com/news/31161/',\n",
      "              'link': 'http://store.steampowered.com/news/31161/',\n",
      "              'links': [{'href': 'http://store.steampowered.com/news/31161/',\n",
      "                         'rel': 'alternate',\n",
      "                         'type': 'text/html'}],\n",
      "              'published': 'Fri, 28 Jul 2017 06:04:17 -0700',\n",
      "              'published_parsed': time.struct_time(tm_year=2017, tm_mon=7, tm_mday=28, tm_hour=13, tm_min=4, tm_sec=17, tm_wday=4, tm_yday=209, tm_isdst=0),\n",
      "              'summary': '<a '\n",
      "                         'href=\"http://store.steampowered.com/app/550650/\">Black '\n",
      "                         'Squad</a> is Now Available on Steam Early Access!<br '\n",
      "                         '/><br />Black Squad is a military '\n",
      "                         'first-person-shooter game using the Unreal Engine 3 '\n",
      "                         'to show realistic graphics and dynamic visuals. <br '\n",
      "                         '/><br />You can experience 10 different modes from '\n",
      "                         'classic to massive multi-play modes.<br /><a '\n",
      "                         'href=\"http://store.steampowered.com/app/550650/\"><img '\n",
      "                         'src=\"https://steamcdn-a.akamaihd.net/steam/apps/550650/capsule_467x181.jpg\" '\n",
      "                         'style=\"float: left; margin-right: 12px; height: '\n",
      "                         '181px; width: 467px;\" /></a>',\n",
      "              'summary_detail': {'base': 'https://bites-data.s3.us-east-2.amazonaws.com/steam_gaming.xml',\n",
      "                                 'language': None,\n",
      "                                 'type': 'text/html',\n",
      "                                 'value': '<a '\n",
      "                                          'href=\"http://store.steampowered.com/app/550650/\">Black '\n",
      "                                          'Squad</a> is Now Available on Steam '\n",
      "                                          'Early Access!<br /><br />Black '\n",
      "                                          'Squad is a military '\n",
      "                                          'first-person-shooter game using the '\n",
      "                                          'Unreal Engine 3 to show realistic '\n",
      "                                          'graphics and dynamic visuals. <br '\n",
      "                                          '/><br />You can experience 10 '\n",
      "                                          'different modes from classic to '\n",
      "                                          'massive multi-play modes.<br /><a '\n",
      "                                          'href=\"http://store.steampowered.com/app/550650/\"><img '\n",
      "                                          'src=\"https://steamcdn-a.akamaihd.net/steam/apps/550650/capsule_467x181.jpg\" '\n",
      "                                          'style=\"float: left; margin-right: '\n",
      "                                          '12px; height: 181px; width: 467px;\" '\n",
      "                                          '/></a>'},\n",
      "              'title': 'Now Available on Steam Early Access - Black Squad',\n",
      "              'title_detail': {'base': 'https://bites-data.s3.us-east-2.amazonaws.com/steam_gaming.xml',\n",
      "                               'language': None,\n",
      "                               'type': 'text/plain',\n",
      "                               'value': 'Now Available on Steam Early Access - '\n",
      "                                        'Black Squad'}},\n",
      "             {'guidislink': False,\n",
      "              'id': 'http://store.steampowered.com/news/31139/',\n",
      "              'link': 'http://store.steampowered.com/news/31139/',\n",
      "              'links': [{'href': 'http://store.steampowered.com/news/31139/',\n",
      "                         'rel': 'alternate',\n",
      "                         'type': 'text/html'}],\n",
      "              'published': 'Thu, 27 Jul 2017 07:03:10 -0700',\n",
      "              'published_parsed': time.struct_time(tm_year=2017, tm_mon=7, tm_mday=27, tm_hour=14, tm_min=3, tm_sec=10, tm_wday=3, tm_yday=208, tm_isdst=0),\n",
      "              'summary': '<a '\n",
      "                         'href=\"http://store.steampowered.com/app/671260/\">GOKEN</a> '\n",
      "                         'is Now Available on Steam Early Access!<br /><br '\n",
      "                         \"/>GOKEN is an action filled RPG where you're in the \"\n",
      "                         'search for the lost five swords and maybe saving the '\n",
      "                         'world too.<br /><a '\n",
      "                         'href=\"http://store.steampowered.com/app/671260/\"><img '\n",
      "                         'src=\"https://steamcdn-a.akamaihd.net/steam/apps/671260/capsule_467x181.jpg\" '\n",
      "                         'style=\"float: left; margin-right: 12px; height: '\n",
      "                         '181px; width: 467px;\" /></a>',\n",
      "              'summary_detail': {'base': 'https://bites-data.s3.us-east-2.amazonaws.com/steam_gaming.xml',\n",
      "                                 'language': None,\n",
      "                                 'type': 'text/html',\n",
      "                                 'value': '<a '\n",
      "                                          'href=\"http://store.steampowered.com/app/671260/\">GOKEN</a> '\n",
      "                                          'is Now Available on Steam Early '\n",
      "                                          'Access!<br /><br />GOKEN is an '\n",
      "                                          \"action filled RPG where you're in \"\n",
      "                                          'the search for the lost five swords '\n",
      "                                          'and maybe saving the world too.<br '\n",
      "                                          '/><a '\n",
      "                                          'href=\"http://store.steampowered.com/app/671260/\"><img '\n",
      "                                          'src=\"https://steamcdn-a.akamaihd.net/steam/apps/671260/capsule_467x181.jpg\" '\n",
      "                                          'style=\"float: left; margin-right: '\n",
      "                                          '12px; height: 181px; width: 467px;\" '\n",
      "                                          '/></a>'},\n",
      "              'title': 'Now Available on Steam Early Access - GOKEN',\n",
      "              'title_detail': {'base': 'https://bites-data.s3.us-east-2.amazonaws.com/steam_gaming.xml',\n",
      "                               'language': None,\n",
      "                               'type': 'text/plain',\n",
      "                               'value': 'Now Available on Steam Early Access - '\n",
      "                                        'GOKEN'}},\n",
      "             {'guidislink': False,\n",
      "              'id': 'http://store.steampowered.com/news/31113/',\n",
      "              'link': 'http://store.steampowered.com/news/31113/',\n",
      "              'links': [{'href': 'http://store.steampowered.com/news/31113/',\n",
      "                         'rel': 'alternate',\n",
      "                         'type': 'text/html'}],\n",
      "              'published': 'Thu, 27 Jul 2017 01:30:00 -0700',\n",
      "              'published_parsed': time.struct_time(tm_year=2017, tm_mon=7, tm_mday=27, tm_hour=8, tm_min=30, tm_sec=0, tm_wday=3, tm_yday=208, tm_isdst=0),\n",
      "              'summary': '<a '\n",
      "                         'href=\"http://store.steampowered.com/app/667800/\">Loco '\n",
      "                         'Dojo</a> is Now Available on Steam for HTC Vive and '\n",
      "                         'Oculus Rift and is 35% off!*<br /><br />Enter the '\n",
      "                         'whimsical wooden world of Loco Dojo and step up to '\n",
      "                         'Grand Sensei&rsquo;s &lsquo;Table of Trials&rsquo; '\n",
      "                         'to pit your silliest skills against (up to) three '\n",
      "                         'friends or strangers in this hilariously competitive '\n",
      "                         'cross-platform multiplayer social VR party game.<br '\n",
      "                         '/><br />*Offer ends August 3 at 10AM Pacific Time<br '\n",
      "                         '/><a '\n",
      "                         'href=\"http://store.steampowered.com/app/667800/\"><img '\n",
      "                         'src=\"https://steamcdn-a.akamaihd.net/steam/apps/667800/capsule_467x181.jpg\" '\n",
      "                         'style=\"float: left; margin-right: 12px; height: '\n",
      "                         '181px; width: 467px;\" /></a>',\n",
      "              'summary_detail': {'base': 'https://bites-data.s3.us-east-2.amazonaws.com/steam_gaming.xml',\n",
      "                                 'language': None,\n",
      "                                 'type': 'text/html',\n",
      "                                 'value': '<a '\n",
      "                                          'href=\"http://store.steampowered.com/app/667800/\">Loco '\n",
      "                                          'Dojo</a> is Now Available on Steam '\n",
      "                                          'for HTC Vive and Oculus Rift and is '\n",
      "                                          '35% off!*<br /><br />Enter the '\n",
      "                                          'whimsical wooden world of Loco Dojo '\n",
      "                                          'and step up to Grand Sensei&rsquo;s '\n",
      "                                          '&lsquo;Table of Trials&rsquo; to '\n",
      "                                          'pit your silliest skills against '\n",
      "                                          '(up to) three friends or strangers '\n",
      "                                          'in this hilariously competitive '\n",
      "                                          'cross-platform multiplayer social '\n",
      "                                          'VR party game.<br /><br />*Offer '\n",
      "                                          'ends August 3 at 10AM Pacific '\n",
      "                                          'Time<br /><a '\n",
      "                                          'href=\"http://store.steampowered.com/app/667800/\"><img '\n",
      "                                          'src=\"https://steamcdn-a.akamaihd.net/steam/apps/667800/capsule_467x181.jpg\" '\n",
      "                                          'style=\"float: left; margin-right: '\n",
      "                                          '12px; height: 181px; width: 467px;\" '\n",
      "                                          '/></a>'},\n",
      "              'title': 'Now Available on Steam - Loco Dojo, 35% off!',\n",
      "              'title_detail': {'base': 'https://bites-data.s3.us-east-2.amazonaws.com/steam_gaming.xml',\n",
      "                               'language': None,\n",
      "                               'type': 'text/plain',\n",
      "                               'value': 'Now Available on Steam - Loco Dojo, '\n",
      "                                        '35% off!'}}],\n",
      " 'etag': '\"3b4e4c1c39e3308d6e8e82660a955151\"',\n",
      " 'feed': {'link': 'http://www.steampowered.com/',\n",
      "          'links': [{'href': 'http://www.steampowered.com/',\n",
      "                     'rel': 'alternate',\n",
      "                     'type': 'text/html'}],\n",
      "          'subtitle': 'New game, demo, and trailer releases on Steam',\n",
      "          'subtitle_detail': {'base': 'https://bites-data.s3.us-east-2.amazonaws.com/steam_gaming.xml',\n",
      "                              'language': None,\n",
      "                              'type': 'text/html',\n",
      "                              'value': 'New game, demo, and trailer releases '\n",
      "                                       'on Steam'},\n",
      "          'title': 'New On Steam',\n",
      "          'title_detail': {'base': 'https://bites-data.s3.us-east-2.amazonaws.com/steam_gaming.xml',\n",
      "                           'language': None,\n",
      "                           'type': 'text/plain',\n",
      "                           'value': 'New On Steam'},\n",
      "          'updated': 'Mon, 12 Mar 2018 02:58:38 -0700',\n",
      "          'updated_parsed': time.struct_time(tm_year=2018, tm_mon=3, tm_mday=12, tm_hour=9, tm_min=58, tm_sec=38, tm_wday=0, tm_yday=71, tm_isdst=0)},\n",
      " 'headers': {'accept-ranges': 'bytes',\n",
      "             'connection': 'close',\n",
      "             'content-length': '29360',\n",
      "             'content-type': 'text/xml',\n",
      "             'date': 'Tue, 12 Apr 2022 17:56:31 GMT',\n",
      "             'etag': '\"3b4e4c1c39e3308d6e8e82660a955151\"',\n",
      "             'last-modified': 'Sun, 08 Dec 2019 12:46:25 GMT',\n",
      "             'server': 'AmazonS3',\n",
      "             'x-amz-id-2': 'b1nz3N8iV8e4aYJaiH+GGmvKSg4mBlUSR1AGFiXYiuFDzdGJiBfHOmotfiFgOg1kxJt7apCKyug=',\n",
      "             'x-amz-request-id': 'KTZCPFWEQPRDSXRF'},\n",
      " 'href': 'https://bites-data.s3.us-east-2.amazonaws.com/steam_gaming.xml',\n",
      " 'namespaces': {},\n",
      " 'status': 200,\n",
      " 'updated': 'Sun, 08 Dec 2019 12:46:25 GMT',\n",
      " 'updated_parsed': time.struct_time(tm_year=2019, tm_mon=12, tm_mday=8, tm_hour=12, tm_min=46, tm_sec=25, tm_wday=6, tm_yday=342, tm_isdst=0),\n",
      " 'version': 'rss20'}\n"
     ]
    }
   ],
   "source": [
    "pp(feed)"
   ]
  },
  {
   "cell_type": "code",
   "execution_count": null,
   "id": "e76c91c2",
   "metadata": {},
   "outputs": [],
   "source": []
  }
 ],
 "metadata": {
  "kernelspec": {
   "display_name": "Python 3 (ipykernel)",
   "language": "python",
   "name": "python3"
  },
  "language_info": {
   "codemirror_mode": {
    "name": "ipython",
    "version": 3
   },
   "file_extension": ".py",
   "mimetype": "text/x-python",
   "name": "python",
   "nbconvert_exporter": "python",
   "pygments_lexer": "ipython3",
   "version": "3.10.0"
  }
 },
 "nbformat": 4,
 "nbformat_minor": 5
}
