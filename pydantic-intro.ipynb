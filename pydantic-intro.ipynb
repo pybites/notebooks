{
 "cells": [
  {
   "cell_type": "markdown",
   "id": "cdc4cda5-4cff-473e-a109-dc6a8e36dce9",
   "metadata": {},
   "source": [
    "# Why Pydantic\n",
    "\n",
    "https://docs.pydantic.dev/2.7/\n",
    "\n",
    "It's used everywhere 😍 📈\n",
    "\n",
    "> For a more comprehensive list of open-source projects using Pydantic see the list of dependents on github, or you can find some awesome projects using Pydantic in awesome-pydantic.\n",
    "\n",
    "https://docs.pydantic.dev/2.7/#who-is-using-pydantic\n",
    "\n",
    "Interview Samuel on Pybites podcast:\n",
    "https://www.pybitespodcast.com/14997890/14997890-160-unpacking-pydantic-s-growth-and-the-launch-of-logfire-with-samuel-colvin"
   ]
  },
  {
   "cell_type": "markdown",
   "id": "cfe35172-c7fa-42b5-8bb7-d89a5f75573d",
   "metadata": {},
   "source": [
    "## Use cases"
   ]
  },
  {
   "cell_type": "markdown",
   "id": "fb2d2ddb-f164-4518-ac01-b1ddc12dd040",
   "metadata": {},
   "source": [
    "- Data Validation: Ensure data conforms to defined types and constraints.\n",
    "- Data Parsing / Serialization: Parse and convert data from various formats (e.g., JSON) into Python objects.\n",
    "- Settings Management: Manage configuration and settings in a type-safe manner.\n",
    "- Data Modeling: Define clear and explicit data models for APIs, databases, etc."
   ]
  },
  {
   "cell_type": "code",
   "execution_count": 1,
   "id": "b342d53f-cbfb-4fe1-9a6b-162b13d27905",
   "metadata": {},
   "outputs": [
    {
     "name": "stdout",
     "output_type": "stream",
     "text": [
      "Requirement already satisfied: pydantic in ./venv/lib/python3.11/site-packages (2.7.0)\n",
      "Requirement already satisfied: annotated-types>=0.4.0 in ./venv/lib/python3.11/site-packages (from pydantic) (0.6.0)\n",
      "Requirement already satisfied: pydantic-core==2.18.1 in ./venv/lib/python3.11/site-packages (from pydantic) (2.18.1)\n",
      "Requirement already satisfied: typing-extensions>=4.6.1 in ./venv/lib/python3.11/site-packages (from pydantic) (4.11.0)\n",
      "\n",
      "\u001b[1m[\u001b[0m\u001b[34;49mnotice\u001b[0m\u001b[1;39;49m]\u001b[0m\u001b[39;49m A new release of pip is available: \u001b[0m\u001b[31;49m23.2.1\u001b[0m\u001b[39;49m -> \u001b[0m\u001b[32;49m24.1.2\u001b[0m\n",
      "\u001b[1m[\u001b[0m\u001b[34;49mnotice\u001b[0m\u001b[1;39;49m]\u001b[0m\u001b[39;49m To update, run: \u001b[0m\u001b[32;49mpip install --upgrade pip\u001b[0m\n"
     ]
    }
   ],
   "source": [
    "!pip install pydantic"
   ]
  },
  {
   "cell_type": "markdown",
   "id": "54e6a7bb-c8ec-4468-930b-afb2a9ffa87c",
   "metadata": {},
   "source": [
    "# Compared to a dataclass"
   ]
  },
  {
   "cell_type": "code",
   "execution_count": 2,
   "id": "43ba2e81-ff24-447c-903e-209b02cf42ed",
   "metadata": {},
   "outputs": [],
   "source": [
    "from dataclasses import dataclass"
   ]
  },
  {
   "cell_type": "code",
   "execution_count": 3,
   "id": "b19f63d1-b80a-4982-886b-308667cd08d9",
   "metadata": {},
   "outputs": [
    {
     "name": "stdout",
     "output_type": "stream",
     "text": [
      "User(name='Alice', age=30)\n"
     ]
    }
   ],
   "source": [
    "@dataclass\n",
    "class User:\n",
    "    name: str\n",
    "    age: int\n",
    "\n",
    "user = User(name=\"Alice\", age=30)\n",
    "print(user)"
   ]
  },
  {
   "cell_type": "code",
   "execution_count": 4,
   "id": "72751ef0-fce2-4fd1-816a-f6c5b89f3ed1",
   "metadata": {},
   "outputs": [
    {
     "data": {
      "text/plain": [
       "User(name='Alice', age='thirty')"
      ]
     },
     "execution_count": 4,
     "metadata": {},
     "output_type": "execute_result"
    }
   ],
   "source": [
    "User(name=\"Alice\", age=\"thirty\")  # no built-in validation"
   ]
  },
  {
   "cell_type": "markdown",
   "id": "525a82e2-876a-40d0-aff5-22933f744a9a",
   "metadata": {},
   "source": [
    "# Easy validation with some not too strict types"
   ]
  },
  {
   "cell_type": "code",
   "execution_count": 5,
   "id": "fd89dd1f-0699-458c-9198-c535b30b9dde",
   "metadata": {},
   "outputs": [
    {
     "name": "stdout",
     "output_type": "stream",
     "text": [
      "name='Alice' age=30\n"
     ]
    }
   ],
   "source": [
    "from pydantic import BaseModel\n",
    "\n",
    "class User(BaseModel):\n",
    "    name: str\n",
    "    age: int\n",
    "\n",
    "user = User(name=\"Alice\", age=30)\n",
    "print(user)"
   ]
  },
  {
   "cell_type": "markdown",
   "id": "c1dacc53-ce1e-4f5a-97d9-516b48f2f813",
   "metadata": {},
   "source": [
    "## Developers love good error messages"
   ]
  },
  {
   "cell_type": "code",
   "execution_count": 6,
   "id": "f2b66f85-b615-40a0-946a-20a71a2a7c74",
   "metadata": {},
   "outputs": [
    {
     "ename": "ValidationError",
     "evalue": "1 validation error for User\nage\n  Input should be a valid integer, unable to parse string as an integer [type=int_parsing, input_value='thirty', input_type=str]\n    For further information visit https://errors.pydantic.dev/2.7/v/int_parsing",
     "output_type": "error",
     "traceback": [
      "\u001b[0;31m---------------------------------------------------------------------------\u001b[0m",
      "\u001b[0;31mValidationError\u001b[0m                           Traceback (most recent call last)",
      "Cell \u001b[0;32mIn[6], line 1\u001b[0m\n\u001b[0;32m----> 1\u001b[0m user \u001b[38;5;241m=\u001b[39m \u001b[43mUser\u001b[49m\u001b[43m(\u001b[49m\u001b[43mname\u001b[49m\u001b[38;5;241;43m=\u001b[39;49m\u001b[38;5;124;43m\"\u001b[39;49m\u001b[38;5;124;43mAlice\u001b[39;49m\u001b[38;5;124;43m\"\u001b[39;49m\u001b[43m,\u001b[49m\u001b[43m \u001b[49m\u001b[43mage\u001b[49m\u001b[38;5;241;43m=\u001b[39;49m\u001b[38;5;124;43m\"\u001b[39;49m\u001b[38;5;124;43mthirty\u001b[39;49m\u001b[38;5;124;43m\"\u001b[39;49m\u001b[43m)\u001b[49m\n",
      "File \u001b[0;32m~/code/notebooks/venv/lib/python3.11/site-packages/pydantic/main.py:175\u001b[0m, in \u001b[0;36mBaseModel.__init__\u001b[0;34m(self, **data)\u001b[0m\n\u001b[1;32m    173\u001b[0m \u001b[38;5;66;03m# `__tracebackhide__` tells pytest and some other tools to omit this function from tracebacks\u001b[39;00m\n\u001b[1;32m    174\u001b[0m __tracebackhide__ \u001b[38;5;241m=\u001b[39m \u001b[38;5;28;01mTrue\u001b[39;00m\n\u001b[0;32m--> 175\u001b[0m \u001b[38;5;28;43mself\u001b[39;49m\u001b[38;5;241;43m.\u001b[39;49m\u001b[43m__pydantic_validator__\u001b[49m\u001b[38;5;241;43m.\u001b[39;49m\u001b[43mvalidate_python\u001b[49m\u001b[43m(\u001b[49m\u001b[43mdata\u001b[49m\u001b[43m,\u001b[49m\u001b[43m \u001b[49m\u001b[43mself_instance\u001b[49m\u001b[38;5;241;43m=\u001b[39;49m\u001b[38;5;28;43mself\u001b[39;49m\u001b[43m)\u001b[49m\n",
      "\u001b[0;31mValidationError\u001b[0m: 1 validation error for User\nage\n  Input should be a valid integer, unable to parse string as an integer [type=int_parsing, input_value='thirty', input_type=str]\n    For further information visit https://errors.pydantic.dev/2.7/v/int_parsing"
     ]
    }
   ],
   "source": [
    "user = User(name=\"Alice\", age=\"thirty\")"
   ]
  },
  {
   "cell_type": "code",
   "execution_count": 8,
   "id": "4940da3f-17e8-4cb8-ab63-487df717b94f",
   "metadata": {},
   "outputs": [
    {
     "name": "stdout",
     "output_type": "stream",
     "text": [
      "1 validation error for User\n",
      "age\n",
      "  Input should be a valid integer, unable to parse string as an integer [type=int_parsing, input_value='thirty', input_type=str]\n",
      "    For further information visit https://errors.pydantic.dev/2.7/v/int_parsing\n"
     ]
    }
   ],
   "source": [
    "from pydantic import ValidationError\n",
    "\n",
    "try:\n",
    "    user = User(name=\"Alice\", age=\"thirty\")\n",
    "except ValidationError as ve:\n",
    "    print(ve)"
   ]
  },
  {
   "cell_type": "markdown",
   "id": "30fd895c-1714-43f7-b02a-caa3d3b5f9a8",
   "metadata": {},
   "source": [
    "## Automatic type casting"
   ]
  },
  {
   "cell_type": "code",
   "execution_count": 12,
   "id": "57c475ac-8a2f-42e0-b97f-95965687287a",
   "metadata": {},
   "outputs": [
    {
     "data": {
      "text/plain": [
       "User(name='Alice', age=30)"
      ]
     },
     "execution_count": 12,
     "metadata": {},
     "output_type": "execute_result"
    }
   ],
   "source": [
    "User(name=\"Alice\", age=\"30\")"
   ]
  },
  {
   "cell_type": "markdown",
   "id": "687d42fa-a3de-47cc-8fcb-f2421b7e95cd",
   "metadata": {},
   "source": [
    "## But Pydantic can go stricter if you want"
   ]
  },
  {
   "cell_type": "code",
   "execution_count": 13,
   "id": "234f6c26-ce7d-44b8-a50a-f31c225e938e",
   "metadata": {},
   "outputs": [
    {
     "data": {
      "text/plain": [
       "User(name='Alice', age=30)"
      ]
     },
     "execution_count": 13,
     "metadata": {},
     "output_type": "execute_result"
    }
   ],
   "source": [
    "class User(BaseModel):\n",
    "    name: str\n",
    "    age: int\n",
    "\n",
    "    class Config:\n",
    "        strict = True\n",
    "        \n",
    "User(name=\"Alice\", age=30)\n"
   ]
  },
  {
   "cell_type": "code",
   "execution_count": 15,
   "id": "dcc80f4c-b7ee-4bac-bc99-f1b7cb59bd50",
   "metadata": {},
   "outputs": [
    {
     "data": {
      "text/plain": [
       "30"
      ]
     },
     "execution_count": 15,
     "metadata": {},
     "output_type": "execute_result"
    }
   ],
   "source": [
    "int(\"30\")"
   ]
  },
  {
   "cell_type": "code",
   "execution_count": 14,
   "id": "f068f32d-1092-4d40-bc43-6813b758ae6c",
   "metadata": {},
   "outputs": [
    {
     "ename": "ValidationError",
     "evalue": "1 validation error for User\nage\n  Input should be a valid integer [type=int_type, input_value='30', input_type=str]\n    For further information visit https://errors.pydantic.dev/2.7/v/int_type",
     "output_type": "error",
     "traceback": [
      "\u001b[0;31m---------------------------------------------------------------------------\u001b[0m",
      "\u001b[0;31mValidationError\u001b[0m                           Traceback (most recent call last)",
      "Cell \u001b[0;32mIn[14], line 1\u001b[0m\n\u001b[0;32m----> 1\u001b[0m \u001b[43mUser\u001b[49m\u001b[43m(\u001b[49m\u001b[43mname\u001b[49m\u001b[38;5;241;43m=\u001b[39;49m\u001b[38;5;124;43m\"\u001b[39;49m\u001b[38;5;124;43mAlice\u001b[39;49m\u001b[38;5;124;43m\"\u001b[39;49m\u001b[43m,\u001b[49m\u001b[43m \u001b[49m\u001b[43mage\u001b[49m\u001b[38;5;241;43m=\u001b[39;49m\u001b[38;5;124;43m\"\u001b[39;49m\u001b[38;5;124;43m30\u001b[39;49m\u001b[38;5;124;43m\"\u001b[39;49m\u001b[43m)\u001b[49m\n",
      "File \u001b[0;32m~/code/notebooks/venv/lib/python3.11/site-packages/pydantic/main.py:175\u001b[0m, in \u001b[0;36mBaseModel.__init__\u001b[0;34m(self, **data)\u001b[0m\n\u001b[1;32m    173\u001b[0m \u001b[38;5;66;03m# `__tracebackhide__` tells pytest and some other tools to omit this function from tracebacks\u001b[39;00m\n\u001b[1;32m    174\u001b[0m __tracebackhide__ \u001b[38;5;241m=\u001b[39m \u001b[38;5;28;01mTrue\u001b[39;00m\n\u001b[0;32m--> 175\u001b[0m \u001b[38;5;28;43mself\u001b[39;49m\u001b[38;5;241;43m.\u001b[39;49m\u001b[43m__pydantic_validator__\u001b[49m\u001b[38;5;241;43m.\u001b[39;49m\u001b[43mvalidate_python\u001b[49m\u001b[43m(\u001b[49m\u001b[43mdata\u001b[49m\u001b[43m,\u001b[49m\u001b[43m \u001b[49m\u001b[43mself_instance\u001b[49m\u001b[38;5;241;43m=\u001b[39;49m\u001b[38;5;28;43mself\u001b[39;49m\u001b[43m)\u001b[49m\n",
      "\u001b[0;31mValidationError\u001b[0m: 1 validation error for User\nage\n  Input should be a valid integer [type=int_type, input_value='30', input_type=str]\n    For further information visit https://errors.pydantic.dev/2.7/v/int_type"
     ]
    }
   ],
   "source": [
    "User(name=\"Alice\", age=\"30\")"
   ]
  },
  {
   "cell_type": "markdown",
   "id": "8d12bac1-575d-461f-a5a5-3c30963209fe",
   "metadata": {},
   "source": [
    "## You can nest models, making powerful objects"
   ]
  },
  {
   "cell_type": "code",
   "execution_count": 26,
   "id": "5f79fb74-bf1c-4497-a1e9-f70f61cd67d2",
   "metadata": {},
   "outputs": [
    {
     "data": {
      "text/plain": [
       "30"
      ]
     },
     "execution_count": 26,
     "metadata": {},
     "output_type": "execute_result"
    }
   ],
   "source": [
    "class Address(BaseModel):\n",
    "    street: str\n",
    "    city: str\n",
    "\n",
    "class User(BaseModel):\n",
    "    name: str\n",
    "    age: int\n",
    "    address: Address\n",
    "\n",
    "user = User(name=\"Alice\", age=\"30\", address={\"street\": \"Main St\", \"city\": \"Springfield\"})\n",
    "user.age"
   ]
  },
  {
   "cell_type": "markdown",
   "id": "bee45190-1b31-43c0-98de-e49a58a9f014",
   "metadata": {},
   "source": [
    "## Some other useful model methods"
   ]
  },
  {
   "cell_type": "code",
   "execution_count": 27,
   "id": "1e761826-64ff-496b-a473-9e9531c96c71",
   "metadata": {},
   "outputs": [
    {
     "data": {
      "text/plain": [
       "['__abstractmethods__',\n",
       " '__annotations__',\n",
       " '__class__',\n",
       " '__class_getitem__',\n",
       " '__class_vars__',\n",
       " '__copy__',\n",
       " '__deepcopy__',\n",
       " '__delattr__',\n",
       " '__dict__',\n",
       " '__dir__',\n",
       " '__doc__',\n",
       " '__eq__',\n",
       " '__fields__',\n",
       " '__fields_set__',\n",
       " '__format__',\n",
       " '__ge__',\n",
       " '__get_pydantic_core_schema__',\n",
       " '__get_pydantic_json_schema__',\n",
       " '__getattr__',\n",
       " '__getattribute__',\n",
       " '__getstate__',\n",
       " '__gt__',\n",
       " '__hash__',\n",
       " '__init__',\n",
       " '__init_subclass__',\n",
       " '__iter__',\n",
       " '__le__',\n",
       " '__lt__',\n",
       " '__module__',\n",
       " '__ne__',\n",
       " '__new__',\n",
       " '__pretty__',\n",
       " '__private_attributes__',\n",
       " '__pydantic_complete__',\n",
       " '__pydantic_core_schema__',\n",
       " '__pydantic_custom_init__',\n",
       " '__pydantic_decorators__',\n",
       " '__pydantic_extra__',\n",
       " '__pydantic_fields_set__',\n",
       " '__pydantic_generic_metadata__',\n",
       " '__pydantic_init_subclass__',\n",
       " '__pydantic_parent_namespace__',\n",
       " '__pydantic_post_init__',\n",
       " '__pydantic_private__',\n",
       " '__pydantic_root_model__',\n",
       " '__pydantic_serializer__',\n",
       " '__pydantic_validator__',\n",
       " '__reduce__',\n",
       " '__reduce_ex__',\n",
       " '__repr__',\n",
       " '__repr_args__',\n",
       " '__repr_name__',\n",
       " '__repr_str__',\n",
       " '__rich_repr__',\n",
       " '__setattr__',\n",
       " '__setstate__',\n",
       " '__signature__',\n",
       " '__sizeof__',\n",
       " '__slots__',\n",
       " '__str__',\n",
       " '__subclasshook__',\n",
       " '__weakref__',\n",
       " '_abc_impl',\n",
       " '_calculate_keys',\n",
       " '_check_frozen',\n",
       " '_copy_and_set_values',\n",
       " '_get_value',\n",
       " '_iter',\n",
       " 'address',\n",
       " 'age',\n",
       " 'construct',\n",
       " 'copy',\n",
       " 'dict',\n",
       " 'from_orm',\n",
       " 'json',\n",
       " 'model_computed_fields',\n",
       " 'model_config',\n",
       " 'model_construct',\n",
       " 'model_copy',\n",
       " 'model_dump',\n",
       " 'model_dump_json',\n",
       " 'model_extra',\n",
       " 'model_fields',\n",
       " 'model_fields_set',\n",
       " 'model_json_schema',\n",
       " 'model_parametrized_name',\n",
       " 'model_post_init',\n",
       " 'model_rebuild',\n",
       " 'model_validate',\n",
       " 'model_validate_json',\n",
       " 'model_validate_strings',\n",
       " 'name',\n",
       " 'parse_file',\n",
       " 'parse_obj',\n",
       " 'parse_raw',\n",
       " 'schema',\n",
       " 'schema_json',\n",
       " 'update_forward_refs',\n",
       " 'validate']"
      ]
     },
     "execution_count": 27,
     "metadata": {},
     "output_type": "execute_result"
    }
   ],
   "source": [
    "user = User(name=\"Alice\", age=30, address={\"street\": \"Main St\", \"city\": \"Springfield\"})\n",
    "dir(user)"
   ]
  },
  {
   "cell_type": "code",
   "execution_count": 28,
   "id": "20297af6-7f16-43b6-93eb-58ce9b739765",
   "metadata": {},
   "outputs": [
    {
     "name": "stdout",
     "output_type": "stream",
     "text": [
      "Help on method model_validate in module pydantic.main:\n",
      "\n",
      "model_validate(obj: 'Any', *, strict: 'bool | None' = None, from_attributes: 'bool | None' = None, context: 'dict[str, Any] | None' = None) -> 'Model' method of pydantic._internal._model_construction.ModelMetaclass instance\n",
      "    Validate a pydantic model instance.\n",
      "    \n",
      "    Args:\n",
      "        obj: The object to validate.\n",
      "        strict: Whether to enforce types strictly.\n",
      "        from_attributes: Whether to extract data from object attributes.\n",
      "        context: Additional context to pass to the validator.\n",
      "    \n",
      "    Raises:\n",
      "        ValidationError: If the object could not be validated.\n",
      "    \n",
      "    Returns:\n",
      "        The validated model instance.\n",
      "\n"
     ]
    }
   ],
   "source": [
    "help(User.model_validate)"
   ]
  },
  {
   "cell_type": "code",
   "execution_count": 74,
   "id": "e1391457-adb3-4699-824e-0bdda8641434",
   "metadata": {},
   "outputs": [
    {
     "ename": "ValidationError",
     "evalue": "1 validation error for User\nemail\n  Field required [type=missing, input_value={'age': 123, 'name': 'Jam...'calle', city='madrid')}, input_type=dict]\n    For further information visit https://errors.pydantic.dev/2.7/v/missing",
     "output_type": "error",
     "traceback": [
      "\u001b[0;31m---------------------------------------------------------------------------\u001b[0m",
      "\u001b[0;31mValidationError\u001b[0m                           Traceback (most recent call last)",
      "Cell \u001b[0;32mIn[74], line 3\u001b[0m\n\u001b[1;32m      1\u001b[0m \u001b[38;5;66;03m# TODO: fix this:\u001b[39;00m\n\u001b[1;32m      2\u001b[0m address \u001b[38;5;241m=\u001b[39m Address(street\u001b[38;5;241m=\u001b[39m\u001b[38;5;124m\"\u001b[39m\u001b[38;5;124mcalle\u001b[39m\u001b[38;5;124m\"\u001b[39m, city\u001b[38;5;241m=\u001b[39m\u001b[38;5;124m\"\u001b[39m\u001b[38;5;124mmadrid\u001b[39m\u001b[38;5;124m\"\u001b[39m)\n\u001b[0;32m----> 3\u001b[0m \u001b[43mUser\u001b[49m\u001b[38;5;241;43m.\u001b[39;49m\u001b[43mmodel_validate\u001b[49m\u001b[43m(\u001b[49m\u001b[43m{\u001b[49m\u001b[38;5;124;43m'\u001b[39;49m\u001b[38;5;124;43mage\u001b[39;49m\u001b[38;5;124;43m'\u001b[39;49m\u001b[43m:\u001b[49m\u001b[43m \u001b[49m\u001b[38;5;241;43m123\u001b[39;49m\u001b[43m,\u001b[49m\u001b[43m \u001b[49m\u001b[38;5;124;43m'\u001b[39;49m\u001b[38;5;124;43mname\u001b[39;49m\u001b[38;5;124;43m'\u001b[39;49m\u001b[43m:\u001b[49m\u001b[43m \u001b[49m\u001b[38;5;124;43m'\u001b[39;49m\u001b[38;5;124;43mJames\u001b[39;49m\u001b[38;5;124;43m'\u001b[39;49m\u001b[43m,\u001b[49m\u001b[43m \u001b[49m\u001b[38;5;124;43m'\u001b[39;49m\u001b[38;5;124;43maddres\u001b[39;49m\u001b[38;5;124;43m'\u001b[39;49m\u001b[43m:\u001b[49m\u001b[43m \u001b[49m\u001b[43maddress\u001b[49m\u001b[43m}\u001b[49m\u001b[43m)\u001b[49m\n",
      "File \u001b[0;32m~/code/notebooks/venv/lib/python3.11/site-packages/pydantic/main.py:532\u001b[0m, in \u001b[0;36mBaseModel.model_validate\u001b[0;34m(cls, obj, strict, from_attributes, context)\u001b[0m\n\u001b[1;32m    530\u001b[0m \u001b[38;5;66;03m# `__tracebackhide__` tells pytest and some other tools to omit this function from tracebacks\u001b[39;00m\n\u001b[1;32m    531\u001b[0m __tracebackhide__ \u001b[38;5;241m=\u001b[39m \u001b[38;5;28;01mTrue\u001b[39;00m\n\u001b[0;32m--> 532\u001b[0m \u001b[38;5;28;01mreturn\u001b[39;00m \u001b[38;5;28;43mcls\u001b[39;49m\u001b[38;5;241;43m.\u001b[39;49m\u001b[43m__pydantic_validator__\u001b[49m\u001b[38;5;241;43m.\u001b[39;49m\u001b[43mvalidate_python\u001b[49m\u001b[43m(\u001b[49m\n\u001b[1;32m    533\u001b[0m \u001b[43m    \u001b[49m\u001b[43mobj\u001b[49m\u001b[43m,\u001b[49m\u001b[43m \u001b[49m\u001b[43mstrict\u001b[49m\u001b[38;5;241;43m=\u001b[39;49m\u001b[43mstrict\u001b[49m\u001b[43m,\u001b[49m\u001b[43m \u001b[49m\u001b[43mfrom_attributes\u001b[49m\u001b[38;5;241;43m=\u001b[39;49m\u001b[43mfrom_attributes\u001b[49m\u001b[43m,\u001b[49m\u001b[43m \u001b[49m\u001b[43mcontext\u001b[49m\u001b[38;5;241;43m=\u001b[39;49m\u001b[43mcontext\u001b[49m\n\u001b[1;32m    534\u001b[0m \u001b[43m\u001b[49m\u001b[43m)\u001b[49m\n",
      "\u001b[0;31mValidationError\u001b[0m: 1 validation error for User\nemail\n  Field required [type=missing, input_value={'age': 123, 'name': 'Jam...'calle', city='madrid')}, input_type=dict]\n    For further information visit https://errors.pydantic.dev/2.7/v/missing"
     ]
    }
   ],
   "source": [
    "# TODO: fix this:\n",
    "address = Address(street=\"calle\", city=\"madrid\")\n",
    "User.model_validate({'age': 123, 'name': 'James', 'addres': address})"
   ]
  },
  {
   "cell_type": "code",
   "execution_count": 35,
   "id": "b63c2c60-16fa-4bef-b4db-06ed0e71b511",
   "metadata": {},
   "outputs": [
    {
     "name": "stdout",
     "output_type": "stream",
     "text": [
      "{'$defs': {'Address': {'properties': {'street': {'title': 'Street',\n",
      "                                                 'type': 'string'},\n",
      "                                      'city': {'title': 'City',\n",
      "                                               'type': 'string'}},\n",
      "                       'required': ['street', 'city'],\n",
      "                       'title': 'Address',\n",
      "                       'type': 'object'}},\n",
      " 'properties': {'name': {'title': 'Name', 'type': 'string'},\n",
      "                'age': {'title': 'Age', 'type': 'integer'},\n",
      "                'address': {'$ref': '#/$defs/Address'}},\n",
      " 'required': ['name', 'age', 'address'],\n",
      " 'title': 'User',\n",
      " 'type': 'object'}\n"
     ]
    }
   ],
   "source": [
    "from pprint import pp\n",
    "\n",
    "pp(User.model_json_schema())"
   ]
  },
  {
   "cell_type": "markdown",
   "id": "e4e1aa1c-8410-4f06-af58-ffafe184f550",
   "metadata": {},
   "source": [
    "## Write your own validator"
   ]
  },
  {
   "cell_type": "code",
   "execution_count": 43,
   "id": "6ab0da71-cc97-45a5-80ce-bc76ad708172",
   "metadata": {},
   "outputs": [],
   "source": [
    "from pydantic import field_validator\n",
    "\n",
    "class User(BaseModel):\n",
    "    name: str\n",
    "    age: int\n",
    "\n",
    "    @field_validator('age')\n",
    "    def age_must_be_positive(cls, v):\n",
    "        if v < 0:\n",
    "            raise ValueError('age must be positive')\n",
    "        return v"
   ]
  },
  {
   "cell_type": "code",
   "execution_count": 44,
   "id": "93f99fb0-4e3b-4851-96f2-856fad825f2e",
   "metadata": {},
   "outputs": [
    {
     "data": {
      "text/plain": [
       "User(name='Alice', age=30)"
      ]
     },
     "execution_count": 44,
     "metadata": {},
     "output_type": "execute_result"
    }
   ],
   "source": [
    "User(name=\"Alice\", age=30)"
   ]
  },
  {
   "cell_type": "code",
   "execution_count": 45,
   "id": "fb0aed7b-2045-421b-9ded-1f7bd7a8a722",
   "metadata": {},
   "outputs": [
    {
     "ename": "ValidationError",
     "evalue": "1 validation error for User\nage\n  Value error, age must be positive [type=value_error, input_value=-1, input_type=int]\n    For further information visit https://errors.pydantic.dev/2.7/v/value_error",
     "output_type": "error",
     "traceback": [
      "\u001b[0;31m---------------------------------------------------------------------------\u001b[0m",
      "\u001b[0;31mValidationError\u001b[0m                           Traceback (most recent call last)",
      "Cell \u001b[0;32mIn[45], line 1\u001b[0m\n\u001b[0;32m----> 1\u001b[0m \u001b[43mUser\u001b[49m\u001b[43m(\u001b[49m\u001b[43mname\u001b[49m\u001b[38;5;241;43m=\u001b[39;49m\u001b[38;5;124;43m'\u001b[39;49m\u001b[38;5;124;43mAlice\u001b[39;49m\u001b[38;5;124;43m'\u001b[39;49m\u001b[43m,\u001b[49m\u001b[43m \u001b[49m\u001b[43mage\u001b[49m\u001b[38;5;241;43m=\u001b[39;49m\u001b[38;5;241;43m-\u001b[39;49m\u001b[38;5;241;43m1\u001b[39;49m\u001b[43m)\u001b[49m\n",
      "File \u001b[0;32m~/code/notebooks/venv/lib/python3.11/site-packages/pydantic/main.py:175\u001b[0m, in \u001b[0;36mBaseModel.__init__\u001b[0;34m(self, **data)\u001b[0m\n\u001b[1;32m    173\u001b[0m \u001b[38;5;66;03m# `__tracebackhide__` tells pytest and some other tools to omit this function from tracebacks\u001b[39;00m\n\u001b[1;32m    174\u001b[0m __tracebackhide__ \u001b[38;5;241m=\u001b[39m \u001b[38;5;28;01mTrue\u001b[39;00m\n\u001b[0;32m--> 175\u001b[0m \u001b[38;5;28;43mself\u001b[39;49m\u001b[38;5;241;43m.\u001b[39;49m\u001b[43m__pydantic_validator__\u001b[49m\u001b[38;5;241;43m.\u001b[39;49m\u001b[43mvalidate_python\u001b[49m\u001b[43m(\u001b[49m\u001b[43mdata\u001b[49m\u001b[43m,\u001b[49m\u001b[43m \u001b[49m\u001b[43mself_instance\u001b[49m\u001b[38;5;241;43m=\u001b[39;49m\u001b[38;5;28;43mself\u001b[39;49m\u001b[43m)\u001b[49m\n",
      "\u001b[0;31mValidationError\u001b[0m: 1 validation error for User\nage\n  Value error, age must be positive [type=value_error, input_value=-1, input_type=int]\n    For further information visit https://errors.pydantic.dev/2.7/v/value_error"
     ]
    }
   ],
   "source": [
    "User(name='Alice', age=-1)"
   ]
  },
  {
   "cell_type": "code",
   "execution_count": 46,
   "id": "d40a53c9-3bc5-4f97-a6c9-a9e6cdb423fc",
   "metadata": {},
   "outputs": [],
   "source": [
    "from pydantic import Field\n",
    "from datetime import date, timedelta\n",
    "\n",
    "class User(BaseModel):\n",
    "    username: str = Field(..., min_length=3, max_length=10)\n",
    "    signup_date: date\n",
    "\n",
    "    @field_validator('signup_date')\n",
    "    def check_date_not_in_future(cls, v):\n",
    "        if v > date.today():\n",
    "            raise ValueError('signup_date cannot be in the future')\n",
    "        return v"
   ]
  },
  {
   "cell_type": "code",
   "execution_count": 49,
   "id": "d5a845bc-8da2-46d4-af15-411cbbf05926",
   "metadata": {},
   "outputs": [
    {
     "data": {
      "text/plain": [
       "User(username='pybob', signup_date=datetime.date(2024, 7, 9))"
      ]
     },
     "execution_count": 49,
     "metadata": {},
     "output_type": "execute_result"
    }
   ],
   "source": [
    "User(username=\"pybob\", signup_date=date.today())"
   ]
  },
  {
   "cell_type": "code",
   "execution_count": 50,
   "id": "909ecbf2-f663-4f45-90ab-dc9f7ebab70c",
   "metadata": {},
   "outputs": [
    {
     "ename": "ValidationError",
     "evalue": "1 validation error for User\nsignup_date\n  Value error, signup_date cannot be in the future [type=value_error, input_value=datetime.date(2024, 7, 10), input_type=date]\n    For further information visit https://errors.pydantic.dev/2.7/v/value_error",
     "output_type": "error",
     "traceback": [
      "\u001b[0;31m---------------------------------------------------------------------------\u001b[0m",
      "\u001b[0;31mValidationError\u001b[0m                           Traceback (most recent call last)",
      "Cell \u001b[0;32mIn[50], line 1\u001b[0m\n\u001b[0;32m----> 1\u001b[0m \u001b[43mUser\u001b[49m\u001b[43m(\u001b[49m\u001b[43musername\u001b[49m\u001b[38;5;241;43m=\u001b[39;49m\u001b[38;5;124;43m\"\u001b[39;49m\u001b[38;5;124;43mpybob\u001b[39;49m\u001b[38;5;124;43m\"\u001b[39;49m\u001b[43m,\u001b[49m\u001b[43m \u001b[49m\u001b[43msignup_date\u001b[49m\u001b[38;5;241;43m=\u001b[39;49m\u001b[43mdate\u001b[49m\u001b[38;5;241;43m.\u001b[39;49m\u001b[43mtoday\u001b[49m\u001b[43m(\u001b[49m\u001b[43m)\u001b[49m\u001b[43m \u001b[49m\u001b[38;5;241;43m+\u001b[39;49m\u001b[43m \u001b[49m\u001b[43mtimedelta\u001b[49m\u001b[43m(\u001b[49m\u001b[43mdays\u001b[49m\u001b[38;5;241;43m=\u001b[39;49m\u001b[38;5;241;43m1\u001b[39;49m\u001b[43m)\u001b[49m\u001b[43m)\u001b[49m\n",
      "File \u001b[0;32m~/code/notebooks/venv/lib/python3.11/site-packages/pydantic/main.py:175\u001b[0m, in \u001b[0;36mBaseModel.__init__\u001b[0;34m(self, **data)\u001b[0m\n\u001b[1;32m    173\u001b[0m \u001b[38;5;66;03m# `__tracebackhide__` tells pytest and some other tools to omit this function from tracebacks\u001b[39;00m\n\u001b[1;32m    174\u001b[0m __tracebackhide__ \u001b[38;5;241m=\u001b[39m \u001b[38;5;28;01mTrue\u001b[39;00m\n\u001b[0;32m--> 175\u001b[0m \u001b[38;5;28;43mself\u001b[39;49m\u001b[38;5;241;43m.\u001b[39;49m\u001b[43m__pydantic_validator__\u001b[49m\u001b[38;5;241;43m.\u001b[39;49m\u001b[43mvalidate_python\u001b[49m\u001b[43m(\u001b[49m\u001b[43mdata\u001b[49m\u001b[43m,\u001b[49m\u001b[43m \u001b[49m\u001b[43mself_instance\u001b[49m\u001b[38;5;241;43m=\u001b[39;49m\u001b[38;5;28;43mself\u001b[39;49m\u001b[43m)\u001b[49m\n",
      "\u001b[0;31mValidationError\u001b[0m: 1 validation error for User\nsignup_date\n  Value error, signup_date cannot be in the future [type=value_error, input_value=datetime.date(2024, 7, 10), input_type=date]\n    For further information visit https://errors.pydantic.dev/2.7/v/value_error"
     ]
    }
   ],
   "source": [
    "User(username=\"pybob\", signup_date=date.today() + timedelta(days=1))"
   ]
  },
  {
   "cell_type": "markdown",
   "id": "77c498db-ca2b-4552-a0b1-f8b59271191d",
   "metadata": {},
   "source": [
    "## Field has this already though"
   ]
  },
  {
   "cell_type": "code",
   "execution_count": 52,
   "id": "f8920fc9-145a-4cf6-a652-1261f65ac67b",
   "metadata": {},
   "outputs": [],
   "source": [
    "from pydantic import BaseModel, Field\n",
    "\n",
    "class User(BaseModel):\n",
    "    name: str = Field(..., min_length=3)\n",
    "    age: int = Field(..., ge=18)"
   ]
  },
  {
   "cell_type": "code",
   "execution_count": 53,
   "id": "862f9336-d88f-4d1a-8749-5fcbe012f321",
   "metadata": {},
   "outputs": [
    {
     "data": {
      "text/plain": [
       "User(name='Alice', age=30)"
      ]
     },
     "execution_count": 53,
     "metadata": {},
     "output_type": "execute_result"
    }
   ],
   "source": [
    "User(name=\"Alice\", age=30)"
   ]
  },
  {
   "cell_type": "code",
   "execution_count": 57,
   "id": "499a2a05-43ff-43af-824f-b3cf54cdcadd",
   "metadata": {},
   "outputs": [
    {
     "ename": "ValidationError",
     "evalue": "1 validation error for User\nage\n  Input should be greater than or equal to 18 [type=greater_than_equal, input_value=16, input_type=int]\n    For further information visit https://errors.pydantic.dev/2.7/v/greater_than_equal",
     "output_type": "error",
     "traceback": [
      "\u001b[0;31m---------------------------------------------------------------------------\u001b[0m",
      "\u001b[0;31mValidationError\u001b[0m                           Traceback (most recent call last)",
      "Cell \u001b[0;32mIn[57], line 1\u001b[0m\n\u001b[0;32m----> 1\u001b[0m \u001b[43mUser\u001b[49m\u001b[43m(\u001b[49m\u001b[43mname\u001b[49m\u001b[38;5;241;43m=\u001b[39;49m\u001b[38;5;124;43m\"\u001b[39;49m\u001b[38;5;124;43mBob\u001b[39;49m\u001b[38;5;124;43m\"\u001b[39;49m\u001b[43m,\u001b[49m\u001b[43m \u001b[49m\u001b[43mage\u001b[49m\u001b[38;5;241;43m=\u001b[39;49m\u001b[38;5;241;43m16\u001b[39;49m\u001b[43m)\u001b[49m\n",
      "File \u001b[0;32m~/code/notebooks/venv/lib/python3.11/site-packages/pydantic/main.py:175\u001b[0m, in \u001b[0;36mBaseModel.__init__\u001b[0;34m(self, **data)\u001b[0m\n\u001b[1;32m    173\u001b[0m \u001b[38;5;66;03m# `__tracebackhide__` tells pytest and some other tools to omit this function from tracebacks\u001b[39;00m\n\u001b[1;32m    174\u001b[0m __tracebackhide__ \u001b[38;5;241m=\u001b[39m \u001b[38;5;28;01mTrue\u001b[39;00m\n\u001b[0;32m--> 175\u001b[0m \u001b[38;5;28;43mself\u001b[39;49m\u001b[38;5;241;43m.\u001b[39;49m\u001b[43m__pydantic_validator__\u001b[49m\u001b[38;5;241;43m.\u001b[39;49m\u001b[43mvalidate_python\u001b[49m\u001b[43m(\u001b[49m\u001b[43mdata\u001b[49m\u001b[43m,\u001b[49m\u001b[43m \u001b[49m\u001b[43mself_instance\u001b[49m\u001b[38;5;241;43m=\u001b[39;49m\u001b[38;5;28;43mself\u001b[39;49m\u001b[43m)\u001b[49m\n",
      "\u001b[0;31mValidationError\u001b[0m: 1 validation error for User\nage\n  Input should be greater than or equal to 18 [type=greater_than_equal, input_value=16, input_type=int]\n    For further information visit https://errors.pydantic.dev/2.7/v/greater_than_equal"
     ]
    }
   ],
   "source": [
    "User(name=\"Bob\", age=16)"
   ]
  },
  {
   "cell_type": "markdown",
   "id": "a97d1e6d-e672-48d1-b151-d3d07a0e58c4",
   "metadata": {},
   "source": [
    "## Pattern (regex) matching"
   ]
  },
  {
   "cell_type": "code",
   "execution_count": 61,
   "id": "033c2d56-62bf-428e-bad4-8cbb54f39518",
   "metadata": {},
   "outputs": [
    {
     "data": {
      "text/plain": [
       "User(name='Alice', age=30, email='alice@example.com')"
      ]
     },
     "execution_count": 61,
     "metadata": {},
     "output_type": "execute_result"
    }
   ],
   "source": [
    "from pydantic import BaseModel, Field\n",
    "\n",
    "class User(BaseModel):\n",
    "    name: str\n",
    "    age: int\n",
    "    # https://docs.pydantic.dev/2.7/api/fields/#pydantic.fields.Field\n",
    "    email: str = Field(..., pattern='^\\\\S+@\\\\S+\\\\.\\\\S+$')\n",
    "\n",
    "User(name=\"Alice\", age=30, email=\"alice@example.com\")"
   ]
  },
  {
   "cell_type": "code",
   "execution_count": 62,
   "id": "c083bf6d-2423-49d7-83f7-5b561b3c64d3",
   "metadata": {},
   "outputs": [
    {
     "ename": "ValidationError",
     "evalue": "1 validation error for User\nemail\n  String should match pattern '^\\S+@\\S+\\.\\S+$' [type=string_pattern_mismatch, input_value='aliceexample.com', input_type=str]\n    For further information visit https://errors.pydantic.dev/2.7/v/string_pattern_mismatch",
     "output_type": "error",
     "traceback": [
      "\u001b[0;31m---------------------------------------------------------------------------\u001b[0m",
      "\u001b[0;31mValidationError\u001b[0m                           Traceback (most recent call last)",
      "Cell \u001b[0;32mIn[62], line 1\u001b[0m\n\u001b[0;32m----> 1\u001b[0m \u001b[43mUser\u001b[49m\u001b[43m(\u001b[49m\u001b[43mname\u001b[49m\u001b[38;5;241;43m=\u001b[39;49m\u001b[38;5;124;43m\"\u001b[39;49m\u001b[38;5;124;43mAlice\u001b[39;49m\u001b[38;5;124;43m\"\u001b[39;49m\u001b[43m,\u001b[49m\u001b[43m \u001b[49m\u001b[43mage\u001b[49m\u001b[38;5;241;43m=\u001b[39;49m\u001b[38;5;241;43m30\u001b[39;49m\u001b[43m,\u001b[49m\u001b[43m \u001b[49m\u001b[43memail\u001b[49m\u001b[38;5;241;43m=\u001b[39;49m\u001b[38;5;124;43m\"\u001b[39;49m\u001b[38;5;124;43maliceexample.com\u001b[39;49m\u001b[38;5;124;43m\"\u001b[39;49m\u001b[43m)\u001b[49m\n",
      "File \u001b[0;32m~/code/notebooks/venv/lib/python3.11/site-packages/pydantic/main.py:175\u001b[0m, in \u001b[0;36mBaseModel.__init__\u001b[0;34m(self, **data)\u001b[0m\n\u001b[1;32m    173\u001b[0m \u001b[38;5;66;03m# `__tracebackhide__` tells pytest and some other tools to omit this function from tracebacks\u001b[39;00m\n\u001b[1;32m    174\u001b[0m __tracebackhide__ \u001b[38;5;241m=\u001b[39m \u001b[38;5;28;01mTrue\u001b[39;00m\n\u001b[0;32m--> 175\u001b[0m \u001b[38;5;28;43mself\u001b[39;49m\u001b[38;5;241;43m.\u001b[39;49m\u001b[43m__pydantic_validator__\u001b[49m\u001b[38;5;241;43m.\u001b[39;49m\u001b[43mvalidate_python\u001b[49m\u001b[43m(\u001b[49m\u001b[43mdata\u001b[49m\u001b[43m,\u001b[49m\u001b[43m \u001b[49m\u001b[43mself_instance\u001b[49m\u001b[38;5;241;43m=\u001b[39;49m\u001b[38;5;28;43mself\u001b[39;49m\u001b[43m)\u001b[49m\n",
      "\u001b[0;31mValidationError\u001b[0m: 1 validation error for User\nemail\n  String should match pattern '^\\S+@\\S+\\.\\S+$' [type=string_pattern_mismatch, input_value='aliceexample.com', input_type=str]\n    For further information visit https://errors.pydantic.dev/2.7/v/string_pattern_mismatch"
     ]
    }
   ],
   "source": [
    "User(name=\"Alice\", age=30, email=\"aliceexample.com\")"
   ]
  },
  {
   "cell_type": "markdown",
   "id": "d658d1da-861e-48ae-9db3-72a67823b6dc",
   "metadata": {},
   "source": [
    "## But why regex/re-inventing the wheel? Plugins!"
   ]
  },
  {
   "cell_type": "code",
   "execution_count": 63,
   "id": "6b22204a-06a6-4302-ad10-a39c41f0a8ce",
   "metadata": {},
   "outputs": [
    {
     "name": "stdout",
     "output_type": "stream",
     "text": [
      "Requirement already satisfied: email-validator in ./venv/lib/python3.11/site-packages (2.2.0)\n",
      "Requirement already satisfied: dnspython>=2.0.0 in ./venv/lib/python3.11/site-packages (from email-validator) (2.6.1)\n",
      "Requirement already satisfied: idna>=2.0.0 in ./venv/lib/python3.11/site-packages (from email-validator) (3.6)\n",
      "\n",
      "\u001b[1m[\u001b[0m\u001b[34;49mnotice\u001b[0m\u001b[1;39;49m]\u001b[0m\u001b[39;49m A new release of pip is available: \u001b[0m\u001b[31;49m23.2.1\u001b[0m\u001b[39;49m -> \u001b[0m\u001b[32;49m24.1.2\u001b[0m\n",
      "\u001b[1m[\u001b[0m\u001b[34;49mnotice\u001b[0m\u001b[1;39;49m]\u001b[0m\u001b[39;49m To update, run: \u001b[0m\u001b[32;49mpip install --upgrade pip\u001b[0m\n"
     ]
    }
   ],
   "source": [
    "!pip install email-validator"
   ]
  },
  {
   "cell_type": "code",
   "execution_count": 65,
   "id": "bc9ab4e3-becf-46e1-a042-0ec04a09760a",
   "metadata": {},
   "outputs": [
    {
     "data": {
      "text/plain": [
       "User(name='Alice', age=30, email='alice@example.com')"
      ]
     },
     "execution_count": 65,
     "metadata": {},
     "output_type": "execute_result"
    }
   ],
   "source": [
    "from pydantic import BaseModel, Field, EmailStr\n",
    "\n",
    "class User(BaseModel):\n",
    "    name: str\n",
    "    age: int\n",
    "    email: EmailStr\n",
    "\n",
    "User(name='Alice', age=30, email='alice@example.com')\n"
   ]
  },
  {
   "cell_type": "markdown",
   "id": "2e792bc0-4337-4402-9970-3a8850b8a805",
   "metadata": {},
   "source": [
    "## Bonus: better error messages"
   ]
  },
  {
   "cell_type": "code",
   "execution_count": 66,
   "id": "6c5b7f2b-1981-4fa1-a9e4-e6fb94eafa3b",
   "metadata": {},
   "outputs": [
    {
     "ename": "ValidationError",
     "evalue": "1 validation error for User\nemail\n  value is not a valid email address: An email address must have an @-sign. [type=value_error, input_value='aliceexample.com', input_type=str]",
     "output_type": "error",
     "traceback": [
      "\u001b[0;31m---------------------------------------------------------------------------\u001b[0m",
      "\u001b[0;31mValidationError\u001b[0m                           Traceback (most recent call last)",
      "Cell \u001b[0;32mIn[66], line 1\u001b[0m\n\u001b[0;32m----> 1\u001b[0m \u001b[43mUser\u001b[49m\u001b[43m(\u001b[49m\u001b[43mname\u001b[49m\u001b[38;5;241;43m=\u001b[39;49m\u001b[38;5;124;43m'\u001b[39;49m\u001b[38;5;124;43mAlice\u001b[39;49m\u001b[38;5;124;43m'\u001b[39;49m\u001b[43m,\u001b[49m\u001b[43m \u001b[49m\u001b[43mage\u001b[49m\u001b[38;5;241;43m=\u001b[39;49m\u001b[38;5;241;43m30\u001b[39;49m\u001b[43m,\u001b[49m\u001b[43m \u001b[49m\u001b[43memail\u001b[49m\u001b[38;5;241;43m=\u001b[39;49m\u001b[38;5;124;43m'\u001b[39;49m\u001b[38;5;124;43maliceexample.com\u001b[39;49m\u001b[38;5;124;43m'\u001b[39;49m\u001b[43m)\u001b[49m\n",
      "File \u001b[0;32m~/code/notebooks/venv/lib/python3.11/site-packages/pydantic/main.py:175\u001b[0m, in \u001b[0;36mBaseModel.__init__\u001b[0;34m(self, **data)\u001b[0m\n\u001b[1;32m    173\u001b[0m \u001b[38;5;66;03m# `__tracebackhide__` tells pytest and some other tools to omit this function from tracebacks\u001b[39;00m\n\u001b[1;32m    174\u001b[0m __tracebackhide__ \u001b[38;5;241m=\u001b[39m \u001b[38;5;28;01mTrue\u001b[39;00m\n\u001b[0;32m--> 175\u001b[0m \u001b[38;5;28;43mself\u001b[39;49m\u001b[38;5;241;43m.\u001b[39;49m\u001b[43m__pydantic_validator__\u001b[49m\u001b[38;5;241;43m.\u001b[39;49m\u001b[43mvalidate_python\u001b[49m\u001b[43m(\u001b[49m\u001b[43mdata\u001b[49m\u001b[43m,\u001b[49m\u001b[43m \u001b[49m\u001b[43mself_instance\u001b[49m\u001b[38;5;241;43m=\u001b[39;49m\u001b[38;5;28;43mself\u001b[39;49m\u001b[43m)\u001b[49m\n",
      "\u001b[0;31mValidationError\u001b[0m: 1 validation error for User\nemail\n  value is not a valid email address: An email address must have an @-sign. [type=value_error, input_value='aliceexample.com', input_type=str]"
     ]
    }
   ],
   "source": [
    "User(name='Alice', age=30, email='aliceexample.com')"
   ]
  },
  {
   "cell_type": "code",
   "execution_count": 67,
   "id": "10a1c9fa-dda1-4353-950c-bd3182ebf949",
   "metadata": {},
   "outputs": [
    {
     "ename": "ValidationError",
     "evalue": "1 validation error for User\nemail\n  value is not a valid email address: The part after the @-sign is a special-use or reserved name that cannot be used with email. [type=value_error, input_value='alice@example.eu.invalid', input_type=str]",
     "output_type": "error",
     "traceback": [
      "\u001b[0;31m---------------------------------------------------------------------------\u001b[0m",
      "\u001b[0;31mValidationError\u001b[0m                           Traceback (most recent call last)",
      "Cell \u001b[0;32mIn[67], line 1\u001b[0m\n\u001b[0;32m----> 1\u001b[0m \u001b[43mUser\u001b[49m\u001b[43m(\u001b[49m\u001b[43mname\u001b[49m\u001b[38;5;241;43m=\u001b[39;49m\u001b[38;5;124;43m'\u001b[39;49m\u001b[38;5;124;43mAlice\u001b[39;49m\u001b[38;5;124;43m'\u001b[39;49m\u001b[43m,\u001b[49m\u001b[43m \u001b[49m\u001b[43mage\u001b[49m\u001b[38;5;241;43m=\u001b[39;49m\u001b[38;5;241;43m30\u001b[39;49m\u001b[43m,\u001b[49m\u001b[43m \u001b[49m\u001b[43memail\u001b[49m\u001b[38;5;241;43m=\u001b[39;49m\u001b[38;5;124;43m'\u001b[39;49m\u001b[38;5;124;43malice@example.eu.invalid\u001b[39;49m\u001b[38;5;124;43m'\u001b[39;49m\u001b[43m)\u001b[49m\n",
      "File \u001b[0;32m~/code/notebooks/venv/lib/python3.11/site-packages/pydantic/main.py:175\u001b[0m, in \u001b[0;36mBaseModel.__init__\u001b[0;34m(self, **data)\u001b[0m\n\u001b[1;32m    173\u001b[0m \u001b[38;5;66;03m# `__tracebackhide__` tells pytest and some other tools to omit this function from tracebacks\u001b[39;00m\n\u001b[1;32m    174\u001b[0m __tracebackhide__ \u001b[38;5;241m=\u001b[39m \u001b[38;5;28;01mTrue\u001b[39;00m\n\u001b[0;32m--> 175\u001b[0m \u001b[38;5;28;43mself\u001b[39;49m\u001b[38;5;241;43m.\u001b[39;49m\u001b[43m__pydantic_validator__\u001b[49m\u001b[38;5;241;43m.\u001b[39;49m\u001b[43mvalidate_python\u001b[49m\u001b[43m(\u001b[49m\u001b[43mdata\u001b[49m\u001b[43m,\u001b[49m\u001b[43m \u001b[49m\u001b[43mself_instance\u001b[49m\u001b[38;5;241;43m=\u001b[39;49m\u001b[38;5;28;43mself\u001b[39;49m\u001b[43m)\u001b[49m\n",
      "\u001b[0;31mValidationError\u001b[0m: 1 validation error for User\nemail\n  value is not a valid email address: The part after the @-sign is a special-use or reserved name that cannot be used with email. [type=value_error, input_value='alice@example.eu.invalid', input_type=str]"
     ]
    }
   ],
   "source": [
    "User(name='Alice', age=30, email='alice@example.eu.invalid')"
   ]
  },
  {
   "cell_type": "code",
   "execution_count": 68,
   "id": "5bfbfe29-e034-4c21-8e82-cd3f770575ff",
   "metadata": {},
   "outputs": [
    {
     "ename": "ValidationError",
     "evalue": "1 validation error for User\nemail\n  value is not a valid email address: The email address contains invalid characters before the @-sign: SPACE. [type=value_error, input_value='alice 1@example.es', input_type=str]",
     "output_type": "error",
     "traceback": [
      "\u001b[0;31m---------------------------------------------------------------------------\u001b[0m",
      "\u001b[0;31mValidationError\u001b[0m                           Traceback (most recent call last)",
      "Cell \u001b[0;32mIn[68], line 1\u001b[0m\n\u001b[0;32m----> 1\u001b[0m \u001b[43mUser\u001b[49m\u001b[43m(\u001b[49m\u001b[43mname\u001b[49m\u001b[38;5;241;43m=\u001b[39;49m\u001b[38;5;124;43m'\u001b[39;49m\u001b[38;5;124;43mAlice\u001b[39;49m\u001b[38;5;124;43m'\u001b[39;49m\u001b[43m,\u001b[49m\u001b[43m \u001b[49m\u001b[43mage\u001b[49m\u001b[38;5;241;43m=\u001b[39;49m\u001b[38;5;241;43m30\u001b[39;49m\u001b[43m,\u001b[49m\u001b[43m \u001b[49m\u001b[43memail\u001b[49m\u001b[38;5;241;43m=\u001b[39;49m\u001b[38;5;124;43m'\u001b[39;49m\u001b[38;5;124;43malice 1@example.es\u001b[39;49m\u001b[38;5;124;43m'\u001b[39;49m\u001b[43m)\u001b[49m\n",
      "File \u001b[0;32m~/code/notebooks/venv/lib/python3.11/site-packages/pydantic/main.py:175\u001b[0m, in \u001b[0;36mBaseModel.__init__\u001b[0;34m(self, **data)\u001b[0m\n\u001b[1;32m    173\u001b[0m \u001b[38;5;66;03m# `__tracebackhide__` tells pytest and some other tools to omit this function from tracebacks\u001b[39;00m\n\u001b[1;32m    174\u001b[0m __tracebackhide__ \u001b[38;5;241m=\u001b[39m \u001b[38;5;28;01mTrue\u001b[39;00m\n\u001b[0;32m--> 175\u001b[0m \u001b[38;5;28;43mself\u001b[39;49m\u001b[38;5;241;43m.\u001b[39;49m\u001b[43m__pydantic_validator__\u001b[49m\u001b[38;5;241;43m.\u001b[39;49m\u001b[43mvalidate_python\u001b[49m\u001b[43m(\u001b[49m\u001b[43mdata\u001b[49m\u001b[43m,\u001b[49m\u001b[43m \u001b[49m\u001b[43mself_instance\u001b[49m\u001b[38;5;241;43m=\u001b[39;49m\u001b[38;5;28;43mself\u001b[39;49m\u001b[43m)\u001b[49m\n",
      "\u001b[0;31mValidationError\u001b[0m: 1 validation error for User\nemail\n  value is not a valid email address: The email address contains invalid characters before the @-sign: SPACE. [type=value_error, input_value='alice 1@example.es', input_type=str]"
     ]
    }
   ],
   "source": [
    "User(name='Alice', age=30, email='alice 1@example.es')"
   ]
  },
  {
   "cell_type": "markdown",
   "id": "9cd98fc0-f5ce-4a81-b34d-66f57653b3e7",
   "metadata": {},
   "source": [
    "## Example con* Pydantic types"
   ]
  },
  {
   "cell_type": "code",
   "execution_count": 70,
   "id": "eeb5b60b-1d9b-4cf7-b690-c46525e8e249",
   "metadata": {},
   "outputs": [],
   "source": [
    "from pydantic import conlist\n",
    "\n",
    "class Item(BaseModel):\n",
    "    id: int\n",
    "    name: str\n",
    "\n",
    "class Order(BaseModel):\n",
    "    items: conlist(Item, min_length=2, max_length=4)\n",
    "\n",
    "item1 = Item(id=1, name='item1')\n",
    "item2 = Item(id=2, name='item2')\n",
    "item3 = Item(id=3, name='item3')\n",
    "item4 = Item(id=4, name='item4')\n",
    "item5 = Item(id=5, name='item5')"
   ]
  },
  {
   "cell_type": "code",
   "execution_count": 71,
   "id": "dd334333-2b88-48c2-9a94-865c711b9e98",
   "metadata": {},
   "outputs": [
    {
     "ename": "ValidationError",
     "evalue": "1 validation error for Order\nitems\n  List should have at least 2 items after validation, not 1 [type=too_short, input_value=[Item(id=1, name='item1')], input_type=list]\n    For further information visit https://errors.pydantic.dev/2.7/v/too_short",
     "output_type": "error",
     "traceback": [
      "\u001b[0;31m---------------------------------------------------------------------------\u001b[0m",
      "\u001b[0;31mValidationError\u001b[0m                           Traceback (most recent call last)",
      "Cell \u001b[0;32mIn[71], line 1\u001b[0m\n\u001b[0;32m----> 1\u001b[0m \u001b[43mOrder\u001b[49m\u001b[43m(\u001b[49m\u001b[43mitems\u001b[49m\u001b[38;5;241;43m=\u001b[39;49m\u001b[43m[\u001b[49m\u001b[43mitem1\u001b[49m\u001b[43m]\u001b[49m\u001b[43m)\u001b[49m\n",
      "File \u001b[0;32m~/code/notebooks/venv/lib/python3.11/site-packages/pydantic/main.py:175\u001b[0m, in \u001b[0;36mBaseModel.__init__\u001b[0;34m(self, **data)\u001b[0m\n\u001b[1;32m    173\u001b[0m \u001b[38;5;66;03m# `__tracebackhide__` tells pytest and some other tools to omit this function from tracebacks\u001b[39;00m\n\u001b[1;32m    174\u001b[0m __tracebackhide__ \u001b[38;5;241m=\u001b[39m \u001b[38;5;28;01mTrue\u001b[39;00m\n\u001b[0;32m--> 175\u001b[0m \u001b[38;5;28;43mself\u001b[39;49m\u001b[38;5;241;43m.\u001b[39;49m\u001b[43m__pydantic_validator__\u001b[49m\u001b[38;5;241;43m.\u001b[39;49m\u001b[43mvalidate_python\u001b[49m\u001b[43m(\u001b[49m\u001b[43mdata\u001b[49m\u001b[43m,\u001b[49m\u001b[43m \u001b[49m\u001b[43mself_instance\u001b[49m\u001b[38;5;241;43m=\u001b[39;49m\u001b[38;5;28;43mself\u001b[39;49m\u001b[43m)\u001b[49m\n",
      "\u001b[0;31mValidationError\u001b[0m: 1 validation error for Order\nitems\n  List should have at least 2 items after validation, not 1 [type=too_short, input_value=[Item(id=1, name='item1')], input_type=list]\n    For further information visit https://errors.pydantic.dev/2.7/v/too_short"
     ]
    }
   ],
   "source": [
    "Order(items=[item1])"
   ]
  },
  {
   "cell_type": "code",
   "execution_count": 72,
   "id": "c8efa6b1-5acf-4e6b-9131-304ad70c4818",
   "metadata": {},
   "outputs": [
    {
     "ename": "ValidationError",
     "evalue": "1 validation error for Order\nitems\n  List should have at most 4 items after validation, not 5 [type=too_long, input_value=[Item(id=1, name='item1')...tem(id=5, name='item5')], input_type=list]\n    For further information visit https://errors.pydantic.dev/2.7/v/too_long",
     "output_type": "error",
     "traceback": [
      "\u001b[0;31m---------------------------------------------------------------------------\u001b[0m",
      "\u001b[0;31mValidationError\u001b[0m                           Traceback (most recent call last)",
      "Cell \u001b[0;32mIn[72], line 1\u001b[0m\n\u001b[0;32m----> 1\u001b[0m \u001b[43mOrder\u001b[49m\u001b[43m(\u001b[49m\u001b[43mitems\u001b[49m\u001b[38;5;241;43m=\u001b[39;49m\u001b[43m[\u001b[49m\u001b[43mitem1\u001b[49m\u001b[43m,\u001b[49m\u001b[43m \u001b[49m\u001b[43mitem2\u001b[49m\u001b[43m,\u001b[49m\u001b[43m \u001b[49m\u001b[43mitem3\u001b[49m\u001b[43m,\u001b[49m\u001b[43m \u001b[49m\u001b[43mitem4\u001b[49m\u001b[43m,\u001b[49m\u001b[43m \u001b[49m\u001b[43mitem5\u001b[49m\u001b[43m]\u001b[49m\u001b[43m)\u001b[49m\n",
      "File \u001b[0;32m~/code/notebooks/venv/lib/python3.11/site-packages/pydantic/main.py:175\u001b[0m, in \u001b[0;36mBaseModel.__init__\u001b[0;34m(self, **data)\u001b[0m\n\u001b[1;32m    173\u001b[0m \u001b[38;5;66;03m# `__tracebackhide__` tells pytest and some other tools to omit this function from tracebacks\u001b[39;00m\n\u001b[1;32m    174\u001b[0m __tracebackhide__ \u001b[38;5;241m=\u001b[39m \u001b[38;5;28;01mTrue\u001b[39;00m\n\u001b[0;32m--> 175\u001b[0m \u001b[38;5;28;43mself\u001b[39;49m\u001b[38;5;241;43m.\u001b[39;49m\u001b[43m__pydantic_validator__\u001b[49m\u001b[38;5;241;43m.\u001b[39;49m\u001b[43mvalidate_python\u001b[49m\u001b[43m(\u001b[49m\u001b[43mdata\u001b[49m\u001b[43m,\u001b[49m\u001b[43m \u001b[49m\u001b[43mself_instance\u001b[49m\u001b[38;5;241;43m=\u001b[39;49m\u001b[38;5;28;43mself\u001b[39;49m\u001b[43m)\u001b[49m\n",
      "\u001b[0;31mValidationError\u001b[0m: 1 validation error for Order\nitems\n  List should have at most 4 items after validation, not 5 [type=too_long, input_value=[Item(id=1, name='item1')...tem(id=5, name='item5')], input_type=list]\n    For further information visit https://errors.pydantic.dev/2.7/v/too_long"
     ]
    }
   ],
   "source": [
    "Order(items=[item1, item2, item3, item4, item5])"
   ]
  },
  {
   "cell_type": "code",
   "execution_count": 73,
   "id": "1f45bd3f-f2d6-48a9-b83c-ae735eceda40",
   "metadata": {},
   "outputs": [
    {
     "data": {
      "text/plain": [
       "Order(items=[Item(id=1, name='item1'), Item(id=2, name='item2'), Item(id=3, name='item3'), Item(id=4, name='item4')])"
      ]
     },
     "execution_count": 73,
     "metadata": {},
     "output_type": "execute_result"
    }
   ],
   "source": [
    "Order(items=[item1, item2, item3])\n",
    "Order(items=[item1, item2, item3, item4])"
   ]
  },
  {
   "cell_type": "markdown",
   "id": "d171041f-a9fe-4af3-b5a5-ca38cffe54cf",
   "metadata": {},
   "source": [
    "## FastAPI"
   ]
  },
  {
   "cell_type": "markdown",
   "id": "6ead0e43-287a-4714-ab9a-f36d664b5794",
   "metadata": {},
   "source": [
    "Let's quickly look how Pydantic is nicely integrated into FastAPI"
   ]
  },
  {
   "cell_type": "markdown",
   "id": "ba555274-3652-4a41-bac0-b118153dc83a",
   "metadata": {},
   "source": [
    "## Type checking"
   ]
  },
  {
   "cell_type": "markdown",
   "id": "8d59cf41-af6e-47e1-aee3-0b511062d460",
   "metadata": {},
   "source": [
    "I have not used `TypeAdapter` yet, but maybe we can play a bit with mypy and using Pydantic models for static typing?"
   ]
  },
  {
   "cell_type": "markdown",
   "id": "6aae9e2e-e065-4fe7-acd4-30ba4de3a8e9",
   "metadata": {},
   "source": [
    "## v2 performance"
   ]
  },
  {
   "cell_type": "markdown",
   "id": "1002030e-00fd-4b24-8aec-d231618b4137",
   "metadata": {},
   "source": [
    "Check out PyO3: https://apythonistalearningrust.com/rust-in-python-pyo3-maturin/"
   ]
  },
  {
   "cell_type": "code",
   "execution_count": null,
   "id": "2e38bace-af56-47cd-8535-e6596a006ca6",
   "metadata": {},
   "outputs": [],
   "source": []
  }
 ],
 "metadata": {
  "kernelspec": {
   "display_name": "Python 3 (ipykernel)",
   "language": "python",
   "name": "python3"
  },
  "language_info": {
   "codemirror_mode": {
    "name": "ipython",
    "version": 3
   },
   "file_extension": ".py",
   "mimetype": "text/x-python",
   "name": "python",
   "nbconvert_exporter": "python",
   "pygments_lexer": "ipython3",
   "version": "3.11.7"
  }
 },
 "nbformat": 4,
 "nbformat_minor": 5
}
