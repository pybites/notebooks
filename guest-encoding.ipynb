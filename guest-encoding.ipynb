{
 "cells": [
  {
   "cell_type": "markdown",
   "metadata": {},
   "source": [
    "## Encoding\n",
    "We all know that the computer cannot store letters or numbers so we need some kind of mapping from these letters/numbers to bit strings (the only thing a computer can understand). One such known mapping is `ASCII`. If you're not sure about `ASCII` and `Unicode`, read ahead otherwise you can skip to Encoding in Python-2."
   ]
  },
  {
   "cell_type": "markdown",
   "metadata": {},
   "source": [
    "### ASCII\n",
    "There are 95 human readable characters specified in the ASCII table, including the letters A through Z both in upper and lower case, the numbers 0 through 9, a handful of punctuation marks and characters like the dollar symbol, the ampersand and a few others.\n",
    "\n",
    "|  Bits      |Character|\n",
    "|------------|---------| \n",
    "| `01000001` | A       | \n",
    "| `01000010` | B       | \n",
    "| `01000101` | E       | \n",
    "| `01000110` | F       |\n",
    "\n",
    "Shown above is just a small part of the 128 characters that ASCII has."
   ]
  },
  {
   "cell_type": "markdown",
   "metadata": {},
   "source": [
    "### éh?\n",
    "How do you write the `é` in ASCII? You simply cannot because there is no encoding from some `é` to a bit string in ASCII. Thus the world needed more encoding schemes.\n",
    "<br>\n",
    "Suppose someone wanted to write a document in Klingon, found that there was no encoding scheme, so just went ahead and invented one. This is how we've ended up with a boat-load of schemes."
   ]
  },
  {
   "cell_type": "markdown",
   "metadata": {},
   "source": [
    "### Unicode to the rescue\n",
    "\n",
    "Someone finally had enough and decided to combine all of these encoding schemes into one, which they called *Unicode*. Unicode contains a repertoire of 137,439 characters covering 146 modern and historic scripts, as well as multiple symbol sets and emoji. It even has a section for Klingon :smile:.\n",
    "<br>\n",
    "If you want to have a look at just how big Unicode actually is, try googling *Ian Albert's Unicode chart*. This guy printed the entire unicode chart and ended up with 6 feet X 12 feet of chart.\n",
    "<br><br>\n",
    "If it has so many characters then you must be wondering how many bytes does it actually use? **None** because it is not an encoding scheme\n",
    "<br>\n",
    "Confused? Well you are supposed to be. Unicode is just a table which contains character points. By this I mean a character point just says `65 for A, 66 for B..`. It was left to us how we wanted to denote this `65` into computer bits. And so we did.\n",
    "<br><br>\n",
    "These many character points need at least three bytes but since three is awkward, we actually use four bytes. Now if you have just an English file (a file with only English characters) that is encoded using the above unicode scheme, we will actually use four times the space the file is. That is not so nice. To optimize this, there are several ways to encode Unicode code points into bits like UTF-8, UTF-16, UTF-32.I have discussed UTF-8 below."
   ]
  },
  {
   "cell_type": "markdown",
   "metadata": {},
   "source": [
    "### UTF-8\n",
    "UTF-8 is a variable length encoding. If a character can be represented using a single byte, then it will be encoded using a single byte only. It has elaborate ways to use the highest bits in a byte to signal how many bytes a character consists of.\n",
    "\n",
    "| character | bits        |\n",
    "|-----------|-------------|\n",
    "|       A   | `01000001`  |\n",
    "|      あ   | `11100011 10000001 10000010`"
   ]
  },
  {
   "cell_type": "markdown",
   "metadata": {},
   "source": [
    "### Strings and Encoding in Python-2\n",
    "\n",
    "We have two types of strings in python `type 'str'` and `type 'unicode'`. Python has default encoding set to `ASCII` (check it using `sys.getdefaultencoding()`). So if we try to write a unicode string to a file, we get an error:"
   ]
  },
  {
   "cell_type": "code",
   "execution_count": 6,
   "metadata": {
    "collapsed": false
   },
   "outputs": [
    {
     "ename": "UnicodeEncodeError",
     "evalue": "'ascii' codec can't encode character u'\\u0107' in position 4: ordinal not in range(128)",
     "output_type": "error",
     "traceback": [
      "\u001b[0;31m---------------------------------------------------------------------------\u001b[0m",
      "\u001b[0;31mUnicodeEncodeError\u001b[0m                        Traceback (most recent call last)",
      "\u001b[0;32m<ipython-input-6-6c2a70c7683b>\u001b[0m in \u001b[0;36m<module>\u001b[0;34m()\u001b[0m\n\u001b[1;32m      1\u001b[0m \u001b[0mf\u001b[0m \u001b[0;34m=\u001b[0m \u001b[0mopen\u001b[0m\u001b[0;34m(\u001b[0m\u001b[0;34m\"test.txt\"\u001b[0m\u001b[0;34m,\u001b[0m\u001b[0;34m'w'\u001b[0m\u001b[0;34m)\u001b[0m\u001b[0;34m\u001b[0m\u001b[0m\n\u001b[1;32m      2\u001b[0m \u001b[0ms\u001b[0m \u001b[0;34m=\u001b[0m \u001b[0;34mu'test\\u0107'\u001b[0m\u001b[0;34m\u001b[0m\u001b[0m\n\u001b[0;32m----> 3\u001b[0;31m \u001b[0mf\u001b[0m\u001b[0;34m.\u001b[0m\u001b[0mwrite\u001b[0m\u001b[0;34m(\u001b[0m\u001b[0ms\u001b[0m\u001b[0;34m)\u001b[0m\u001b[0;34m\u001b[0m\u001b[0m\n\u001b[0m",
      "\u001b[0;31mUnicodeEncodeError\u001b[0m: 'ascii' codec can't encode character u'\\u0107' in position 4: ordinal not in range(128)"
     ]
    }
   ],
   "source": [
    "f = open(\"test.txt\",'w')\n",
    "s = u'test\\u0107'\n",
    "f.write(s)"
   ]
  },
  {
   "cell_type": "markdown",
   "metadata": {},
   "source": [
    "This is because we can't actually store the unicode character. So how do we solve this? We follow the strategy: `Decode early, Use Unicode Everywhere, Encode late`.\n",
    "<br> \n",
    "> Note 1: From the codes module, we have an open function where we can specify the required encoding.\n",
    "<br>\n",
    "> Note 2: The CSV module doesn't support unicode, so we have to encode, do our stuff then decode to unicode again.\n",
    "\n",
    "### Summary of problems in Python-2:\n",
    "+ default Python 2 encoding is 'ascii'\n",
    "+ not all Python 2 internals support Unicode\n",
    "+ You can't reliably guess an encoding"
   ]
  },
  {
   "cell_type": "markdown",
   "metadata": {},
   "source": [
    "### Unicode in Python-3\n",
    "\n",
    "They fixed it! \n",
    "+ `type 'str'` is now a `type 'unicode'` object. Every string is now unicode so no more `u''` strings.\n",
    "+ We have new string types `type 'bytes`. So encode to bytes and decode to unicode.\n",
    "+ All built-in modules now support unicode. Now no more encoding and decoding in between of code.\n",
    "+ open() in python 3 works like codecs.open(). Ah! yes **Default Encoding is now UTF-8**."
   ]
  },
  {
   "cell_type": "markdown",
   "metadata": {},
   "source": [
    "### tl;dr\n",
    "+ For computers, text is always some bits which need to be translated into human-readable form.\n",
    "+ These bits could represent different things according to different encoding schemes, guess (*guess should be the last resort*) it intelligently.\n",
    "+ Roughly speaking, the set of all those encoding schemes is called Unicode. But it is not an encoding scheme in itself. \n",
    "+ We have different ways of going from Unicode to bites, the important one is *UTF-8*.\n",
    "+ Python supports Unicode 💖\n",
    "+ The default encoding in Python-2 is ASCII, don't change it just to run your code.\n",
    "+ *For python portability*, every string in Python(3+) is now Unicode. And we have a new type: `bytes`."
   ]
  },
  {
   "cell_type": "markdown",
   "metadata": {},
   "source": [
    "###Promo Bite\n",
    "Feel like playing with some ASCII? For a limited time only you can grab this free Bite of Py: [Bite 113. Filter words with non-ascii characters](https://codechalleng.es/bites/promo/non-ascii)! Enjoy!"
   ]
  },
  {
   "cell_type": "markdown",
   "metadata": {},
   "source": [
    "---<br><br>Keep Calm and Code in Python!<br><br>-- [Aviral](pages/guests.html#aviralverma)"
   ]
  }
 ],
 "metadata": {
  "kernelspec": {
   "display_name": "Python 3",
   "language": "python",
   "name": "python3"
  },
  "language_info": {
   "codemirror_mode": {
    "name": "ipython",
    "version": 3
   },
   "file_extension": ".py",
   "mimetype": "text/x-python",
   "name": "python",
   "nbconvert_exporter": "python",
   "pygments_lexer": "ipython3",
   "version": "3.6.1"
  }
 },
 "nbformat": 4,
 "nbformat_minor": 2
}
